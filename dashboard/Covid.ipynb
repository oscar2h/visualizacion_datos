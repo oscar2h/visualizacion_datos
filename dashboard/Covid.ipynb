{
 "cells": [
  {
   "cell_type": "code",
   "execution_count": 1,
   "id": "a5536cf2-d02f-441c-9eea-25ecaf8efdbc",
   "metadata": {},
   "outputs": [],
   "source": [
    "import numpy as np\n",
    "import pandas as pd\n",
    "import matplotlib.pyplot as plt\n",
    "import seaborn as sns\n",
    "from datetime import datetime\n",
    "import plotly.express as px"
   ]
  },
  {
   "cell_type": "code",
   "execution_count": 2,
   "id": "0efc0f2f-8ec2-4360-9776-dc2797520f4d",
   "metadata": {},
   "outputs": [
    {
     "data": {
      "text/html": [
       "<div>\n",
       "<style scoped>\n",
       "    .dataframe tbody tr th:only-of-type {\n",
       "        vertical-align: middle;\n",
       "    }\n",
       "\n",
       "    .dataframe tbody tr th {\n",
       "        vertical-align: top;\n",
       "    }\n",
       "\n",
       "    .dataframe thead th {\n",
       "        text-align: right;\n",
       "    }\n",
       "</style>\n",
       "<table border=\"1\" class=\"dataframe\">\n",
       "  <thead>\n",
       "    <tr style=\"text-align: right;\">\n",
       "      <th></th>\n",
       "      <th>Region</th>\n",
       "      <th>Casos totales acumulados</th>\n",
       "      <th>Fallecidos confirmados totales</th>\n",
       "      <th>Fallecidos sospechosos probables u otros totales</th>\n",
       "      <th>Fallecidos totales</th>\n",
       "      <th>Casos confirmados recuperados</th>\n",
       "      <th>Casos confirmados por antigeno</th>\n",
       "      <th>Casos con sospecha de reinfeccion</th>\n",
       "      <th>Casos probables acumulados</th>\n",
       "      <th>Casos activos probables</th>\n",
       "      <th>Casos nuevos totales</th>\n",
       "      <th>Casos nuevos con sintomas</th>\n",
       "      <th>Casos nuevos sin sintomas*</th>\n",
       "      <th>Casos nuevos reportados por laboratorio</th>\n",
       "      <th>Casos nuevos confirmados por antigeno</th>\n",
       "      <th>Casos activos confirmados</th>\n",
       "    </tr>\n",
       "  </thead>\n",
       "  <tbody>\n",
       "    <tr>\n",
       "      <th>0</th>\n",
       "      <td>Arica y Parinacota</td>\n",
       "      <td>71212</td>\n",
       "      <td>705</td>\n",
       "      <td>143</td>\n",
       "      <td>848</td>\n",
       "      <td>69673</td>\n",
       "      <td>20095</td>\n",
       "      <td>1093</td>\n",
       "      <td>3441</td>\n",
       "      <td>0</td>\n",
       "      <td>51</td>\n",
       "      <td>27</td>\n",
       "      <td>23</td>\n",
       "      <td>1</td>\n",
       "      <td>34</td>\n",
       "      <td>529</td>\n",
       "    </tr>\n",
       "    <tr>\n",
       "      <th>1</th>\n",
       "      <td>Tarapacá</td>\n",
       "      <td>100799</td>\n",
       "      <td>1006</td>\n",
       "      <td>119</td>\n",
       "      <td>1125</td>\n",
       "      <td>98602</td>\n",
       "      <td>20743</td>\n",
       "      <td>587</td>\n",
       "      <td>10393</td>\n",
       "      <td>0</td>\n",
       "      <td>115</td>\n",
       "      <td>60</td>\n",
       "      <td>43</td>\n",
       "      <td>12</td>\n",
       "      <td>39</td>\n",
       "      <td>914</td>\n",
       "    </tr>\n",
       "    <tr>\n",
       "      <th>2</th>\n",
       "      <td>Antofagasta</td>\n",
       "      <td>162277</td>\n",
       "      <td>1561</td>\n",
       "      <td>294</td>\n",
       "      <td>1855</td>\n",
       "      <td>158804</td>\n",
       "      <td>23855</td>\n",
       "      <td>1373</td>\n",
       "      <td>6820</td>\n",
       "      <td>0</td>\n",
       "      <td>194</td>\n",
       "      <td>92</td>\n",
       "      <td>75</td>\n",
       "      <td>27</td>\n",
       "      <td>51</td>\n",
       "      <td>1362</td>\n",
       "    </tr>\n",
       "    <tr>\n",
       "      <th>3</th>\n",
       "      <td>Atacama</td>\n",
       "      <td>98251</td>\n",
       "      <td>548</td>\n",
       "      <td>116</td>\n",
       "      <td>664</td>\n",
       "      <td>96347</td>\n",
       "      <td>36522</td>\n",
       "      <td>744</td>\n",
       "      <td>1745</td>\n",
       "      <td>0</td>\n",
       "      <td>137</td>\n",
       "      <td>48</td>\n",
       "      <td>36</td>\n",
       "      <td>53</td>\n",
       "      <td>79</td>\n",
       "      <td>1140</td>\n",
       "    </tr>\n",
       "    <tr>\n",
       "      <th>4</th>\n",
       "      <td>Coquimbo</td>\n",
       "      <td>181407</td>\n",
       "      <td>1508</td>\n",
       "      <td>297</td>\n",
       "      <td>1805</td>\n",
       "      <td>177627</td>\n",
       "      <td>45090</td>\n",
       "      <td>984</td>\n",
       "      <td>9393</td>\n",
       "      <td>0</td>\n",
       "      <td>223</td>\n",
       "      <td>130</td>\n",
       "      <td>54</td>\n",
       "      <td>39</td>\n",
       "      <td>90</td>\n",
       "      <td>1733</td>\n",
       "    </tr>\n",
       "    <tr>\n",
       "      <th>5</th>\n",
       "      <td>Valparaíso</td>\n",
       "      <td>417089</td>\n",
       "      <td>4790</td>\n",
       "      <td>1224</td>\n",
       "      <td>6014</td>\n",
       "      <td>407772</td>\n",
       "      <td>102026</td>\n",
       "      <td>1810</td>\n",
       "      <td>50203</td>\n",
       "      <td>3</td>\n",
       "      <td>413</td>\n",
       "      <td>260</td>\n",
       "      <td>49</td>\n",
       "      <td>104</td>\n",
       "      <td>169</td>\n",
       "      <td>2786</td>\n",
       "    </tr>\n",
       "    <tr>\n",
       "      <th>6</th>\n",
       "      <td>Metropolitana</td>\n",
       "      <td>1712373</td>\n",
       "      <td>23278</td>\n",
       "      <td>6155</td>\n",
       "      <td>29433</td>\n",
       "      <td>1672326</td>\n",
       "      <td>285921</td>\n",
       "      <td>16240</td>\n",
       "      <td>161575</td>\n",
       "      <td>8</td>\n",
       "      <td>1306</td>\n",
       "      <td>632</td>\n",
       "      <td>166</td>\n",
       "      <td>508</td>\n",
       "      <td>336</td>\n",
       "      <td>8717</td>\n",
       "    </tr>\n",
       "    <tr>\n",
       "      <th>7</th>\n",
       "      <td>O’Higgins</td>\n",
       "      <td>192005</td>\n",
       "      <td>2082</td>\n",
       "      <td>573</td>\n",
       "      <td>2655</td>\n",
       "      <td>187616</td>\n",
       "      <td>53578</td>\n",
       "      <td>885</td>\n",
       "      <td>14799</td>\n",
       "      <td>1</td>\n",
       "      <td>223</td>\n",
       "      <td>122</td>\n",
       "      <td>18</td>\n",
       "      <td>83</td>\n",
       "      <td>51</td>\n",
       "      <td>1507</td>\n",
       "    </tr>\n",
       "    <tr>\n",
       "      <th>8</th>\n",
       "      <td>Maule</td>\n",
       "      <td>298463</td>\n",
       "      <td>2577</td>\n",
       "      <td>504</td>\n",
       "      <td>3081</td>\n",
       "      <td>291735</td>\n",
       "      <td>86094</td>\n",
       "      <td>2940</td>\n",
       "      <td>10640</td>\n",
       "      <td>0</td>\n",
       "      <td>421</td>\n",
       "      <td>322</td>\n",
       "      <td>51</td>\n",
       "      <td>48</td>\n",
       "      <td>150</td>\n",
       "      <td>3018</td>\n",
       "    </tr>\n",
       "    <tr>\n",
       "      <th>9</th>\n",
       "      <td>Ñuble</td>\n",
       "      <td>128524</td>\n",
       "      <td>986</td>\n",
       "      <td>194</td>\n",
       "      <td>1180</td>\n",
       "      <td>125722</td>\n",
       "      <td>38216</td>\n",
       "      <td>746</td>\n",
       "      <td>10182</td>\n",
       "      <td>2</td>\n",
       "      <td>245</td>\n",
       "      <td>122</td>\n",
       "      <td>17</td>\n",
       "      <td>106</td>\n",
       "      <td>88</td>\n",
       "      <td>1295</td>\n",
       "    </tr>\n",
       "    <tr>\n",
       "      <th>10</th>\n",
       "      <td>Biobío</td>\n",
       "      <td>437543</td>\n",
       "      <td>3776</td>\n",
       "      <td>685</td>\n",
       "      <td>4461</td>\n",
       "      <td>427713</td>\n",
       "      <td>86176</td>\n",
       "      <td>2183</td>\n",
       "      <td>35910</td>\n",
       "      <td>0</td>\n",
       "      <td>549</td>\n",
       "      <td>308</td>\n",
       "      <td>123</td>\n",
       "      <td>118</td>\n",
       "      <td>188</td>\n",
       "      <td>4390</td>\n",
       "    </tr>\n",
       "    <tr>\n",
       "      <th>11</th>\n",
       "      <td>Araucanía</td>\n",
       "      <td>258139</td>\n",
       "      <td>2109</td>\n",
       "      <td>575</td>\n",
       "      <td>2684</td>\n",
       "      <td>252567</td>\n",
       "      <td>44852</td>\n",
       "      <td>1782</td>\n",
       "      <td>11313</td>\n",
       "      <td>1</td>\n",
       "      <td>393</td>\n",
       "      <td>154</td>\n",
       "      <td>48</td>\n",
       "      <td>191</td>\n",
       "      <td>73</td>\n",
       "      <td>2327</td>\n",
       "    </tr>\n",
       "    <tr>\n",
       "      <th>12</th>\n",
       "      <td>Los Ríos</td>\n",
       "      <td>127744</td>\n",
       "      <td>1061</td>\n",
       "      <td>230</td>\n",
       "      <td>1291</td>\n",
       "      <td>125009</td>\n",
       "      <td>31671</td>\n",
       "      <td>954</td>\n",
       "      <td>6034</td>\n",
       "      <td>0</td>\n",
       "      <td>168</td>\n",
       "      <td>92</td>\n",
       "      <td>4</td>\n",
       "      <td>72</td>\n",
       "      <td>80</td>\n",
       "      <td>1103</td>\n",
       "    </tr>\n",
       "    <tr>\n",
       "      <th>13</th>\n",
       "      <td>Los Lagos</td>\n",
       "      <td>221432</td>\n",
       "      <td>2027</td>\n",
       "      <td>374</td>\n",
       "      <td>2401</td>\n",
       "      <td>217100</td>\n",
       "      <td>31040</td>\n",
       "      <td>3456</td>\n",
       "      <td>16332</td>\n",
       "      <td>0</td>\n",
       "      <td>175</td>\n",
       "      <td>95</td>\n",
       "      <td>44</td>\n",
       "      <td>36</td>\n",
       "      <td>26</td>\n",
       "      <td>1299</td>\n",
       "    </tr>\n",
       "    <tr>\n",
       "      <th>14</th>\n",
       "      <td>Aysén</td>\n",
       "      <td>30790</td>\n",
       "      <td>167</td>\n",
       "      <td>27</td>\n",
       "      <td>194</td>\n",
       "      <td>30284</td>\n",
       "      <td>10745</td>\n",
       "      <td>1145</td>\n",
       "      <td>1794</td>\n",
       "      <td>0</td>\n",
       "      <td>25</td>\n",
       "      <td>12</td>\n",
       "      <td>7</td>\n",
       "      <td>6</td>\n",
       "      <td>10</td>\n",
       "      <td>236</td>\n",
       "    </tr>\n",
       "    <tr>\n",
       "      <th>15</th>\n",
       "      <td>Magallanes</td>\n",
       "      <td>61133</td>\n",
       "      <td>638</td>\n",
       "      <td>104</td>\n",
       "      <td>742</td>\n",
       "      <td>59857</td>\n",
       "      <td>8461</td>\n",
       "      <td>1821</td>\n",
       "      <td>3289</td>\n",
       "      <td>0</td>\n",
       "      <td>21</td>\n",
       "      <td>12</td>\n",
       "      <td>0</td>\n",
       "      <td>9</td>\n",
       "      <td>12</td>\n",
       "      <td>338</td>\n",
       "    </tr>\n",
       "  </tbody>\n",
       "</table>\n",
       "</div>"
      ],
      "text/plain": [
       "                Region  Casos totales acumulados  \\\n",
       "0   Arica y Parinacota                     71212   \n",
       "1             Tarapacá                    100799   \n",
       "2          Antofagasta                    162277   \n",
       "3              Atacama                     98251   \n",
       "4             Coquimbo                    181407   \n",
       "5           Valparaíso                    417089   \n",
       "6        Metropolitana                   1712373   \n",
       "7            O’Higgins                    192005   \n",
       "8                Maule                    298463   \n",
       "9                Ñuble                    128524   \n",
       "10              Biobío                    437543   \n",
       "11           Araucanía                    258139   \n",
       "12            Los Ríos                    127744   \n",
       "13           Los Lagos                    221432   \n",
       "14               Aysén                     30790   \n",
       "15          Magallanes                     61133   \n",
       "\n",
       "    Fallecidos confirmados totales  \\\n",
       "0                              705   \n",
       "1                             1006   \n",
       "2                             1561   \n",
       "3                              548   \n",
       "4                             1508   \n",
       "5                             4790   \n",
       "6                            23278   \n",
       "7                             2082   \n",
       "8                             2577   \n",
       "9                              986   \n",
       "10                            3776   \n",
       "11                            2109   \n",
       "12                            1061   \n",
       "13                            2027   \n",
       "14                             167   \n",
       "15                             638   \n",
       "\n",
       "    Fallecidos sospechosos probables u otros totales  Fallecidos totales  \\\n",
       "0                                                143                 848   \n",
       "1                                                119                1125   \n",
       "2                                                294                1855   \n",
       "3                                                116                 664   \n",
       "4                                                297                1805   \n",
       "5                                               1224                6014   \n",
       "6                                               6155               29433   \n",
       "7                                                573                2655   \n",
       "8                                                504                3081   \n",
       "9                                                194                1180   \n",
       "10                                               685                4461   \n",
       "11                                               575                2684   \n",
       "12                                               230                1291   \n",
       "13                                               374                2401   \n",
       "14                                                27                 194   \n",
       "15                                               104                 742   \n",
       "\n",
       "    Casos confirmados recuperados  Casos confirmados por antigeno  \\\n",
       "0                           69673                           20095   \n",
       "1                           98602                           20743   \n",
       "2                          158804                           23855   \n",
       "3                           96347                           36522   \n",
       "4                          177627                           45090   \n",
       "5                          407772                          102026   \n",
       "6                         1672326                          285921   \n",
       "7                          187616                           53578   \n",
       "8                          291735                           86094   \n",
       "9                          125722                           38216   \n",
       "10                         427713                           86176   \n",
       "11                         252567                           44852   \n",
       "12                         125009                           31671   \n",
       "13                         217100                           31040   \n",
       "14                          30284                           10745   \n",
       "15                          59857                            8461   \n",
       "\n",
       "    Casos con sospecha de reinfeccion  Casos probables acumulados  \\\n",
       "0                                1093                        3441   \n",
       "1                                 587                       10393   \n",
       "2                                1373                        6820   \n",
       "3                                 744                        1745   \n",
       "4                                 984                        9393   \n",
       "5                                1810                       50203   \n",
       "6                               16240                      161575   \n",
       "7                                 885                       14799   \n",
       "8                                2940                       10640   \n",
       "9                                 746                       10182   \n",
       "10                               2183                       35910   \n",
       "11                               1782                       11313   \n",
       "12                                954                        6034   \n",
       "13                               3456                       16332   \n",
       "14                               1145                        1794   \n",
       "15                               1821                        3289   \n",
       "\n",
       "    Casos activos probables  Casos nuevos totales  Casos nuevos con sintomas  \\\n",
       "0                         0                    51                         27   \n",
       "1                         0                   115                         60   \n",
       "2                         0                   194                         92   \n",
       "3                         0                   137                         48   \n",
       "4                         0                   223                        130   \n",
       "5                         3                   413                        260   \n",
       "6                         8                  1306                        632   \n",
       "7                         1                   223                        122   \n",
       "8                         0                   421                        322   \n",
       "9                         2                   245                        122   \n",
       "10                        0                   549                        308   \n",
       "11                        1                   393                        154   \n",
       "12                        0                   168                         92   \n",
       "13                        0                   175                         95   \n",
       "14                        0                    25                         12   \n",
       "15                        0                    21                         12   \n",
       "\n",
       "    Casos nuevos sin sintomas*  Casos nuevos reportados por laboratorio  \\\n",
       "0                           23                                        1   \n",
       "1                           43                                       12   \n",
       "2                           75                                       27   \n",
       "3                           36                                       53   \n",
       "4                           54                                       39   \n",
       "5                           49                                      104   \n",
       "6                          166                                      508   \n",
       "7                           18                                       83   \n",
       "8                           51                                       48   \n",
       "9                           17                                      106   \n",
       "10                         123                                      118   \n",
       "11                          48                                      191   \n",
       "12                           4                                       72   \n",
       "13                          44                                       36   \n",
       "14                           7                                        6   \n",
       "15                           0                                        9   \n",
       "\n",
       "    Casos nuevos confirmados por antigeno  Casos activos confirmados  \n",
       "0                                      34                        529  \n",
       "1                                      39                        914  \n",
       "2                                      51                       1362  \n",
       "3                                      79                       1140  \n",
       "4                                      90                       1733  \n",
       "5                                     169                       2786  \n",
       "6                                     336                       8717  \n",
       "7                                      51                       1507  \n",
       "8                                     150                       3018  \n",
       "9                                      88                       1295  \n",
       "10                                    188                       4390  \n",
       "11                                     73                       2327  \n",
       "12                                     80                       1103  \n",
       "13                                     26                       1299  \n",
       "14                                     10                        236  \n",
       "15                                     12                        338  "
      ]
     },
     "execution_count": 2,
     "metadata": {},
     "output_type": "execute_result"
    }
   ],
   "source": [
    "#date = '2022-08-02'\n",
    "date = datetime.today().strftime('%Y-%m-%d')\n",
    "#dataTotalRegion = pd.read_csv(\"https://raw.githubusercontent.com/MinCiencia/Datos-COVID19/master/output/producto4/\"+date+\"-CasosConfirmados-totalRegional.csv\", index_col='Region')\n",
    "dataTotalRegion = pd.read_csv(\"https://raw.githubusercontent.com/MinCiencia/Datos-COVID19/master/output/producto4/\"+date+\"-CasosConfirmados-totalRegional.csv\")\n",
    "#https://github.com/MinCiencia/Datos-COVID19/blob/master/output/producto5/TotalesNacionales_T.csv\n",
    "dataTotalRegion = dataTotalRegion.iloc[:-2]\n",
    "dataTotalRegion"
   ]
  },
  {
   "cell_type": "code",
   "execution_count": 3,
   "id": "c579b914-7d0d-4ed4-9690-3d1249f53149",
   "metadata": {},
   "outputs": [
    {
     "data": {
      "text/plain": [
       "0      529\n",
       "1      914\n",
       "2     1362\n",
       "3     1140\n",
       "4     1733\n",
       "5     2786\n",
       "6     8717\n",
       "7     1507\n",
       "8     3018\n",
       "9     1295\n",
       "10    4390\n",
       "11    2327\n",
       "12    1103\n",
       "13    1299\n",
       "14     236\n",
       "15     338\n",
       "Name: Casos activos confirmados, dtype: int64"
      ]
     },
     "execution_count": 3,
     "metadata": {},
     "output_type": "execute_result"
    }
   ],
   "source": [
    "dataTotalRegion[dataTotalRegion['Percentage'] > 80]"
   ]
  },
  {
   "cell_type": "code",
   "execution_count": 14,
   "id": "1cf04c8e-5ad1-4387-81ab-f2129a38f915",
   "metadata": {},
   "outputs": [],
   "source": [
    "data = pd.DataFrame()"
   ]
  },
  {
   "cell_type": "code",
   "execution_count": 15,
   "id": "0a71f2ec-3be6-4f14-b6c0-27f91e145459",
   "metadata": {},
   "outputs": [],
   "source": [
    "columnas = list(dataTotalRegion.columns.values)"
   ]
  },
  {
   "cell_type": "code",
   "execution_count": 7,
   "id": "0220abe8-084e-4572-b2aa-dcd4028cf460",
   "metadata": {},
   "outputs": [],
   "source": [
    "data['Region'] = dataTotalRegion[columnas[0]].iloc[:-1]\n",
    "data['CasosTotales'] = dataTotalRegion[columnas[1]].iloc[:-1]\n",
    "data['FallecidosConfirmados'] = dataTotalRegion[columnas[2]].iloc[:-1]\n",
    "data['Fallecidos'] = dataTotalRegion[columnas[3]].iloc[:-1]"
   ]
  },
  {
   "cell_type": "code",
   "execution_count": 28,
   "id": "22422327-4822-422c-b552-4aeadfca9321",
   "metadata": {},
   "outputs": [
    {
     "data": {
      "image/png": "[encoded data removed]",
      "text/plain": [
       "<Figure size 720x360 with 1 Axes>"
      ]
     },
     "metadata": {
      "needs_background": "light"
     },
     "output_type": "display_data"
    }
   ],
   "source": [
    "fig, ax = plt.subplots(tight_layout=True,figsize=(10,5))\n",
    "ax = sns.barplot(x='Casos totales acumulados', y='Region', data=dataTotalRegion.sort_values(by=['Casos totales acumulados'], ascending=False), palette=\"Blues_d\")\n",
    "ax.set_title(f'COVID-19 en Chile: Total casos acumulados al '+date, fontsize='large')\n",
    "ax.set_ylabel('Región')\n",
    "ax.set_xlabel('Total Acumulado')\n",
    "ax.bar_label(ax.containers[0])\n",
    "plt.show()"
   ]
  },
  {
   "cell_type": "code",
   "execution_count": 65,
   "id": "71397076-cdbc-494e-9001-6194916190b2",
   "metadata": {},
   "outputs": [],
   "source": [
    "def get_barraRegion(data):\n",
    "    fig = px.bar(data, x='Casos totales acumulados', y='Region', title=\"Total Casos Acumulados por Región\",color='Region')\n",
    "    fig.update_layout(yaxis={'categoryorder':'total ascending'})\n",
    "    return fig"
   ]
  },
  {
   "cell_type": "code",
   "execution_count": 66,
   "id": "d719c4fe-55e6-4e6d-b90f-ea04b5c5899b",
   "metadata": {},
   "outputs": [
    {
     "data": {
      "application/vnd.plotly.v1+json": {
       "config": {
        "plotlyServerURL": "https://plot.ly"
       },
       "data": [
        {
         "alignmentgroup": "True",
         "hovertemplate": "Region=%{y}<br>Casos totales acumulados=%{x}<extra></extra>",
         "legendgroup": "Arica y Parinacota",
         "marker": {
          "color": "#636efa",
          "pattern": {
           "shape": ""
          }
         },
         "name": "Arica y Parinacota",
         "offsetgroup": "Arica y Parinacota",
         "orientation": "h",
         "showlegend": true,
         "textposition": "auto",
         "type": "bar",
         "x": [
          69766
         ],
         "xaxis": "x",
         "y": [
          "Arica y Parinacota"
         ],
         "yaxis": "y"
        },
        {
         "alignmentgroup": "True",
         "hovertemplate": "Region=%{y}<br>Casos totales acumulados=%{x}<extra></extra>",
         "legendgroup": "Tarapacá",
         "marker": {
          "color": "#EF553B",
          "pattern": {
           "shape": ""
          }
         },
         "name": "Tarapacá",
         "offsetgroup": "Tarapacá",
         "orientation": "h",
         "showlegend": true,
         "textposition": "auto",
         "type": "bar",
         "x": [
          98477
         ],
         "xaxis": "x",
         "y": [
          "Tarapacá"
         ],
         "yaxis": "y"
        },
        {
         "alignmentgroup": "True",
         "hovertemplate": "Region=%{y}<br>Casos totales acumulados=%{x}<extra></extra>",
         "legendgroup": "Antofagasta",
         "marker": {
          "color": "#00cc96",
          "pattern": {
           "shape": ""
          }
         },
         "name": "Antofagasta",
         "offsetgroup": "Antofagasta",
         "orientation": "h",
         "showlegend": true,
         "textposition": "auto",
         "type": "bar",
         "x": [
          158940
         ],
         "xaxis": "x",
         "y": [
          "Antofagasta"
         ],
         "yaxis": "y"
        },
        {
         "alignmentgroup": "True",
         "hovertemplate": "Region=%{y}<br>Casos totales acumulados=%{x}<extra></extra>",
         "legendgroup": "Atacama",
         "marker": {
          "color": "#ab63fa",
          "pattern": {
           "shape": ""
          }
         },
         "name": "Atacama",
         "offsetgroup": "Atacama",
         "orientation": "h",
         "showlegend": true,
         "textposition": "auto",
         "type": "bar",
         "x": [
          95601
         ],
         "xaxis": "x",
         "y": [
          "Atacama"
         ],
         "yaxis": "y"
        },
        {
         "alignmentgroup": "True",
         "hovertemplate": "Region=%{y}<br>Casos totales acumulados=%{x}<extra></extra>",
         "legendgroup": "Coquimbo",
         "marker": {
          "color": "#FFA15A",
          "pattern": {
           "shape": ""
          }
         },
         "name": "Coquimbo",
         "offsetgroup": "Coquimbo",
         "orientation": "h",
         "showlegend": true,
         "textposition": "auto",
         "type": "bar",
         "x": [
          176430
         ],
         "xaxis": "x",
         "y": [
          "Coquimbo"
         ],
         "yaxis": "y"
        },
        {
         "alignmentgroup": "True",
         "hovertemplate": "Region=%{y}<br>Casos totales acumulados=%{x}<extra></extra>",
         "legendgroup": "Valparaíso",
         "marker": {
          "color": "#19d3f3",
          "pattern": {
           "shape": ""
          }
         },
         "name": "Valparaíso",
         "offsetgroup": "Valparaíso",
         "orientation": "h",
         "showlegend": true,
         "textposition": "auto",
         "type": "bar",
         "x": [
          409033
         ],
         "xaxis": "x",
         "y": [
          "Valparaíso"
         ],
         "yaxis": "y"
        },
        {
         "alignmentgroup": "True",
         "hovertemplate": "Region=%{y}<br>Casos totales acumulados=%{x}<extra></extra>",
         "legendgroup": "Metropolitana",
         "marker": {
          "color": "#FF6692",
          "pattern": {
           "shape": ""
          }
         },
         "name": "Metropolitana",
         "offsetgroup": "Metropolitana",
         "orientation": "h",
         "showlegend": true,
         "textposition": "auto",
         "type": "bar",
         "x": [
          1688872
         ],
         "xaxis": "x",
         "y": [
          "Metropolitana"
         ],
         "yaxis": "y"
        },
        {
         "alignmentgroup": "True",
         "hovertemplate": "Region=%{y}<br>Casos totales acumulados=%{x}<extra></extra>",
         "legendgroup": "O’Higgins",
         "marker": {
          "color": "#B6E880",
          "pattern": {
           "shape": ""
          }
         },
         "name": "O’Higgins",
         "offsetgroup": "O’Higgins",
         "orientation": "h",
         "showlegend": true,
         "textposition": "auto",
         "type": "bar",
         "x": [
          187966
         ],
         "xaxis": "x",
         "y": [
          "O’Higgins"
         ],
         "yaxis": "y"
        },
        {
         "alignmentgroup": "True",
         "hovertemplate": "Region=%{y}<br>Casos totales acumulados=%{x}<extra></extra>",
         "legendgroup": "Maule",
         "marker": {
          "color": "#FF97FF",
          "pattern": {
           "shape": ""
          }
         },
         "name": "Maule",
         "offsetgroup": "Maule",
         "orientation": "h",
         "showlegend": true,
         "textposition": "auto",
         "type": "bar",
         "x": [
          289555
         ],
         "xaxis": "x",
         "y": [
          "Maule"
         ],
         "yaxis": "y"
        },
        {
         "alignmentgroup": "True",
         "hovertemplate": "Region=%{y}<br>Casos totales acumulados=%{x}<extra></extra>",
         "legendgroup": "Ñuble",
         "marker": {
          "color": "#FECB52",
          "pattern": {
           "shape": ""
          }
         },
         "name": "Ñuble",
         "offsetgroup": "Ñuble",
         "orientation": "h",
         "showlegend": true,
         "textposition": "auto",
         "type": "bar",
         "x": [
          124794
         ],
         "xaxis": "x",
         "y": [
          "Ñuble"
         ],
         "yaxis": "y"
        },
        {
         "alignmentgroup": "True",
         "hovertemplate": "Region=%{y}<br>Casos totales acumulados=%{x}<extra></extra>",
         "legendgroup": "Biobío",
         "marker": {
          "color": "#636efa",
          "pattern": {
           "shape": ""
          }
         },
         "name": "Biobío",
         "offsetgroup": "Biobío",
         "orientation": "h",
         "showlegend": true,
         "textposition": "auto",
         "type": "bar",
         "x": [
          426911
         ],
         "xaxis": "x",
         "y": [
          "Biobío"
         ],
         "yaxis": "y"
        },
        {
         "alignmentgroup": "True",
         "hovertemplate": "Region=%{y}<br>Casos totales acumulados=%{x}<extra></extra>",
         "legendgroup": "Araucanía",
         "marker": {
          "color": "#EF553B",
          "pattern": {
           "shape": ""
          }
         },
         "name": "Araucanía",
         "offsetgroup": "Araucanía",
         "orientation": "h",
         "showlegend": true,
         "textposition": "auto",
         "type": "bar",
         "x": [
          251502
         ],
         "xaxis": "x",
         "y": [
          "Araucanía"
         ],
         "yaxis": "y"
        },
        {
         "alignmentgroup": "True",
         "hovertemplate": "Region=%{y}<br>Casos totales acumulados=%{x}<extra></extra>",
         "legendgroup": "Los Ríos",
         "marker": {
          "color": "#00cc96",
          "pattern": {
           "shape": ""
          }
         },
         "name": "Los Ríos",
         "offsetgroup": "Los Ríos",
         "orientation": "h",
         "showlegend": true,
         "textposition": "auto",
         "type": "bar",
         "x": [
          124626
         ],
         "xaxis": "x",
         "y": [
          "Los Ríos"
         ],
         "yaxis": "y"
        },
        {
         "alignmentgroup": "True",
         "hovertemplate": "Region=%{y}<br>Casos totales acumulados=%{x}<extra></extra>",
         "legendgroup": "Los Lagos",
         "marker": {
          "color": "#ab63fa",
          "pattern": {
           "shape": ""
          }
         },
         "name": "Los Lagos",
         "offsetgroup": "Los Lagos",
         "orientation": "h",
         "showlegend": true,
         "textposition": "auto",
         "type": "bar",
         "x": [
          217176
         ],
         "xaxis": "x",
         "y": [
          "Los Lagos"
         ],
         "yaxis": "y"
        },
        {
         "alignmentgroup": "True",
         "hovertemplate": "Region=%{y}<br>Casos totales acumulados=%{x}<extra></extra>",
         "legendgroup": "Aysén",
         "marker": {
          "color": "#FFA15A",
          "pattern": {
           "shape": ""
          }
         },
         "name": "Aysén",
         "offsetgroup": "Aysén",
         "orientation": "h",
         "showlegend": true,
         "textposition": "auto",
         "type": "bar",
         "x": [
          30024
         ],
         "xaxis": "x",
         "y": [
          "Aysén"
         ],
         "yaxis": "y"
        },
        {
         "alignmentgroup": "True",
         "hovertemplate": "Region=%{y}<br>Casos totales acumulados=%{x}<extra></extra>",
         "legendgroup": "Magallanes",
         "marker": {
          "color": "#19d3f3",
          "pattern": {
           "shape": ""
          }
         },
         "name": "Magallanes",
         "offsetgroup": "Magallanes",
         "orientation": "h",
         "showlegend": true,
         "textposition": "auto",
         "type": "bar",
         "x": [
          60158
         ],
         "xaxis": "x",
         "y": [
          "Magallanes"
         ],
         "yaxis": "y"
        }
       ],
       "layout": {
        "autosize": true,
        "barmode": "relative",
        "legend": {
         "title": {
          "text": "Region"
         },
         "tracegroupgap": 0
        },
        "template": {
         "data": {
          "bar": [
           {
            "error_x": {
             "color": "#2a3f5f"
            },
            "error_y": {
             "color": "#2a3f5f"
            },
            "marker": {
             "line": {
              "color": "#E5ECF6",
              "width": 0.5
             },
             "pattern": {
              "fillmode": "overlay",
              "size": 10,
              "solidity": 0.2
             }
            },
            "type": "bar"
           }
          ],
          "barpolar": [
           {
            "marker": {
             "line": {
              "color": "#E5ECF6",
              "width": 0.5
             },
             "pattern": {
              "fillmode": "overlay",
              "size": 10,
              "solidity": 0.2
             }
            },
            "type": "barpolar"
           }
          ],
          "carpet": [
           {
            "aaxis": {
             "endlinecolor": "#2a3f5f",
             "gridcolor": "white",
             "linecolor": "white",
             "minorgridcolor": "white",
             "startlinecolor": "#2a3f5f"
            },
            "baxis": {
             "endlinecolor": "#2a3f5f",
             "gridcolor": "white",
             "linecolor": "white",
             "minorgridcolor": "white",
             "startlinecolor": "#2a3f5f"
            },
            "type": "carpet"
           }
          ],
          "choropleth": [
           {
            "colorbar": {
             "outlinewidth": 0,
             "ticks": ""
            },
            "type": "choropleth"
           }
          ],
          "contour": [
           {
            "colorbar": {
             "outlinewidth": 0,
             "ticks": ""
            },
            "colorscale": [
             [
              0,
              "#0d0887"
             ],
             [
              0.1111111111111111,
              "#46039f"
             ],
             [
              0.2222222222222222,
              "#7201a8"
             ],
             [
              0.3333333333333333,
              "#9c179e"
             ],
             [
              0.4444444444444444,
              "#bd3786"
             ],
             [
              0.5555555555555556,
              "#d8576b"
             ],
             [
              0.6666666666666666,
              "#ed7953"
             ],
             [
              0.7777777777777778,
              "#fb9f3a"
             ],
             [
              0.8888888888888888,
              "#fdca26"
             ],
             [
              1,
              "#f0f921"
             ]
            ],
            "type": "contour"
           }
          ],
          "contourcarpet": [
           {
            "colorbar": {
             "outlinewidth": 0,
             "ticks": ""
            },
            "type": "contourcarpet"
           }
          ],
          "heatmap": [
           {
            "colorbar": {
             "outlinewidth": 0,
             "ticks": ""
            },
            "colorscale": [
             [
              0,
              "#0d0887"
             ],
             [
              0.1111111111111111,
              "#46039f"
             ],
             [
              0.2222222222222222,
              "#7201a8"
             ],
             [
              0.3333333333333333,
              "#9c179e"
             ],
             [
              0.4444444444444444,
              "#bd3786"
             ],
             [
              0.5555555555555556,
              "#d8576b"
             ],
             [
              0.6666666666666666,
              "#ed7953"
             ],
             [
              0.7777777777777778,
              "#fb9f3a"
             ],
             [
              0.8888888888888888,
              "#fdca26"
             ],
             [
              1,
              "#f0f921"
             ]
            ],
            "type": "heatmap"
           }
          ],
          "heatmapgl": [
           {
            "colorbar": {
             "outlinewidth": 0,
             "ticks": ""
            },
            "colorscale": [
             [
              0,
              "#0d0887"
             ],
             [
              0.1111111111111111,
              "#46039f"
             ],
             [
              0.2222222222222222,
              "#7201a8"
             ],
             [
              0.3333333333333333,
              "#9c179e"
             ],
             [
              0.4444444444444444,
              "#bd3786"
             ],
             [
              0.5555555555555556,
              "#d8576b"
             ],
             [
              0.6666666666666666,
              "#ed7953"
             ],
             [
              0.7777777777777778,
              "#fb9f3a"
             ],
             [
              0.8888888888888888,
              "#fdca26"
             ],
             [
              1,
              "#f0f921"
             ]
            ],
            "type": "heatmapgl"
           }
          ],
          "histogram": [
           {
            "marker": {
             "pattern": {
              "fillmode": "overlay",
              "size": 10,
              "solidity": 0.2
             }
            },
            "type": "histogram"
           }
          ],
          "histogram2d": [
           {
            "colorbar": {
             "outlinewidth": 0,
             "ticks": ""
            },
            "colorscale": [
             [
              0,
              "#0d0887"
             ],
             [
              0.1111111111111111,
              "#46039f"
             ],
             [
              0.2222222222222222,
              "#7201a8"
             ],
             [
              0.3333333333333333,
              "#9c179e"
             ],
             [
              0.4444444444444444,
              "#bd3786"
             ],
             [
              0.5555555555555556,
              "#d8576b"
             ],
             [
              0.6666666666666666,
              "#ed7953"
             ],
             [
              0.7777777777777778,
              "#fb9f3a"
             ],
             [
              0.8888888888888888,
              "#fdca26"
             ],
             [
              1,
              "#f0f921"
             ]
            ],
            "type": "histogram2d"
           }
          ],
          "histogram2dcontour": [
           {
            "colorbar": {
             "outlinewidth": 0,
             "ticks": ""
            },
            "colorscale": [
             [
              0,
              "#0d0887"
             ],
             [
              0.1111111111111111,
              "#46039f"
             ],
             [
              0.2222222222222222,
              "#7201a8"
             ],
             [
              0.3333333333333333,
              "#9c179e"
             ],
             [
              0.4444444444444444,
              "#bd3786"
             ],
             [
              0.5555555555555556,
              "#d8576b"
             ],
             [
              0.6666666666666666,
              "#ed7953"
             ],
             [
              0.7777777777777778,
              "#fb9f3a"
             ],
             [
              0.8888888888888888,
              "#fdca26"
             ],
             [
              1,
              "#f0f921"
             ]
            ],
            "type": "histogram2dcontour"
           }
          ],
          "mesh3d": [
           {
            "colorbar": {
             "outlinewidth": 0,
             "ticks": ""
            },
            "type": "mesh3d"
           }
          ],
          "parcoords": [
           {
            "line": {
             "colorbar": {
              "outlinewidth": 0,
              "ticks": ""
             }
            },
            "type": "parcoords"
           }
          ],
          "pie": [
           {
            "automargin": true,
            "type": "pie"
           }
          ],
          "scatter": [
           {
            "fillpattern": {
             "fillmode": "overlay",
             "size": 10,
             "solidity": 0.2
            },
            "type": "scatter"
           }
          ],
          "scatter3d": [
           {
            "line": {
             "colorbar": {
              "outlinewidth": 0,
              "ticks": ""
             }
            },
            "marker": {
             "colorbar": {
              "outlinewidth": 0,
              "ticks": ""
             }
            },
            "type": "scatter3d"
           }
          ],
          "scattercarpet": [
           {
            "marker": {
             "colorbar": {
              "outlinewidth": 0,
              "ticks": ""
             }
            },
            "type": "scattercarpet"
           }
          ],
          "scattergeo": [
           {
            "marker": {
             "colorbar": {
              "outlinewidth": 0,
              "ticks": ""
             }
            },
            "type": "scattergeo"
           }
          ],
          "scattergl": [
           {
            "marker": {
             "colorbar": {
              "outlinewidth": 0,
              "ticks": ""
             }
            },
            "type": "scattergl"
           }
          ],
          "scattermapbox": [
           {
            "marker": {
             "colorbar": {
              "outlinewidth": 0,
              "ticks": ""
             }
            },
            "type": "scattermapbox"
           }
          ],
          "scatterpolar": [
           {
            "marker": {
             "colorbar": {
              "outlinewidth": 0,
              "ticks": ""
             }
            },
            "type": "scatterpolar"
           }
          ],
          "scatterpolargl": [
           {
            "marker": {
             "colorbar": {
              "outlinewidth": 0,
              "ticks": ""
             }
            },
            "type": "scatterpolargl"
           }
          ],
          "scatterternary": [
           {
            "marker": {
             "colorbar": {
              "outlinewidth": 0,
              "ticks": ""
             }
            },
            "type": "scatterternary"
           }
          ],
          "surface": [
           {
            "colorbar": {
             "outlinewidth": 0,
             "ticks": ""
            },
            "colorscale": [
             [
              0,
              "#0d0887"
             ],
             [
              0.1111111111111111,
              "#46039f"
             ],
             [
              0.2222222222222222,
              "#7201a8"
             ],
             [
              0.3333333333333333,
              "#9c179e"
             ],
             [
              0.4444444444444444,
              "#bd3786"
             ],
             [
              0.5555555555555556,
              "#d8576b"
             ],
             [
              0.6666666666666666,
              "#ed7953"
             ],
             [
              0.7777777777777778,
              "#fb9f3a"
             ],
             [
              0.8888888888888888,
              "#fdca26"
             ],
             [
              1,
              "#f0f921"
             ]
            ],
            "type": "surface"
           }
          ],
          "table": [
           {
            "cells": {
             "fill": {
              "color": "#EBF0F8"
             },
             "line": {
              "color": "white"
             }
            },
            "header": {
             "fill": {
              "color": "#C8D4E3"
             },
             "line": {
              "color": "white"
             }
            },
            "type": "table"
           }
          ]
         },
         "layout": {
          "annotationdefaults": {
           "arrowcolor": "#2a3f5f",
           "arrowhead": 0,
           "arrowwidth": 1
          },
          "autotypenumbers": "strict",
          "coloraxis": {
           "colorbar": {
            "outlinewidth": 0,
            "ticks": ""
           }
          },
          "colorscale": {
           "diverging": [
            [
             0,
             "#8e0152"
            ],
            [
             0.1,
             "#c51b7d"
            ],
            [
             0.2,
             "#de77ae"
            ],
            [
             0.3,
             "#f1b6da"
            ],
            [
             0.4,
             "#fde0ef"
            ],
            [
             0.5,
             "#f7f7f7"
            ],
            [
             0.6,
             "#e6f5d0"
            ],
            [
             0.7,
             "#b8e186"
            ],
            [
             0.8,
             "#7fbc41"
            ],
            [
             0.9,
             "#4d9221"
            ],
            [
             1,
             "#276419"
            ]
           ],
           "sequential": [
            [
             0,
             "#0d0887"
            ],
            [
             0.1111111111111111,
             "#46039f"
            ],
            [
             0.2222222222222222,
             "#7201a8"
            ],
            [
             0.3333333333333333,
             "#9c179e"
            ],
            [
             0.4444444444444444,
             "#bd3786"
            ],
            [
             0.5555555555555556,
             "#d8576b"
            ],
            [
             0.6666666666666666,
             "#ed7953"
            ],
            [
             0.7777777777777778,
             "#fb9f3a"
            ],
            [
             0.8888888888888888,
             "#fdca26"
            ],
            [
             1,
             "#f0f921"
            ]
           ],
           "sequentialminus": [
            [
             0,
             "#0d0887"
            ],
            [
             0.1111111111111111,
             "#46039f"
            ],
            [
             0.2222222222222222,
             "#7201a8"
            ],
            [
             0.3333333333333333,
             "#9c179e"
            ],
            [
             0.4444444444444444,
             "#bd3786"
            ],
            [
             0.5555555555555556,
             "#d8576b"
            ],
            [
             0.6666666666666666,
             "#ed7953"
            ],
            [
             0.7777777777777778,
             "#fb9f3a"
            ],
            [
             0.8888888888888888,
             "#fdca26"
            ],
            [
             1,
             "#f0f921"
            ]
           ]
          },
          "colorway": [
           "#636efa",
           "#EF553B",
           "#00cc96",
           "#ab63fa",
           "#FFA15A",
           "#19d3f3",
           "#FF6692",
           "#B6E880",
           "#FF97FF",
           "#FECB52"
          ],
          "font": {
           "color": "#2a3f5f"
          },
          "geo": {
           "bgcolor": "white",
           "lakecolor": "white",
           "landcolor": "#E5ECF6",
           "showlakes": true,
           "showland": true,
           "subunitcolor": "white"
          },
          "hoverlabel": {
           "align": "left"
          },
          "hovermode": "closest",
          "mapbox": {
           "style": "light"
          },
          "paper_bgcolor": "white",
          "plot_bgcolor": "#E5ECF6",
          "polar": {
           "angularaxis": {
            "gridcolor": "white",
            "linecolor": "white",
            "ticks": ""
           },
           "bgcolor": "#E5ECF6",
           "radialaxis": {
            "gridcolor": "white",
            "linecolor": "white",
            "ticks": ""
           }
          },
          "scene": {
           "xaxis": {
            "backgroundcolor": "#E5ECF6",
            "gridcolor": "white",
            "gridwidth": 2,
            "linecolor": "white",
            "showbackground": true,
            "ticks": "",
            "zerolinecolor": "white"
           },
           "yaxis": {
            "backgroundcolor": "#E5ECF6",
            "gridcolor": "white",
            "gridwidth": 2,
            "linecolor": "white",
            "showbackground": true,
            "ticks": "",
            "zerolinecolor": "white"
           },
           "zaxis": {
            "backgroundcolor": "#E5ECF6",
            "gridcolor": "white",
            "gridwidth": 2,
            "linecolor": "white",
            "showbackground": true,
            "ticks": "",
            "zerolinecolor": "white"
           }
          },
          "shapedefaults": {
           "line": {
            "color": "#2a3f5f"
           }
          },
          "ternary": {
           "aaxis": {
            "gridcolor": "white",
            "linecolor": "white",
            "ticks": ""
           },
           "baxis": {
            "gridcolor": "white",
            "linecolor": "white",
            "ticks": ""
           },
           "bgcolor": "#E5ECF6",
           "caxis": {
            "gridcolor": "white",
            "linecolor": "white",
            "ticks": ""
           }
          },
          "title": {
           "x": 0.05
          },
          "xaxis": {
           "automargin": true,
           "gridcolor": "white",
           "linecolor": "white",
           "ticks": "",
           "title": {
            "standoff": 15
           },
           "zerolinecolor": "white",
           "zerolinewidth": 2
          },
          "yaxis": {
           "automargin": true,
           "gridcolor": "white",
           "linecolor": "white",
           "ticks": "",
           "title": {
            "standoff": 15
           },
           "zerolinecolor": "white",
           "zerolinewidth": 2
          }
         }
        },
        "title": {
         "text": "Total Casos Acumulados por Región"
        },
        "xaxis": {
         "anchor": "y",
         "autorange": true,
         "domain": [
          0,
          1
         ],
         "range": [
          0,
          1777760
         ],
         "title": {
          "text": "Casos totales acumulados"
         },
         "type": "linear"
        },
        "yaxis": {
         "anchor": "x",
         "autorange": true,
         "categoryarray": [
          "Magallanes",
          "Aysén",
          "Los Lagos",
          "Los Ríos",
          "Araucanía",
          "Biobío",
          "Ñuble",
          "Maule",
          "O’Higgins",
          "Metropolitana",
          "Valparaíso",
          "Coquimbo",
          "Atacama",
          "Antofagasta",
          "Tarapacá",
          "Arica y Parinacota"
         ],
         "categoryorder": "total ascending",
         "domain": [
          0,
          1
         ],
         "range": [
          -0.5,
          15.5
         ],
         "title": {
          "text": "Region"
         },
         "type": "category"
        }
       }
      },
      "image/png": "[encoded data removed]",
      "text/html": [
       "<div>                            <div id=\"71e603b7-632d-4955-91a3-cb95753d5929\" class=\"plotly-graph-div\" style=\"height:525px; width:100%;\"></div>            <script type=\"text/javascript\">                require([\"plotly\"], function(Plotly) {                    window.PLOTLYENV=window.PLOTLYENV || {};                                    if (document.getElementById(\"71e603b7-632d-4955-91a3-cb95753d5929\")) {                    Plotly.newPlot(                        \"71e603b7-632d-4955-91a3-cb95753d5929\",                        [{\"alignmentgroup\":\"True\",\"hovertemplate\":\"Region=%{y}<br>Casos totales acumulados=%{x}<extra></extra>\",\"legendgroup\":\"Arica y Parinacota\",\"marker\":{\"color\":\"#636efa\",\"pattern\":{\"shape\":\"\"}},\"name\":\"Arica y Parinacota\",\"offsetgroup\":\"Arica y Parinacota\",\"orientation\":\"h\",\"showlegend\":true,\"textposition\":\"auto\",\"x\":[69766],\"xaxis\":\"x\",\"y\":[\"Arica y Parinacota\"],\"yaxis\":\"y\",\"type\":\"bar\"},{\"alignmentgroup\":\"True\",\"hovertemplate\":\"Region=%{y}<br>Casos totales acumulados=%{x}<extra></extra>\",\"legendgroup\":\"Tarapac\\u00e1\",\"marker\":{\"color\":\"#EF553B\",\"pattern\":{\"shape\":\"\"}},\"name\":\"Tarapac\\u00e1\",\"offsetgroup\":\"Tarapac\\u00e1\",\"orientation\":\"h\",\"showlegend\":true,\"textposition\":\"auto\",\"x\":[98477],\"xaxis\":\"x\",\"y\":[\"Tarapac\\u00e1\"],\"yaxis\":\"y\",\"type\":\"bar\"},{\"alignmentgroup\":\"True\",\"hovertemplate\":\"Region=%{y}<br>Casos totales acumulados=%{x}<extra></extra>\",\"legendgroup\":\"Antofagasta\",\"marker\":{\"color\":\"#00cc96\",\"pattern\":{\"shape\":\"\"}},\"name\":\"Antofagasta\",\"offsetgroup\":\"Antofagasta\",\"orientation\":\"h\",\"showlegend\":true,\"textposition\":\"auto\",\"x\":[158940],\"xaxis\":\"x\",\"y\":[\"Antofagasta\"],\"yaxis\":\"y\",\"type\":\"bar\"},{\"alignmentgroup\":\"True\",\"hovertemplate\":\"Region=%{y}<br>Casos totales acumulados=%{x}<extra></extra>\",\"legendgroup\":\"Atacama\",\"marker\":{\"color\":\"#ab63fa\",\"pattern\":{\"shape\":\"\"}},\"name\":\"Atacama\",\"offsetgroup\":\"Atacama\",\"orientation\":\"h\",\"showlegend\":true,\"textposition\":\"auto\",\"x\":[95601],\"xaxis\":\"x\",\"y\":[\"Atacama\"],\"yaxis\":\"y\",\"type\":\"bar\"},{\"alignmentgroup\":\"True\",\"hovertemplate\":\"Region=%{y}<br>Casos totales acumulados=%{x}<extra></extra>\",\"legendgroup\":\"Coquimbo\",\"marker\":{\"color\":\"#FFA15A\",\"pattern\":{\"shape\":\"\"}},\"name\":\"Coquimbo\",\"offsetgroup\":\"Coquimbo\",\"orientation\":\"h\",\"showlegend\":true,\"textposition\":\"auto\",\"x\":[176430],\"xaxis\":\"x\",\"y\":[\"Coquimbo\"],\"yaxis\":\"y\",\"type\":\"bar\"},{\"alignmentgroup\":\"True\",\"hovertemplate\":\"Region=%{y}<br>Casos totales acumulados=%{x}<extra></extra>\",\"legendgroup\":\"Valpara\\u00edso\",\"marker\":{\"color\":\"#19d3f3\",\"pattern\":{\"shape\":\"\"}},\"name\":\"Valpara\\u00edso\",\"offsetgroup\":\"Valpara\\u00edso\",\"orientation\":\"h\",\"showlegend\":true,\"textposition\":\"auto\",\"x\":[409033],\"xaxis\":\"x\",\"y\":[\"Valpara\\u00edso\"],\"yaxis\":\"y\",\"type\":\"bar\"},{\"alignmentgroup\":\"True\",\"hovertemplate\":\"Region=%{y}<br>Casos totales acumulados=%{x}<extra></extra>\",\"legendgroup\":\"Metropolitana\",\"marker\":{\"color\":\"#FF6692\",\"pattern\":{\"shape\":\"\"}},\"name\":\"Metropolitana\",\"offsetgroup\":\"Metropolitana\",\"orientation\":\"h\",\"showlegend\":true,\"textposition\":\"auto\",\"x\":[1688872],\"xaxis\":\"x\",\"y\":[\"Metropolitana\"],\"yaxis\":\"y\",\"type\":\"bar\"},{\"alignmentgroup\":\"True\",\"hovertemplate\":\"Region=%{y}<br>Casos totales acumulados=%{x}<extra></extra>\",\"legendgroup\":\"O\\u2019Higgins\",\"marker\":{\"color\":\"#B6E880\",\"pattern\":{\"shape\":\"\"}},\"name\":\"O\\u2019Higgins\",\"offsetgroup\":\"O\\u2019Higgins\",\"orientation\":\"h\",\"showlegend\":true,\"textposition\":\"auto\",\"x\":[187966],\"xaxis\":\"x\",\"y\":[\"O\\u2019Higgins\"],\"yaxis\":\"y\",\"type\":\"bar\"},{\"alignmentgroup\":\"True\",\"hovertemplate\":\"Region=%{y}<br>Casos totales acumulados=%{x}<extra></extra>\",\"legendgroup\":\"Maule\",\"marker\":{\"color\":\"#FF97FF\",\"pattern\":{\"shape\":\"\"}},\"name\":\"Maule\",\"offsetgroup\":\"Maule\",\"orientation\":\"h\",\"showlegend\":true,\"textposition\":\"auto\",\"x\":[289555],\"xaxis\":\"x\",\"y\":[\"Maule\"],\"yaxis\":\"y\",\"type\":\"bar\"},{\"alignmentgroup\":\"True\",\"hovertemplate\":\"Region=%{y}<br>Casos totales acumulados=%{x}<extra></extra>\",\"legendgroup\":\"\\u00d1uble\",\"marker\":{\"color\":\"#FECB52\",\"pattern\":{\"shape\":\"\"}},\"name\":\"\\u00d1uble\",\"offsetgroup\":\"\\u00d1uble\",\"orientation\":\"h\",\"showlegend\":true,\"textposition\":\"auto\",\"x\":[124794],\"xaxis\":\"x\",\"y\":[\"\\u00d1uble\"],\"yaxis\":\"y\",\"type\":\"bar\"},{\"alignmentgroup\":\"True\",\"hovertemplate\":\"Region=%{y}<br>Casos totales acumulados=%{x}<extra></extra>\",\"legendgroup\":\"Biob\\u00edo\",\"marker\":{\"color\":\"#636efa\",\"pattern\":{\"shape\":\"\"}},\"name\":\"Biob\\u00edo\",\"offsetgroup\":\"Biob\\u00edo\",\"orientation\":\"h\",\"showlegend\":true,\"textposition\":\"auto\",\"x\":[426911],\"xaxis\":\"x\",\"y\":[\"Biob\\u00edo\"],\"yaxis\":\"y\",\"type\":\"bar\"},{\"alignmentgroup\":\"True\",\"hovertemplate\":\"Region=%{y}<br>Casos totales acumulados=%{x}<extra></extra>\",\"legendgroup\":\"Araucan\\u00eda\",\"marker\":{\"color\":\"#EF553B\",\"pattern\":{\"shape\":\"\"}},\"name\":\"Araucan\\u00eda\",\"offsetgroup\":\"Araucan\\u00eda\",\"orientation\":\"h\",\"showlegend\":true,\"textposition\":\"auto\",\"x\":[251502],\"xaxis\":\"x\",\"y\":[\"Araucan\\u00eda\"],\"yaxis\":\"y\",\"type\":\"bar\"},{\"alignmentgroup\":\"True\",\"hovertemplate\":\"Region=%{y}<br>Casos totales acumulados=%{x}<extra></extra>\",\"legendgroup\":\"Los R\\u00edos\",\"marker\":{\"color\":\"#00cc96\",\"pattern\":{\"shape\":\"\"}},\"name\":\"Los R\\u00edos\",\"offsetgroup\":\"Los R\\u00edos\",\"orientation\":\"h\",\"showlegend\":true,\"textposition\":\"auto\",\"x\":[124626],\"xaxis\":\"x\",\"y\":[\"Los R\\u00edos\"],\"yaxis\":\"y\",\"type\":\"bar\"},{\"alignmentgroup\":\"True\",\"hovertemplate\":\"Region=%{y}<br>Casos totales acumulados=%{x}<extra></extra>\",\"legendgroup\":\"Los Lagos\",\"marker\":{\"color\":\"#ab63fa\",\"pattern\":{\"shape\":\"\"}},\"name\":\"Los Lagos\",\"offsetgroup\":\"Los Lagos\",\"orientation\":\"h\",\"showlegend\":true,\"textposition\":\"auto\",\"x\":[217176],\"xaxis\":\"x\",\"y\":[\"Los Lagos\"],\"yaxis\":\"y\",\"type\":\"bar\"},{\"alignmentgroup\":\"True\",\"hovertemplate\":\"Region=%{y}<br>Casos totales acumulados=%{x}<extra></extra>\",\"legendgroup\":\"Ays\\u00e9n\",\"marker\":{\"color\":\"#FFA15A\",\"pattern\":{\"shape\":\"\"}},\"name\":\"Ays\\u00e9n\",\"offsetgroup\":\"Ays\\u00e9n\",\"orientation\":\"h\",\"showlegend\":true,\"textposition\":\"auto\",\"x\":[30024],\"xaxis\":\"x\",\"y\":[\"Ays\\u00e9n\"],\"yaxis\":\"y\",\"type\":\"bar\"},{\"alignmentgroup\":\"True\",\"hovertemplate\":\"Region=%{y}<br>Casos totales acumulados=%{x}<extra></extra>\",\"legendgroup\":\"Magallanes\",\"marker\":{\"color\":\"#19d3f3\",\"pattern\":{\"shape\":\"\"}},\"name\":\"Magallanes\",\"offsetgroup\":\"Magallanes\",\"orientation\":\"h\",\"showlegend\":true,\"textposition\":\"auto\",\"x\":[60158],\"xaxis\":\"x\",\"y\":[\"Magallanes\"],\"yaxis\":\"y\",\"type\":\"bar\"}],                        {\"template\":{\"data\":{\"histogram2dcontour\":[{\"type\":\"histogram2dcontour\",\"colorbar\":{\"outlinewidth\":0,\"ticks\":\"\"},\"colorscale\":[[0.0,\"#0d0887\"],[0.1111111111111111,\"#46039f\"],[0.2222222222222222,\"#7201a8\"],[0.3333333333333333,\"#9c179e\"],[0.4444444444444444,\"#bd3786\"],[0.5555555555555556,\"#d8576b\"],[0.6666666666666666,\"#ed7953\"],[0.7777777777777778,\"#fb9f3a\"],[0.8888888888888888,\"#fdca26\"],[1.0,\"#f0f921\"]]}],\"choropleth\":[{\"type\":\"choropleth\",\"colorbar\":{\"outlinewidth\":0,\"ticks\":\"\"}}],\"histogram2d\":[{\"type\":\"histogram2d\",\"colorbar\":{\"outlinewidth\":0,\"ticks\":\"\"},\"colorscale\":[[0.0,\"#0d0887\"],[0.1111111111111111,\"#46039f\"],[0.2222222222222222,\"#7201a8\"],[0.3333333333333333,\"#9c179e\"],[0.4444444444444444,\"#bd3786\"],[0.5555555555555556,\"#d8576b\"],[0.6666666666666666,\"#ed7953\"],[0.7777777777777778,\"#fb9f3a\"],[0.8888888888888888,\"#fdca26\"],[1.0,\"#f0f921\"]]}],\"heatmap\":[{\"type\":\"heatmap\",\"colorbar\":{\"outlinewidth\":0,\"ticks\":\"\"},\"colorscale\":[[0.0,\"#0d0887\"],[0.1111111111111111,\"#46039f\"],[0.2222222222222222,\"#7201a8\"],[0.3333333333333333,\"#9c179e\"],[0.4444444444444444,\"#bd3786\"],[0.5555555555555556,\"#d8576b\"],[0.6666666666666666,\"#ed7953\"],[0.7777777777777778,\"#fb9f3a\"],[0.8888888888888888,\"#fdca26\"],[1.0,\"#f0f921\"]]}],\"heatmapgl\":[{\"type\":\"heatmapgl\",\"colorbar\":{\"outlinewidth\":0,\"ticks\":\"\"},\"colorscale\":[[0.0,\"#0d0887\"],[0.1111111111111111,\"#46039f\"],[0.2222222222222222,\"#7201a8\"],[0.3333333333333333,\"#9c179e\"],[0.4444444444444444,\"#bd3786\"],[0.5555555555555556,\"#d8576b\"],[0.6666666666666666,\"#ed7953\"],[0.7777777777777778,\"#fb9f3a\"],[0.8888888888888888,\"#fdca26\"],[1.0,\"#f0f921\"]]}],\"contourcarpet\":[{\"type\":\"contourcarpet\",\"colorbar\":{\"outlinewidth\":0,\"ticks\":\"\"}}],\"contour\":[{\"type\":\"contour\",\"colorbar\":{\"outlinewidth\":0,\"ticks\":\"\"},\"colorscale\":[[0.0,\"#0d0887\"],[0.1111111111111111,\"#46039f\"],[0.2222222222222222,\"#7201a8\"],[0.3333333333333333,\"#9c179e\"],[0.4444444444444444,\"#bd3786\"],[0.5555555555555556,\"#d8576b\"],[0.6666666666666666,\"#ed7953\"],[0.7777777777777778,\"#fb9f3a\"],[0.8888888888888888,\"#fdca26\"],[1.0,\"#f0f921\"]]}],\"surface\":[{\"type\":\"surface\",\"colorbar\":{\"outlinewidth\":0,\"ticks\":\"\"},\"colorscale\":[[0.0,\"#0d0887\"],[0.1111111111111111,\"#46039f\"],[0.2222222222222222,\"#7201a8\"],[0.3333333333333333,\"#9c179e\"],[0.4444444444444444,\"#bd3786\"],[0.5555555555555556,\"#d8576b\"],[0.6666666666666666,\"#ed7953\"],[0.7777777777777778,\"#fb9f3a\"],[0.8888888888888888,\"#fdca26\"],[1.0,\"#f0f921\"]]}],\"mesh3d\":[{\"type\":\"mesh3d\",\"colorbar\":{\"outlinewidth\":0,\"ticks\":\"\"}}],\"scatter\":[{\"fillpattern\":{\"fillmode\":\"overlay\",\"size\":10,\"solidity\":0.2},\"type\":\"scatter\"}],\"parcoords\":[{\"type\":\"parcoords\",\"line\":{\"colorbar\":{\"outlinewidth\":0,\"ticks\":\"\"}}}],\"scatterpolargl\":[{\"type\":\"scatterpolargl\",\"marker\":{\"colorbar\":{\"outlinewidth\":0,\"ticks\":\"\"}}}],\"bar\":[{\"error_x\":{\"color\":\"#2a3f5f\"},\"error_y\":{\"color\":\"#2a3f5f\"},\"marker\":{\"line\":{\"color\":\"#E5ECF6\",\"width\":0.5},\"pattern\":{\"fillmode\":\"overlay\",\"size\":10,\"solidity\":0.2}},\"type\":\"bar\"}],\"scattergeo\":[{\"type\":\"scattergeo\",\"marker\":{\"colorbar\":{\"outlinewidth\":0,\"ticks\":\"\"}}}],\"scatterpolar\":[{\"type\":\"scatterpolar\",\"marker\":{\"colorbar\":{\"outlinewidth\":0,\"ticks\":\"\"}}}],\"histogram\":[{\"marker\":{\"pattern\":{\"fillmode\":\"overlay\",\"size\":10,\"solidity\":0.2}},\"type\":\"histogram\"}],\"scattergl\":[{\"type\":\"scattergl\",\"marker\":{\"colorbar\":{\"outlinewidth\":0,\"ticks\":\"\"}}}],\"scatter3d\":[{\"type\":\"scatter3d\",\"line\":{\"colorbar\":{\"outlinewidth\":0,\"ticks\":\"\"}},\"marker\":{\"colorbar\":{\"outlinewidth\":0,\"ticks\":\"\"}}}],\"scattermapbox\":[{\"type\":\"scattermapbox\",\"marker\":{\"colorbar\":{\"outlinewidth\":0,\"ticks\":\"\"}}}],\"scatterternary\":[{\"type\":\"scatterternary\",\"marker\":{\"colorbar\":{\"outlinewidth\":0,\"ticks\":\"\"}}}],\"scattercarpet\":[{\"type\":\"scattercarpet\",\"marker\":{\"colorbar\":{\"outlinewidth\":0,\"ticks\":\"\"}}}],\"carpet\":[{\"aaxis\":{\"endlinecolor\":\"#2a3f5f\",\"gridcolor\":\"white\",\"linecolor\":\"white\",\"minorgridcolor\":\"white\",\"startlinecolor\":\"#2a3f5f\"},\"baxis\":{\"endlinecolor\":\"#2a3f5f\",\"gridcolor\":\"white\",\"linecolor\":\"white\",\"minorgridcolor\":\"white\",\"startlinecolor\":\"#2a3f5f\"},\"type\":\"carpet\"}],\"table\":[{\"cells\":{\"fill\":{\"color\":\"#EBF0F8\"},\"line\":{\"color\":\"white\"}},\"header\":{\"fill\":{\"color\":\"#C8D4E3\"},\"line\":{\"color\":\"white\"}},\"type\":\"table\"}],\"barpolar\":[{\"marker\":{\"line\":{\"color\":\"#E5ECF6\",\"width\":0.5},\"pattern\":{\"fillmode\":\"overlay\",\"size\":10,\"solidity\":0.2}},\"type\":\"barpolar\"}],\"pie\":[{\"automargin\":true,\"type\":\"pie\"}]},\"layout\":{\"autotypenumbers\":\"strict\",\"colorway\":[\"#636efa\",\"#EF553B\",\"#00cc96\",\"#ab63fa\",\"#FFA15A\",\"#19d3f3\",\"#FF6692\",\"#B6E880\",\"#FF97FF\",\"#FECB52\"],\"font\":{\"color\":\"#2a3f5f\"},\"hovermode\":\"closest\",\"hoverlabel\":{\"align\":\"left\"},\"paper_bgcolor\":\"white\",\"plot_bgcolor\":\"#E5ECF6\",\"polar\":{\"bgcolor\":\"#E5ECF6\",\"angularaxis\":{\"gridcolor\":\"white\",\"linecolor\":\"white\",\"ticks\":\"\"},\"radialaxis\":{\"gridcolor\":\"white\",\"linecolor\":\"white\",\"ticks\":\"\"}},\"ternary\":{\"bgcolor\":\"#E5ECF6\",\"aaxis\":{\"gridcolor\":\"white\",\"linecolor\":\"white\",\"ticks\":\"\"},\"baxis\":{\"gridcolor\":\"white\",\"linecolor\":\"white\",\"ticks\":\"\"},\"caxis\":{\"gridcolor\":\"white\",\"linecolor\":\"white\",\"ticks\":\"\"}},\"coloraxis\":{\"colorbar\":{\"outlinewidth\":0,\"ticks\":\"\"}},\"colorscale\":{\"sequential\":[[0.0,\"#0d0887\"],[0.1111111111111111,\"#46039f\"],[0.2222222222222222,\"#7201a8\"],[0.3333333333333333,\"#9c179e\"],[0.4444444444444444,\"#bd3786\"],[0.5555555555555556,\"#d8576b\"],[0.6666666666666666,\"#ed7953\"],[0.7777777777777778,\"#fb9f3a\"],[0.8888888888888888,\"#fdca26\"],[1.0,\"#f0f921\"]],\"sequentialminus\":[[0.0,\"#0d0887\"],[0.1111111111111111,\"#46039f\"],[0.2222222222222222,\"#7201a8\"],[0.3333333333333333,\"#9c179e\"],[0.4444444444444444,\"#bd3786\"],[0.5555555555555556,\"#d8576b\"],[0.6666666666666666,\"#ed7953\"],[0.7777777777777778,\"#fb9f3a\"],[0.8888888888888888,\"#fdca26\"],[1.0,\"#f0f921\"]],\"diverging\":[[0,\"#8e0152\"],[0.1,\"#c51b7d\"],[0.2,\"#de77ae\"],[0.3,\"#f1b6da\"],[0.4,\"#fde0ef\"],[0.5,\"#f7f7f7\"],[0.6,\"#e6f5d0\"],[0.7,\"#b8e186\"],[0.8,\"#7fbc41\"],[0.9,\"#4d9221\"],[1,\"#276419\"]]},\"xaxis\":{\"gridcolor\":\"white\",\"linecolor\":\"white\",\"ticks\":\"\",\"title\":{\"standoff\":15},\"zerolinecolor\":\"white\",\"automargin\":true,\"zerolinewidth\":2},\"yaxis\":{\"gridcolor\":\"white\",\"linecolor\":\"white\",\"ticks\":\"\",\"title\":{\"standoff\":15},\"zerolinecolor\":\"white\",\"automargin\":true,\"zerolinewidth\":2},\"scene\":{\"xaxis\":{\"backgroundcolor\":\"#E5ECF6\",\"gridcolor\":\"white\",\"linecolor\":\"white\",\"showbackground\":true,\"ticks\":\"\",\"zerolinecolor\":\"white\",\"gridwidth\":2},\"yaxis\":{\"backgroundcolor\":\"#E5ECF6\",\"gridcolor\":\"white\",\"linecolor\":\"white\",\"showbackground\":true,\"ticks\":\"\",\"zerolinecolor\":\"white\",\"gridwidth\":2},\"zaxis\":{\"backgroundcolor\":\"#E5ECF6\",\"gridcolor\":\"white\",\"linecolor\":\"white\",\"showbackground\":true,\"ticks\":\"\",\"zerolinecolor\":\"white\",\"gridwidth\":2}},\"shapedefaults\":{\"line\":{\"color\":\"#2a3f5f\"}},\"annotationdefaults\":{\"arrowcolor\":\"#2a3f5f\",\"arrowhead\":0,\"arrowwidth\":1},\"geo\":{\"bgcolor\":\"white\",\"landcolor\":\"#E5ECF6\",\"subunitcolor\":\"white\",\"showland\":true,\"showlakes\":true,\"lakecolor\":\"white\"},\"title\":{\"x\":0.05},\"mapbox\":{\"style\":\"light\"}}},\"xaxis\":{\"anchor\":\"y\",\"domain\":[0.0,1.0],\"title\":{\"text\":\"Casos totales acumulados\"}},\"yaxis\":{\"anchor\":\"x\",\"domain\":[0.0,1.0],\"title\":{\"text\":\"Region\"},\"categoryorder\":\"total ascending\",\"categoryarray\":[\"Magallanes\",\"Ays\\u00e9n\",\"Los Lagos\",\"Los R\\u00edos\",\"Araucan\\u00eda\",\"Biob\\u00edo\",\"\\u00d1uble\",\"Maule\",\"O\\u2019Higgins\",\"Metropolitana\",\"Valpara\\u00edso\",\"Coquimbo\",\"Atacama\",\"Antofagasta\",\"Tarapac\\u00e1\",\"Arica y Parinacota\"]},\"legend\":{\"title\":{\"text\":\"Region\"},\"tracegroupgap\":0},\"title\":{\"text\":\"Total Casos Acumulados por Regi\\u00f3n\"},\"barmode\":\"relative\"},                        {\"responsive\": true}                    ).then(function(){\n",
       "                            \n",
       "var gd = document.getElementById('71e603b7-632d-4955-91a3-cb95753d5929');\n",
       "var x = new MutationObserver(function (mutations, observer) {{\n",
       "        var display = window.getComputedStyle(gd).display;\n",
       "        if (!display || display === 'none') {{\n",
       "            console.log([gd, 'removed!']);\n",
       "            Plotly.purge(gd);\n",
       "            observer.disconnect();\n",
       "        }}\n",
       "}});\n",
       "\n",
       "// Listen for the removal of the full notebook cells\n",
       "var notebookContainer = gd.closest('#notebook-container');\n",
       "if (notebookContainer) {{\n",
       "    x.observe(notebookContainer, {childList: true});\n",
       "}}\n",
       "\n",
       "// Listen for the clearing of the current output cell\n",
       "var outputEl = gd.closest('.output');\n",
       "if (outputEl) {{\n",
       "    x.observe(outputEl, {childList: true});\n",
       "}}\n",
       "\n",
       "                        })                };                });            </script>        </div>"
      ]
     },
     "metadata": {},
     "output_type": "display_data"
    }
   ],
   "source": [
    "get_barraRegion(dataTotalRegion)"
   ]
  },
  {
   "cell_type": "code",
   "execution_count": 11,
   "id": "5f2da3c2-4cfa-442f-addb-550452679776",
   "metadata": {},
   "outputs": [
    {
     "data": {
      "text/html": [
       "<div>\n",
       "<style scoped>\n",
       "    .dataframe tbody tr th:only-of-type {\n",
       "        vertical-align: middle;\n",
       "    }\n",
       "\n",
       "    .dataframe tbody tr th {\n",
       "        vertical-align: top;\n",
       "    }\n",
       "\n",
       "    .dataframe thead th {\n",
       "        text-align: right;\n",
       "    }\n",
       "</style>\n",
       "<table border=\"1\" class=\"dataframe\">\n",
       "  <thead>\n",
       "    <tr style=\"text-align: right;\">\n",
       "      <th></th>\n",
       "      <th>Region</th>\n",
       "      <th>CasosTotales</th>\n",
       "      <th>totalConfirmados</th>\n",
       "      <th>Fallecidos</th>\n",
       "    </tr>\n",
       "  </thead>\n",
       "  <tbody>\n",
       "    <tr>\n",
       "      <th>6</th>\n",
       "      <td>Metropolitana</td>\n",
       "      <td>1651507</td>\n",
       "      <td>23040</td>\n",
       "      <td>6143</td>\n",
       "    </tr>\n",
       "    <tr>\n",
       "      <th>10</th>\n",
       "      <td>Biobío</td>\n",
       "      <td>409953</td>\n",
       "      <td>3724</td>\n",
       "      <td>684</td>\n",
       "    </tr>\n",
       "    <tr>\n",
       "      <th>5</th>\n",
       "      <td>Valparaíso</td>\n",
       "      <td>394438</td>\n",
       "      <td>4694</td>\n",
       "      <td>1222</td>\n",
       "    </tr>\n",
       "    <tr>\n",
       "      <th>8</th>\n",
       "      <td>Maule</td>\n",
       "      <td>275967</td>\n",
       "      <td>2515</td>\n",
       "      <td>504</td>\n",
       "    </tr>\n",
       "    <tr>\n",
       "      <th>11</th>\n",
       "      <td>Araucanía</td>\n",
       "      <td>240511</td>\n",
       "      <td>2060</td>\n",
       "      <td>574</td>\n",
       "    </tr>\n",
       "    <tr>\n",
       "      <th>13</th>\n",
       "      <td>Los Lagos</td>\n",
       "      <td>209911</td>\n",
       "      <td>1995</td>\n",
       "      <td>374</td>\n",
       "    </tr>\n",
       "    <tr>\n",
       "      <th>7</th>\n",
       "      <td>O’Higgins</td>\n",
       "      <td>180813</td>\n",
       "      <td>2044</td>\n",
       "      <td>571</td>\n",
       "    </tr>\n",
       "    <tr>\n",
       "      <th>4</th>\n",
       "      <td>Coquimbo</td>\n",
       "      <td>166397</td>\n",
       "      <td>1466</td>\n",
       "      <td>296</td>\n",
       "    </tr>\n",
       "    <tr>\n",
       "      <th>2</th>\n",
       "      <td>Antofagasta</td>\n",
       "      <td>150965</td>\n",
       "      <td>1531</td>\n",
       "      <td>292</td>\n",
       "    </tr>\n",
       "    <tr>\n",
       "      <th>9</th>\n",
       "      <td>Ñuble</td>\n",
       "      <td>118568</td>\n",
       "      <td>955</td>\n",
       "      <td>194</td>\n",
       "    </tr>\n",
       "    <tr>\n",
       "      <th>12</th>\n",
       "      <td>Los Ríos</td>\n",
       "      <td>118429</td>\n",
       "      <td>1032</td>\n",
       "      <td>229</td>\n",
       "    </tr>\n",
       "    <tr>\n",
       "      <th>1</th>\n",
       "      <td>Tarapacá</td>\n",
       "      <td>92074</td>\n",
       "      <td>986</td>\n",
       "      <td>118</td>\n",
       "    </tr>\n",
       "    <tr>\n",
       "      <th>3</th>\n",
       "      <td>Atacama</td>\n",
       "      <td>90432</td>\n",
       "      <td>527</td>\n",
       "      <td>116</td>\n",
       "    </tr>\n",
       "    <tr>\n",
       "      <th>0</th>\n",
       "      <td>Arica y Parinacota</td>\n",
       "      <td>65871</td>\n",
       "      <td>684</td>\n",
       "      <td>142</td>\n",
       "    </tr>\n",
       "    <tr>\n",
       "      <th>15</th>\n",
       "      <td>Magallanes</td>\n",
       "      <td>58573</td>\n",
       "      <td>623</td>\n",
       "      <td>104</td>\n",
       "    </tr>\n",
       "    <tr>\n",
       "      <th>14</th>\n",
       "      <td>Aysén</td>\n",
       "      <td>28604</td>\n",
       "      <td>161</td>\n",
       "      <td>27</td>\n",
       "    </tr>\n",
       "    <tr>\n",
       "      <th>16</th>\n",
       "      <td>Se desconoce región de origen</td>\n",
       "      <td>43</td>\n",
       "      <td>0</td>\n",
       "      <td>2</td>\n",
       "    </tr>\n",
       "  </tbody>\n",
       "</table>\n",
       "</div>"
      ],
      "text/plain": [
       "                           Region  CasosTotales  totalConfirmados  Fallecidos\n",
       "6                   Metropolitana       1651507             23040        6143\n",
       "10                         Biobío        409953              3724         684\n",
       "5                      Valparaíso        394438              4694        1222\n",
       "8                           Maule        275967              2515         504\n",
       "11                      Araucanía        240511              2060         574\n",
       "13                      Los Lagos        209911              1995         374\n",
       "7                       O’Higgins        180813              2044         571\n",
       "4                        Coquimbo        166397              1466         296\n",
       "2                     Antofagasta        150965              1531         292\n",
       "9                           Ñuble        118568               955         194\n",
       "12                       Los Ríos        118429              1032         229\n",
       "1                        Tarapacá         92074               986         118\n",
       "3                         Atacama         90432               527         116\n",
       "0              Arica y Parinacota         65871               684         142\n",
       "15                     Magallanes         58573               623         104\n",
       "14                          Aysén         28604               161          27\n",
       "16  Se desconoce región de origen            43                 0           2"
      ]
     },
     "execution_count": 11,
     "metadata": {},
     "output_type": "execute_result"
    }
   ],
   "source": [
    "data.sort_values(by=['CasosTotales'], ascending=False)"
   ]
  },
  {
   "cell_type": "code",
   "execution_count": 70,
   "id": "8a2187b3-37ca-4cec-9f6d-824a5028d7e6",
   "metadata": {},
   "outputs": [
    {
     "data": {
      "text/html": [
       "<div>\n",
       "<style scoped>\n",
       "    .dataframe tbody tr th:only-of-type {\n",
       "        vertical-align: middle;\n",
       "    }\n",
       "\n",
       "    .dataframe tbody tr th {\n",
       "        vertical-align: top;\n",
       "    }\n",
       "\n",
       "    .dataframe thead th {\n",
       "        text-align: right;\n",
       "    }\n",
       "</style>\n",
       "<table border=\"1\" class=\"dataframe\">\n",
       "  <thead>\n",
       "    <tr style=\"text-align: right;\">\n",
       "      <th></th>\n",
       "      <th>Fecha</th>\n",
       "      <th>Casos nuevos con sintomas</th>\n",
       "      <th>Casos totales</th>\n",
       "      <th>Casos recuperados</th>\n",
       "      <th>Fallecidos</th>\n",
       "      <th>Casos activos</th>\n",
       "      <th>Casos nuevos sin sintomas</th>\n",
       "      <th>Casos nuevos totales</th>\n",
       "      <th>Casos activos por FD</th>\n",
       "      <th>Casos activos por FIS</th>\n",
       "      <th>...</th>\n",
       "      <th>Casos confirmados recuperados</th>\n",
       "      <th>Casos activos confirmados</th>\n",
       "      <th>Casos probables acumulados</th>\n",
       "      <th>Casos activos probables</th>\n",
       "      <th>Casos nuevos sin notificar</th>\n",
       "      <th>Casos confirmados por antigeno</th>\n",
       "      <th>Casos con sospecha de reinfeccion</th>\n",
       "      <th>Casos nuevos confirmados por antigeno</th>\n",
       "      <th>Fallecidos confirmados totales</th>\n",
       "      <th>Fallecidos sospechosos probables u otros totales</th>\n",
       "    </tr>\n",
       "  </thead>\n",
       "  <tbody>\n",
       "    <tr>\n",
       "      <th>0</th>\n",
       "      <td>2020-03-02</td>\n",
       "      <td>1.0</td>\n",
       "      <td>1.0</td>\n",
       "      <td>0.0</td>\n",
       "      <td>0.0</td>\n",
       "      <td>1.0</td>\n",
       "      <td>NaN</td>\n",
       "      <td>1.0</td>\n",
       "      <td>1.0</td>\n",
       "      <td>NaN</td>\n",
       "      <td>...</td>\n",
       "      <td>NaN</td>\n",
       "      <td>NaN</td>\n",
       "      <td>NaN</td>\n",
       "      <td>NaN</td>\n",
       "      <td>NaN</td>\n",
       "      <td>NaN</td>\n",
       "      <td>NaN</td>\n",
       "      <td>NaN</td>\n",
       "      <td>NaN</td>\n",
       "      <td>NaN</td>\n",
       "    </tr>\n",
       "    <tr>\n",
       "      <th>1</th>\n",
       "      <td>2020-03-03</td>\n",
       "      <td>0.0</td>\n",
       "      <td>1.0</td>\n",
       "      <td>0.0</td>\n",
       "      <td>0.0</td>\n",
       "      <td>1.0</td>\n",
       "      <td>NaN</td>\n",
       "      <td>0.0</td>\n",
       "      <td>1.0</td>\n",
       "      <td>NaN</td>\n",
       "      <td>...</td>\n",
       "      <td>NaN</td>\n",
       "      <td>NaN</td>\n",
       "      <td>NaN</td>\n",
       "      <td>NaN</td>\n",
       "      <td>NaN</td>\n",
       "      <td>NaN</td>\n",
       "      <td>NaN</td>\n",
       "      <td>NaN</td>\n",
       "      <td>NaN</td>\n",
       "      <td>NaN</td>\n",
       "    </tr>\n",
       "    <tr>\n",
       "      <th>2</th>\n",
       "      <td>2020-03-04</td>\n",
       "      <td>2.0</td>\n",
       "      <td>3.0</td>\n",
       "      <td>0.0</td>\n",
       "      <td>0.0</td>\n",
       "      <td>3.0</td>\n",
       "      <td>NaN</td>\n",
       "      <td>2.0</td>\n",
       "      <td>3.0</td>\n",
       "      <td>NaN</td>\n",
       "      <td>...</td>\n",
       "      <td>NaN</td>\n",
       "      <td>NaN</td>\n",
       "      <td>NaN</td>\n",
       "      <td>NaN</td>\n",
       "      <td>NaN</td>\n",
       "      <td>NaN</td>\n",
       "      <td>NaN</td>\n",
       "      <td>NaN</td>\n",
       "      <td>NaN</td>\n",
       "      <td>NaN</td>\n",
       "    </tr>\n",
       "    <tr>\n",
       "      <th>3</th>\n",
       "      <td>2020-03-05</td>\n",
       "      <td>1.0</td>\n",
       "      <td>4.0</td>\n",
       "      <td>0.0</td>\n",
       "      <td>0.0</td>\n",
       "      <td>4.0</td>\n",
       "      <td>NaN</td>\n",
       "      <td>1.0</td>\n",
       "      <td>4.0</td>\n",
       "      <td>NaN</td>\n",
       "      <td>...</td>\n",
       "      <td>NaN</td>\n",
       "      <td>NaN</td>\n",
       "      <td>NaN</td>\n",
       "      <td>NaN</td>\n",
       "      <td>NaN</td>\n",
       "      <td>NaN</td>\n",
       "      <td>NaN</td>\n",
       "      <td>NaN</td>\n",
       "      <td>NaN</td>\n",
       "      <td>NaN</td>\n",
       "    </tr>\n",
       "    <tr>\n",
       "      <th>4</th>\n",
       "      <td>2020-03-06</td>\n",
       "      <td>1.0</td>\n",
       "      <td>5.0</td>\n",
       "      <td>0.0</td>\n",
       "      <td>0.0</td>\n",
       "      <td>5.0</td>\n",
       "      <td>NaN</td>\n",
       "      <td>1.0</td>\n",
       "      <td>5.0</td>\n",
       "      <td>NaN</td>\n",
       "      <td>...</td>\n",
       "      <td>NaN</td>\n",
       "      <td>NaN</td>\n",
       "      <td>NaN</td>\n",
       "      <td>NaN</td>\n",
       "      <td>NaN</td>\n",
       "      <td>NaN</td>\n",
       "      <td>NaN</td>\n",
       "      <td>NaN</td>\n",
       "      <td>NaN</td>\n",
       "      <td>NaN</td>\n",
       "    </tr>\n",
       "    <tr>\n",
       "      <th>...</th>\n",
       "      <td>...</td>\n",
       "      <td>...</td>\n",
       "      <td>...</td>\n",
       "      <td>...</td>\n",
       "      <td>...</td>\n",
       "      <td>...</td>\n",
       "      <td>...</td>\n",
       "      <td>...</td>\n",
       "      <td>...</td>\n",
       "      <td>...</td>\n",
       "      <td>...</td>\n",
       "      <td>...</td>\n",
       "      <td>...</td>\n",
       "      <td>...</td>\n",
       "      <td>...</td>\n",
       "      <td>...</td>\n",
       "      <td>...</td>\n",
       "      <td>...</td>\n",
       "      <td>...</td>\n",
       "      <td>...</td>\n",
       "      <td>...</td>\n",
       "    </tr>\n",
       "    <tr>\n",
       "      <th>895</th>\n",
       "      <td>2022-08-14</td>\n",
       "      <td>5592.0</td>\n",
       "      <td>4380148.0</td>\n",
       "      <td>NaN</td>\n",
       "      <td>59989.0</td>\n",
       "      <td>50762.0</td>\n",
       "      <td>1979.0</td>\n",
       "      <td>10282.0</td>\n",
       "      <td>138602.0</td>\n",
       "      <td>50762.0</td>\n",
       "      <td>...</td>\n",
       "      <td>4263235.0</td>\n",
       "      <td>50762.0</td>\n",
       "      <td>353854.0</td>\n",
       "      <td>15.0</td>\n",
       "      <td>2711.0</td>\n",
       "      <td>880869.0</td>\n",
       "      <td>36011.0</td>\n",
       "      <td>3744.0</td>\n",
       "      <td>48386.0</td>\n",
       "      <td>11603.0</td>\n",
       "    </tr>\n",
       "    <tr>\n",
       "      <th>896</th>\n",
       "      <td>2022-08-15</td>\n",
       "      <td>3796.0</td>\n",
       "      <td>4387731.0</td>\n",
       "      <td>NaN</td>\n",
       "      <td>60023.0</td>\n",
       "      <td>49853.0</td>\n",
       "      <td>1087.0</td>\n",
       "      <td>7267.0</td>\n",
       "      <td>139683.0</td>\n",
       "      <td>49853.0</td>\n",
       "      <td>...</td>\n",
       "      <td>4271616.0</td>\n",
       "      <td>49853.0</td>\n",
       "      <td>353852.0</td>\n",
       "      <td>15.0</td>\n",
       "      <td>2384.0</td>\n",
       "      <td>883277.0</td>\n",
       "      <td>36145.0</td>\n",
       "      <td>2393.0</td>\n",
       "      <td>48419.0</td>\n",
       "      <td>11604.0</td>\n",
       "    </tr>\n",
       "    <tr>\n",
       "      <th>897</th>\n",
       "      <td>2022-08-16</td>\n",
       "      <td>3158.0</td>\n",
       "      <td>4393244.0</td>\n",
       "      <td>NaN</td>\n",
       "      <td>60028.0</td>\n",
       "      <td>41629.0</td>\n",
       "      <td>664.0</td>\n",
       "      <td>5132.0</td>\n",
       "      <td>140188.0</td>\n",
       "      <td>41629.0</td>\n",
       "      <td>...</td>\n",
       "      <td>4285320.0</td>\n",
       "      <td>41629.0</td>\n",
       "      <td>353855.0</td>\n",
       "      <td>16.0</td>\n",
       "      <td>1310.0</td>\n",
       "      <td>885470.0</td>\n",
       "      <td>36251.0</td>\n",
       "      <td>2177.0</td>\n",
       "      <td>48424.0</td>\n",
       "      <td>11604.0</td>\n",
       "    </tr>\n",
       "    <tr>\n",
       "      <th>898</th>\n",
       "      <td>2022-08-17</td>\n",
       "      <td>4059.0</td>\n",
       "      <td>4399408.0</td>\n",
       "      <td>NaN</td>\n",
       "      <td>60036.0</td>\n",
       "      <td>36004.0</td>\n",
       "      <td>659.0</td>\n",
       "      <td>6065.0</td>\n",
       "      <td>136492.0</td>\n",
       "      <td>36004.0</td>\n",
       "      <td>...</td>\n",
       "      <td>4297069.0</td>\n",
       "      <td>36004.0</td>\n",
       "      <td>353857.0</td>\n",
       "      <td>16.0</td>\n",
       "      <td>1347.0</td>\n",
       "      <td>888400.0</td>\n",
       "      <td>36354.0</td>\n",
       "      <td>2918.0</td>\n",
       "      <td>48431.0</td>\n",
       "      <td>11605.0</td>\n",
       "    </tr>\n",
       "    <tr>\n",
       "      <th>899</th>\n",
       "      <td>2022-08-18</td>\n",
       "      <td>6135.0</td>\n",
       "      <td>4409873.0</td>\n",
       "      <td>NaN</td>\n",
       "      <td>60043.0</td>\n",
       "      <td>35327.0</td>\n",
       "      <td>1560.0</td>\n",
       "      <td>10161.0</td>\n",
       "      <td>135260.0</td>\n",
       "      <td>35327.0</td>\n",
       "      <td>...</td>\n",
       "      <td>4308177.0</td>\n",
       "      <td>35327.0</td>\n",
       "      <td>353859.0</td>\n",
       "      <td>15.0</td>\n",
       "      <td>2466.0</td>\n",
       "      <td>893397.0</td>\n",
       "      <td>36606.0</td>\n",
       "      <td>4982.0</td>\n",
       "      <td>48437.0</td>\n",
       "      <td>11606.0</td>\n",
       "    </tr>\n",
       "  </tbody>\n",
       "</table>\n",
       "<p>900 rows × 22 columns</p>\n",
       "</div>"
      ],
      "text/plain": [
       "          Fecha  Casos nuevos con sintomas  Casos totales  Casos recuperados  \\\n",
       "0    2020-03-02                        1.0            1.0                0.0   \n",
       "1    2020-03-03                        0.0            1.0                0.0   \n",
       "2    2020-03-04                        2.0            3.0                0.0   \n",
       "3    2020-03-05                        1.0            4.0                0.0   \n",
       "4    2020-03-06                        1.0            5.0                0.0   \n",
       "..          ...                        ...            ...                ...   \n",
       "895  2022-08-14                     5592.0      4380148.0                NaN   \n",
       "896  2022-08-15                     3796.0      4387731.0                NaN   \n",
       "897  2022-08-16                     3158.0      4393244.0                NaN   \n",
       "898  2022-08-17                     4059.0      4399408.0                NaN   \n",
       "899  2022-08-18                     6135.0      4409873.0                NaN   \n",
       "\n",
       "     Fallecidos  Casos activos  Casos nuevos sin sintomas  \\\n",
       "0           0.0            1.0                        NaN   \n",
       "1           0.0            1.0                        NaN   \n",
       "2           0.0            3.0                        NaN   \n",
       "3           0.0            4.0                        NaN   \n",
       "4           0.0            5.0                        NaN   \n",
       "..          ...            ...                        ...   \n",
       "895     59989.0        50762.0                     1979.0   \n",
       "896     60023.0        49853.0                     1087.0   \n",
       "897     60028.0        41629.0                      664.0   \n",
       "898     60036.0        36004.0                      659.0   \n",
       "899     60043.0        35327.0                     1560.0   \n",
       "\n",
       "     Casos nuevos totales  Casos activos por FD  Casos activos por FIS  ...  \\\n",
       "0                     1.0                   1.0                    NaN  ...   \n",
       "1                     0.0                   1.0                    NaN  ...   \n",
       "2                     2.0                   3.0                    NaN  ...   \n",
       "3                     1.0                   4.0                    NaN  ...   \n",
       "4                     1.0                   5.0                    NaN  ...   \n",
       "..                    ...                   ...                    ...  ...   \n",
       "895               10282.0              138602.0                50762.0  ...   \n",
       "896                7267.0              139683.0                49853.0  ...   \n",
       "897                5132.0              140188.0                41629.0  ...   \n",
       "898                6065.0              136492.0                36004.0  ...   \n",
       "899               10161.0              135260.0                35327.0  ...   \n",
       "\n",
       "     Casos confirmados recuperados  Casos activos confirmados  \\\n",
       "0                              NaN                        NaN   \n",
       "1                              NaN                        NaN   \n",
       "2                              NaN                        NaN   \n",
       "3                              NaN                        NaN   \n",
       "4                              NaN                        NaN   \n",
       "..                             ...                        ...   \n",
       "895                      4263235.0                    50762.0   \n",
       "896                      4271616.0                    49853.0   \n",
       "897                      4285320.0                    41629.0   \n",
       "898                      4297069.0                    36004.0   \n",
       "899                      4308177.0                    35327.0   \n",
       "\n",
       "     Casos probables acumulados  Casos activos probables  \\\n",
       "0                           NaN                      NaN   \n",
       "1                           NaN                      NaN   \n",
       "2                           NaN                      NaN   \n",
       "3                           NaN                      NaN   \n",
       "4                           NaN                      NaN   \n",
       "..                          ...                      ...   \n",
       "895                    353854.0                     15.0   \n",
       "896                    353852.0                     15.0   \n",
       "897                    353855.0                     16.0   \n",
       "898                    353857.0                     16.0   \n",
       "899                    353859.0                     15.0   \n",
       "\n",
       "     Casos nuevos sin notificar  Casos confirmados por antigeno  \\\n",
       "0                           NaN                             NaN   \n",
       "1                           NaN                             NaN   \n",
       "2                           NaN                             NaN   \n",
       "3                           NaN                             NaN   \n",
       "4                           NaN                             NaN   \n",
       "..                          ...                             ...   \n",
       "895                      2711.0                        880869.0   \n",
       "896                      2384.0                        883277.0   \n",
       "897                      1310.0                        885470.0   \n",
       "898                      1347.0                        888400.0   \n",
       "899                      2466.0                        893397.0   \n",
       "\n",
       "     Casos con sospecha de reinfeccion  Casos nuevos confirmados por antigeno  \\\n",
       "0                                  NaN                                    NaN   \n",
       "1                                  NaN                                    NaN   \n",
       "2                                  NaN                                    NaN   \n",
       "3                                  NaN                                    NaN   \n",
       "4                                  NaN                                    NaN   \n",
       "..                                 ...                                    ...   \n",
       "895                            36011.0                                 3744.0   \n",
       "896                            36145.0                                 2393.0   \n",
       "897                            36251.0                                 2177.0   \n",
       "898                            36354.0                                 2918.0   \n",
       "899                            36606.0                                 4982.0   \n",
       "\n",
       "     Fallecidos confirmados totales  \\\n",
       "0                               NaN   \n",
       "1                               NaN   \n",
       "2                               NaN   \n",
       "3                               NaN   \n",
       "4                               NaN   \n",
       "..                              ...   \n",
       "895                         48386.0   \n",
       "896                         48419.0   \n",
       "897                         48424.0   \n",
       "898                         48431.0   \n",
       "899                         48437.0   \n",
       "\n",
       "     Fallecidos sospechosos probables u otros totales  \n",
       "0                                                 NaN  \n",
       "1                                                 NaN  \n",
       "2                                                 NaN  \n",
       "3                                                 NaN  \n",
       "4                                                 NaN  \n",
       "..                                                ...  \n",
       "895                                           11603.0  \n",
       "896                                           11604.0  \n",
       "897                                           11604.0  \n",
       "898                                           11605.0  \n",
       "899                                           11606.0  \n",
       "\n",
       "[900 rows x 22 columns]"
      ]
     },
     "execution_count": 70,
     "metadata": {},
     "output_type": "execute_result"
    }
   ],
   "source": [
    "dataTotal = pd.read_csv(\"https://raw.githubusercontent.com/MinCiencia/Datos-COVID19/master/output/producto5/TotalesNacionales_T.csv\")\n",
    "dataTotal"
   ]
  },
  {
   "cell_type": "code",
   "execution_count": 84,
   "id": "5b1efeef-318b-49bc-af5c-d1753383650f",
   "metadata": {},
   "outputs": [],
   "source": [
    "def get_linetotal(data):\n",
    "    fig = px.line(data, x=\"Fecha\", y=\"Casos activos\", title='Casos Totales Acumulados',color_discrete_sequence = ['red'])\n",
    "    return fig"
   ]
  },
  {
   "cell_type": "code",
   "execution_count": 85,
   "id": "1432dada-563f-43e1-ab80-c083890a3ba8",
   "metadata": {},
   "outputs": [
    {
     "data": {
      "application/vnd.plotly.v1+json": {
       "config": {
        "plotlyServerURL": "https://plot.ly"
       },
       "data": [
        {
         "hovertemplate": "Fecha=%{x}<br>Casos activos=%{y}<extra></extra>",
         "legendgroup": "",
         "line": {
          "color": "red",
          "dash": "solid"
         },
         "marker": {
          "symbol": "circle"
         },
         "mode": "lines",
         "name": "",
         "orientation": "v",
         "showlegend": false,
         "type": "scatter",
         "x": [
          "2020-03-02",
          "2020-03-03",
          "2020-03-04",
          "2020-03-05",
          "2020-03-06",
          "2020-03-07",
          "2020-03-08",
          "2020-03-09",
          "2020-03-10",
          "2020-03-11",
          "2020-03-12",
          "2020-03-13",
          "2020-03-14",
          "2020-03-15",
          "2020-03-16",
          "2020-03-17",
          "2020-03-18",
          "2020-03-19",
          "2020-03-20",
          "2020-03-21",
          "2020-03-22",
          "2020-03-23",
          "2020-03-24",
          "2020-03-25",
          "2020-03-26",
          "2020-03-27",
          "2020-03-28",
          "2020-03-29",
          "2020-03-30",
          "2020-03-31",
          "2020-04-01",
          "2020-04-02",
          "2020-04-03",
          "2020-04-04",
          "2020-04-05",
          "2020-04-06",
          "2020-04-07",
          "2020-04-08",
          "2020-04-09",
          "2020-04-10",
          "2020-04-11",
          "2020-04-12",
          "2020-04-13",
          "2020-04-14",
          "2020-04-15",
          "2020-04-16",
          "2020-04-17",
          "2020-04-18",
          "2020-04-19",
          "2020-04-20",
          "2020-04-21",
          "2020-04-22",
          "2020-04-23",
          "2020-04-24",
          "2020-04-25",
          "2020-04-26",
          "2020-04-27",
          "2020-04-28",
          "2020-04-29",
          "2020-04-30",
          "2020-05-01",
          "2020-05-02",
          "2020-05-03",
          "2020-05-04",
          "2020-05-05",
          "2020-05-06",
          "2020-05-07",
          "2020-05-08",
          "2020-05-09",
          "2020-05-10",
          "2020-05-11",
          "2020-05-12",
          "2020-05-13",
          "2020-05-14",
          "2020-05-15",
          "2020-05-16",
          "2020-05-17",
          "2020-05-18",
          "2020-05-19",
          "2020-05-20",
          "2020-05-21",
          "2020-05-22",
          "2020-05-23",
          "2020-05-24",
          "2020-05-25",
          "2020-05-26",
          "2020-05-27",
          "2020-05-28",
          "2020-05-29",
          "2020-05-30",
          "2020-05-31",
          "2020-06-01",
          "2020-06-02",
          "2020-06-03",
          "2020-06-04",
          "2020-06-05",
          "2020-06-06",
          "2020-06-07",
          "2020-06-08",
          "2020-06-09",
          "2020-06-10",
          "2020-06-11",
          "2020-06-12",
          "2020-06-13",
          "2020-06-14",
          "2020-06-15",
          "2020-06-16",
          "2020-06-17",
          "2020-06-18",
          "2020-06-19",
          "2020-06-20",
          "2020-06-21",
          "2020-06-22",
          "2020-06-23",
          "2020-06-24",
          "2020-06-25",
          "2020-06-26",
          "2020-06-27",
          "2020-06-28",
          "2020-06-29",
          "2020-06-30",
          "2020-07-01",
          "2020-07-02",
          "2020-07-03",
          "2020-07-04",
          "2020-07-05",
          "2020-07-06",
          "2020-07-07",
          "2020-07-08",
          "2020-07-09",
          "2020-07-10",
          "2020-07-11",
          "2020-07-12",
          "2020-07-13",
          "2020-07-14",
          "2020-07-15",
          "2020-07-16",
          "2020-07-17",
          "2020-07-18",
          "2020-07-19",
          "2020-07-20",
          "2020-07-21",
          "2020-07-22",
          "2020-07-23",
          "2020-07-24",
          "2020-07-25",
          "2020-07-26",
          "2020-07-27",
          "2020-07-28",
          "2020-07-29",
          "2020-07-30",
          "2020-07-31",
          "2020-08-01",
          "2020-08-02",
          "2020-08-03",
          "2020-08-04",
          "2020-08-05",
          "2020-08-06",
          "2020-08-07",
          "2020-08-08",
          "2020-08-09",
          "2020-08-10",
          "2020-08-11",
          "2020-08-12",
          "2020-08-13",
          "2020-08-14",
          "2020-08-15",
          "2020-08-16",
          "2020-08-17",
          "2020-08-18",
          "2020-08-19",
          "2020-08-20",
          "2020-08-21",
          "2020-08-22",
          "2020-08-23",
          "2020-08-24",
          "2020-08-25",
          "2020-08-26",
          "2020-08-27",
          "2020-08-28",
          "2020-08-29",
          "2020-08-30",
          "2020-08-31",
          "2020-09-01",
          "2020-09-02",
          "2020-09-03",
          "2020-09-04",
          "2020-09-05",
          "2020-09-06",
          "2020-09-07",
          "2020-09-08",
          "2020-09-09",
          "2020-09-10",
          "2020-09-11",
          "2020-09-12",
          "2020-09-13",
          "2020-09-14",
          "2020-09-15",
          "2020-09-16",
          "2020-09-17",
          "2020-09-18",
          "2020-09-19",
          "2020-09-20",
          "2020-09-21",
          "2020-09-22",
          "2020-09-23",
          "2020-09-24",
          "2020-09-25",
          "2020-09-26",
          "2020-09-27",
          "2020-09-28",
          "2020-09-29",
          "2020-09-30",
          "2020-10-01",
          "2020-10-02",
          "2020-10-03",
          "2020-10-04",
          "2020-10-05",
          "2020-10-06",
          "2020-10-07",
          "2020-10-08",
          "2020-10-09",
          "2020-10-10",
          "2020-10-11",
          "2020-10-12",
          "2020-10-13",
          "2020-10-14",
          "2020-10-15",
          "2020-10-16",
          "2020-10-17",
          "2020-10-18",
          "2020-10-19",
          "2020-10-20",
          "2020-10-21",
          "2020-10-22",
          "2020-10-23",
          "2020-10-24",
          "2020-10-25",
          "2020-10-26",
          "2020-10-27",
          "2020-10-28",
          "2020-10-29",
          "2020-10-30",
          "2020-10-31",
          "2020-11-01",
          "2020-11-02",
          "2020-11-03",
          "2020-11-04",
          "2020-11-05",
          "2020-11-06",
          "2020-11-07",
          "2020-11-08",
          "2020-11-09",
          "2020-11-10",
          "2020-11-11",
          "2020-11-12",
          "2020-11-13",
          "2020-11-14",
          "2020-11-15",
          "2020-11-16",
          "2020-11-17",
          "2020-11-18",
          "2020-11-19",
          "2020-11-20",
          "2020-11-21",
          "2020-11-22",
          "2020-11-23",
          "2020-11-24",
          "2020-11-25",
          "2020-11-26",
          "2020-11-27",
          "2020-11-28",
          "2020-11-29",
          "2020-11-30",
          "2020-12-01",
          "2020-12-02",
          "2020-12-03",
          "2020-12-04",
          "2020-12-05",
          "2020-12-06",
          "2020-12-07",
          "2020-12-08",
          "2020-12-09",
          "2020-12-10",
          "2020-12-11",
          "2020-12-12",
          "2020-12-13",
          "2020-12-14",
          "2020-12-15",
          "2020-12-16",
          "2020-12-17",
          "2020-12-18",
          "2020-12-19",
          "2020-12-20",
          "2020-12-21",
          "2020-12-22",
          "2020-12-23",
          "2020-12-24",
          "2020-12-25",
          "2020-12-26",
          "2020-12-27",
          "2020-12-28",
          "2020-12-29",
          "2020-12-30",
          "2020-12-31",
          "2021-01-01",
          "2021-01-02",
          "2021-01-03",
          "2021-01-04",
          "2021-01-05",
          "2021-01-06",
          "2021-01-07",
          "2021-01-08",
          "2021-01-09",
          "2021-01-10",
          "2021-01-11",
          "2021-01-12",
          "2021-01-13",
          "2021-01-14",
          "2021-01-15",
          "2021-01-16",
          "2021-01-17",
          "2021-01-18",
          "2021-01-19",
          "2021-01-20",
          "2021-01-21",
          "2021-01-22",
          "2021-01-23",
          "2021-01-24",
          "2021-01-25",
          "2021-01-26",
          "2021-01-27",
          "2021-01-28",
          "2021-01-29",
          "2021-01-30",
          "2021-01-31",
          "2021-02-01",
          "2021-02-02",
          "2021-02-03",
          "2021-02-04",
          "2021-02-05",
          "2021-02-06",
          "2021-02-07",
          "2021-02-08",
          "2021-02-09",
          "2021-02-10",
          "2021-02-11",
          "2021-02-12",
          "2021-02-13",
          "2021-02-14",
          "2021-02-15",
          "2021-02-16",
          "2021-02-17",
          "2021-02-18",
          "2021-02-19",
          "2021-02-20",
          "2021-02-21",
          "2021-02-22",
          "2021-02-23",
          "2021-02-24",
          "2021-02-25",
          "2021-02-26",
          "2021-02-27",
          "2021-02-28",
          "2021-03-01",
          "2021-03-02",
          "2021-03-03",
          "2021-03-04",
          "2021-03-05",
          "2021-03-06",
          "2021-03-07",
          "2021-03-08",
          "2021-03-09",
          "2021-03-10",
          "2021-03-11",
          "2021-03-12",
          "2021-03-13",
          "2021-03-14",
          "2021-03-15",
          "2021-03-16",
          "2021-03-17",
          "2021-03-18",
          "2021-03-19",
          "2021-03-20",
          "2021-03-21",
          "2021-03-22",
          "2021-03-23",
          "2021-03-24",
          "2021-03-25",
          "2021-03-26",
          "2021-03-27",
          "2021-03-28",
          "2021-03-29",
          "2021-03-30",
          "2021-03-31",
          "2021-04-01",
          "2021-04-02",
          "2021-04-03",
          "2021-04-04",
          "2021-04-05",
          "2021-04-06",
          "2021-04-07",
          "2021-04-08",
          "2021-04-09",
          "2021-04-10",
          "2021-04-11",
          "2021-04-12",
          "2021-04-13",
          "2021-04-14",
          "2021-04-15",
          "2021-04-16",
          "2021-04-17",
          "2021-04-18",
          "2021-04-19",
          "2021-04-20",
          "2021-04-21",
          "2021-04-22",
          "2021-04-23",
          "2021-04-24",
          "2021-04-25",
          "2021-04-26",
          "2021-04-27",
          "2021-04-28",
          "2021-04-29",
          "2021-04-30",
          "2021-05-01",
          "2021-05-02",
          "2021-05-03",
          "2021-05-04",
          "2021-05-05",
          "2021-05-06",
          "2021-05-07",
          "2021-05-08",
          "2021-05-09",
          "2021-05-10",
          "2021-05-11",
          "2021-05-12",
          "2021-05-13",
          "2021-05-14",
          "2021-05-15",
          "2021-05-16",
          "2021-05-17",
          "2021-05-18",
          "2021-05-19",
          "2021-05-20",
          "2021-05-21",
          "2021-05-22",
          "2021-05-23",
          "2021-05-24",
          "2021-05-25",
          "2021-05-26",
          "2021-05-27",
          "2021-05-28",
          "2021-05-29",
          "2021-05-30",
          "2021-05-31",
          "2021-06-01",
          "2021-06-02",
          "2021-06-03",
          "2021-06-04",
          "2021-06-05",
          "2021-06-06",
          "2021-06-07",
          "2021-06-08",
          "2021-06-09",
          "2021-06-10",
          "2021-06-11",
          "2021-06-12",
          "2021-06-13",
          "2021-06-14",
          "2021-06-15",
          "2021-06-16",
          "2021-06-17",
          "2021-06-18",
          "2021-06-19",
          "2021-06-20",
          "2021-06-21",
          "2021-06-22",
          "2021-06-23",
          "2021-06-24",
          "2021-06-25",
          "2021-06-26",
          "2021-06-27",
          "2021-06-28",
          "2021-06-29",
          "2021-06-30",
          "2021-07-01",
          "2021-07-02",
          "2021-07-03",
          "2021-07-04",
          "2021-07-05",
          "2021-07-06",
          "2021-07-07",
          "2021-07-08",
          "2021-07-09",
          "2021-07-10",
          "2021-07-11",
          "2021-07-12",
          "2021-07-13",
          "2021-07-14",
          "2021-07-15",
          "2021-07-16",
          "2021-07-17",
          "2021-07-18",
          "2021-07-19",
          "2021-07-20",
          "2021-07-21",
          "2021-07-22",
          "2021-07-23",
          "2021-07-24",
          "2021-07-25",
          "2021-07-26",
          "2021-07-27",
          "2021-07-28",
          "2021-07-29",
          "2021-07-30",
          "2021-07-31",
          "2021-08-01",
          "2021-08-02",
          "2021-08-03",
          "2021-08-04",
          "2021-08-05",
          "2021-08-06",
          "2021-08-07",
          "2021-08-08",
          "2021-08-09",
          "2021-08-10",
          "2021-08-11",
          "2021-08-12",
          "2021-08-13",
          "2021-08-14",
          "2021-08-15",
          "2021-08-16",
          "2021-08-17",
          "2021-08-18",
          "2021-08-19",
          "2021-08-20",
          "2021-08-21",
          "2021-08-22",
          "2021-08-23",
          "2021-08-24",
          "2021-08-25",
          "2021-08-26",
          "2021-08-27",
          "2021-08-28",
          "2021-08-29",
          "2021-08-30",
          "2021-08-31",
          "2021-09-01",
          "2021-09-02",
          "2021-09-03",
          "2021-09-04",
          "2021-09-05",
          "2021-09-06",
          "2021-09-07",
          "2021-09-08",
          "2021-09-09",
          "2021-09-10",
          "2021-09-11",
          "2021-09-12",
          "2021-09-13",
          "2021-09-14",
          "2021-09-15",
          "2021-09-16",
          "2021-09-17",
          "2021-09-18",
          "2021-09-19",
          "2021-09-20",
          "2021-09-21",
          "2021-09-22",
          "2021-09-23",
          "2021-09-24",
          "2021-09-25",
          "2021-09-26",
          "2021-09-27",
          "2021-09-28",
          "2021-09-29",
          "2021-09-30",
          "2021-10-01",
          "2021-10-02",
          "2021-10-03",
          "2021-10-04",
          "2021-10-05",
          "2021-10-06",
          "2021-10-07",
          "2021-10-08",
          "2021-10-09",
          "2021-10-10",
          "2021-10-11",
          "2021-10-12",
          "2021-10-13",
          "2021-10-14",
          "2021-10-15",
          "2021-10-16",
          "2021-10-17",
          "2021-10-18",
          "2021-10-19",
          "2021-10-20",
          "2021-10-21",
          "2021-10-22",
          "2021-10-23",
          "2021-10-24",
          "2021-10-25",
          "2021-10-26",
          "2021-10-27",
          "2021-10-28",
          "2021-10-29",
          "2021-10-30",
          "2021-10-31",
          "2021-11-01",
          "2021-11-02",
          "2021-11-03",
          "2021-11-04",
          "2021-11-05",
          "2021-11-06",
          "2021-11-07",
          "2021-11-08",
          "2021-11-09",
          "2021-11-10",
          "2021-11-11",
          "2021-11-12",
          "2021-11-13",
          "2021-11-14",
          "2021-11-15",
          "2021-11-16",
          "2021-11-17",
          "2021-11-18",
          "2021-11-19",
          "2021-11-20",
          "2021-11-21",
          "2021-11-22",
          "2021-11-23",
          "2021-11-24",
          "2021-11-25",
          "2021-11-26",
          "2021-11-27",
          "2021-11-28",
          "2021-11-29",
          "2021-11-30",
          "2021-12-01",
          "2021-12-02",
          "2021-12-03",
          "2021-12-04",
          "2021-12-05",
          "2021-12-06",
          "2021-12-07",
          "2021-12-08",
          "2021-12-09",
          "2021-12-10",
          "2021-12-11",
          "2021-12-12",
          "2021-12-13",
          "2021-12-14",
          "2021-12-15",
          "2021-12-16",
          "2021-12-17",
          "2021-12-18",
          "2021-12-19",
          "2021-12-20",
          "2021-12-21",
          "2021-12-22",
          "2021-12-23",
          "2021-12-24",
          "2021-12-25",
          "2021-12-26",
          "2021-12-27",
          "2021-12-28",
          "2021-12-29",
          "2021-12-30",
          "2021-12-31",
          "2022-01-01",
          "2022-01-02",
          "2022-01-03",
          "2022-01-04",
          "2022-01-05",
          "2022-01-06",
          "2022-01-07",
          "2022-01-08",
          "2022-01-09",
          "2022-01-10",
          "2022-01-11",
          "2022-01-12",
          "2022-01-13",
          "2022-01-14",
          "2022-01-15",
          "2022-01-16",
          "2022-01-17",
          "2022-01-18",
          "2022-01-19",
          "2022-01-20",
          "2022-01-21",
          "2022-01-22",
          "2022-01-23",
          "2022-01-24",
          "2022-01-25",
          "2022-01-26",
          "2022-01-27",
          "2022-01-28",
          "2022-01-29",
          "2022-01-30",
          "2022-01-31",
          "2022-02-01",
          "2022-02-02",
          "2022-02-03",
          "2022-02-04",
          "2022-02-05",
          "2022-02-06",
          "2022-02-07",
          "2022-02-08",
          "2022-02-09",
          "2022-02-10",
          "2022-02-11",
          "2022-02-12",
          "2022-02-13",
          "2022-02-14",
          "2022-02-15",
          "2022-02-16",
          "2022-02-17",
          "2022-02-18",
          "2022-02-19",
          "2022-02-20",
          "2022-02-21",
          "2022-02-22",
          "2022-02-23",
          "2022-02-24",
          "2022-02-25",
          "2022-02-26",
          "2022-02-27",
          "2022-02-28",
          "2022-03-01",
          "2022-03-02",
          "2022-03-03",
          "2022-03-04",
          "2022-03-05",
          "2022-03-06",
          "2022-03-07",
          "2022-03-08",
          "2022-03-09",
          "2022-03-10",
          "2022-03-11",
          "2022-03-12",
          "2022-03-13",
          "2022-03-14",
          "2022-03-15",
          "2022-03-16",
          "2022-03-17",
          "2022-03-18",
          "2022-03-19",
          "2022-03-20",
          "2022-03-21",
          "2022-03-22",
          "2022-03-23",
          "2022-03-24",
          "2022-03-25",
          "2022-03-26",
          "2022-03-27",
          "2022-03-28",
          "2022-03-29",
          "2022-03-30",
          "2022-03-31",
          "2022-04-01",
          "2022-04-02",
          "2022-04-03",
          "2022-04-04",
          "2022-04-05",
          "2022-04-06",
          "2022-04-07",
          "2022-04-08",
          "2022-04-09",
          "2022-04-10",
          "2022-04-11",
          "2022-04-12",
          "2022-04-13",
          "2022-04-14",
          "2022-04-15",
          "2022-04-16",
          "2022-04-17",
          "2022-04-18",
          "2022-04-19",
          "2022-04-20",
          "2022-04-21",
          "2022-04-22",
          "2022-04-23",
          "2022-04-24",
          "2022-04-25",
          "2022-04-26",
          "2022-04-27",
          "2022-04-28",
          "2022-04-29",
          "2022-04-30",
          "2022-05-01",
          "2022-05-02",
          "2022-05-03",
          "2022-05-04",
          "2022-05-05",
          "2022-05-06",
          "2022-05-07",
          "2022-05-08",
          "2022-05-09",
          "2022-05-10",
          "2022-05-11",
          "2022-05-12",
          "2022-05-13",
          "2022-05-14",
          "2022-05-15",
          "2022-05-16",
          "2022-05-17",
          "2022-05-18",
          "2022-05-19",
          "2022-05-20",
          "2022-05-21",
          "2022-05-22",
          "2022-05-23",
          "2022-05-24",
          "2022-05-25",
          "2022-05-26",
          "2022-05-27",
          "2022-05-28",
          "2022-05-29",
          "2022-05-30",
          "2022-05-31",
          "2022-06-01",
          "2022-06-02",
          "2022-06-03",
          "2022-06-04",
          "2022-06-05",
          "2022-06-06",
          "2022-06-07",
          "2022-06-08",
          "2022-06-09",
          "2022-06-10",
          "2022-06-11",
          "2022-06-12",
          "2022-06-13",
          "2022-06-14",
          "2022-06-15",
          "2022-06-16",
          "2022-06-17",
          "2022-06-18",
          "2022-06-19",
          "2022-06-20",
          "2022-06-21",
          "2022-06-22",
          "2022-06-23",
          "2022-06-24",
          "2022-06-25",
          "2022-06-26",
          "2022-06-27",
          "2022-06-28",
          "2022-06-29",
          "2022-06-30",
          "2022-07-01",
          "2022-07-02",
          "2022-07-03",
          "2022-07-04",
          "2022-07-05",
          "2022-07-06",
          "2022-07-07",
          "2022-07-08",
          "2022-07-09",
          "2022-07-10",
          "2022-07-11",
          "2022-07-12",
          "2022-07-13",
          "2022-07-14",
          "2022-07-15",
          "2022-07-16",
          "2022-07-17",
          "2022-07-18",
          "2022-07-19",
          "2022-07-20",
          "2022-07-21",
          "2022-07-22",
          "2022-07-23",
          "2022-07-24",
          "2022-07-25",
          "2022-07-26",
          "2022-07-27",
          "2022-07-28",
          "2022-07-29",
          "2022-07-30",
          "2022-07-31",
          "2022-08-01",
          "2022-08-02",
          "2022-08-03",
          "2022-08-04",
          "2022-08-05",
          "2022-08-06",
          "2022-08-07",
          "2022-08-08",
          "2022-08-09",
          "2022-08-10",
          "2022-08-11",
          "2022-08-12",
          "2022-08-13",
          "2022-08-14",
          "2022-08-15",
          "2022-08-16",
          "2022-08-17",
          "2022-08-18"
         ],
         "xaxis": "x",
         "y": [
          1,
          1,
          3,
          4,
          5,
          7,
          10,
          15,
          17,
          23,
          33,
          43,
          61,
          75,
          156,
          200,
          235,
          338,
          429,
          531,
          623,
          734,
          903,
          1117,
          1269,
          1562,
          1842,
          2057,
          2285,
          2525,
          2781,
          3051,
          3288,
          3606,
          3820,
          4050,
          4175,
          4383,
          4641,
          4865,
          4990,
          5074,
          5076,
          5179,
          5242,
          5403,
          5515,
          5569,
          5617,
          5692,
          5716,
          5750,
          5840,
          5805,
          5931,
          6118,
          6288,
          6448,
          6862,
          7216,
          7756,
          8616,
          9362,
          9958,
          11031,
          11578,
          12632,
          13518,
          14248,
          15442,
          16135,
          17261,
          19170,
          21017,
          22534,
          22993,
          24118,
          25416,
          27563,
          30569,
          33000,
          35885,
          38174,
          40236,
          43934,
          46240,
          47908,
          49938,
          51096,
          53430,
          55907,
          59100,
          null,
          null,
          null,
          null,
          null,
          null,
          null,
          null,
          null,
          null,
          null,
          null,
          null,
          null,
          null,
          null,
          null,
          null,
          null,
          37307,
          37064,
          35692,
          34592,
          34834,
          34861,
          34364,
          34263,
          34270,
          32476,
          30847,
          29374,
          28695,
          28210,
          28194,
          27804,
          26340,
          24807,
          24612,
          24440,
          24008,
          24166,
          24077,
          23205,
          21934,
          21107,
          21378,
          20952,
          20633,
          20404,
          19190,
          18439,
          18490,
          18694,
          18403,
          18583,
          18782,
          18228,
          17740,
          17531,
          17883,
          17621,
          17712,
          17810,
          16887,
          16640,
          16614,
          16699,
          16880,
          17153,
          17563,
          16897,
          16544,
          16604,
          16734,
          16556,
          16666,
          16604,
          15869,
          15174,
          15116,
          15149,
          15186,
          15634,
          16188,
          15564,
          15107,
          15108,
          15388,
          15645,
          16146,
          16558,
          16034,
          15712,
          15670,
          15727,
          15916,
          16519,
          16905,
          16129,
          15770,
          15532,
          15621,
          15852,
          16473,
          16695,
          15999,
          15377,
          15080,
          14647,
          14319,
          14242,
          14059,
          13026,
          12393,
          12289,
          12761,
          13129,
          13556,
          13957,
          13781,
          13661,
          13780,
          14116,
          14671,
          15130,
          15256,
          14818,
          14297,
          14139,
          14252,
          14269,
          14701,
          15025,
          14385,
          13884,
          13526,
          13564,
          13703,
          14182,
          14608,
          14049,
          13565,
          13490,
          13635,
          9990,
          9784,
          9634,
          9035,
          8507,
          8925,
          9176,
          9121,
          9164,
          9074,
          8776,
          8266,
          8640,
          9346,
          9334,
          9311,
          9094,
          8861,
          8451,
          8968,
          9454,
          9358,
          9455,
          9374,
          9025,
          8592,
          8880,
          9351,
          9224,
          9145,
          9144,
          8816,
          8468,
          8872,
          9379,
          9519,
          9554,
          9418,
          9089,
          8647,
          9104,
          9719,
          9509,
          9646,
          9892,
          9806,
          9596,
          10057,
          10526,
          10530,
          10887,
          11035,
          10864,
          10594,
          11199,
          12468,
          12591,
          13105,
          13047,
          12794,
          12561,
          13214,
          14133,
          14275,
          13745,
          13572,
          13477,
          13514,
          14638,
          16355,
          16870,
          16620,
          16626,
          16885,
          17239,
          18679,
          20259,
          20749,
          21613,
          22309,
          22798,
          23407,
          24800,
          26088,
          25442,
          25429,
          25008,
          24246,
          23647,
          25048,
          26889,
          26633,
          26682,
          26475,
          25659,
          24690,
          25259,
          26535,
          26594,
          26290,
          25589,
          24457,
          22739,
          22887,
          23521,
          22791,
          22493,
          22194,
          21418,
          20239,
          21171,
          22799,
          22363,
          22484,
          22399,
          21539,
          20958,
          21636,
          22728,
          22438,
          22202,
          21904,
          20848,
          19970,
          21383,
          23178,
          23585,
          24106,
          24466,
          23721,
          23913,
          25051,
          27317,
          27523,
          28557,
          28987,
          28371,
          27982,
          30428,
          32707,
          32705,
          33290,
          33379,
          32867,
          31826,
          34228,
          36433,
          37048,
          37958,
          38024,
          37304,
          36054,
          38699,
          41151,
          41177,
          41767,
          42509,
          41335,
          40696,
          42915,
          45202,
          44584,
          44261,
          42794,
          40904,
          38496,
          40514,
          44143,
          45413,
          45792,
          45021,
          42761,
          42278,
          43229,
          46492,
          45965,
          45377,
          44701,
          42920,
          40686,
          41128,
          44878,
          43577,
          43174,
          42195,
          39717,
          37481,
          38388,
          41944,
          40865,
          40142,
          38732,
          36108,
          34644,
          35469,
          37663,
          36852,
          36406,
          35954,
          34564,
          32932,
          34192,
          36746,
          36964,
          37617,
          37560,
          36097,
          35294,
          37901,
          40849,
          41261,
          41510,
          40780,
          39243,
          38145,
          40510,
          43793,
          44186,
          44928,
          45104,
          43239,
          43069,
          44913,
          47051,
          47388,
          49356,
          48596,
          46874,
          44757,
          45774,
          47777,
          46337,
          45506,
          44217,
          41868,
          39176,
          39698,
          41091,
          39834,
          38630,
          37284,
          36114,
          32507,
          30735,
          31897,
          30389,
          29118,
          27847,
          25688,
          23242,
          22224,
          22739,
          22809,
          21709,
          20647,
          18883,
          17357,
          17590,
          18027,
          17843,
          17043,
          16325,
          14766,
          13403,
          13569,
          13652,
          12863,
          12671,
          11575,
          10400,
          9461,
          9647,
          9970,
          9399,
          9227,
          8794,
          8141,
          7842,
          8017,
          8593,
          8125,
          7874,
          7504,
          6914,
          6402,
          6591,
          7125,
          6804,
          6379,
          6261,
          5778,
          5489,
          5744,
          6105,
          5854,
          5728,
          5573,
          5160,
          4812,
          4933,
          5324,
          5024,
          4853,
          4625,
          4423,
          4115,
          4327,
          4453,
          4206,
          4143,
          3982,
          3749,
          3568,
          3648,
          3717,
          3486,
          3342,
          3235,
          3012,
          2910,
          2996,
          3156,
          3166,
          3061,
          3160,
          3086,
          3026,
          3223,
          3460,
          3507,
          3504,
          3343,
          3246,
          3297,
          3675,
          4075,
          4237,
          4486,
          4526,
          3851,
          4021,
          4295,
          4269,
          4334,
          4367,
          4311,
          4110,
          4293,
          4607,
          4725,
          4968,
          5290,
          5496,
          5335,
          5339,
          5808,
          6322,
          6992,
          7504,
          7789,
          7690,
          7934,
          8591,
          9341,
          9570,
          9849,
          9973,
          9674,
          10025,
          10800,
          11113,
          11388,
          11620,
          11602,
          11169,
          10801,
          11141,
          11291,
          11896,
          12516,
          12717,
          12588,
          13261,
          14291,
          14913,
          14971,
          15109,
          14909,
          14264,
          14306,
          14715,
          14508,
          14398,
          14594,
          14472,
          13592,
          13659,
          14393,
          14250,
          14448,
          14433,
          14101,
          13254,
          12876,
          13179,
          12537,
          11766,
          11781,
          11277,
          10518,
          10299,
          10618,
          10026,
          9668,
          9393,
          9249,
          8674,
          8470,
          8765,
          8443,
          8323,
          8364,
          8184,
          7669,
          7453,
          7871,
          7896,
          8163,
          8126,
          7773,
          7363,
          7533,
          8319,
          8833,
          9489,
          10169,
          9995,
          9843,
          10677,
          12569,
          14405,
          17132,
          19635,
          22098,
          24347,
          27453,
          32483,
          36622,
          41895,
          47076,
          51691,
          54244,
          58918,
          67512,
          48201,
          53101,
          58573,
          66738,
          67018,
          68142,
          76778,
          87734,
          99474,
          110141,
          119331,
          113734,
          112804,
          118427,
          125857,
          131295,
          140307,
          147753,
          133080,
          125920,
          125812,
          130416,
          131410,
          139623,
          144410,
          128120,
          119451,
          120060,
          121611,
          124640,
          129581,
          131408,
          114795,
          105912,
          106133,
          108299,
          109416,
          112826,
          112966,
          98421,
          91717,
          91035,
          90479,
          88933,
          91410,
          89973,
          76783,
          71563,
          71113,
          72329,
          72270,
          73037,
          71888,
          62281,
          58176,
          58494,
          59220,
          58084,
          57864,
          55103,
          44089,
          39367,
          37204,
          35824,
          34538,
          34480,
          33179,
          26867,
          24839,
          24060,
          23823,
          23031,
          22802,
          21830,
          17451,
          16133,
          16027,
          15790,
          15581,
          15837,
          15249,
          12364,
          11363,
          11402,
          11495,
          11360,
          10724,
          9965,
          8006,
          8003,
          8886,
          9736,
          10696,
          10739,
          10179,
          8296,
          7804,
          8200,
          8617,
          9004,
          9590,
          9467,
          8103,
          8216,
          9301,
          10604,
          11845,
          12993,
          12876,
          11435,
          11485,
          13034,
          15083,
          17149,
          18775,
          19551,
          17479,
          17956,
          20236,
          22769,
          24517,
          26128,
          26117,
          22978,
          22739,
          25292,
          28502,
          31341,
          34243,
          33886,
          29222,
          28200,
          29948,
          32017,
          34680,
          36959,
          38469,
          33307,
          34609,
          37891,
          42065,
          45041,
          47451,
          48647,
          40862,
          39854,
          42101,
          45145,
          46788,
          49383,
          48730,
          40449,
          38170,
          36069,
          37487,
          40835,
          44472,
          46027,
          39964,
          38005,
          37005,
          38852,
          40805,
          42657,
          42293,
          38923,
          36335,
          37149,
          38400,
          39565,
          40928,
          40261,
          34047,
          32915,
          33962,
          34831,
          34793,
          35001,
          33381,
          27613,
          26450,
          27999,
          29768,
          31515,
          33834,
          34642,
          30217,
          31314,
          33706,
          36139,
          37839,
          38940,
          38888,
          33638,
          34586,
          37742,
          41448,
          44160,
          46298,
          46235,
          39616,
          40296,
          43706,
          47204,
          49566,
          50762,
          49853,
          41629,
          36004,
          35327
         ],
         "yaxis": "y"
        }
       ],
       "layout": {
        "autosize": true,
        "legend": {
         "tracegroupgap": 0
        },
        "template": {
         "data": {
          "bar": [
           {
            "error_x": {
             "color": "#2a3f5f"
            },
            "error_y": {
             "color": "#2a3f5f"
            },
            "marker": {
             "line": {
              "color": "#E5ECF6",
              "width": 0.5
             },
             "pattern": {
              "fillmode": "overlay",
              "size": 10,
              "solidity": 0.2
             }
            },
            "type": "bar"
           }
          ],
          "barpolar": [
           {
            "marker": {
             "line": {
              "color": "#E5ECF6",
              "width": 0.5
             },
             "pattern": {
              "fillmode": "overlay",
              "size": 10,
              "solidity": 0.2
             }
            },
            "type": "barpolar"
           }
          ],
          "carpet": [
           {
            "aaxis": {
             "endlinecolor": "#2a3f5f",
             "gridcolor": "white",
             "linecolor": "white",
             "minorgridcolor": "white",
             "startlinecolor": "#2a3f5f"
            },
            "baxis": {
             "endlinecolor": "#2a3f5f",
             "gridcolor": "white",
             "linecolor": "white",
             "minorgridcolor": "white",
             "startlinecolor": "#2a3f5f"
            },
            "type": "carpet"
           }
          ],
          "choropleth": [
           {
            "colorbar": {
             "outlinewidth": 0,
             "ticks": ""
            },
            "type": "choropleth"
           }
          ],
          "contour": [
           {
            "colorbar": {
             "outlinewidth": 0,
             "ticks": ""
            },
            "colorscale": [
             [
              0,
              "#0d0887"
             ],
             [
              0.1111111111111111,
              "#46039f"
             ],
             [
              0.2222222222222222,
              "#7201a8"
             ],
             [
              0.3333333333333333,
              "#9c179e"
             ],
             [
              0.4444444444444444,
              "#bd3786"
             ],
             [
              0.5555555555555556,
              "#d8576b"
             ],
             [
              0.6666666666666666,
              "#ed7953"
             ],
             [
              0.7777777777777778,
              "#fb9f3a"
             ],
             [
              0.8888888888888888,
              "#fdca26"
             ],
             [
              1,
              "#f0f921"
             ]
            ],
            "type": "contour"
           }
          ],
          "contourcarpet": [
           {
            "colorbar": {
             "outlinewidth": 0,
             "ticks": ""
            },
            "type": "contourcarpet"
           }
          ],
          "heatmap": [
           {
            "colorbar": {
             "outlinewidth": 0,
             "ticks": ""
            },
            "colorscale": [
             [
              0,
              "#0d0887"
             ],
             [
              0.1111111111111111,
              "#46039f"
             ],
             [
              0.2222222222222222,
              "#7201a8"
             ],
             [
              0.3333333333333333,
              "#9c179e"
             ],
             [
              0.4444444444444444,
              "#bd3786"
             ],
             [
              0.5555555555555556,
              "#d8576b"
             ],
             [
              0.6666666666666666,
              "#ed7953"
             ],
             [
              0.7777777777777778,
              "#fb9f3a"
             ],
             [
              0.8888888888888888,
              "#fdca26"
             ],
             [
              1,
              "#f0f921"
             ]
            ],
            "type": "heatmap"
           }
          ],
          "heatmapgl": [
           {
            "colorbar": {
             "outlinewidth": 0,
             "ticks": ""
            },
            "colorscale": [
             [
              0,
              "#0d0887"
             ],
             [
              0.1111111111111111,
              "#46039f"
             ],
             [
              0.2222222222222222,
              "#7201a8"
             ],
             [
              0.3333333333333333,
              "#9c179e"
             ],
             [
              0.4444444444444444,
              "#bd3786"
             ],
             [
              0.5555555555555556,
              "#d8576b"
             ],
             [
              0.6666666666666666,
              "#ed7953"
             ],
             [
              0.7777777777777778,
              "#fb9f3a"
             ],
             [
              0.8888888888888888,
              "#fdca26"
             ],
             [
              1,
              "#f0f921"
             ]
            ],
            "type": "heatmapgl"
           }
          ],
          "histogram": [
           {
            "marker": {
             "pattern": {
              "fillmode": "overlay",
              "size": 10,
              "solidity": 0.2
             }
            },
            "type": "histogram"
           }
          ],
          "histogram2d": [
           {
            "colorbar": {
             "outlinewidth": 0,
             "ticks": ""
            },
            "colorscale": [
             [
              0,
              "#0d0887"
             ],
             [
              0.1111111111111111,
              "#46039f"
             ],
             [
              0.2222222222222222,
              "#7201a8"
             ],
             [
              0.3333333333333333,
              "#9c179e"
             ],
             [
              0.4444444444444444,
              "#bd3786"
             ],
             [
              0.5555555555555556,
              "#d8576b"
             ],
             [
              0.6666666666666666,
              "#ed7953"
             ],
             [
              0.7777777777777778,
              "#fb9f3a"
             ],
             [
              0.8888888888888888,
              "#fdca26"
             ],
             [
              1,
              "#f0f921"
             ]
            ],
            "type": "histogram2d"
           }
          ],
          "histogram2dcontour": [
           {
            "colorbar": {
             "outlinewidth": 0,
             "ticks": ""
            },
            "colorscale": [
             [
              0,
              "#0d0887"
             ],
             [
              0.1111111111111111,
              "#46039f"
             ],
             [
              0.2222222222222222,
              "#7201a8"
             ],
             [
              0.3333333333333333,
              "#9c179e"
             ],
             [
              0.4444444444444444,
              "#bd3786"
             ],
             [
              0.5555555555555556,
              "#d8576b"
             ],
             [
              0.6666666666666666,
              "#ed7953"
             ],
             [
              0.7777777777777778,
              "#fb9f3a"
             ],
             [
              0.8888888888888888,
              "#fdca26"
             ],
             [
              1,
              "#f0f921"
             ]
            ],
            "type": "histogram2dcontour"
           }
          ],
          "mesh3d": [
           {
            "colorbar": {
             "outlinewidth": 0,
             "ticks": ""
            },
            "type": "mesh3d"
           }
          ],
          "parcoords": [
           {
            "line": {
             "colorbar": {
              "outlinewidth": 0,
              "ticks": ""
             }
            },
            "type": "parcoords"
           }
          ],
          "pie": [
           {
            "automargin": true,
            "type": "pie"
           }
          ],
          "scatter": [
           {
            "fillpattern": {
             "fillmode": "overlay",
             "size": 10,
             "solidity": 0.2
            },
            "type": "scatter"
           }
          ],
          "scatter3d": [
           {
            "line": {
             "colorbar": {
              "outlinewidth": 0,
              "ticks": ""
             }
            },
            "marker": {
             "colorbar": {
              "outlinewidth": 0,
              "ticks": ""
             }
            },
            "type": "scatter3d"
           }
          ],
          "scattercarpet": [
           {
            "marker": {
             "colorbar": {
              "outlinewidth": 0,
              "ticks": ""
             }
            },
            "type": "scattercarpet"
           }
          ],
          "scattergeo": [
           {
            "marker": {
             "colorbar": {
              "outlinewidth": 0,
              "ticks": ""
             }
            },
            "type": "scattergeo"
           }
          ],
          "scattergl": [
           {
            "marker": {
             "colorbar": {
              "outlinewidth": 0,
              "ticks": ""
             }
            },
            "type": "scattergl"
           }
          ],
          "scattermapbox": [
           {
            "marker": {
             "colorbar": {
              "outlinewidth": 0,
              "ticks": ""
             }
            },
            "type": "scattermapbox"
           }
          ],
          "scatterpolar": [
           {
            "marker": {
             "colorbar": {
              "outlinewidth": 0,
              "ticks": ""
             }
            },
            "type": "scatterpolar"
           }
          ],
          "scatterpolargl": [
           {
            "marker": {
             "colorbar": {
              "outlinewidth": 0,
              "ticks": ""
             }
            },
            "type": "scatterpolargl"
           }
          ],
          "scatterternary": [
           {
            "marker": {
             "colorbar": {
              "outlinewidth": 0,
              "ticks": ""
             }
            },
            "type": "scatterternary"
           }
          ],
          "surface": [
           {
            "colorbar": {
             "outlinewidth": 0,
             "ticks": ""
            },
            "colorscale": [
             [
              0,
              "#0d0887"
             ],
             [
              0.1111111111111111,
              "#46039f"
             ],
             [
              0.2222222222222222,
              "#7201a8"
             ],
             [
              0.3333333333333333,
              "#9c179e"
             ],
             [
              0.4444444444444444,
              "#bd3786"
             ],
             [
              0.5555555555555556,
              "#d8576b"
             ],
             [
              0.6666666666666666,
              "#ed7953"
             ],
             [
              0.7777777777777778,
              "#fb9f3a"
             ],
             [
              0.8888888888888888,
              "#fdca26"
             ],
             [
              1,
              "#f0f921"
             ]
            ],
            "type": "surface"
           }
          ],
          "table": [
           {
            "cells": {
             "fill": {
              "color": "#EBF0F8"
             },
             "line": {
              "color": "white"
             }
            },
            "header": {
             "fill": {
              "color": "#C8D4E3"
             },
             "line": {
              "color": "white"
             }
            },
            "type": "table"
           }
          ]
         },
         "layout": {
          "annotationdefaults": {
           "arrowcolor": "#2a3f5f",
           "arrowhead": 0,
           "arrowwidth": 1
          },
          "autotypenumbers": "strict",
          "coloraxis": {
           "colorbar": {
            "outlinewidth": 0,
            "ticks": ""
           }
          },
          "colorscale": {
           "diverging": [
            [
             0,
             "#8e0152"
            ],
            [
             0.1,
             "#c51b7d"
            ],
            [
             0.2,
             "#de77ae"
            ],
            [
             0.3,
             "#f1b6da"
            ],
            [
             0.4,
             "#fde0ef"
            ],
            [
             0.5,
             "#f7f7f7"
            ],
            [
             0.6,
             "#e6f5d0"
            ],
            [
             0.7,
             "#b8e186"
            ],
            [
             0.8,
             "#7fbc41"
            ],
            [
             0.9,
             "#4d9221"
            ],
            [
             1,
             "#276419"
            ]
           ],
           "sequential": [
            [
             0,
             "#0d0887"
            ],
            [
             0.1111111111111111,
             "#46039f"
            ],
            [
             0.2222222222222222,
             "#7201a8"
            ],
            [
             0.3333333333333333,
             "#9c179e"
            ],
            [
             0.4444444444444444,
             "#bd3786"
            ],
            [
             0.5555555555555556,
             "#d8576b"
            ],
            [
             0.6666666666666666,
             "#ed7953"
            ],
            [
             0.7777777777777778,
             "#fb9f3a"
            ],
            [
             0.8888888888888888,
             "#fdca26"
            ],
            [
             1,
             "#f0f921"
            ]
           ],
           "sequentialminus": [
            [
             0,
             "#0d0887"
            ],
            [
             0.1111111111111111,
             "#46039f"
            ],
            [
             0.2222222222222222,
             "#7201a8"
            ],
            [
             0.3333333333333333,
             "#9c179e"
            ],
            [
             0.4444444444444444,
             "#bd3786"
            ],
            [
             0.5555555555555556,
             "#d8576b"
            ],
            [
             0.6666666666666666,
             "#ed7953"
            ],
            [
             0.7777777777777778,
             "#fb9f3a"
            ],
            [
             0.8888888888888888,
             "#fdca26"
            ],
            [
             1,
             "#f0f921"
            ]
           ]
          },
          "colorway": [
           "#636efa",
           "#EF553B",
           "#00cc96",
           "#ab63fa",
           "#FFA15A",
           "#19d3f3",
           "#FF6692",
           "#B6E880",
           "#FF97FF",
           "#FECB52"
          ],
          "font": {
           "color": "#2a3f5f"
          },
          "geo": {
           "bgcolor": "white",
           "lakecolor": "white",
           "landcolor": "#E5ECF6",
           "showlakes": true,
           "showland": true,
           "subunitcolor": "white"
          },
          "hoverlabel": {
           "align": "left"
          },
          "hovermode": "closest",
          "mapbox": {
           "style": "light"
          },
          "paper_bgcolor": "white",
          "plot_bgcolor": "#E5ECF6",
          "polar": {
           "angularaxis": {
            "gridcolor": "white",
            "linecolor": "white",
            "ticks": ""
           },
           "bgcolor": "#E5ECF6",
           "radialaxis": {
            "gridcolor": "white",
            "linecolor": "white",
            "ticks": ""
           }
          },
          "scene": {
           "xaxis": {
            "backgroundcolor": "#E5ECF6",
            "gridcolor": "white",
            "gridwidth": 2,
            "linecolor": "white",
            "showbackground": true,
            "ticks": "",
            "zerolinecolor": "white"
           },
           "yaxis": {
            "backgroundcolor": "#E5ECF6",
            "gridcolor": "white",
            "gridwidth": 2,
            "linecolor": "white",
            "showbackground": true,
            "ticks": "",
            "zerolinecolor": "white"
           },
           "zaxis": {
            "backgroundcolor": "#E5ECF6",
            "gridcolor": "white",
            "gridwidth": 2,
            "linecolor": "white",
            "showbackground": true,
            "ticks": "",
            "zerolinecolor": "white"
           }
          },
          "shapedefaults": {
           "line": {
            "color": "#2a3f5f"
           }
          },
          "ternary": {
           "aaxis": {
            "gridcolor": "white",
            "linecolor": "white",
            "ticks": ""
           },
           "baxis": {
            "gridcolor": "white",
            "linecolor": "white",
            "ticks": ""
           },
           "bgcolor": "#E5ECF6",
           "caxis": {
            "gridcolor": "white",
            "linecolor": "white",
            "ticks": ""
           }
          },
          "title": {
           "x": 0.05
          },
          "xaxis": {
           "automargin": true,
           "gridcolor": "white",
           "linecolor": "white",
           "ticks": "",
           "title": {
            "standoff": 15
           },
           "zerolinecolor": "white",
           "zerolinewidth": 2
          },
          "yaxis": {
           "automargin": true,
           "gridcolor": "white",
           "linecolor": "white",
           "ticks": "",
           "title": {
            "standoff": 15
           },
           "zerolinecolor": "white",
           "zerolinewidth": 2
          }
         }
        },
        "title": {
         "text": "Casos Totales Acumulados"
        },
        "xaxis": {
         "anchor": "y",
         "autorange": true,
         "domain": [
          0,
          1
         ],
         "range": [
          "2020-03-02",
          "2022-08-18"
         ],
         "title": {
          "text": "Fecha"
         },
         "type": "date"
        },
        "yaxis": {
         "anchor": "x",
         "autorange": true,
         "domain": [
          0,
          1
         ],
         "range": [
          -8207.444444444445,
          155961.44444444444
         ],
         "title": {
          "text": "Casos activos"
         },
         "type": "linear"
        }
       }
      },
      "image/png": "[encoded data removed]",
      "text/html": [
       "<div>                            <div id=\"2ed7f22a-186a-4936-9443-cc28332efe59\" class=\"plotly-graph-div\" style=\"height:525px; width:100%;\"></div>            <script type=\"text/javascript\">                require([\"plotly\"], function(Plotly) {                    window.PLOTLYENV=window.PLOTLYENV || {};                                    if (document.getElementById(\"2ed7f22a-186a-4936-9443-cc28332efe59\")) {                    Plotly.newPlot(                        \"2ed7f22a-186a-4936-9443-cc28332efe59\",                        [{\"hovertemplate\":\"Fecha=%{x}<br>Casos activos=%{y}<extra></extra>\",\"legendgroup\":\"\",\"line\":{\"color\":\"red\",\"dash\":\"solid\"},\"marker\":{\"symbol\":\"circle\"},\"mode\":\"lines\",\"name\":\"\",\"orientation\":\"v\",\"showlegend\":false,\"x\":[\"2020-03-02\",\"2020-03-03\",\"2020-03-04\",\"2020-03-05\",\"2020-03-06\",\"2020-03-07\",\"2020-03-08\",\"2020-03-09\",\"2020-03-10\",\"2020-03-11\",\"2020-03-12\",\"2020-03-13\",\"2020-03-14\",\"2020-03-15\",\"2020-03-16\",\"2020-03-17\",\"2020-03-18\",\"2020-03-19\",\"2020-03-20\",\"2020-03-21\",\"2020-03-22\",\"2020-03-23\",\"2020-03-24\",\"2020-03-25\",\"2020-03-26\",\"2020-03-27\",\"2020-03-28\",\"2020-03-29\",\"2020-03-30\",\"2020-03-31\",\"2020-04-01\",\"2020-04-02\",\"2020-04-03\",\"2020-04-04\",\"2020-04-05\",\"2020-04-06\",\"2020-04-07\",\"2020-04-08\",\"2020-04-09\",\"2020-04-10\",\"2020-04-11\",\"2020-04-12\",\"2020-04-13\",\"2020-04-14\",\"2020-04-15\",\"2020-04-16\",\"2020-04-17\",\"2020-04-18\",\"2020-04-19\",\"2020-04-20\",\"2020-04-21\",\"2020-04-22\",\"2020-04-23\",\"2020-04-24\",\"2020-04-25\",\"2020-04-26\",\"2020-04-27\",\"2020-04-28\",\"2020-04-29\",\"2020-04-30\",\"2020-05-01\",\"2020-05-02\",\"2020-05-03\",\"2020-05-04\",\"2020-05-05\",\"2020-05-06\",\"2020-05-07\",\"2020-05-08\",\"2020-05-09\",\"2020-05-10\",\"2020-05-11\",\"2020-05-12\",\"2020-05-13\",\"2020-05-14\",\"2020-05-15\",\"2020-05-16\",\"2020-05-17\",\"2020-05-18\",\"2020-05-19\",\"2020-05-20\",\"2020-05-21\",\"2020-05-22\",\"2020-05-23\",\"2020-05-24\",\"2020-05-25\",\"2020-05-26\",\"2020-05-27\",\"2020-05-28\",\"2020-05-29\",\"2020-05-30\",\"2020-05-31\",\"2020-06-01\",\"2020-06-02\",\"2020-06-03\",\"2020-06-04\",\"2020-06-05\",\"2020-06-06\",\"2020-06-07\",\"2020-06-08\",\"2020-06-09\",\"2020-06-10\",\"2020-06-11\",\"2020-06-12\",\"2020-06-13\",\"2020-06-14\",\"2020-06-15\",\"2020-06-16\",\"2020-06-17\",\"2020-06-18\",\"2020-06-19\",\"2020-06-20\",\"2020-06-21\",\"2020-06-22\",\"2020-06-23\",\"2020-06-24\",\"2020-06-25\",\"2020-06-26\",\"2020-06-27\",\"2020-06-28\",\"2020-06-29\",\"2020-06-30\",\"2020-07-01\",\"2020-07-02\",\"2020-07-03\",\"2020-07-04\",\"2020-07-05\",\"2020-07-06\",\"2020-07-07\",\"2020-07-08\",\"2020-07-09\",\"2020-07-10\",\"2020-07-11\",\"2020-07-12\",\"2020-07-13\",\"2020-07-14\",\"2020-07-15\",\"2020-07-16\",\"2020-07-17\",\"2020-07-18\",\"2020-07-19\",\"2020-07-20\",\"2020-07-21\",\"2020-07-22\",\"2020-07-23\",\"2020-07-24\",\"2020-07-25\",\"2020-07-26\",\"2020-07-27\",\"2020-07-28\",\"2020-07-29\",\"2020-07-30\",\"2020-07-31\",\"2020-08-01\",\"2020-08-02\",\"2020-08-03\",\"2020-08-04\",\"2020-08-05\",\"2020-08-06\",\"2020-08-07\",\"2020-08-08\",\"2020-08-09\",\"2020-08-10\",\"2020-08-11\",\"2020-08-12\",\"2020-08-13\",\"2020-08-14\",\"2020-08-15\",\"2020-08-16\",\"2020-08-17\",\"2020-08-18\",\"2020-08-19\",\"2020-08-20\",\"2020-08-21\",\"2020-08-22\",\"2020-08-23\",\"2020-08-24\",\"2020-08-25\",\"2020-08-26\",\"2020-08-27\",\"2020-08-28\",\"2020-08-29\",\"2020-08-30\",\"2020-08-31\",\"2020-09-01\",\"2020-09-02\",\"2020-09-03\",\"2020-09-04\",\"2020-09-05\",\"2020-09-06\",\"2020-09-07\",\"2020-09-08\",\"2020-09-09\",\"2020-09-10\",\"2020-09-11\",\"2020-09-12\",\"2020-09-13\",\"2020-09-14\",\"2020-09-15\",\"2020-09-16\",\"2020-09-17\",\"2020-09-18\",\"2020-09-19\",\"2020-09-20\",\"2020-09-21\",\"2020-09-22\",\"2020-09-23\",\"2020-09-24\",\"2020-09-25\",\"2020-09-26\",\"2020-09-27\",\"2020-09-28\",\"2020-09-29\",\"2020-09-30\",\"2020-10-01\",\"2020-10-02\",\"2020-10-03\",\"2020-10-04\",\"2020-10-05\",\"2020-10-06\",\"2020-10-07\",\"2020-10-08\",\"2020-10-09\",\"2020-10-10\",\"2020-10-11\",\"2020-10-12\",\"2020-10-13\",\"2020-10-14\",\"2020-10-15\",\"2020-10-16\",\"2020-10-17\",\"2020-10-18\",\"2020-10-19\",\"2020-10-20\",\"2020-10-21\",\"2020-10-22\",\"2020-10-23\",\"2020-10-24\",\"2020-10-25\",\"2020-10-26\",\"2020-10-27\",\"2020-10-28\",\"2020-10-29\",\"2020-10-30\",\"2020-10-31\",\"2020-11-01\",\"2020-11-02\",\"2020-11-03\",\"2020-11-04\",\"2020-11-05\",\"2020-11-06\",\"2020-11-07\",\"2020-11-08\",\"2020-11-09\",\"2020-11-10\",\"2020-11-11\",\"2020-11-12\",\"2020-11-13\",\"2020-11-14\",\"2020-11-15\",\"2020-11-16\",\"2020-11-17\",\"2020-11-18\",\"2020-11-19\",\"2020-11-20\",\"2020-11-21\",\"2020-11-22\",\"2020-11-23\",\"2020-11-24\",\"2020-11-25\",\"2020-11-26\",\"2020-11-27\",\"2020-11-28\",\"2020-11-29\",\"2020-11-30\",\"2020-12-01\",\"2020-12-02\",\"2020-12-03\",\"2020-12-04\",\"2020-12-05\",\"2020-12-06\",\"2020-12-07\",\"2020-12-08\",\"2020-12-09\",\"2020-12-10\",\"2020-12-11\",\"2020-12-12\",\"2020-12-13\",\"2020-12-14\",\"2020-12-15\",\"2020-12-16\",\"2020-12-17\",\"2020-12-18\",\"2020-12-19\",\"2020-12-20\",\"2020-12-21\",\"2020-12-22\",\"2020-12-23\",\"2020-12-24\",\"2020-12-25\",\"2020-12-26\",\"2020-12-27\",\"2020-12-28\",\"2020-12-29\",\"2020-12-30\",\"2020-12-31\",\"2021-01-01\",\"2021-01-02\",\"2021-01-03\",\"2021-01-04\",\"2021-01-05\",\"2021-01-06\",\"2021-01-07\",\"2021-01-08\",\"2021-01-09\",\"2021-01-10\",\"2021-01-11\",\"2021-01-12\",\"2021-01-13\",\"2021-01-14\",\"2021-01-15\",\"2021-01-16\",\"2021-01-17\",\"2021-01-18\",\"2021-01-19\",\"2021-01-20\",\"2021-01-21\",\"2021-01-22\",\"2021-01-23\",\"2021-01-24\",\"2021-01-25\",\"2021-01-26\",\"2021-01-27\",\"2021-01-28\",\"2021-01-29\",\"2021-01-30\",\"2021-01-31\",\"2021-02-01\",\"2021-02-02\",\"2021-02-03\",\"2021-02-04\",\"2021-02-05\",\"2021-02-06\",\"2021-02-07\",\"2021-02-08\",\"2021-02-09\",\"2021-02-10\",\"2021-02-11\",\"2021-02-12\",\"2021-02-13\",\"2021-02-14\",\"2021-02-15\",\"2021-02-16\",\"2021-02-17\",\"2021-02-18\",\"2021-02-19\",\"2021-02-20\",\"2021-02-21\",\"2021-02-22\",\"2021-02-23\",\"2021-02-24\",\"2021-02-25\",\"2021-02-26\",\"2021-02-27\",\"2021-02-28\",\"2021-03-01\",\"2021-03-02\",\"2021-03-03\",\"2021-03-04\",\"2021-03-05\",\"2021-03-06\",\"2021-03-07\",\"2021-03-08\",\"2021-03-09\",\"2021-03-10\",\"2021-03-11\",\"2021-03-12\",\"2021-03-13\",\"2021-03-14\",\"2021-03-15\",\"2021-03-16\",\"2021-03-17\",\"2021-03-18\",\"2021-03-19\",\"2021-03-20\",\"2021-03-21\",\"2021-03-22\",\"2021-03-23\",\"2021-03-24\",\"2021-03-25\",\"2021-03-26\",\"2021-03-27\",\"2021-03-28\",\"2021-03-29\",\"2021-03-30\",\"2021-03-31\",\"2021-04-01\",\"2021-04-02\",\"2021-04-03\",\"2021-04-04\",\"2021-04-05\",\"2021-04-06\",\"2021-04-07\",\"2021-04-08\",\"2021-04-09\",\"2021-04-10\",\"2021-04-11\",\"2021-04-12\",\"2021-04-13\",\"2021-04-14\",\"2021-04-15\",\"2021-04-16\",\"2021-04-17\",\"2021-04-18\",\"2021-04-19\",\"2021-04-20\",\"2021-04-21\",\"2021-04-22\",\"2021-04-23\",\"2021-04-24\",\"2021-04-25\",\"2021-04-26\",\"2021-04-27\",\"2021-04-28\",\"2021-04-29\",\"2021-04-30\",\"2021-05-01\",\"2021-05-02\",\"2021-05-03\",\"2021-05-04\",\"2021-05-05\",\"2021-05-06\",\"2021-05-07\",\"2021-05-08\",\"2021-05-09\",\"2021-05-10\",\"2021-05-11\",\"2021-05-12\",\"2021-05-13\",\"2021-05-14\",\"2021-05-15\",\"2021-05-16\",\"2021-05-17\",\"2021-05-18\",\"2021-05-19\",\"2021-05-20\",\"2021-05-21\",\"2021-05-22\",\"2021-05-23\",\"2021-05-24\",\"2021-05-25\",\"2021-05-26\",\"2021-05-27\",\"2021-05-28\",\"2021-05-29\",\"2021-05-30\",\"2021-05-31\",\"2021-06-01\",\"2021-06-02\",\"2021-06-03\",\"2021-06-04\",\"2021-06-05\",\"2021-06-06\",\"2021-06-07\",\"2021-06-08\",\"2021-06-09\",\"2021-06-10\",\"2021-06-11\",\"2021-06-12\",\"2021-06-13\",\"2021-06-14\",\"2021-06-15\",\"2021-06-16\",\"2021-06-17\",\"2021-06-18\",\"2021-06-19\",\"2021-06-20\",\"2021-06-21\",\"2021-06-22\",\"2021-06-23\",\"2021-06-24\",\"2021-06-25\",\"2021-06-26\",\"2021-06-27\",\"2021-06-28\",\"2021-06-29\",\"2021-06-30\",\"2021-07-01\",\"2021-07-02\",\"2021-07-03\",\"2021-07-04\",\"2021-07-05\",\"2021-07-06\",\"2021-07-07\",\"2021-07-08\",\"2021-07-09\",\"2021-07-10\",\"2021-07-11\",\"2021-07-12\",\"2021-07-13\",\"2021-07-14\",\"2021-07-15\",\"2021-07-16\",\"2021-07-17\",\"2021-07-18\",\"2021-07-19\",\"2021-07-20\",\"2021-07-21\",\"2021-07-22\",\"2021-07-23\",\"2021-07-24\",\"2021-07-25\",\"2021-07-26\",\"2021-07-27\",\"2021-07-28\",\"2021-07-29\",\"2021-07-30\",\"2021-07-31\",\"2021-08-01\",\"2021-08-02\",\"2021-08-03\",\"2021-08-04\",\"2021-08-05\",\"2021-08-06\",\"2021-08-07\",\"2021-08-08\",\"2021-08-09\",\"2021-08-10\",\"2021-08-11\",\"2021-08-12\",\"2021-08-13\",\"2021-08-14\",\"2021-08-15\",\"2021-08-16\",\"2021-08-17\",\"2021-08-18\",\"2021-08-19\",\"2021-08-20\",\"2021-08-21\",\"2021-08-22\",\"2021-08-23\",\"2021-08-24\",\"2021-08-25\",\"2021-08-26\",\"2021-08-27\",\"2021-08-28\",\"2021-08-29\",\"2021-08-30\",\"2021-08-31\",\"2021-09-01\",\"2021-09-02\",\"2021-09-03\",\"2021-09-04\",\"2021-09-05\",\"2021-09-06\",\"2021-09-07\",\"2021-09-08\",\"2021-09-09\",\"2021-09-10\",\"2021-09-11\",\"2021-09-12\",\"2021-09-13\",\"2021-09-14\",\"2021-09-15\",\"2021-09-16\",\"2021-09-17\",\"2021-09-18\",\"2021-09-19\",\"2021-09-20\",\"2021-09-21\",\"2021-09-22\",\"2021-09-23\",\"2021-09-24\",\"2021-09-25\",\"2021-09-26\",\"2021-09-27\",\"2021-09-28\",\"2021-09-29\",\"2021-09-30\",\"2021-10-01\",\"2021-10-02\",\"2021-10-03\",\"2021-10-04\",\"2021-10-05\",\"2021-10-06\",\"2021-10-07\",\"2021-10-08\",\"2021-10-09\",\"2021-10-10\",\"2021-10-11\",\"2021-10-12\",\"2021-10-13\",\"2021-10-14\",\"2021-10-15\",\"2021-10-16\",\"2021-10-17\",\"2021-10-18\",\"2021-10-19\",\"2021-10-20\",\"2021-10-21\",\"2021-10-22\",\"2021-10-23\",\"2021-10-24\",\"2021-10-25\",\"2021-10-26\",\"2021-10-27\",\"2021-10-28\",\"2021-10-29\",\"2021-10-30\",\"2021-10-31\",\"2021-11-01\",\"2021-11-02\",\"2021-11-03\",\"2021-11-04\",\"2021-11-05\",\"2021-11-06\",\"2021-11-07\",\"2021-11-08\",\"2021-11-09\",\"2021-11-10\",\"2021-11-11\",\"2021-11-12\",\"2021-11-13\",\"2021-11-14\",\"2021-11-15\",\"2021-11-16\",\"2021-11-17\",\"2021-11-18\",\"2021-11-19\",\"2021-11-20\",\"2021-11-21\",\"2021-11-22\",\"2021-11-23\",\"2021-11-24\",\"2021-11-25\",\"2021-11-26\",\"2021-11-27\",\"2021-11-28\",\"2021-11-29\",\"2021-11-30\",\"2021-12-01\",\"2021-12-02\",\"2021-12-03\",\"2021-12-04\",\"2021-12-05\",\"2021-12-06\",\"2021-12-07\",\"2021-12-08\",\"2021-12-09\",\"2021-12-10\",\"2021-12-11\",\"2021-12-12\",\"2021-12-13\",\"2021-12-14\",\"2021-12-15\",\"2021-12-16\",\"2021-12-17\",\"2021-12-18\",\"2021-12-19\",\"2021-12-20\",\"2021-12-21\",\"2021-12-22\",\"2021-12-23\",\"2021-12-24\",\"2021-12-25\",\"2021-12-26\",\"2021-12-27\",\"2021-12-28\",\"2021-12-29\",\"2021-12-30\",\"2021-12-31\",\"2022-01-01\",\"2022-01-02\",\"2022-01-03\",\"2022-01-04\",\"2022-01-05\",\"2022-01-06\",\"2022-01-07\",\"2022-01-08\",\"2022-01-09\",\"2022-01-10\",\"2022-01-11\",\"2022-01-12\",\"2022-01-13\",\"2022-01-14\",\"2022-01-15\",\"2022-01-16\",\"2022-01-17\",\"2022-01-18\",\"2022-01-19\",\"2022-01-20\",\"2022-01-21\",\"2022-01-22\",\"2022-01-23\",\"2022-01-24\",\"2022-01-25\",\"2022-01-26\",\"2022-01-27\",\"2022-01-28\",\"2022-01-29\",\"2022-01-30\",\"2022-01-31\",\"2022-02-01\",\"2022-02-02\",\"2022-02-03\",\"2022-02-04\",\"2022-02-05\",\"2022-02-06\",\"2022-02-07\",\"2022-02-08\",\"2022-02-09\",\"2022-02-10\",\"2022-02-11\",\"2022-02-12\",\"2022-02-13\",\"2022-02-14\",\"2022-02-15\",\"2022-02-16\",\"2022-02-17\",\"2022-02-18\",\"2022-02-19\",\"2022-02-20\",\"2022-02-21\",\"2022-02-22\",\"2022-02-23\",\"2022-02-24\",\"2022-02-25\",\"2022-02-26\",\"2022-02-27\",\"2022-02-28\",\"2022-03-01\",\"2022-03-02\",\"2022-03-03\",\"2022-03-04\",\"2022-03-05\",\"2022-03-06\",\"2022-03-07\",\"2022-03-08\",\"2022-03-09\",\"2022-03-10\",\"2022-03-11\",\"2022-03-12\",\"2022-03-13\",\"2022-03-14\",\"2022-03-15\",\"2022-03-16\",\"2022-03-17\",\"2022-03-18\",\"2022-03-19\",\"2022-03-20\",\"2022-03-21\",\"2022-03-22\",\"2022-03-23\",\"2022-03-24\",\"2022-03-25\",\"2022-03-26\",\"2022-03-27\",\"2022-03-28\",\"2022-03-29\",\"2022-03-30\",\"2022-03-31\",\"2022-04-01\",\"2022-04-02\",\"2022-04-03\",\"2022-04-04\",\"2022-04-05\",\"2022-04-06\",\"2022-04-07\",\"2022-04-08\",\"2022-04-09\",\"2022-04-10\",\"2022-04-11\",\"2022-04-12\",\"2022-04-13\",\"2022-04-14\",\"2022-04-15\",\"2022-04-16\",\"2022-04-17\",\"2022-04-18\",\"2022-04-19\",\"2022-04-20\",\"2022-04-21\",\"2022-04-22\",\"2022-04-23\",\"2022-04-24\",\"2022-04-25\",\"2022-04-26\",\"2022-04-27\",\"2022-04-28\",\"2022-04-29\",\"2022-04-30\",\"2022-05-01\",\"2022-05-02\",\"2022-05-03\",\"2022-05-04\",\"2022-05-05\",\"2022-05-06\",\"2022-05-07\",\"2022-05-08\",\"2022-05-09\",\"2022-05-10\",\"2022-05-11\",\"2022-05-12\",\"2022-05-13\",\"2022-05-14\",\"2022-05-15\",\"2022-05-16\",\"2022-05-17\",\"2022-05-18\",\"2022-05-19\",\"2022-05-20\",\"2022-05-21\",\"2022-05-22\",\"2022-05-23\",\"2022-05-24\",\"2022-05-25\",\"2022-05-26\",\"2022-05-27\",\"2022-05-28\",\"2022-05-29\",\"2022-05-30\",\"2022-05-31\",\"2022-06-01\",\"2022-06-02\",\"2022-06-03\",\"2022-06-04\",\"2022-06-05\",\"2022-06-06\",\"2022-06-07\",\"2022-06-08\",\"2022-06-09\",\"2022-06-10\",\"2022-06-11\",\"2022-06-12\",\"2022-06-13\",\"2022-06-14\",\"2022-06-15\",\"2022-06-16\",\"2022-06-17\",\"2022-06-18\",\"2022-06-19\",\"2022-06-20\",\"2022-06-21\",\"2022-06-22\",\"2022-06-23\",\"2022-06-24\",\"2022-06-25\",\"2022-06-26\",\"2022-06-27\",\"2022-06-28\",\"2022-06-29\",\"2022-06-30\",\"2022-07-01\",\"2022-07-02\",\"2022-07-03\",\"2022-07-04\",\"2022-07-05\",\"2022-07-06\",\"2022-07-07\",\"2022-07-08\",\"2022-07-09\",\"2022-07-10\",\"2022-07-11\",\"2022-07-12\",\"2022-07-13\",\"2022-07-14\",\"2022-07-15\",\"2022-07-16\",\"2022-07-17\",\"2022-07-18\",\"2022-07-19\",\"2022-07-20\",\"2022-07-21\",\"2022-07-22\",\"2022-07-23\",\"2022-07-24\",\"2022-07-25\",\"2022-07-26\",\"2022-07-27\",\"2022-07-28\",\"2022-07-29\",\"2022-07-30\",\"2022-07-31\",\"2022-08-01\",\"2022-08-02\",\"2022-08-03\",\"2022-08-04\",\"2022-08-05\",\"2022-08-06\",\"2022-08-07\",\"2022-08-08\",\"2022-08-09\",\"2022-08-10\",\"2022-08-11\",\"2022-08-12\",\"2022-08-13\",\"2022-08-14\",\"2022-08-15\",\"2022-08-16\",\"2022-08-17\",\"2022-08-18\"],\"xaxis\":\"x\",\"y\":[1.0,1.0,3.0,4.0,5.0,7.0,10.0,15.0,17.0,23.0,33.0,43.0,61.0,75.0,156.0,200.0,235.0,338.0,429.0,531.0,623.0,734.0,903.0,1117.0,1269.0,1562.0,1842.0,2057.0,2285.0,2525.0,2781.0,3051.0,3288.0,3606.0,3820.0,4050.0,4175.0,4383.0,4641.0,4865.0,4990.0,5074.0,5076.0,5179.0,5242.0,5403.0,5515.0,5569.0,5617.0,5692.0,5716.0,5750.0,5840.0,5805.0,5931.0,6118.0,6288.0,6448.0,6862.0,7216.0,7756.0,8616.0,9362.0,9958.0,11031.0,11578.0,12632.0,13518.0,14248.0,15442.0,16135.0,17261.0,19170.0,21017.0,22534.0,22993.0,24118.0,25416.0,27563.0,30569.0,33000.0,35885.0,38174.0,40236.0,43934.0,46240.0,47908.0,49938.0,51096.0,53430.0,55907.0,59100.0,null,null,null,null,null,null,null,null,null,null,null,null,null,null,null,null,null,null,null,37307.0,37064.0,35692.0,34592.0,34834.0,34861.0,34364.0,34263.0,34270.0,32476.0,30847.0,29374.0,28695.0,28210.0,28194.0,27804.0,26340.0,24807.0,24612.0,24440.0,24008.0,24166.0,24077.0,23205.0,21934.0,21107.0,21378.0,20952.0,20633.0,20404.0,19190.0,18439.0,18490.0,18694.0,18403.0,18583.0,18782.0,18228.0,17740.0,17531.0,17883.0,17621.0,17712.0,17810.0,16887.0,16640.0,16614.0,16699.0,16880.0,17153.0,17563.0,16897.0,16544.0,16604.0,16734.0,16556.0,16666.0,16604.0,15869.0,15174.0,15116.0,15149.0,15186.0,15634.0,16188.0,15564.0,15107.0,15108.0,15388.0,15645.0,16146.0,16558.0,16034.0,15712.0,15670.0,15727.0,15916.0,16519.0,16905.0,16129.0,15770.0,15532.0,15621.0,15852.0,16473.0,16695.0,15999.0,15377.0,15080.0,14647.0,14319.0,14242.0,14059.0,13026.0,12393.0,12289.0,12761.0,13129.0,13556.0,13957.0,13781.0,13661.0,13780.0,14116.0,14671.0,15130.0,15256.0,14818.0,14297.0,14139.0,14252.0,14269.0,14701.0,15025.0,14385.0,13884.0,13526.0,13564.0,13703.0,14182.0,14608.0,14049.0,13565.0,13490.0,13635.0,9990.0,9784.0,9634.0,9035.0,8507.0,8925.0,9176.0,9121.0,9164.0,9074.0,8776.0,8266.0,8640.0,9346.0,9334.0,9311.0,9094.0,8861.0,8451.0,8968.0,9454.0,9358.0,9455.0,9374.0,9025.0,8592.0,8880.0,9351.0,9224.0,9145.0,9144.0,8816.0,8468.0,8872.0,9379.0,9519.0,9554.0,9418.0,9089.0,8647.0,9104.0,9719.0,9509.0,9646.0,9892.0,9806.0,9596.0,10057.0,10526.0,10530.0,10887.0,11035.0,10864.0,10594.0,11199.0,12468.0,12591.0,13105.0,13047.0,12794.0,12561.0,13214.0,14133.0,14275.0,13745.0,13572.0,13477.0,13514.0,14638.0,16355.0,16870.0,16620.0,16626.0,16885.0,17239.0,18679.0,20259.0,20749.0,21613.0,22309.0,22798.0,23407.0,24800.0,26088.0,25442.0,25429.0,25008.0,24246.0,23647.0,25048.0,26889.0,26633.0,26682.0,26475.0,25659.0,24690.0,25259.0,26535.0,26594.0,26290.0,25589.0,24457.0,22739.0,22887.0,23521.0,22791.0,22493.0,22194.0,21418.0,20239.0,21171.0,22799.0,22363.0,22484.0,22399.0,21539.0,20958.0,21636.0,22728.0,22438.0,22202.0,21904.0,20848.0,19970.0,21383.0,23178.0,23585.0,24106.0,24466.0,23721.0,23913.0,25051.0,27317.0,27523.0,28557.0,28987.0,28371.0,27982.0,30428.0,32707.0,32705.0,33290.0,33379.0,32867.0,31826.0,34228.0,36433.0,37048.0,37958.0,38024.0,37304.0,36054.0,38699.0,41151.0,41177.0,41767.0,42509.0,41335.0,40696.0,42915.0,45202.0,44584.0,44261.0,42794.0,40904.0,38496.0,40514.0,44143.0,45413.0,45792.0,45021.0,42761.0,42278.0,43229.0,46492.0,45965.0,45377.0,44701.0,42920.0,40686.0,41128.0,44878.0,43577.0,43174.0,42195.0,39717.0,37481.0,38388.0,41944.0,40865.0,40142.0,38732.0,36108.0,34644.0,35469.0,37663.0,36852.0,36406.0,35954.0,34564.0,32932.0,34192.0,36746.0,36964.0,37617.0,37560.0,36097.0,35294.0,37901.0,40849.0,41261.0,41510.0,40780.0,39243.0,38145.0,40510.0,43793.0,44186.0,44928.0,45104.0,43239.0,43069.0,44913.0,47051.0,47388.0,49356.0,48596.0,46874.0,44757.0,45774.0,47777.0,46337.0,45506.0,44217.0,41868.0,39176.0,39698.0,41091.0,39834.0,38630.0,37284.0,36114.0,32507.0,30735.0,31897.0,30389.0,29118.0,27847.0,25688.0,23242.0,22224.0,22739.0,22809.0,21709.0,20647.0,18883.0,17357.0,17590.0,18027.0,17843.0,17043.0,16325.0,14766.0,13403.0,13569.0,13652.0,12863.0,12671.0,11575.0,10400.0,9461.0,9647.0,9970.0,9399.0,9227.0,8794.0,8141.0,7842.0,8017.0,8593.0,8125.0,7874.0,7504.0,6914.0,6402.0,6591.0,7125.0,6804.0,6379.0,6261.0,5778.0,5489.0,5744.0,6105.0,5854.0,5728.0,5573.0,5160.0,4812.0,4933.0,5324.0,5024.0,4853.0,4625.0,4423.0,4115.0,4327.0,4453.0,4206.0,4143.0,3982.0,3749.0,3568.0,3648.0,3717.0,3486.0,3342.0,3235.0,3012.0,2910.0,2996.0,3156.0,3166.0,3061.0,3160.0,3086.0,3026.0,3223.0,3460.0,3507.0,3504.0,3343.0,3246.0,3297.0,3675.0,4075.0,4237.0,4486.0,4526.0,3851.0,4021.0,4295.0,4269.0,4334.0,4367.0,4311.0,4110.0,4293.0,4607.0,4725.0,4968.0,5290.0,5496.0,5335.0,5339.0,5808.0,6322.0,6992.0,7504.0,7789.0,7690.0,7934.0,8591.0,9341.0,9570.0,9849.0,9973.0,9674.0,10025.0,10800.0,11113.0,11388.0,11620.0,11602.0,11169.0,10801.0,11141.0,11291.0,11896.0,12516.0,12717.0,12588.0,13261.0,14291.0,14913.0,14971.0,15109.0,14909.0,14264.0,14306.0,14715.0,14508.0,14398.0,14594.0,14472.0,13592.0,13659.0,14393.0,14250.0,14448.0,14433.0,14101.0,13254.0,12876.0,13179.0,12537.0,11766.0,11781.0,11277.0,10518.0,10299.0,10618.0,10026.0,9668.0,9393.0,9249.0,8674.0,8470.0,8765.0,8443.0,8323.0,8364.0,8184.0,7669.0,7453.0,7871.0,7896.0,8163.0,8126.0,7773.0,7363.0,7533.0,8319.0,8833.0,9489.0,10169.0,9995.0,9843.0,10677.0,12569.0,14405.0,17132.0,19635.0,22098.0,24347.0,27453.0,32483.0,36622.0,41895.0,47076.0,51691.0,54244.0,58918.0,67512.0,48201.0,53101.0,58573.0,66738.0,67018.0,68142.0,76778.0,87734.0,99474.0,110141.0,119331.0,113734.0,112804.0,118427.0,125857.0,131295.0,140307.0,147753.0,133080.0,125920.0,125812.0,130416.0,131410.0,139623.0,144410.0,128120.0,119451.0,120060.0,121611.0,124640.0,129581.0,131408.0,114795.0,105912.0,106133.0,108299.0,109416.0,112826.0,112966.0,98421.0,91717.0,91035.0,90479.0,88933.0,91410.0,89973.0,76783.0,71563.0,71113.0,72329.0,72270.0,73037.0,71888.0,62281.0,58176.0,58494.0,59220.0,58084.0,57864.0,55103.0,44089.0,39367.0,37204.0,35824.0,34538.0,34480.0,33179.0,26867.0,24839.0,24060.0,23823.0,23031.0,22802.0,21830.0,17451.0,16133.0,16027.0,15790.0,15581.0,15837.0,15249.0,12364.0,11363.0,11402.0,11495.0,11360.0,10724.0,9965.0,8006.0,8003.0,8886.0,9736.0,10696.0,10739.0,10179.0,8296.0,7804.0,8200.0,8617.0,9004.0,9590.0,9467.0,8103.0,8216.0,9301.0,10604.0,11845.0,12993.0,12876.0,11435.0,11485.0,13034.0,15083.0,17149.0,18775.0,19551.0,17479.0,17956.0,20236.0,22769.0,24517.0,26128.0,26117.0,22978.0,22739.0,25292.0,28502.0,31341.0,34243.0,33886.0,29222.0,28200.0,29948.0,32017.0,34680.0,36959.0,38469.0,33307.0,34609.0,37891.0,42065.0,45041.0,47451.0,48647.0,40862.0,39854.0,42101.0,45145.0,46788.0,49383.0,48730.0,40449.0,38170.0,36069.0,37487.0,40835.0,44472.0,46027.0,39964.0,38005.0,37005.0,38852.0,40805.0,42657.0,42293.0,38923.0,36335.0,37149.0,38400.0,39565.0,40928.0,40261.0,34047.0,32915.0,33962.0,34831.0,34793.0,35001.0,33381.0,27613.0,26450.0,27999.0,29768.0,31515.0,33834.0,34642.0,30217.0,31314.0,33706.0,36139.0,37839.0,38940.0,38888.0,33638.0,34586.0,37742.0,41448.0,44160.0,46298.0,46235.0,39616.0,40296.0,43706.0,47204.0,49566.0,50762.0,49853.0,41629.0,36004.0,35327.0],\"yaxis\":\"y\",\"type\":\"scatter\"}],                        {\"template\":{\"data\":{\"histogram2dcontour\":[{\"type\":\"histogram2dcontour\",\"colorbar\":{\"outlinewidth\":0,\"ticks\":\"\"},\"colorscale\":[[0.0,\"#0d0887\"],[0.1111111111111111,\"#46039f\"],[0.2222222222222222,\"#7201a8\"],[0.3333333333333333,\"#9c179e\"],[0.4444444444444444,\"#bd3786\"],[0.5555555555555556,\"#d8576b\"],[0.6666666666666666,\"#ed7953\"],[0.7777777777777778,\"#fb9f3a\"],[0.8888888888888888,\"#fdca26\"],[1.0,\"#f0f921\"]]}],\"choropleth\":[{\"type\":\"choropleth\",\"colorbar\":{\"outlinewidth\":0,\"ticks\":\"\"}}],\"histogram2d\":[{\"type\":\"histogram2d\",\"colorbar\":{\"outlinewidth\":0,\"ticks\":\"\"},\"colorscale\":[[0.0,\"#0d0887\"],[0.1111111111111111,\"#46039f\"],[0.2222222222222222,\"#7201a8\"],[0.3333333333333333,\"#9c179e\"],[0.4444444444444444,\"#bd3786\"],[0.5555555555555556,\"#d8576b\"],[0.6666666666666666,\"#ed7953\"],[0.7777777777777778,\"#fb9f3a\"],[0.8888888888888888,\"#fdca26\"],[1.0,\"#f0f921\"]]}],\"heatmap\":[{\"type\":\"heatmap\",\"colorbar\":{\"outlinewidth\":0,\"ticks\":\"\"},\"colorscale\":[[0.0,\"#0d0887\"],[0.1111111111111111,\"#46039f\"],[0.2222222222222222,\"#7201a8\"],[0.3333333333333333,\"#9c179e\"],[0.4444444444444444,\"#bd3786\"],[0.5555555555555556,\"#d8576b\"],[0.6666666666666666,\"#ed7953\"],[0.7777777777777778,\"#fb9f3a\"],[0.8888888888888888,\"#fdca26\"],[1.0,\"#f0f921\"]]}],\"heatmapgl\":[{\"type\":\"heatmapgl\",\"colorbar\":{\"outlinewidth\":0,\"ticks\":\"\"},\"colorscale\":[[0.0,\"#0d0887\"],[0.1111111111111111,\"#46039f\"],[0.2222222222222222,\"#7201a8\"],[0.3333333333333333,\"#9c179e\"],[0.4444444444444444,\"#bd3786\"],[0.5555555555555556,\"#d8576b\"],[0.6666666666666666,\"#ed7953\"],[0.7777777777777778,\"#fb9f3a\"],[0.8888888888888888,\"#fdca26\"],[1.0,\"#f0f921\"]]}],\"contourcarpet\":[{\"type\":\"contourcarpet\",\"colorbar\":{\"outlinewidth\":0,\"ticks\":\"\"}}],\"contour\":[{\"type\":\"contour\",\"colorbar\":{\"outlinewidth\":0,\"ticks\":\"\"},\"colorscale\":[[0.0,\"#0d0887\"],[0.1111111111111111,\"#46039f\"],[0.2222222222222222,\"#7201a8\"],[0.3333333333333333,\"#9c179e\"],[0.4444444444444444,\"#bd3786\"],[0.5555555555555556,\"#d8576b\"],[0.6666666666666666,\"#ed7953\"],[0.7777777777777778,\"#fb9f3a\"],[0.8888888888888888,\"#fdca26\"],[1.0,\"#f0f921\"]]}],\"surface\":[{\"type\":\"surface\",\"colorbar\":{\"outlinewidth\":0,\"ticks\":\"\"},\"colorscale\":[[0.0,\"#0d0887\"],[0.1111111111111111,\"#46039f\"],[0.2222222222222222,\"#7201a8\"],[0.3333333333333333,\"#9c179e\"],[0.4444444444444444,\"#bd3786\"],[0.5555555555555556,\"#d8576b\"],[0.6666666666666666,\"#ed7953\"],[0.7777777777777778,\"#fb9f3a\"],[0.8888888888888888,\"#fdca26\"],[1.0,\"#f0f921\"]]}],\"mesh3d\":[{\"type\":\"mesh3d\",\"colorbar\":{\"outlinewidth\":0,\"ticks\":\"\"}}],\"scatter\":[{\"fillpattern\":{\"fillmode\":\"overlay\",\"size\":10,\"solidity\":0.2},\"type\":\"scatter\"}],\"parcoords\":[{\"type\":\"parcoords\",\"line\":{\"colorbar\":{\"outlinewidth\":0,\"ticks\":\"\"}}}],\"scatterpolargl\":[{\"type\":\"scatterpolargl\",\"marker\":{\"colorbar\":{\"outlinewidth\":0,\"ticks\":\"\"}}}],\"bar\":[{\"error_x\":{\"color\":\"#2a3f5f\"},\"error_y\":{\"color\":\"#2a3f5f\"},\"marker\":{\"line\":{\"color\":\"#E5ECF6\",\"width\":0.5},\"pattern\":{\"fillmode\":\"overlay\",\"size\":10,\"solidity\":0.2}},\"type\":\"bar\"}],\"scattergeo\":[{\"type\":\"scattergeo\",\"marker\":{\"colorbar\":{\"outlinewidth\":0,\"ticks\":\"\"}}}],\"scatterpolar\":[{\"type\":\"scatterpolar\",\"marker\":{\"colorbar\":{\"outlinewidth\":0,\"ticks\":\"\"}}}],\"histogram\":[{\"marker\":{\"pattern\":{\"fillmode\":\"overlay\",\"size\":10,\"solidity\":0.2}},\"type\":\"histogram\"}],\"scattergl\":[{\"type\":\"scattergl\",\"marker\":{\"colorbar\":{\"outlinewidth\":0,\"ticks\":\"\"}}}],\"scatter3d\":[{\"type\":\"scatter3d\",\"line\":{\"colorbar\":{\"outlinewidth\":0,\"ticks\":\"\"}},\"marker\":{\"colorbar\":{\"outlinewidth\":0,\"ticks\":\"\"}}}],\"scattermapbox\":[{\"type\":\"scattermapbox\",\"marker\":{\"colorbar\":{\"outlinewidth\":0,\"ticks\":\"\"}}}],\"scatterternary\":[{\"type\":\"scatterternary\",\"marker\":{\"colorbar\":{\"outlinewidth\":0,\"ticks\":\"\"}}}],\"scattercarpet\":[{\"type\":\"scattercarpet\",\"marker\":{\"colorbar\":{\"outlinewidth\":0,\"ticks\":\"\"}}}],\"carpet\":[{\"aaxis\":{\"endlinecolor\":\"#2a3f5f\",\"gridcolor\":\"white\",\"linecolor\":\"white\",\"minorgridcolor\":\"white\",\"startlinecolor\":\"#2a3f5f\"},\"baxis\":{\"endlinecolor\":\"#2a3f5f\",\"gridcolor\":\"white\",\"linecolor\":\"white\",\"minorgridcolor\":\"white\",\"startlinecolor\":\"#2a3f5f\"},\"type\":\"carpet\"}],\"table\":[{\"cells\":{\"fill\":{\"color\":\"#EBF0F8\"},\"line\":{\"color\":\"white\"}},\"header\":{\"fill\":{\"color\":\"#C8D4E3\"},\"line\":{\"color\":\"white\"}},\"type\":\"table\"}],\"barpolar\":[{\"marker\":{\"line\":{\"color\":\"#E5ECF6\",\"width\":0.5},\"pattern\":{\"fillmode\":\"overlay\",\"size\":10,\"solidity\":0.2}},\"type\":\"barpolar\"}],\"pie\":[{\"automargin\":true,\"type\":\"pie\"}]},\"layout\":{\"autotypenumbers\":\"strict\",\"colorway\":[\"#636efa\",\"#EF553B\",\"#00cc96\",\"#ab63fa\",\"#FFA15A\",\"#19d3f3\",\"#FF6692\",\"#B6E880\",\"#FF97FF\",\"#FECB52\"],\"font\":{\"color\":\"#2a3f5f\"},\"hovermode\":\"closest\",\"hoverlabel\":{\"align\":\"left\"},\"paper_bgcolor\":\"white\",\"plot_bgcolor\":\"#E5ECF6\",\"polar\":{\"bgcolor\":\"#E5ECF6\",\"angularaxis\":{\"gridcolor\":\"white\",\"linecolor\":\"white\",\"ticks\":\"\"},\"radialaxis\":{\"gridcolor\":\"white\",\"linecolor\":\"white\",\"ticks\":\"\"}},\"ternary\":{\"bgcolor\":\"#E5ECF6\",\"aaxis\":{\"gridcolor\":\"white\",\"linecolor\":\"white\",\"ticks\":\"\"},\"baxis\":{\"gridcolor\":\"white\",\"linecolor\":\"white\",\"ticks\":\"\"},\"caxis\":{\"gridcolor\":\"white\",\"linecolor\":\"white\",\"ticks\":\"\"}},\"coloraxis\":{\"colorbar\":{\"outlinewidth\":0,\"ticks\":\"\"}},\"colorscale\":{\"sequential\":[[0.0,\"#0d0887\"],[0.1111111111111111,\"#46039f\"],[0.2222222222222222,\"#7201a8\"],[0.3333333333333333,\"#9c179e\"],[0.4444444444444444,\"#bd3786\"],[0.5555555555555556,\"#d8576b\"],[0.6666666666666666,\"#ed7953\"],[0.7777777777777778,\"#fb9f3a\"],[0.8888888888888888,\"#fdca26\"],[1.0,\"#f0f921\"]],\"sequentialminus\":[[0.0,\"#0d0887\"],[0.1111111111111111,\"#46039f\"],[0.2222222222222222,\"#7201a8\"],[0.3333333333333333,\"#9c179e\"],[0.4444444444444444,\"#bd3786\"],[0.5555555555555556,\"#d8576b\"],[0.6666666666666666,\"#ed7953\"],[0.7777777777777778,\"#fb9f3a\"],[0.8888888888888888,\"#fdca26\"],[1.0,\"#f0f921\"]],\"diverging\":[[0,\"#8e0152\"],[0.1,\"#c51b7d\"],[0.2,\"#de77ae\"],[0.3,\"#f1b6da\"],[0.4,\"#fde0ef\"],[0.5,\"#f7f7f7\"],[0.6,\"#e6f5d0\"],[0.7,\"#b8e186\"],[0.8,\"#7fbc41\"],[0.9,\"#4d9221\"],[1,\"#276419\"]]},\"xaxis\":{\"gridcolor\":\"white\",\"linecolor\":\"white\",\"ticks\":\"\",\"title\":{\"standoff\":15},\"zerolinecolor\":\"white\",\"automargin\":true,\"zerolinewidth\":2},\"yaxis\":{\"gridcolor\":\"white\",\"linecolor\":\"white\",\"ticks\":\"\",\"title\":{\"standoff\":15},\"zerolinecolor\":\"white\",\"automargin\":true,\"zerolinewidth\":2},\"scene\":{\"xaxis\":{\"backgroundcolor\":\"#E5ECF6\",\"gridcolor\":\"white\",\"linecolor\":\"white\",\"showbackground\":true,\"ticks\":\"\",\"zerolinecolor\":\"white\",\"gridwidth\":2},\"yaxis\":{\"backgroundcolor\":\"#E5ECF6\",\"gridcolor\":\"white\",\"linecolor\":\"white\",\"showbackground\":true,\"ticks\":\"\",\"zerolinecolor\":\"white\",\"gridwidth\":2},\"zaxis\":{\"backgroundcolor\":\"#E5ECF6\",\"gridcolor\":\"white\",\"linecolor\":\"white\",\"showbackground\":true,\"ticks\":\"\",\"zerolinecolor\":\"white\",\"gridwidth\":2}},\"shapedefaults\":{\"line\":{\"color\":\"#2a3f5f\"}},\"annotationdefaults\":{\"arrowcolor\":\"#2a3f5f\",\"arrowhead\":0,\"arrowwidth\":1},\"geo\":{\"bgcolor\":\"white\",\"landcolor\":\"#E5ECF6\",\"subunitcolor\":\"white\",\"showland\":true,\"showlakes\":true,\"lakecolor\":\"white\"},\"title\":{\"x\":0.05},\"mapbox\":{\"style\":\"light\"}}},\"xaxis\":{\"anchor\":\"y\",\"domain\":[0.0,1.0],\"title\":{\"text\":\"Fecha\"}},\"yaxis\":{\"anchor\":\"x\",\"domain\":[0.0,1.0],\"title\":{\"text\":\"Casos activos\"}},\"legend\":{\"tracegroupgap\":0},\"title\":{\"text\":\"Casos Totales Acumulados\"}},                        {\"responsive\": true}                    ).then(function(){\n",
       "                            \n",
       "var gd = document.getElementById('2ed7f22a-186a-4936-9443-cc28332efe59');\n",
       "var x = new MutationObserver(function (mutations, observer) {{\n",
       "        var display = window.getComputedStyle(gd).display;\n",
       "        if (!display || display === 'none') {{\n",
       "            console.log([gd, 'removed!']);\n",
       "            Plotly.purge(gd);\n",
       "            observer.disconnect();\n",
       "        }}\n",
       "}});\n",
       "\n",
       "// Listen for the removal of the full notebook cells\n",
       "var notebookContainer = gd.closest('#notebook-container');\n",
       "if (notebookContainer) {{\n",
       "    x.observe(notebookContainer, {childList: true});\n",
       "}}\n",
       "\n",
       "// Listen for the clearing of the current output cell\n",
       "var outputEl = gd.closest('.output');\n",
       "if (outputEl) {{\n",
       "    x.observe(outputEl, {childList: true});\n",
       "}}\n",
       "\n",
       "                        })                };                });            </script>        </div>"
      ]
     },
     "metadata": {},
     "output_type": "display_data"
    }
   ],
   "source": [
    "get_linetotal(dataTotal)"
   ]
  },
  {
   "cell_type": "code",
   "execution_count": 68,
   "id": "40595620-92c8-4a7d-a617-a56e7f55223f",
   "metadata": {},
   "outputs": [
    {
     "data": {
      "text/html": [
       "<div>\n",
       "<style scoped>\n",
       "    .dataframe tbody tr th:only-of-type {\n",
       "        vertical-align: middle;\n",
       "    }\n",
       "\n",
       "    .dataframe tbody tr th {\n",
       "        vertical-align: top;\n",
       "    }\n",
       "\n",
       "    .dataframe thead th {\n",
       "        text-align: right;\n",
       "    }\n",
       "</style>\n",
       "<table border=\"1\" class=\"dataframe\">\n",
       "  <thead>\n",
       "    <tr style=\"text-align: right;\">\n",
       "      <th></th>\n",
       "      <th>country</th>\n",
       "      <th>continent</th>\n",
       "      <th>year</th>\n",
       "      <th>lifeExp</th>\n",
       "      <th>pop</th>\n",
       "      <th>gdpPercap</th>\n",
       "      <th>iso_alpha</th>\n",
       "      <th>iso_num</th>\n",
       "    </tr>\n",
       "  </thead>\n",
       "  <tbody>\n",
       "    <tr>\n",
       "      <th>240</th>\n",
       "      <td>Canada</td>\n",
       "      <td>Americas</td>\n",
       "      <td>1952</td>\n",
       "      <td>68.750</td>\n",
       "      <td>14785584</td>\n",
       "      <td>11367.16112</td>\n",
       "      <td>CAN</td>\n",
       "      <td>124</td>\n",
       "    </tr>\n",
       "    <tr>\n",
       "      <th>241</th>\n",
       "      <td>Canada</td>\n",
       "      <td>Americas</td>\n",
       "      <td>1957</td>\n",
       "      <td>69.960</td>\n",
       "      <td>17010154</td>\n",
       "      <td>12489.95006</td>\n",
       "      <td>CAN</td>\n",
       "      <td>124</td>\n",
       "    </tr>\n",
       "    <tr>\n",
       "      <th>242</th>\n",
       "      <td>Canada</td>\n",
       "      <td>Americas</td>\n",
       "      <td>1962</td>\n",
       "      <td>71.300</td>\n",
       "      <td>18985849</td>\n",
       "      <td>13462.48555</td>\n",
       "      <td>CAN</td>\n",
       "      <td>124</td>\n",
       "    </tr>\n",
       "    <tr>\n",
       "      <th>243</th>\n",
       "      <td>Canada</td>\n",
       "      <td>Americas</td>\n",
       "      <td>1967</td>\n",
       "      <td>72.130</td>\n",
       "      <td>20819767</td>\n",
       "      <td>16076.58803</td>\n",
       "      <td>CAN</td>\n",
       "      <td>124</td>\n",
       "    </tr>\n",
       "    <tr>\n",
       "      <th>244</th>\n",
       "      <td>Canada</td>\n",
       "      <td>Americas</td>\n",
       "      <td>1972</td>\n",
       "      <td>72.880</td>\n",
       "      <td>22284500</td>\n",
       "      <td>18970.57086</td>\n",
       "      <td>CAN</td>\n",
       "      <td>124</td>\n",
       "    </tr>\n",
       "    <tr>\n",
       "      <th>245</th>\n",
       "      <td>Canada</td>\n",
       "      <td>Americas</td>\n",
       "      <td>1977</td>\n",
       "      <td>74.210</td>\n",
       "      <td>23796400</td>\n",
       "      <td>22090.88306</td>\n",
       "      <td>CAN</td>\n",
       "      <td>124</td>\n",
       "    </tr>\n",
       "    <tr>\n",
       "      <th>246</th>\n",
       "      <td>Canada</td>\n",
       "      <td>Americas</td>\n",
       "      <td>1982</td>\n",
       "      <td>75.760</td>\n",
       "      <td>25201900</td>\n",
       "      <td>22898.79214</td>\n",
       "      <td>CAN</td>\n",
       "      <td>124</td>\n",
       "    </tr>\n",
       "    <tr>\n",
       "      <th>247</th>\n",
       "      <td>Canada</td>\n",
       "      <td>Americas</td>\n",
       "      <td>1987</td>\n",
       "      <td>76.860</td>\n",
       "      <td>26549700</td>\n",
       "      <td>26626.51503</td>\n",
       "      <td>CAN</td>\n",
       "      <td>124</td>\n",
       "    </tr>\n",
       "    <tr>\n",
       "      <th>248</th>\n",
       "      <td>Canada</td>\n",
       "      <td>Americas</td>\n",
       "      <td>1992</td>\n",
       "      <td>77.950</td>\n",
       "      <td>28523502</td>\n",
       "      <td>26342.88426</td>\n",
       "      <td>CAN</td>\n",
       "      <td>124</td>\n",
       "    </tr>\n",
       "    <tr>\n",
       "      <th>249</th>\n",
       "      <td>Canada</td>\n",
       "      <td>Americas</td>\n",
       "      <td>1997</td>\n",
       "      <td>78.610</td>\n",
       "      <td>30305843</td>\n",
       "      <td>28954.92589</td>\n",
       "      <td>CAN</td>\n",
       "      <td>124</td>\n",
       "    </tr>\n",
       "    <tr>\n",
       "      <th>250</th>\n",
       "      <td>Canada</td>\n",
       "      <td>Americas</td>\n",
       "      <td>2002</td>\n",
       "      <td>79.770</td>\n",
       "      <td>31902268</td>\n",
       "      <td>33328.96507</td>\n",
       "      <td>CAN</td>\n",
       "      <td>124</td>\n",
       "    </tr>\n",
       "    <tr>\n",
       "      <th>251</th>\n",
       "      <td>Canada</td>\n",
       "      <td>Americas</td>\n",
       "      <td>2007</td>\n",
       "      <td>80.653</td>\n",
       "      <td>33390141</td>\n",
       "      <td>36319.23501</td>\n",
       "      <td>CAN</td>\n",
       "      <td>124</td>\n",
       "    </tr>\n",
       "  </tbody>\n",
       "</table>\n",
       "</div>"
      ],
      "text/plain": [
       "    country continent  year  lifeExp       pop    gdpPercap iso_alpha  iso_num\n",
       "240  Canada  Americas  1952   68.750  14785584  11367.16112       CAN      124\n",
       "241  Canada  Americas  1957   69.960  17010154  12489.95006       CAN      124\n",
       "242  Canada  Americas  1962   71.300  18985849  13462.48555       CAN      124\n",
       "243  Canada  Americas  1967   72.130  20819767  16076.58803       CAN      124\n",
       "244  Canada  Americas  1972   72.880  22284500  18970.57086       CAN      124\n",
       "245  Canada  Americas  1977   74.210  23796400  22090.88306       CAN      124\n",
       "246  Canada  Americas  1982   75.760  25201900  22898.79214       CAN      124\n",
       "247  Canada  Americas  1987   76.860  26549700  26626.51503       CAN      124\n",
       "248  Canada  Americas  1992   77.950  28523502  26342.88426       CAN      124\n",
       "249  Canada  Americas  1997   78.610  30305843  28954.92589       CAN      124\n",
       "250  Canada  Americas  2002   79.770  31902268  33328.96507       CAN      124\n",
       "251  Canada  Americas  2007   80.653  33390141  36319.23501       CAN      124"
      ]
     },
     "execution_count": 68,
     "metadata": {},
     "output_type": "execute_result"
    }
   ],
   "source": [
    "df"
   ]
  },
  {
   "cell_type": "code",
   "execution_count": null,
   "id": "7ccb09a9-e52e-4f1e-a991-43a04fbd2693",
   "metadata": {},
   "outputs": [],
   "source": []
  }
 ],
 "metadata": {
  "kernelspec": {
   "display_name": "Python 3 (ipykernel)",
   "language": "python",
   "name": "python3"
  },
  "language_info": {
   "codemirror_mode": {
    "name": "ipython",
    "version": 3
   },
   "file_extension": ".py",
   "mimetype": "text/x-python",
   "name": "python",
   "nbconvert_exporter": "python",
   "pygments_lexer": "ipython3",
   "version": "3.8.5"
  }
 },
 "nbformat": 4,
 "nbformat_minor": 5
}
