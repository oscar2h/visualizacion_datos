{
 "cells": [
  {
   "cell_type": "code",
   "execution_count": 1,
   "id": "f234da2e-290f-4ebe-a258-8c9d36f02d13",
   "metadata": {},
   "outputs": [],
   "source": [
    "import numpy as np\n",
    "import pandas as pd\n",
    "import matplotlib.pyplot as plt\n",
    "import seaborn as sns\n",
    "from datetime import datetime\n",
    "import plotly.express as px"
   ]
  },
  {
   "cell_type": "code",
   "execution_count": 46,
   "id": "20242d0d-a0c0-4dc7-8eaf-2d2bd9848df0",
   "metadata": {},
   "outputs": [],
   "source": [
    "date = '2022-08-26'"
   ]
  },
  {
   "cell_type": "code",
   "execution_count": 13,
   "id": "79f14679-45c3-496c-8af5-e3fa78b9e734",
   "metadata": {},
   "outputs": [
    {
     "data": {
      "text/html": [
       "<div>\n",
       "<style scoped>\n",
       "    .dataframe tbody tr th:only-of-type {\n",
       "        vertical-align: middle;\n",
       "    }\n",
       "\n",
       "    .dataframe tbody tr th {\n",
       "        vertical-align: top;\n",
       "    }\n",
       "\n",
       "    .dataframe thead th {\n",
       "        text-align: right;\n",
       "    }\n",
       "</style>\n",
       "<table border=\"1\" class=\"dataframe\">\n",
       "  <thead>\n",
       "    <tr style=\"text-align: right;\">\n",
       "      <th></th>\n",
       "      <th>Region</th>\n",
       "      <th>Codigo region</th>\n",
       "      <th>Comuna</th>\n",
       "      <th>Codigo comuna</th>\n",
       "      <th>Poblacion</th>\n",
       "      <th>Fecha</th>\n",
       "      <th>Casos</th>\n",
       "    </tr>\n",
       "  </thead>\n",
       "  <tbody>\n",
       "    <tr>\n",
       "      <th>91937</th>\n",
       "      <td>Magallanes</td>\n",
       "      <td>12</td>\n",
       "      <td>Cabo de Hornos</td>\n",
       "      <td>12201.0</td>\n",
       "      <td>1983.0</td>\n",
       "      <td>2022-08-26</td>\n",
       "      <td>670.0</td>\n",
       "    </tr>\n",
       "    <tr>\n",
       "      <th>91938</th>\n",
       "      <td>Magallanes</td>\n",
       "      <td>12</td>\n",
       "      <td>Laguna Blanca</td>\n",
       "      <td>12102.0</td>\n",
       "      <td>264.0</td>\n",
       "      <td>2022-08-26</td>\n",
       "      <td>50.0</td>\n",
       "    </tr>\n",
       "    <tr>\n",
       "      <th>91939</th>\n",
       "      <td>Magallanes</td>\n",
       "      <td>12</td>\n",
       "      <td>Natales</td>\n",
       "      <td>12401.0</td>\n",
       "      <td>23782.0</td>\n",
       "      <td>2022-08-26</td>\n",
       "      <td>10271.0</td>\n",
       "    </tr>\n",
       "    <tr>\n",
       "      <th>91940</th>\n",
       "      <td>Magallanes</td>\n",
       "      <td>12</td>\n",
       "      <td>Porvenir</td>\n",
       "      <td>12301.0</td>\n",
       "      <td>7323.0</td>\n",
       "      <td>2022-08-26</td>\n",
       "      <td>2332.0</td>\n",
       "    </tr>\n",
       "    <tr>\n",
       "      <th>91941</th>\n",
       "      <td>Magallanes</td>\n",
       "      <td>12</td>\n",
       "      <td>Primavera</td>\n",
       "      <td>12302.0</td>\n",
       "      <td>694.0</td>\n",
       "      <td>2022-08-26</td>\n",
       "      <td>93.0</td>\n",
       "    </tr>\n",
       "    <tr>\n",
       "      <th>91942</th>\n",
       "      <td>Magallanes</td>\n",
       "      <td>12</td>\n",
       "      <td>Punta Arenas</td>\n",
       "      <td>12101.0</td>\n",
       "      <td>141984.0</td>\n",
       "      <td>2022-08-26</td>\n",
       "      <td>51188.0</td>\n",
       "    </tr>\n",
       "    <tr>\n",
       "      <th>91943</th>\n",
       "      <td>Magallanes</td>\n",
       "      <td>12</td>\n",
       "      <td>Rio Verde</td>\n",
       "      <td>12103.0</td>\n",
       "      <td>211.0</td>\n",
       "      <td>2022-08-26</td>\n",
       "      <td>39.0</td>\n",
       "    </tr>\n",
       "    <tr>\n",
       "      <th>91944</th>\n",
       "      <td>Magallanes</td>\n",
       "      <td>12</td>\n",
       "      <td>San Gregorio</td>\n",
       "      <td>12104.0</td>\n",
       "      <td>681.0</td>\n",
       "      <td>2022-08-26</td>\n",
       "      <td>145.0</td>\n",
       "    </tr>\n",
       "    <tr>\n",
       "      <th>91945</th>\n",
       "      <td>Magallanes</td>\n",
       "      <td>12</td>\n",
       "      <td>Timaukel</td>\n",
       "      <td>12303.0</td>\n",
       "      <td>282.0</td>\n",
       "      <td>2022-08-26</td>\n",
       "      <td>52.0</td>\n",
       "    </tr>\n",
       "    <tr>\n",
       "      <th>91946</th>\n",
       "      <td>Magallanes</td>\n",
       "      <td>12</td>\n",
       "      <td>Torres del Paine</td>\n",
       "      <td>12402.0</td>\n",
       "      <td>1021.0</td>\n",
       "      <td>2022-08-26</td>\n",
       "      <td>107.0</td>\n",
       "    </tr>\n",
       "  </tbody>\n",
       "</table>\n",
       "</div>"
      ],
      "text/plain": [
       "           Region  Codigo region            Comuna  Codigo comuna  Poblacion  \\\n",
       "91937  Magallanes             12    Cabo de Hornos        12201.0     1983.0   \n",
       "91938  Magallanes             12     Laguna Blanca        12102.0      264.0   \n",
       "91939  Magallanes             12           Natales        12401.0    23782.0   \n",
       "91940  Magallanes             12          Porvenir        12301.0     7323.0   \n",
       "91941  Magallanes             12         Primavera        12302.0      694.0   \n",
       "91942  Magallanes             12      Punta Arenas        12101.0   141984.0   \n",
       "91943  Magallanes             12         Rio Verde        12103.0      211.0   \n",
       "91944  Magallanes             12      San Gregorio        12104.0      681.0   \n",
       "91945  Magallanes             12          Timaukel        12303.0      282.0   \n",
       "91946  Magallanes             12  Torres del Paine        12402.0     1021.0   \n",
       "\n",
       "            Fecha    Casos  \n",
       "91937  2022-08-26    670.0  \n",
       "91938  2022-08-26     50.0  \n",
       "91939  2022-08-26  10271.0  \n",
       "91940  2022-08-26   2332.0  \n",
       "91941  2022-08-26     93.0  \n",
       "91942  2022-08-26  51188.0  \n",
       "91943  2022-08-26     39.0  \n",
       "91944  2022-08-26    145.0  \n",
       "91945  2022-08-26     52.0  \n",
       "91946  2022-08-26    107.0  "
      ]
     },
     "execution_count": 13,
     "metadata": {},
     "output_type": "execute_result"
    }
   ],
   "source": [
    "dataTotalComunas = pd.read_csv(\"https://raw.githubusercontent.com/MinCiencia/Datos-COVID19/master/output/producto1/Covid-19.csv\")\n",
    "dataTotalComunas = dataTotalComunas.drop(\"Tasa\", axis=1)\n",
    "dataTotalComunas = dataTotalComunas.melt(['Region','Codigo region','Comuna','Codigo comuna', 'Poblacion'], var_name='Fecha')\n",
    "dataTotalComunas=dataTotalComunas.rename(columns = {'value': 'Casos'}, inplace = False)\n",
    "dataTotalComunas= dataTotalComunas.loc[(dataTotalComunas[\"Codigo comuna\"].notnull())]\n",
    "dataTotalComunas.tail(10)"
   ]
  },
  {
   "cell_type": "code",
   "execution_count": 12,
   "id": "bfc53de0-4e59-4db0-8804-8bc2ca8112e7",
   "metadata": {},
   "outputs": [
    {
     "data": {
      "text/html": [
       "<div>\n",
       "<style scoped>\n",
       "    .dataframe tbody tr th:only-of-type {\n",
       "        vertical-align: middle;\n",
       "    }\n",
       "\n",
       "    .dataframe tbody tr th {\n",
       "        vertical-align: top;\n",
       "    }\n",
       "\n",
       "    .dataframe thead th {\n",
       "        text-align: right;\n",
       "    }\n",
       "</style>\n",
       "<table border=\"1\" class=\"dataframe\">\n",
       "  <thead>\n",
       "    <tr style=\"text-align: right;\">\n",
       "      <th></th>\n",
       "      <th>Region</th>\n",
       "      <th>Codigo region</th>\n",
       "      <th>Comuna</th>\n",
       "      <th>Codigo comuna</th>\n",
       "      <th>Poblacion</th>\n",
       "      <th>Fecha</th>\n",
       "      <th>Fallecidos</th>\n",
       "    </tr>\n",
       "  </thead>\n",
       "  <tbody>\n",
       "    <tr>\n",
       "      <th>86928</th>\n",
       "      <td>Magallanes y la Antartica</td>\n",
       "      <td>12</td>\n",
       "      <td>Cabo de Hornos</td>\n",
       "      <td>12201.0</td>\n",
       "      <td>1983.0</td>\n",
       "      <td>2022-08-26</td>\n",
       "      <td>2.0</td>\n",
       "    </tr>\n",
       "    <tr>\n",
       "      <th>86929</th>\n",
       "      <td>Magallanes y la Antartica</td>\n",
       "      <td>12</td>\n",
       "      <td>Laguna Blanca</td>\n",
       "      <td>12102.0</td>\n",
       "      <td>264.0</td>\n",
       "      <td>2022-08-26</td>\n",
       "      <td>0.0</td>\n",
       "    </tr>\n",
       "    <tr>\n",
       "      <th>86930</th>\n",
       "      <td>Magallanes y la Antartica</td>\n",
       "      <td>12</td>\n",
       "      <td>Natales</td>\n",
       "      <td>12401.0</td>\n",
       "      <td>23782.0</td>\n",
       "      <td>2022-08-26</td>\n",
       "      <td>140.0</td>\n",
       "    </tr>\n",
       "    <tr>\n",
       "      <th>86931</th>\n",
       "      <td>Magallanes y la Antartica</td>\n",
       "      <td>12</td>\n",
       "      <td>Porvenir</td>\n",
       "      <td>12301.0</td>\n",
       "      <td>7323.0</td>\n",
       "      <td>2022-08-26</td>\n",
       "      <td>31.0</td>\n",
       "    </tr>\n",
       "    <tr>\n",
       "      <th>86932</th>\n",
       "      <td>Magallanes y la Antartica</td>\n",
       "      <td>12</td>\n",
       "      <td>Primavera</td>\n",
       "      <td>12302.0</td>\n",
       "      <td>694.0</td>\n",
       "      <td>2022-08-26</td>\n",
       "      <td>3.0</td>\n",
       "    </tr>\n",
       "    <tr>\n",
       "      <th>86933</th>\n",
       "      <td>Magallanes y la Antartica</td>\n",
       "      <td>12</td>\n",
       "      <td>Punta Arenas</td>\n",
       "      <td>12101.0</td>\n",
       "      <td>141984.0</td>\n",
       "      <td>2022-08-26</td>\n",
       "      <td>804.0</td>\n",
       "    </tr>\n",
       "    <tr>\n",
       "      <th>86934</th>\n",
       "      <td>Magallanes y la Antartica</td>\n",
       "      <td>12</td>\n",
       "      <td>Rio Verde</td>\n",
       "      <td>12103.0</td>\n",
       "      <td>211.0</td>\n",
       "      <td>2022-08-26</td>\n",
       "      <td>0.0</td>\n",
       "    </tr>\n",
       "    <tr>\n",
       "      <th>86935</th>\n",
       "      <td>Magallanes y la Antartica</td>\n",
       "      <td>12</td>\n",
       "      <td>San Gregorio</td>\n",
       "      <td>12104.0</td>\n",
       "      <td>681.0</td>\n",
       "      <td>2022-08-26</td>\n",
       "      <td>3.0</td>\n",
       "    </tr>\n",
       "    <tr>\n",
       "      <th>86936</th>\n",
       "      <td>Magallanes y la Antartica</td>\n",
       "      <td>12</td>\n",
       "      <td>Timaukel</td>\n",
       "      <td>12303.0</td>\n",
       "      <td>282.0</td>\n",
       "      <td>2022-08-26</td>\n",
       "      <td>0.0</td>\n",
       "    </tr>\n",
       "    <tr>\n",
       "      <th>86937</th>\n",
       "      <td>Magallanes y la Antartica</td>\n",
       "      <td>12</td>\n",
       "      <td>Torres del Paine</td>\n",
       "      <td>12402.0</td>\n",
       "      <td>1021.0</td>\n",
       "      <td>2022-08-26</td>\n",
       "      <td>0.0</td>\n",
       "    </tr>\n",
       "  </tbody>\n",
       "</table>\n",
       "</div>"
      ],
      "text/plain": [
       "                          Region  Codigo region            Comuna  \\\n",
       "86928  Magallanes y la Antartica             12    Cabo de Hornos   \n",
       "86929  Magallanes y la Antartica             12     Laguna Blanca   \n",
       "86930  Magallanes y la Antartica             12           Natales   \n",
       "86931  Magallanes y la Antartica             12          Porvenir   \n",
       "86932  Magallanes y la Antartica             12         Primavera   \n",
       "86933  Magallanes y la Antartica             12      Punta Arenas   \n",
       "86934  Magallanes y la Antartica             12         Rio Verde   \n",
       "86935  Magallanes y la Antartica             12      San Gregorio   \n",
       "86936  Magallanes y la Antartica             12          Timaukel   \n",
       "86937  Magallanes y la Antartica             12  Torres del Paine   \n",
       "\n",
       "       Codigo comuna  Poblacion       Fecha  Fallecidos  \n",
       "86928        12201.0     1983.0  2022-08-26         2.0  \n",
       "86929        12102.0      264.0  2022-08-26         0.0  \n",
       "86930        12401.0    23782.0  2022-08-26       140.0  \n",
       "86931        12301.0     7323.0  2022-08-26        31.0  \n",
       "86932        12302.0      694.0  2022-08-26         3.0  \n",
       "86933        12101.0   141984.0  2022-08-26       804.0  \n",
       "86934        12103.0      211.0  2022-08-26         0.0  \n",
       "86935        12104.0      681.0  2022-08-26         3.0  \n",
       "86936        12303.0      282.0  2022-08-26         0.0  \n",
       "86937        12402.0     1021.0  2022-08-26         0.0  "
      ]
     },
     "execution_count": 12,
     "metadata": {},
     "output_type": "execute_result"
    }
   ],
   "source": [
    "dataTotalFallecidos = pd.read_csv(\"https://raw.githubusercontent.com/MinCiencia/Datos-COVID19/master/output/producto38/CasosFallecidosPorComuna.csv\")\n",
    "dataTotalFallecidos = dataTotalFallecidos.melt(['Region','Codigo region','Comuna','Codigo comuna', 'Poblacion'], var_name='Fecha')\n",
    "dataTotalFallecidos=dataTotalFallecidos.rename(columns = {'value': 'Fallecidos'}, inplace = False)\n",
    "dataTotalFallecidos= dataTotalFallecidos.loc[(dataTotalFallecidos[\"Codigo comuna\"].notnull())]\n",
    "dataTotalFallecidos.tail(10)"
   ]
  },
  {
   "cell_type": "code",
   "execution_count": 38,
   "id": "71c3f4de-8468-4171-a0bc-3055d7988d4f",
   "metadata": {},
   "outputs": [
    {
     "data": {
      "text/html": [
       "<div>\n",
       "<style scoped>\n",
       "    .dataframe tbody tr th:only-of-type {\n",
       "        vertical-align: middle;\n",
       "    }\n",
       "\n",
       "    .dataframe tbody tr th {\n",
       "        vertical-align: top;\n",
       "    }\n",
       "\n",
       "    .dataframe thead th {\n",
       "        text-align: right;\n",
       "    }\n",
       "</style>\n",
       "<table border=\"1\" class=\"dataframe\">\n",
       "  <thead>\n",
       "    <tr style=\"text-align: right;\">\n",
       "      <th></th>\n",
       "      <th>Region</th>\n",
       "      <th>Codigo region</th>\n",
       "      <th>Comuna</th>\n",
       "      <th>Codigo comuna</th>\n",
       "      <th>Poblacion</th>\n",
       "      <th>Fecha</th>\n",
       "      <th>Casos</th>\n",
       "    </tr>\n",
       "  </thead>\n",
       "  <tbody>\n",
       "    <tr>\n",
       "      <th>91814</th>\n",
       "      <td>Biobío</td>\n",
       "      <td>8</td>\n",
       "      <td>Alto Biobio</td>\n",
       "      <td>8314.0</td>\n",
       "      <td>6775.0</td>\n",
       "      <td>2022-08-26</td>\n",
       "      <td>1472.0</td>\n",
       "    </tr>\n",
       "    <tr>\n",
       "      <th>91815</th>\n",
       "      <td>Biobío</td>\n",
       "      <td>8</td>\n",
       "      <td>Antuco</td>\n",
       "      <td>8302.0</td>\n",
       "      <td>4306.0</td>\n",
       "      <td>2022-08-26</td>\n",
       "      <td>1069.0</td>\n",
       "    </tr>\n",
       "    <tr>\n",
       "      <th>91816</th>\n",
       "      <td>Biobío</td>\n",
       "      <td>8</td>\n",
       "      <td>Arauco</td>\n",
       "      <td>8202.0</td>\n",
       "      <td>38679.0</td>\n",
       "      <td>2022-08-26</td>\n",
       "      <td>13441.0</td>\n",
       "    </tr>\n",
       "    <tr>\n",
       "      <th>91817</th>\n",
       "      <td>Biobío</td>\n",
       "      <td>8</td>\n",
       "      <td>Cabrero</td>\n",
       "      <td>8303.0</td>\n",
       "      <td>30725.0</td>\n",
       "      <td>2022-08-26</td>\n",
       "      <td>7797.0</td>\n",
       "    </tr>\n",
       "    <tr>\n",
       "      <th>91818</th>\n",
       "      <td>Biobío</td>\n",
       "      <td>8</td>\n",
       "      <td>Canete</td>\n",
       "      <td>8203.0</td>\n",
       "      <td>37003.0</td>\n",
       "      <td>2022-08-26</td>\n",
       "      <td>9763.0</td>\n",
       "    </tr>\n",
       "    <tr>\n",
       "      <th>91819</th>\n",
       "      <td>Biobío</td>\n",
       "      <td>8</td>\n",
       "      <td>Chiguayante</td>\n",
       "      <td>8103.0</td>\n",
       "      <td>91180.0</td>\n",
       "      <td>2022-08-26</td>\n",
       "      <td>26237.0</td>\n",
       "    </tr>\n",
       "    <tr>\n",
       "      <th>91820</th>\n",
       "      <td>Biobío</td>\n",
       "      <td>8</td>\n",
       "      <td>Concepcion</td>\n",
       "      <td>8101.0</td>\n",
       "      <td>238092.0</td>\n",
       "      <td>2022-08-26</td>\n",
       "      <td>75571.0</td>\n",
       "    </tr>\n",
       "    <tr>\n",
       "      <th>91821</th>\n",
       "      <td>Biobío</td>\n",
       "      <td>8</td>\n",
       "      <td>Contulmo</td>\n",
       "      <td>8204.0</td>\n",
       "      <td>6330.0</td>\n",
       "      <td>2022-08-26</td>\n",
       "      <td>1741.0</td>\n",
       "    </tr>\n",
       "    <tr>\n",
       "      <th>91822</th>\n",
       "      <td>Biobío</td>\n",
       "      <td>8</td>\n",
       "      <td>Coronel</td>\n",
       "      <td>8102.0</td>\n",
       "      <td>125829.0</td>\n",
       "      <td>2022-08-26</td>\n",
       "      <td>33110.0</td>\n",
       "    </tr>\n",
       "    <tr>\n",
       "      <th>91823</th>\n",
       "      <td>Biobío</td>\n",
       "      <td>8</td>\n",
       "      <td>Curanilahue</td>\n",
       "      <td>8205.0</td>\n",
       "      <td>33892.0</td>\n",
       "      <td>2022-08-26</td>\n",
       "      <td>9470.0</td>\n",
       "    </tr>\n",
       "    <tr>\n",
       "      <th>91824</th>\n",
       "      <td>Biobío</td>\n",
       "      <td>8</td>\n",
       "      <td>Florida</td>\n",
       "      <td>8104.0</td>\n",
       "      <td>11841.0</td>\n",
       "      <td>2022-08-26</td>\n",
       "      <td>2991.0</td>\n",
       "    </tr>\n",
       "    <tr>\n",
       "      <th>91825</th>\n",
       "      <td>Biobío</td>\n",
       "      <td>8</td>\n",
       "      <td>Hualpen</td>\n",
       "      <td>8112.0</td>\n",
       "      <td>97273.0</td>\n",
       "      <td>2022-08-26</td>\n",
       "      <td>30058.0</td>\n",
       "    </tr>\n",
       "    <tr>\n",
       "      <th>91826</th>\n",
       "      <td>Biobío</td>\n",
       "      <td>8</td>\n",
       "      <td>Hualqui</td>\n",
       "      <td>8105.0</td>\n",
       "      <td>26201.0</td>\n",
       "      <td>2022-08-26</td>\n",
       "      <td>7349.0</td>\n",
       "    </tr>\n",
       "    <tr>\n",
       "      <th>91827</th>\n",
       "      <td>Biobío</td>\n",
       "      <td>8</td>\n",
       "      <td>Laja</td>\n",
       "      <td>8304.0</td>\n",
       "      <td>23873.0</td>\n",
       "      <td>2022-08-26</td>\n",
       "      <td>4904.0</td>\n",
       "    </tr>\n",
       "    <tr>\n",
       "      <th>91828</th>\n",
       "      <td>Biobío</td>\n",
       "      <td>8</td>\n",
       "      <td>Lebu</td>\n",
       "      <td>8201.0</td>\n",
       "      <td>27100.0</td>\n",
       "      <td>2022-08-26</td>\n",
       "      <td>6852.0</td>\n",
       "    </tr>\n",
       "    <tr>\n",
       "      <th>91829</th>\n",
       "      <td>Biobío</td>\n",
       "      <td>8</td>\n",
       "      <td>Los Alamos</td>\n",
       "      <td>8206.0</td>\n",
       "      <td>22524.0</td>\n",
       "      <td>2022-08-26</td>\n",
       "      <td>6795.0</td>\n",
       "    </tr>\n",
       "    <tr>\n",
       "      <th>91830</th>\n",
       "      <td>Biobío</td>\n",
       "      <td>8</td>\n",
       "      <td>Los Angeles</td>\n",
       "      <td>8301.0</td>\n",
       "      <td>218515.0</td>\n",
       "      <td>2022-08-26</td>\n",
       "      <td>64865.0</td>\n",
       "    </tr>\n",
       "    <tr>\n",
       "      <th>91831</th>\n",
       "      <td>Biobío</td>\n",
       "      <td>8</td>\n",
       "      <td>Lota</td>\n",
       "      <td>8106.0</td>\n",
       "      <td>45750.0</td>\n",
       "      <td>2022-08-26</td>\n",
       "      <td>12120.0</td>\n",
       "    </tr>\n",
       "    <tr>\n",
       "      <th>91832</th>\n",
       "      <td>Biobío</td>\n",
       "      <td>8</td>\n",
       "      <td>Mulchen</td>\n",
       "      <td>8305.0</td>\n",
       "      <td>31041.0</td>\n",
       "      <td>2022-08-26</td>\n",
       "      <td>7978.0</td>\n",
       "    </tr>\n",
       "    <tr>\n",
       "      <th>91833</th>\n",
       "      <td>Biobío</td>\n",
       "      <td>8</td>\n",
       "      <td>Nacimiento</td>\n",
       "      <td>8306.0</td>\n",
       "      <td>27944.0</td>\n",
       "      <td>2022-08-26</td>\n",
       "      <td>6202.0</td>\n",
       "    </tr>\n",
       "    <tr>\n",
       "      <th>91834</th>\n",
       "      <td>Biobío</td>\n",
       "      <td>8</td>\n",
       "      <td>Negrete</td>\n",
       "      <td>8307.0</td>\n",
       "      <td>10429.0</td>\n",
       "      <td>2022-08-26</td>\n",
       "      <td>2852.0</td>\n",
       "    </tr>\n",
       "    <tr>\n",
       "      <th>91835</th>\n",
       "      <td>Biobío</td>\n",
       "      <td>8</td>\n",
       "      <td>Penco</td>\n",
       "      <td>8107.0</td>\n",
       "      <td>49865.0</td>\n",
       "      <td>2022-08-26</td>\n",
       "      <td>14742.0</td>\n",
       "    </tr>\n",
       "    <tr>\n",
       "      <th>91836</th>\n",
       "      <td>Biobío</td>\n",
       "      <td>8</td>\n",
       "      <td>Quilaco</td>\n",
       "      <td>8308.0</td>\n",
       "      <td>4179.0</td>\n",
       "      <td>2022-08-26</td>\n",
       "      <td>953.0</td>\n",
       "    </tr>\n",
       "    <tr>\n",
       "      <th>91837</th>\n",
       "      <td>Biobío</td>\n",
       "      <td>8</td>\n",
       "      <td>Quilleco</td>\n",
       "      <td>8309.0</td>\n",
       "      <td>10032.0</td>\n",
       "      <td>2022-08-26</td>\n",
       "      <td>2559.0</td>\n",
       "    </tr>\n",
       "    <tr>\n",
       "      <th>91838</th>\n",
       "      <td>Biobío</td>\n",
       "      <td>8</td>\n",
       "      <td>San Pedro de la Paz</td>\n",
       "      <td>8108.0</td>\n",
       "      <td>145906.0</td>\n",
       "      <td>2022-08-26</td>\n",
       "      <td>37868.0</td>\n",
       "    </tr>\n",
       "    <tr>\n",
       "      <th>91839</th>\n",
       "      <td>Biobío</td>\n",
       "      <td>8</td>\n",
       "      <td>San Rosendo</td>\n",
       "      <td>8310.0</td>\n",
       "      <td>3611.0</td>\n",
       "      <td>2022-08-26</td>\n",
       "      <td>824.0</td>\n",
       "    </tr>\n",
       "    <tr>\n",
       "      <th>91840</th>\n",
       "      <td>Biobío</td>\n",
       "      <td>8</td>\n",
       "      <td>Santa Barbara</td>\n",
       "      <td>8311.0</td>\n",
       "      <td>14592.0</td>\n",
       "      <td>2022-08-26</td>\n",
       "      <td>3790.0</td>\n",
       "    </tr>\n",
       "    <tr>\n",
       "      <th>91841</th>\n",
       "      <td>Biobío</td>\n",
       "      <td>8</td>\n",
       "      <td>Santa Juana</td>\n",
       "      <td>8109.0</td>\n",
       "      <td>14779.0</td>\n",
       "      <td>2022-08-26</td>\n",
       "      <td>3730.0</td>\n",
       "    </tr>\n",
       "    <tr>\n",
       "      <th>91842</th>\n",
       "      <td>Biobío</td>\n",
       "      <td>8</td>\n",
       "      <td>Talcahuano</td>\n",
       "      <td>8110.0</td>\n",
       "      <td>158345.0</td>\n",
       "      <td>2022-08-26</td>\n",
       "      <td>47020.0</td>\n",
       "    </tr>\n",
       "    <tr>\n",
       "      <th>91843</th>\n",
       "      <td>Biobío</td>\n",
       "      <td>8</td>\n",
       "      <td>Tirua</td>\n",
       "      <td>8207.0</td>\n",
       "      <td>11019.0</td>\n",
       "      <td>2022-08-26</td>\n",
       "      <td>2484.0</td>\n",
       "    </tr>\n",
       "    <tr>\n",
       "      <th>91844</th>\n",
       "      <td>Biobío</td>\n",
       "      <td>8</td>\n",
       "      <td>Tome</td>\n",
       "      <td>8111.0</td>\n",
       "      <td>58729.0</td>\n",
       "      <td>2022-08-26</td>\n",
       "      <td>18728.0</td>\n",
       "    </tr>\n",
       "    <tr>\n",
       "      <th>91845</th>\n",
       "      <td>Biobío</td>\n",
       "      <td>8</td>\n",
       "      <td>Tucapel</td>\n",
       "      <td>8312.0</td>\n",
       "      <td>15205.0</td>\n",
       "      <td>2022-08-26</td>\n",
       "      <td>3617.0</td>\n",
       "    </tr>\n",
       "    <tr>\n",
       "      <th>91846</th>\n",
       "      <td>Biobío</td>\n",
       "      <td>8</td>\n",
       "      <td>Yumbel</td>\n",
       "      <td>8313.0</td>\n",
       "      <td>22132.0</td>\n",
       "      <td>2022-08-26</td>\n",
       "      <td>5017.0</td>\n",
       "    </tr>\n",
       "  </tbody>\n",
       "</table>\n",
       "</div>"
      ],
      "text/plain": [
       "       Region  Codigo region               Comuna  Codigo comuna  Poblacion  \\\n",
       "91814  Biobío              8          Alto Biobio         8314.0     6775.0   \n",
       "91815  Biobío              8               Antuco         8302.0     4306.0   \n",
       "91816  Biobío              8               Arauco         8202.0    38679.0   \n",
       "91817  Biobío              8              Cabrero         8303.0    30725.0   \n",
       "91818  Biobío              8               Canete         8203.0    37003.0   \n",
       "91819  Biobío              8          Chiguayante         8103.0    91180.0   \n",
       "91820  Biobío              8           Concepcion         8101.0   238092.0   \n",
       "91821  Biobío              8             Contulmo         8204.0     6330.0   \n",
       "91822  Biobío              8              Coronel         8102.0   125829.0   \n",
       "91823  Biobío              8          Curanilahue         8205.0    33892.0   \n",
       "91824  Biobío              8              Florida         8104.0    11841.0   \n",
       "91825  Biobío              8              Hualpen         8112.0    97273.0   \n",
       "91826  Biobío              8              Hualqui         8105.0    26201.0   \n",
       "91827  Biobío              8                 Laja         8304.0    23873.0   \n",
       "91828  Biobío              8                 Lebu         8201.0    27100.0   \n",
       "91829  Biobío              8           Los Alamos         8206.0    22524.0   \n",
       "91830  Biobío              8          Los Angeles         8301.0   218515.0   \n",
       "91831  Biobío              8                 Lota         8106.0    45750.0   \n",
       "91832  Biobío              8              Mulchen         8305.0    31041.0   \n",
       "91833  Biobío              8           Nacimiento         8306.0    27944.0   \n",
       "91834  Biobío              8              Negrete         8307.0    10429.0   \n",
       "91835  Biobío              8                Penco         8107.0    49865.0   \n",
       "91836  Biobío              8              Quilaco         8308.0     4179.0   \n",
       "91837  Biobío              8             Quilleco         8309.0    10032.0   \n",
       "91838  Biobío              8  San Pedro de la Paz         8108.0   145906.0   \n",
       "91839  Biobío              8          San Rosendo         8310.0     3611.0   \n",
       "91840  Biobío              8        Santa Barbara         8311.0    14592.0   \n",
       "91841  Biobío              8          Santa Juana         8109.0    14779.0   \n",
       "91842  Biobío              8           Talcahuano         8110.0   158345.0   \n",
       "91843  Biobío              8                Tirua         8207.0    11019.0   \n",
       "91844  Biobío              8                 Tome         8111.0    58729.0   \n",
       "91845  Biobío              8              Tucapel         8312.0    15205.0   \n",
       "91846  Biobío              8               Yumbel         8313.0    22132.0   \n",
       "\n",
       "            Fecha    Casos  \n",
       "91814  2022-08-26   1472.0  \n",
       "91815  2022-08-26   1069.0  \n",
       "91816  2022-08-26  13441.0  \n",
       "91817  2022-08-26   7797.0  \n",
       "91818  2022-08-26   9763.0  \n",
       "91819  2022-08-26  26237.0  \n",
       "91820  2022-08-26  75571.0  \n",
       "91821  2022-08-26   1741.0  \n",
       "91822  2022-08-26  33110.0  \n",
       "91823  2022-08-26   9470.0  \n",
       "91824  2022-08-26   2991.0  \n",
       "91825  2022-08-26  30058.0  \n",
       "91826  2022-08-26   7349.0  \n",
       "91827  2022-08-26   4904.0  \n",
       "91828  2022-08-26   6852.0  \n",
       "91829  2022-08-26   6795.0  \n",
       "91830  2022-08-26  64865.0  \n",
       "91831  2022-08-26  12120.0  \n",
       "91832  2022-08-26   7978.0  \n",
       "91833  2022-08-26   6202.0  \n",
       "91834  2022-08-26   2852.0  \n",
       "91835  2022-08-26  14742.0  \n",
       "91836  2022-08-26    953.0  \n",
       "91837  2022-08-26   2559.0  \n",
       "91838  2022-08-26  37868.0  \n",
       "91839  2022-08-26    824.0  \n",
       "91840  2022-08-26   3790.0  \n",
       "91841  2022-08-26   3730.0  \n",
       "91842  2022-08-26  47020.0  \n",
       "91843  2022-08-26   2484.0  \n",
       "91844  2022-08-26  18728.0  \n",
       "91845  2022-08-26   3617.0  \n",
       "91846  2022-08-26   5017.0  "
      ]
     },
     "execution_count": 38,
     "metadata": {},
     "output_type": "execute_result"
    }
   ],
   "source": [
    "df_casos_actual = dataTotalComunas.loc[(dataTotalComunas['Codigo region'] == 8) &(dataTotalComunas['Fecha'] == \"2022-08-26\")]\n",
    "df_casos_actual"
   ]
  },
  {
   "cell_type": "code",
   "execution_count": 39,
   "id": "c61fa06d-a513-48ad-b9fd-d2d82ad28843",
   "metadata": {},
   "outputs": [
    {
     "data": {
      "text/html": [
       "<div>\n",
       "<style scoped>\n",
       "    .dataframe tbody tr th:only-of-type {\n",
       "        vertical-align: middle;\n",
       "    }\n",
       "\n",
       "    .dataframe tbody tr th {\n",
       "        vertical-align: top;\n",
       "    }\n",
       "\n",
       "    .dataframe thead th {\n",
       "        text-align: right;\n",
       "    }\n",
       "</style>\n",
       "<table border=\"1\" class=\"dataframe\">\n",
       "  <thead>\n",
       "    <tr style=\"text-align: right;\">\n",
       "      <th></th>\n",
       "      <th>Region</th>\n",
       "      <th>Codigo region</th>\n",
       "      <th>Comuna</th>\n",
       "      <th>Codigo comuna</th>\n",
       "      <th>Poblacion</th>\n",
       "      <th>Fecha</th>\n",
       "      <th>Fallecidos</th>\n",
       "    </tr>\n",
       "  </thead>\n",
       "  <tbody>\n",
       "    <tr>\n",
       "      <th>86800</th>\n",
       "      <td>Biobio</td>\n",
       "      <td>8</td>\n",
       "      <td>Alto Biobio</td>\n",
       "      <td>8314.0</td>\n",
       "      <td>6775.0</td>\n",
       "      <td>2022-08-26</td>\n",
       "      <td>27.0</td>\n",
       "    </tr>\n",
       "    <tr>\n",
       "      <th>86801</th>\n",
       "      <td>Biobio</td>\n",
       "      <td>8</td>\n",
       "      <td>Antuco</td>\n",
       "      <td>8302.0</td>\n",
       "      <td>4306.0</td>\n",
       "      <td>2022-08-26</td>\n",
       "      <td>16.0</td>\n",
       "    </tr>\n",
       "    <tr>\n",
       "      <th>86802</th>\n",
       "      <td>Biobio</td>\n",
       "      <td>8</td>\n",
       "      <td>Arauco</td>\n",
       "      <td>8202.0</td>\n",
       "      <td>38679.0</td>\n",
       "      <td>2022-08-26</td>\n",
       "      <td>145.0</td>\n",
       "    </tr>\n",
       "    <tr>\n",
       "      <th>86803</th>\n",
       "      <td>Biobio</td>\n",
       "      <td>8</td>\n",
       "      <td>Cabrero</td>\n",
       "      <td>8303.0</td>\n",
       "      <td>30725.0</td>\n",
       "      <td>2022-08-26</td>\n",
       "      <td>81.0</td>\n",
       "    </tr>\n",
       "    <tr>\n",
       "      <th>86804</th>\n",
       "      <td>Biobio</td>\n",
       "      <td>8</td>\n",
       "      <td>Canete</td>\n",
       "      <td>8203.0</td>\n",
       "      <td>37003.0</td>\n",
       "      <td>2022-08-26</td>\n",
       "      <td>175.0</td>\n",
       "    </tr>\n",
       "    <tr>\n",
       "      <th>86805</th>\n",
       "      <td>Biobio</td>\n",
       "      <td>8</td>\n",
       "      <td>Chiguayante</td>\n",
       "      <td>8103.0</td>\n",
       "      <td>91180.0</td>\n",
       "      <td>2022-08-26</td>\n",
       "      <td>326.0</td>\n",
       "    </tr>\n",
       "    <tr>\n",
       "      <th>86806</th>\n",
       "      <td>Biobio</td>\n",
       "      <td>8</td>\n",
       "      <td>Concepcion</td>\n",
       "      <td>8101.0</td>\n",
       "      <td>238092.0</td>\n",
       "      <td>2022-08-26</td>\n",
       "      <td>912.0</td>\n",
       "    </tr>\n",
       "    <tr>\n",
       "      <th>86807</th>\n",
       "      <td>Biobio</td>\n",
       "      <td>8</td>\n",
       "      <td>Contulmo</td>\n",
       "      <td>8204.0</td>\n",
       "      <td>6330.0</td>\n",
       "      <td>2022-08-26</td>\n",
       "      <td>35.0</td>\n",
       "    </tr>\n",
       "    <tr>\n",
       "      <th>86808</th>\n",
       "      <td>Biobio</td>\n",
       "      <td>8</td>\n",
       "      <td>Coronel</td>\n",
       "      <td>8102.0</td>\n",
       "      <td>125829.0</td>\n",
       "      <td>2022-08-26</td>\n",
       "      <td>544.0</td>\n",
       "    </tr>\n",
       "    <tr>\n",
       "      <th>86809</th>\n",
       "      <td>Biobio</td>\n",
       "      <td>8</td>\n",
       "      <td>Curanilahue</td>\n",
       "      <td>8205.0</td>\n",
       "      <td>33892.0</td>\n",
       "      <td>2022-08-26</td>\n",
       "      <td>145.0</td>\n",
       "    </tr>\n",
       "    <tr>\n",
       "      <th>86810</th>\n",
       "      <td>Biobio</td>\n",
       "      <td>8</td>\n",
       "      <td>Florida</td>\n",
       "      <td>8104.0</td>\n",
       "      <td>11841.0</td>\n",
       "      <td>2022-08-26</td>\n",
       "      <td>58.0</td>\n",
       "    </tr>\n",
       "    <tr>\n",
       "      <th>86811</th>\n",
       "      <td>Biobio</td>\n",
       "      <td>8</td>\n",
       "      <td>Hualpen</td>\n",
       "      <td>8112.0</td>\n",
       "      <td>97273.0</td>\n",
       "      <td>2022-08-26</td>\n",
       "      <td>367.0</td>\n",
       "    </tr>\n",
       "    <tr>\n",
       "      <th>86812</th>\n",
       "      <td>Biobio</td>\n",
       "      <td>8</td>\n",
       "      <td>Hualqui</td>\n",
       "      <td>8105.0</td>\n",
       "      <td>26201.0</td>\n",
       "      <td>2022-08-26</td>\n",
       "      <td>80.0</td>\n",
       "    </tr>\n",
       "    <tr>\n",
       "      <th>86813</th>\n",
       "      <td>Biobio</td>\n",
       "      <td>8</td>\n",
       "      <td>Laja</td>\n",
       "      <td>8304.0</td>\n",
       "      <td>23873.0</td>\n",
       "      <td>2022-08-26</td>\n",
       "      <td>71.0</td>\n",
       "    </tr>\n",
       "    <tr>\n",
       "      <th>86814</th>\n",
       "      <td>Biobio</td>\n",
       "      <td>8</td>\n",
       "      <td>Lebu</td>\n",
       "      <td>8201.0</td>\n",
       "      <td>27100.0</td>\n",
       "      <td>2022-08-26</td>\n",
       "      <td>92.0</td>\n",
       "    </tr>\n",
       "    <tr>\n",
       "      <th>86815</th>\n",
       "      <td>Biobio</td>\n",
       "      <td>8</td>\n",
       "      <td>Los Alamos</td>\n",
       "      <td>8206.0</td>\n",
       "      <td>22524.0</td>\n",
       "      <td>2022-08-26</td>\n",
       "      <td>88.0</td>\n",
       "    </tr>\n",
       "    <tr>\n",
       "      <th>86816</th>\n",
       "      <td>Biobio</td>\n",
       "      <td>8</td>\n",
       "      <td>Los Angeles</td>\n",
       "      <td>8301.0</td>\n",
       "      <td>218515.0</td>\n",
       "      <td>2022-08-26</td>\n",
       "      <td>629.0</td>\n",
       "    </tr>\n",
       "    <tr>\n",
       "      <th>86817</th>\n",
       "      <td>Biobio</td>\n",
       "      <td>8</td>\n",
       "      <td>Lota</td>\n",
       "      <td>8106.0</td>\n",
       "      <td>45750.0</td>\n",
       "      <td>2022-08-26</td>\n",
       "      <td>239.0</td>\n",
       "    </tr>\n",
       "    <tr>\n",
       "      <th>86818</th>\n",
       "      <td>Biobio</td>\n",
       "      <td>8</td>\n",
       "      <td>Mulchen</td>\n",
       "      <td>8305.0</td>\n",
       "      <td>31041.0</td>\n",
       "      <td>2022-08-26</td>\n",
       "      <td>128.0</td>\n",
       "    </tr>\n",
       "    <tr>\n",
       "      <th>86819</th>\n",
       "      <td>Biobio</td>\n",
       "      <td>8</td>\n",
       "      <td>Nacimiento</td>\n",
       "      <td>8306.0</td>\n",
       "      <td>27944.0</td>\n",
       "      <td>2022-08-26</td>\n",
       "      <td>102.0</td>\n",
       "    </tr>\n",
       "    <tr>\n",
       "      <th>86820</th>\n",
       "      <td>Biobio</td>\n",
       "      <td>8</td>\n",
       "      <td>Negrete</td>\n",
       "      <td>8307.0</td>\n",
       "      <td>10429.0</td>\n",
       "      <td>2022-08-26</td>\n",
       "      <td>27.0</td>\n",
       "    </tr>\n",
       "    <tr>\n",
       "      <th>86821</th>\n",
       "      <td>Biobio</td>\n",
       "      <td>8</td>\n",
       "      <td>Penco</td>\n",
       "      <td>8107.0</td>\n",
       "      <td>49865.0</td>\n",
       "      <td>2022-08-26</td>\n",
       "      <td>192.0</td>\n",
       "    </tr>\n",
       "    <tr>\n",
       "      <th>86822</th>\n",
       "      <td>Biobio</td>\n",
       "      <td>8</td>\n",
       "      <td>Quilaco</td>\n",
       "      <td>8308.0</td>\n",
       "      <td>4179.0</td>\n",
       "      <td>2022-08-26</td>\n",
       "      <td>15.0</td>\n",
       "    </tr>\n",
       "    <tr>\n",
       "      <th>86823</th>\n",
       "      <td>Biobio</td>\n",
       "      <td>8</td>\n",
       "      <td>Quilleco</td>\n",
       "      <td>8309.0</td>\n",
       "      <td>10032.0</td>\n",
       "      <td>2022-08-26</td>\n",
       "      <td>38.0</td>\n",
       "    </tr>\n",
       "    <tr>\n",
       "      <th>86824</th>\n",
       "      <td>Biobio</td>\n",
       "      <td>8</td>\n",
       "      <td>San Pedro de la Paz</td>\n",
       "      <td>8108.0</td>\n",
       "      <td>145906.0</td>\n",
       "      <td>2022-08-26</td>\n",
       "      <td>408.0</td>\n",
       "    </tr>\n",
       "    <tr>\n",
       "      <th>86825</th>\n",
       "      <td>Biobio</td>\n",
       "      <td>8</td>\n",
       "      <td>San Rosendo</td>\n",
       "      <td>8310.0</td>\n",
       "      <td>3611.0</td>\n",
       "      <td>2022-08-26</td>\n",
       "      <td>18.0</td>\n",
       "    </tr>\n",
       "    <tr>\n",
       "      <th>86826</th>\n",
       "      <td>Biobio</td>\n",
       "      <td>8</td>\n",
       "      <td>Santa Barbara</td>\n",
       "      <td>8311.0</td>\n",
       "      <td>14592.0</td>\n",
       "      <td>2022-08-26</td>\n",
       "      <td>59.0</td>\n",
       "    </tr>\n",
       "    <tr>\n",
       "      <th>86827</th>\n",
       "      <td>Biobio</td>\n",
       "      <td>8</td>\n",
       "      <td>Santa Juana</td>\n",
       "      <td>8109.0</td>\n",
       "      <td>14779.0</td>\n",
       "      <td>2022-08-26</td>\n",
       "      <td>73.0</td>\n",
       "    </tr>\n",
       "    <tr>\n",
       "      <th>86828</th>\n",
       "      <td>Biobio</td>\n",
       "      <td>8</td>\n",
       "      <td>Talcahuano</td>\n",
       "      <td>8110.0</td>\n",
       "      <td>158345.0</td>\n",
       "      <td>2022-08-26</td>\n",
       "      <td>610.0</td>\n",
       "    </tr>\n",
       "    <tr>\n",
       "      <th>86829</th>\n",
       "      <td>Biobio</td>\n",
       "      <td>8</td>\n",
       "      <td>Tirua</td>\n",
       "      <td>8207.0</td>\n",
       "      <td>11019.0</td>\n",
       "      <td>2022-08-26</td>\n",
       "      <td>49.0</td>\n",
       "    </tr>\n",
       "    <tr>\n",
       "      <th>86830</th>\n",
       "      <td>Biobio</td>\n",
       "      <td>8</td>\n",
       "      <td>Tome</td>\n",
       "      <td>8111.0</td>\n",
       "      <td>58729.0</td>\n",
       "      <td>2022-08-26</td>\n",
       "      <td>203.0</td>\n",
       "    </tr>\n",
       "    <tr>\n",
       "      <th>86831</th>\n",
       "      <td>Biobio</td>\n",
       "      <td>8</td>\n",
       "      <td>Tucapel</td>\n",
       "      <td>8312.0</td>\n",
       "      <td>15205.0</td>\n",
       "      <td>2022-08-26</td>\n",
       "      <td>48.0</td>\n",
       "    </tr>\n",
       "    <tr>\n",
       "      <th>86832</th>\n",
       "      <td>Biobio</td>\n",
       "      <td>8</td>\n",
       "      <td>Yumbel</td>\n",
       "      <td>8313.0</td>\n",
       "      <td>22132.0</td>\n",
       "      <td>2022-08-26</td>\n",
       "      <td>77.0</td>\n",
       "    </tr>\n",
       "  </tbody>\n",
       "</table>\n",
       "</div>"
      ],
      "text/plain": [
       "       Region  Codigo region               Comuna  Codigo comuna  Poblacion  \\\n",
       "86800  Biobio              8          Alto Biobio         8314.0     6775.0   \n",
       "86801  Biobio              8               Antuco         8302.0     4306.0   \n",
       "86802  Biobio              8               Arauco         8202.0    38679.0   \n",
       "86803  Biobio              8              Cabrero         8303.0    30725.0   \n",
       "86804  Biobio              8               Canete         8203.0    37003.0   \n",
       "86805  Biobio              8          Chiguayante         8103.0    91180.0   \n",
       "86806  Biobio              8           Concepcion         8101.0   238092.0   \n",
       "86807  Biobio              8             Contulmo         8204.0     6330.0   \n",
       "86808  Biobio              8              Coronel         8102.0   125829.0   \n",
       "86809  Biobio              8          Curanilahue         8205.0    33892.0   \n",
       "86810  Biobio              8              Florida         8104.0    11841.0   \n",
       "86811  Biobio              8              Hualpen         8112.0    97273.0   \n",
       "86812  Biobio              8              Hualqui         8105.0    26201.0   \n",
       "86813  Biobio              8                 Laja         8304.0    23873.0   \n",
       "86814  Biobio              8                 Lebu         8201.0    27100.0   \n",
       "86815  Biobio              8           Los Alamos         8206.0    22524.0   \n",
       "86816  Biobio              8          Los Angeles         8301.0   218515.0   \n",
       "86817  Biobio              8                 Lota         8106.0    45750.0   \n",
       "86818  Biobio              8              Mulchen         8305.0    31041.0   \n",
       "86819  Biobio              8           Nacimiento         8306.0    27944.0   \n",
       "86820  Biobio              8              Negrete         8307.0    10429.0   \n",
       "86821  Biobio              8                Penco         8107.0    49865.0   \n",
       "86822  Biobio              8              Quilaco         8308.0     4179.0   \n",
       "86823  Biobio              8             Quilleco         8309.0    10032.0   \n",
       "86824  Biobio              8  San Pedro de la Paz         8108.0   145906.0   \n",
       "86825  Biobio              8          San Rosendo         8310.0     3611.0   \n",
       "86826  Biobio              8        Santa Barbara         8311.0    14592.0   \n",
       "86827  Biobio              8          Santa Juana         8109.0    14779.0   \n",
       "86828  Biobio              8           Talcahuano         8110.0   158345.0   \n",
       "86829  Biobio              8                Tirua         8207.0    11019.0   \n",
       "86830  Biobio              8                 Tome         8111.0    58729.0   \n",
       "86831  Biobio              8              Tucapel         8312.0    15205.0   \n",
       "86832  Biobio              8               Yumbel         8313.0    22132.0   \n",
       "\n",
       "            Fecha  Fallecidos  \n",
       "86800  2022-08-26        27.0  \n",
       "86801  2022-08-26        16.0  \n",
       "86802  2022-08-26       145.0  \n",
       "86803  2022-08-26        81.0  \n",
       "86804  2022-08-26       175.0  \n",
       "86805  2022-08-26       326.0  \n",
       "86806  2022-08-26       912.0  \n",
       "86807  2022-08-26        35.0  \n",
       "86808  2022-08-26       544.0  \n",
       "86809  2022-08-26       145.0  \n",
       "86810  2022-08-26        58.0  \n",
       "86811  2022-08-26       367.0  \n",
       "86812  2022-08-26        80.0  \n",
       "86813  2022-08-26        71.0  \n",
       "86814  2022-08-26        92.0  \n",
       "86815  2022-08-26        88.0  \n",
       "86816  2022-08-26       629.0  \n",
       "86817  2022-08-26       239.0  \n",
       "86818  2022-08-26       128.0  \n",
       "86819  2022-08-26       102.0  \n",
       "86820  2022-08-26        27.0  \n",
       "86821  2022-08-26       192.0  \n",
       "86822  2022-08-26        15.0  \n",
       "86823  2022-08-26        38.0  \n",
       "86824  2022-08-26       408.0  \n",
       "86825  2022-08-26        18.0  \n",
       "86826  2022-08-26        59.0  \n",
       "86827  2022-08-26        73.0  \n",
       "86828  2022-08-26       610.0  \n",
       "86829  2022-08-26        49.0  \n",
       "86830  2022-08-26       203.0  \n",
       "86831  2022-08-26        48.0  \n",
       "86832  2022-08-26        77.0  "
      ]
     },
     "execution_count": 39,
     "metadata": {},
     "output_type": "execute_result"
    }
   ],
   "source": [
    "df_fallecidos_actual = dataTotalFallecidos.loc[(dataTotalFallecidos['Codigo region'] == 8) & (dataTotalFallecidos['Fecha'] == \"2022-08-26\")]\n",
    "df_fallecidos_actual"
   ]
  },
  {
   "cell_type": "code",
   "execution_count": 50,
   "id": "b0d9eac6-a72d-4a11-9ca1-3759d08a29c8",
   "metadata": {},
   "outputs": [
    {
     "data": {
      "text/html": [
       "<div>\n",
       "<style scoped>\n",
       "    .dataframe tbody tr th:only-of-type {\n",
       "        vertical-align: middle;\n",
       "    }\n",
       "\n",
       "    .dataframe tbody tr th {\n",
       "        vertical-align: top;\n",
       "    }\n",
       "\n",
       "    .dataframe thead th {\n",
       "        text-align: right;\n",
       "    }\n",
       "</style>\n",
       "<table border=\"1\" class=\"dataframe\">\n",
       "  <thead>\n",
       "    <tr style=\"text-align: right;\">\n",
       "      <th></th>\n",
       "      <th>Codigo Region</th>\n",
       "      <th>Region</th>\n",
       "      <th>Codigo comuna</th>\n",
       "      <th>Comuna</th>\n",
       "      <th>Fecha</th>\n",
       "      <th>Casos</th>\n",
       "      <th>Fallecidos</th>\n",
       "    </tr>\n",
       "  </thead>\n",
       "  <tbody>\n",
       "    <tr>\n",
       "      <th>0</th>\n",
       "      <td>15</td>\n",
       "      <td>Arica y Parinacota</td>\n",
       "      <td>15101.0</td>\n",
       "      <td>Arica</td>\n",
       "      <td>2022-08-26</td>\n",
       "      <td>75195.0</td>\n",
       "      <td>1075.0</td>\n",
       "    </tr>\n",
       "    <tr>\n",
       "      <th>1</th>\n",
       "      <td>15</td>\n",
       "      <td>Arica y Parinacota</td>\n",
       "      <td>15102.0</td>\n",
       "      <td>Camarones</td>\n",
       "      <td>2022-08-26</td>\n",
       "      <td>194.0</td>\n",
       "      <td>5.0</td>\n",
       "    </tr>\n",
       "    <tr>\n",
       "      <th>2</th>\n",
       "      <td>15</td>\n",
       "      <td>Arica y Parinacota</td>\n",
       "      <td>15202.0</td>\n",
       "      <td>General Lagos</td>\n",
       "      <td>2022-08-26</td>\n",
       "      <td>111.0</td>\n",
       "      <td>2.0</td>\n",
       "    </tr>\n",
       "    <tr>\n",
       "      <th>3</th>\n",
       "      <td>15</td>\n",
       "      <td>Arica y Parinacota</td>\n",
       "      <td>15201.0</td>\n",
       "      <td>Putre</td>\n",
       "      <td>2022-08-26</td>\n",
       "      <td>505.0</td>\n",
       "      <td>1.0</td>\n",
       "    </tr>\n",
       "    <tr>\n",
       "      <th>4</th>\n",
       "      <td>1</td>\n",
       "      <td>Tarapacá</td>\n",
       "      <td>1107.0</td>\n",
       "      <td>Alto Hospicio</td>\n",
       "      <td>2022-08-26</td>\n",
       "      <td>31170.0</td>\n",
       "      <td>357.0</td>\n",
       "    </tr>\n",
       "  </tbody>\n",
       "</table>\n",
       "</div>"
      ],
      "text/plain": [
       "   Codigo Region              Region  Codigo comuna         Comuna  \\\n",
       "0             15  Arica y Parinacota        15101.0          Arica   \n",
       "1             15  Arica y Parinacota        15102.0      Camarones   \n",
       "2             15  Arica y Parinacota        15202.0  General Lagos   \n",
       "3             15  Arica y Parinacota        15201.0          Putre   \n",
       "4              1            Tarapacá         1107.0  Alto Hospicio   \n",
       "\n",
       "        Fecha    Casos  Fallecidos  \n",
       "0  2022-08-26  75195.0      1075.0  \n",
       "1  2022-08-26    194.0         5.0  \n",
       "2  2022-08-26    111.0         2.0  \n",
       "3  2022-08-26    505.0         1.0  \n",
       "4  2022-08-26  31170.0       357.0  "
      ]
     },
     "execution_count": 50,
     "metadata": {},
     "output_type": "execute_result"
    }
   ],
   "source": [
    "df_casos_actual = dataTotalComunas.loc[(dataTotalComunas['Fecha'] == date)]\n",
    "df_fallecidos_actual = dataTotalFallecidos.loc[(dataTotalFallecidos['Fecha'] == date)]\n",
    "df_casos_fallecidos_actual = pd.merge(df_casos_actual, df_fallecidos_actual, how=\"inner\", on=[\"Codigo comuna\", \"Fecha\"])\n",
    "df_casos_fallecidos_actual = df_casos_fallecidos_actual[[\"Codigo region_x\",\"Region_x\", \"Codigo comuna\", \"Comuna_x\",\"Fecha\", \"Casos\", \"Fallecidos\"]]\n",
    "df_casos_fallecidos_actual.rename(columns = {'Codigo region_x':'Codigo Region', 'Region_x':'Region', 'Comuna_x': 'Comuna'}, inplace = True)\n",
    "df_casos_fallecidos_actual.head()"
   ]
  },
  {
   "cell_type": "code",
   "execution_count": 52,
   "id": "3a37fc51-29a0-4b60-a99e-b715f380a761",
   "metadata": {},
   "outputs": [
    {
     "data": {
      "application/vnd.plotly.v1+json": {
       "config": {
        "plotlyServerURL": "https://plot.ly"
       },
       "data": [
        {
         "customdata": [
          [
           "Arica",
           "2022-08-26"
          ],
          [
           "Camarones",
           "2022-08-26"
          ],
          [
           "General Lagos",
           "2022-08-26"
          ],
          [
           "Putre",
           "2022-08-26"
          ],
          [
           "Alto Hospicio",
           "2022-08-26"
          ],
          [
           "Camina",
           "2022-08-26"
          ],
          [
           "Colchane",
           "2022-08-26"
          ],
          [
           "Huara",
           "2022-08-26"
          ],
          [
           "Iquique",
           "2022-08-26"
          ],
          [
           "Pica",
           "2022-08-26"
          ],
          [
           "Pozo Almonte",
           "2022-08-26"
          ],
          [
           "Antofagasta",
           "2022-08-26"
          ],
          [
           "Calama",
           "2022-08-26"
          ],
          [
           "Maria Elena",
           "2022-08-26"
          ],
          [
           "Mejillones",
           "2022-08-26"
          ],
          [
           "Ollague",
           "2022-08-26"
          ],
          [
           "San Pedro de Atacama",
           "2022-08-26"
          ],
          [
           "Sierra Gorda",
           "2022-08-26"
          ],
          [
           "Taltal",
           "2022-08-26"
          ],
          [
           "Tocopilla",
           "2022-08-26"
          ],
          [
           "Alto del Carmen",
           "2022-08-26"
          ],
          [
           "Caldera",
           "2022-08-26"
          ],
          [
           "Chanaral",
           "2022-08-26"
          ],
          [
           "Copiapo",
           "2022-08-26"
          ],
          [
           "Diego de Almagro",
           "2022-08-26"
          ],
          [
           "Freirina",
           "2022-08-26"
          ],
          [
           "Huasco",
           "2022-08-26"
          ],
          [
           "Tierra Amarilla",
           "2022-08-26"
          ],
          [
           "Vallenar",
           "2022-08-26"
          ],
          [
           "Andacollo",
           "2022-08-26"
          ],
          [
           "Canela",
           "2022-08-26"
          ],
          [
           "Combarbala",
           "2022-08-26"
          ],
          [
           "Coquimbo",
           "2022-08-26"
          ],
          [
           "Illapel",
           "2022-08-26"
          ],
          [
           "La Higuera",
           "2022-08-26"
          ],
          [
           "La Serena",
           "2022-08-26"
          ],
          [
           "Los Vilos",
           "2022-08-26"
          ],
          [
           "Monte Patria",
           "2022-08-26"
          ],
          [
           "Ovalle",
           "2022-08-26"
          ],
          [
           "Paiguano",
           "2022-08-26"
          ],
          [
           "Punitaqui",
           "2022-08-26"
          ],
          [
           "Rio Hurtado",
           "2022-08-26"
          ],
          [
           "Salamanca",
           "2022-08-26"
          ],
          [
           "Vicuna",
           "2022-08-26"
          ],
          [
           "Algarrobo",
           "2022-08-26"
          ],
          [
           "Cabildo",
           "2022-08-26"
          ],
          [
           "Calera",
           "2022-08-26"
          ],
          [
           "Calle Larga",
           "2022-08-26"
          ],
          [
           "Cartagena",
           "2022-08-26"
          ],
          [
           "Casablanca",
           "2022-08-26"
          ],
          [
           "Catemu",
           "2022-08-26"
          ],
          [
           "Concon",
           "2022-08-26"
          ],
          [
           "El Quisco",
           "2022-08-26"
          ],
          [
           "El Tabo",
           "2022-08-26"
          ],
          [
           "Hijuelas",
           "2022-08-26"
          ],
          [
           "Isla de Pascua",
           "2022-08-26"
          ],
          [
           "Juan Fernandez",
           "2022-08-26"
          ],
          [
           "La Cruz",
           "2022-08-26"
          ],
          [
           "La Ligua",
           "2022-08-26"
          ],
          [
           "Limache",
           "2022-08-26"
          ],
          [
           "Llaillay",
           "2022-08-26"
          ],
          [
           "Los Andes",
           "2022-08-26"
          ],
          [
           "Nogales",
           "2022-08-26"
          ],
          [
           "Olmue",
           "2022-08-26"
          ],
          [
           "Panquehue",
           "2022-08-26"
          ],
          [
           "Papudo",
           "2022-08-26"
          ],
          [
           "Petorca",
           "2022-08-26"
          ],
          [
           "Puchuncavi",
           "2022-08-26"
          ],
          [
           "Putaendo",
           "2022-08-26"
          ],
          [
           "Quillota",
           "2022-08-26"
          ],
          [
           "Quilpue",
           "2022-08-26"
          ],
          [
           "Quintero",
           "2022-08-26"
          ],
          [
           "Rinconada",
           "2022-08-26"
          ],
          [
           "San Antonio",
           "2022-08-26"
          ],
          [
           "San Esteban",
           "2022-08-26"
          ],
          [
           "San Felipe",
           "2022-08-26"
          ],
          [
           "Santa Maria",
           "2022-08-26"
          ],
          [
           "Santo Domingo",
           "2022-08-26"
          ],
          [
           "Valparaiso",
           "2022-08-26"
          ],
          [
           "Villa Alemana",
           "2022-08-26"
          ],
          [
           "Vina del Mar",
           "2022-08-26"
          ],
          [
           "Zapallar",
           "2022-08-26"
          ],
          [
           "Alhue",
           "2022-08-26"
          ],
          [
           "Buin",
           "2022-08-26"
          ],
          [
           "Calera de Tango",
           "2022-08-26"
          ],
          [
           "Cerrillos",
           "2022-08-26"
          ],
          [
           "Cerro Navia",
           "2022-08-26"
          ],
          [
           "Colina",
           "2022-08-26"
          ],
          [
           "Conchali",
           "2022-08-26"
          ],
          [
           "Curacavi",
           "2022-08-26"
          ],
          [
           "El Bosque",
           "2022-08-26"
          ],
          [
           "El Monte",
           "2022-08-26"
          ],
          [
           "Estacion Central",
           "2022-08-26"
          ],
          [
           "Huechuraba",
           "2022-08-26"
          ],
          [
           "Independencia",
           "2022-08-26"
          ],
          [
           "Isla de Maipo",
           "2022-08-26"
          ],
          [
           "La Cisterna",
           "2022-08-26"
          ],
          [
           "La Florida",
           "2022-08-26"
          ],
          [
           "La Granja",
           "2022-08-26"
          ],
          [
           "La Pintana",
           "2022-08-26"
          ],
          [
           "La Reina",
           "2022-08-26"
          ],
          [
           "Lampa",
           "2022-08-26"
          ],
          [
           "Las Condes",
           "2022-08-26"
          ],
          [
           "Lo Barnechea",
           "2022-08-26"
          ],
          [
           "Lo Espejo",
           "2022-08-26"
          ],
          [
           "Lo Prado",
           "2022-08-26"
          ],
          [
           "Macul",
           "2022-08-26"
          ],
          [
           "Maipu",
           "2022-08-26"
          ],
          [
           "Maria Pinto",
           "2022-08-26"
          ],
          [
           "Melipilla",
           "2022-08-26"
          ],
          [
           "Nunoa",
           "2022-08-26"
          ],
          [
           "Padre Hurtado",
           "2022-08-26"
          ],
          [
           "Paine",
           "2022-08-26"
          ],
          [
           "Pedro Aguirre Cerda",
           "2022-08-26"
          ],
          [
           "Penaflor",
           "2022-08-26"
          ],
          [
           "Penalolen",
           "2022-08-26"
          ],
          [
           "Pirque",
           "2022-08-26"
          ],
          [
           "Providencia",
           "2022-08-26"
          ],
          [
           "Pudahuel",
           "2022-08-26"
          ],
          [
           "Puente Alto",
           "2022-08-26"
          ],
          [
           "Quilicura",
           "2022-08-26"
          ],
          [
           "Quinta Normal",
           "2022-08-26"
          ],
          [
           "Recoleta",
           "2022-08-26"
          ],
          [
           "Renca",
           "2022-08-26"
          ],
          [
           "San Bernardo",
           "2022-08-26"
          ],
          [
           "San Joaquin",
           "2022-08-26"
          ],
          [
           "San Jose de Maipo",
           "2022-08-26"
          ],
          [
           "San Miguel",
           "2022-08-26"
          ],
          [
           "San Pedro",
           "2022-08-26"
          ],
          [
           "San Ramon",
           "2022-08-26"
          ],
          [
           "Santiago",
           "2022-08-26"
          ],
          [
           "Talagante",
           "2022-08-26"
          ],
          [
           "Tiltil",
           "2022-08-26"
          ],
          [
           "Vitacura",
           "2022-08-26"
          ],
          [
           "Chepica",
           "2022-08-26"
          ],
          [
           "Chimbarongo",
           "2022-08-26"
          ],
          [
           "Codegua",
           "2022-08-26"
          ],
          [
           "Coinco",
           "2022-08-26"
          ],
          [
           "Coltauco",
           "2022-08-26"
          ],
          [
           "Donihue",
           "2022-08-26"
          ],
          [
           "Graneros",
           "2022-08-26"
          ],
          [
           "La Estrella",
           "2022-08-26"
          ],
          [
           "Las Cabras",
           "2022-08-26"
          ],
          [
           "Litueche",
           "2022-08-26"
          ],
          [
           "Lolol",
           "2022-08-26"
          ],
          [
           "Machali",
           "2022-08-26"
          ],
          [
           "Malloa",
           "2022-08-26"
          ],
          [
           "Marchihue",
           "2022-08-26"
          ],
          [
           "Mostazal",
           "2022-08-26"
          ],
          [
           "Nancagua",
           "2022-08-26"
          ],
          [
           "Navidad",
           "2022-08-26"
          ],
          [
           "Olivar",
           "2022-08-26"
          ],
          [
           "Palmilla",
           "2022-08-26"
          ],
          [
           "Paredones",
           "2022-08-26"
          ],
          [
           "Peralillo",
           "2022-08-26"
          ],
          [
           "Peumo",
           "2022-08-26"
          ],
          [
           "Pichidegua",
           "2022-08-26"
          ],
          [
           "Pichilemu",
           "2022-08-26"
          ],
          [
           "Placilla",
           "2022-08-26"
          ],
          [
           "Pumanque",
           "2022-08-26"
          ],
          [
           "Quinta de Tilcoco",
           "2022-08-26"
          ],
          [
           "Rancagua",
           "2022-08-26"
          ],
          [
           "Rengo",
           "2022-08-26"
          ],
          [
           "Requinoa",
           "2022-08-26"
          ],
          [
           "San Fernando",
           "2022-08-26"
          ],
          [
           "San Vicente",
           "2022-08-26"
          ],
          [
           "Santa Cruz",
           "2022-08-26"
          ],
          [
           "Cauquenes",
           "2022-08-26"
          ],
          [
           "Chanco",
           "2022-08-26"
          ],
          [
           "Colbun",
           "2022-08-26"
          ],
          [
           "Constitucion",
           "2022-08-26"
          ],
          [
           "Curepto",
           "2022-08-26"
          ],
          [
           "Curico",
           "2022-08-26"
          ],
          [
           "Empedrado",
           "2022-08-26"
          ],
          [
           "Hualane",
           "2022-08-26"
          ],
          [
           "Licanten",
           "2022-08-26"
          ],
          [
           "Linares",
           "2022-08-26"
          ],
          [
           "Longavi",
           "2022-08-26"
          ],
          [
           "Maule",
           "2022-08-26"
          ],
          [
           "Molina",
           "2022-08-26"
          ],
          [
           "Parral",
           "2022-08-26"
          ],
          [
           "Pelarco",
           "2022-08-26"
          ],
          [
           "Pelluhue",
           "2022-08-26"
          ],
          [
           "Pencahue",
           "2022-08-26"
          ],
          [
           "Rauco",
           "2022-08-26"
          ],
          [
           "Retiro",
           "2022-08-26"
          ],
          [
           "Rio Claro",
           "2022-08-26"
          ],
          [
           "Romeral",
           "2022-08-26"
          ],
          [
           "Sagrada Familia",
           "2022-08-26"
          ],
          [
           "San Clemente",
           "2022-08-26"
          ],
          [
           "San Javier",
           "2022-08-26"
          ],
          [
           "San Rafael",
           "2022-08-26"
          ],
          [
           "Talca",
           "2022-08-26"
          ],
          [
           "Teno",
           "2022-08-26"
          ],
          [
           "Vichuquen",
           "2022-08-26"
          ],
          [
           "Villa Alegre",
           "2022-08-26"
          ],
          [
           "Yerbas Buenas",
           "2022-08-26"
          ],
          [
           "Bulnes",
           "2022-08-26"
          ],
          [
           "Chillan",
           "2022-08-26"
          ],
          [
           "Chillan Viejo",
           "2022-08-26"
          ],
          [
           "Cobquecura",
           "2022-08-26"
          ],
          [
           "Coelemu",
           "2022-08-26"
          ],
          [
           "Coihueco",
           "2022-08-26"
          ],
          [
           "El Carmen",
           "2022-08-26"
          ],
          [
           "Ninhue",
           "2022-08-26"
          ],
          [
           "Niquen",
           "2022-08-26"
          ],
          [
           "Pemuco",
           "2022-08-26"
          ],
          [
           "Pinto",
           "2022-08-26"
          ],
          [
           "Portezuelo",
           "2022-08-26"
          ],
          [
           "Quillon",
           "2022-08-26"
          ],
          [
           "Quirihue",
           "2022-08-26"
          ],
          [
           "Ranquil",
           "2022-08-26"
          ],
          [
           "San Carlos",
           "2022-08-26"
          ],
          [
           "San Fabian",
           "2022-08-26"
          ],
          [
           "San Ignacio",
           "2022-08-26"
          ],
          [
           "San Nicolas",
           "2022-08-26"
          ],
          [
           "Treguaco",
           "2022-08-26"
          ],
          [
           "Yungay",
           "2022-08-26"
          ],
          [
           "Alto Biobio",
           "2022-08-26"
          ],
          [
           "Antuco",
           "2022-08-26"
          ],
          [
           "Arauco",
           "2022-08-26"
          ],
          [
           "Cabrero",
           "2022-08-26"
          ],
          [
           "Canete",
           "2022-08-26"
          ],
          [
           "Chiguayante",
           "2022-08-26"
          ],
          [
           "Concepcion",
           "2022-08-26"
          ],
          [
           "Contulmo",
           "2022-08-26"
          ],
          [
           "Coronel",
           "2022-08-26"
          ],
          [
           "Curanilahue",
           "2022-08-26"
          ],
          [
           "Florida",
           "2022-08-26"
          ],
          [
           "Hualpen",
           "2022-08-26"
          ],
          [
           "Hualqui",
           "2022-08-26"
          ],
          [
           "Laja",
           "2022-08-26"
          ],
          [
           "Lebu",
           "2022-08-26"
          ],
          [
           "Los Alamos",
           "2022-08-26"
          ],
          [
           "Los Angeles",
           "2022-08-26"
          ],
          [
           "Lota",
           "2022-08-26"
          ],
          [
           "Mulchen",
           "2022-08-26"
          ],
          [
           "Nacimiento",
           "2022-08-26"
          ],
          [
           "Negrete",
           "2022-08-26"
          ],
          [
           "Penco",
           "2022-08-26"
          ],
          [
           "Quilaco",
           "2022-08-26"
          ],
          [
           "Quilleco",
           "2022-08-26"
          ],
          [
           "San Pedro de la Paz",
           "2022-08-26"
          ],
          [
           "San Rosendo",
           "2022-08-26"
          ],
          [
           "Santa Barbara",
           "2022-08-26"
          ],
          [
           "Santa Juana",
           "2022-08-26"
          ],
          [
           "Talcahuano",
           "2022-08-26"
          ],
          [
           "Tirua",
           "2022-08-26"
          ],
          [
           "Tome",
           "2022-08-26"
          ],
          [
           "Tucapel",
           "2022-08-26"
          ],
          [
           "Yumbel",
           "2022-08-26"
          ],
          [
           "Angol",
           "2022-08-26"
          ],
          [
           "Carahue",
           "2022-08-26"
          ],
          [
           "Cholchol",
           "2022-08-26"
          ],
          [
           "Collipulli",
           "2022-08-26"
          ],
          [
           "Cunco",
           "2022-08-26"
          ],
          [
           "Curacautin",
           "2022-08-26"
          ],
          [
           "Curarrehue",
           "2022-08-26"
          ],
          [
           "Ercilla",
           "2022-08-26"
          ],
          [
           "Freire",
           "2022-08-26"
          ],
          [
           "Galvarino",
           "2022-08-26"
          ],
          [
           "Gorbea",
           "2022-08-26"
          ],
          [
           "Lautaro",
           "2022-08-26"
          ],
          [
           "Loncoche",
           "2022-08-26"
          ],
          [
           "Lonquimay",
           "2022-08-26"
          ],
          [
           "Los Sauces",
           "2022-08-26"
          ],
          [
           "Lumaco",
           "2022-08-26"
          ],
          [
           "Melipeuco",
           "2022-08-26"
          ],
          [
           "Nueva Imperial",
           "2022-08-26"
          ],
          [
           "Padre Las Casas",
           "2022-08-26"
          ],
          [
           "Perquenco",
           "2022-08-26"
          ],
          [
           "Pitrufquen",
           "2022-08-26"
          ],
          [
           "Pucon",
           "2022-08-26"
          ],
          [
           "Puren",
           "2022-08-26"
          ],
          [
           "Renaico",
           "2022-08-26"
          ],
          [
           "Saavedra",
           "2022-08-26"
          ],
          [
           "Temuco",
           "2022-08-26"
          ],
          [
           "Teodoro Schmidt",
           "2022-08-26"
          ],
          [
           "Tolten",
           "2022-08-26"
          ],
          [
           "Traiguen",
           "2022-08-26"
          ],
          [
           "Victoria",
           "2022-08-26"
          ],
          [
           "Vilcun",
           "2022-08-26"
          ],
          [
           "Villarrica",
           "2022-08-26"
          ],
          [
           "Corral",
           "2022-08-26"
          ],
          [
           "Futrono",
           "2022-08-26"
          ],
          [
           "La Union",
           "2022-08-26"
          ],
          [
           "Lago Ranco",
           "2022-08-26"
          ],
          [
           "Lanco",
           "2022-08-26"
          ],
          [
           "Los Lagos",
           "2022-08-26"
          ],
          [
           "Mafil",
           "2022-08-26"
          ],
          [
           "Mariquina",
           "2022-08-26"
          ],
          [
           "Paillaco",
           "2022-08-26"
          ],
          [
           "Panguipulli",
           "2022-08-26"
          ],
          [
           "Rio Bueno",
           "2022-08-26"
          ],
          [
           "Valdivia",
           "2022-08-26"
          ],
          [
           "Ancud",
           "2022-08-26"
          ],
          [
           "Calbuco",
           "2022-08-26"
          ],
          [
           "Castro",
           "2022-08-26"
          ],
          [
           "Chaiten",
           "2022-08-26"
          ],
          [
           "Chonchi",
           "2022-08-26"
          ],
          [
           "Cochamo",
           "2022-08-26"
          ],
          [
           "Curaco de Velez",
           "2022-08-26"
          ],
          [
           "Dalcahue",
           "2022-08-26"
          ],
          [
           "Fresia",
           "2022-08-26"
          ],
          [
           "Frutillar",
           "2022-08-26"
          ],
          [
           "Futaleufu",
           "2022-08-26"
          ],
          [
           "Hualaihue",
           "2022-08-26"
          ],
          [
           "Llanquihue",
           "2022-08-26"
          ],
          [
           "Los Muermos",
           "2022-08-26"
          ],
          [
           "Maullin",
           "2022-08-26"
          ],
          [
           "Osorno",
           "2022-08-26"
          ],
          [
           "Palena",
           "2022-08-26"
          ],
          [
           "Puerto Montt",
           "2022-08-26"
          ],
          [
           "Puerto Octay",
           "2022-08-26"
          ],
          [
           "Puerto Varas",
           "2022-08-26"
          ],
          [
           "Puqueldon",
           "2022-08-26"
          ],
          [
           "Purranque",
           "2022-08-26"
          ],
          [
           "Puyehue",
           "2022-08-26"
          ],
          [
           "Queilen",
           "2022-08-26"
          ],
          [
           "Quellon",
           "2022-08-26"
          ],
          [
           "Quemchi",
           "2022-08-26"
          ],
          [
           "Quinchao",
           "2022-08-26"
          ],
          [
           "Rio Negro",
           "2022-08-26"
          ],
          [
           "San Juan de la Costa",
           "2022-08-26"
          ],
          [
           "San Pablo",
           "2022-08-26"
          ],
          [
           "Aysen",
           "2022-08-26"
          ],
          [
           "Chile Chico",
           "2022-08-26"
          ],
          [
           "Cisnes",
           "2022-08-26"
          ],
          [
           "Cochrane",
           "2022-08-26"
          ],
          [
           "Coyhaique",
           "2022-08-26"
          ],
          [
           "Guaitecas",
           "2022-08-26"
          ],
          [
           "Lago Verde",
           "2022-08-26"
          ],
          [
           "OHiggins",
           "2022-08-26"
          ],
          [
           "Rio Ibanez",
           "2022-08-26"
          ],
          [
           "Tortel",
           "2022-08-26"
          ],
          [
           "Antartica",
           "2022-08-26"
          ],
          [
           "Cabo de Hornos",
           "2022-08-26"
          ],
          [
           "Laguna Blanca",
           "2022-08-26"
          ],
          [
           "Natales",
           "2022-08-26"
          ],
          [
           "Porvenir",
           "2022-08-26"
          ],
          [
           "Primavera",
           "2022-08-26"
          ],
          [
           "Punta Arenas",
           "2022-08-26"
          ],
          [
           "Rio Verde",
           "2022-08-26"
          ],
          [
           "San Gregorio",
           "2022-08-26"
          ],
          [
           "Timaukel",
           "2022-08-26"
          ],
          [
           "Torres del Paine",
           "2022-08-26"
          ]
         ],
         "hovertemplate": "Casos=%{x}<br>Fallecidos=%{marker.color}<br>Comuna=%{customdata[0]}<br>Fecha=%{customdata[1]}<extra></extra>",
         "legendgroup": "",
         "marker": {
          "color": [
           1075,
           5,
           2,
           1,
           357,
           11,
           7,
           21,
           858,
           29,
           71,
           1262,
           718,
           28,
           36,
           0,
           46,
           5,
           34,
           90,
           7,
           35,
           38,
           469,
           31,
           25,
           31,
           30,
           178,
           36,
           19,
           53,
           696,
           85,
           21,
           627,
           70,
           78,
           360,
           15,
           48,
           12,
           75,
           92,
           65,
           76,
           251,
           38,
           121,
           91,
           60,
           132,
           58,
           72,
           55,
           0,
           0,
           35,
           142,
           241,
           112,
           294,
           82,
           79,
           23,
           20,
           33,
           73,
           112,
           396,
           631,
           117,
           27,
           389,
           57,
           292,
           41,
           29,
           1422,
           452,
           1256,
           27,
           29,
           395,
           82,
           355,
           918,
           448,
           870,
           125,
           920,
           178,
           616,
           469,
           755,
           145,
           570,
           2009,
           714,
           1078,
           352,
           331,
           1098,
           284,
           679,
           600,
           574,
           2021,
           42,
           602,
           969,
           244,
           285,
           753,
           492,
           1171,
           107,
           657,
           937,
           2534,
           648,
           687,
           914,
           889,
           1389,
           580,
           156,
           760,
           35,
           593,
           1249,
           290,
           89,
           257,
           59,
           99,
           52,
           31,
           59,
           73,
           114,
           13,
           91,
           23,
           12,
           118,
           43,
           25,
           93,
           76,
           32,
           52,
           25,
           20,
           29,
           55,
           69,
           66,
           24,
           9,
           30,
           975,
           218,
           71,
           240,
           179,
           127,
           179,
           29,
           65,
           136,
           50,
           669,
           7,
           58,
           26,
           409,
           97,
           114,
           225,
           148,
           30,
           32,
           30,
           38,
           59,
           40,
           44,
           61,
           160,
           203,
           42,
           812,
           117,
           8,
           53,
           67,
           91,
           629,
           64,
           15,
           62,
           71,
           47,
           23,
           40,
           24,
           35,
           15,
           62,
           47,
           19,
           225,
           18,
           62,
           37,
           20,
           69,
           27,
           16,
           145,
           81,
           175,
           326,
           912,
           35,
           544,
           145,
           58,
           367,
           80,
           71,
           92,
           88,
           629,
           239,
           128,
           102,
           27,
           192,
           15,
           38,
           408,
           18,
           59,
           73,
           610,
           49,
           203,
           48,
           77,
           215,
           97,
           43,
           102,
           72,
           73,
           38,
           59,
           88,
           78,
           84,
           121,
           96,
           48,
           25,
           35,
           20,
           144,
           241,
           31,
           104,
           92,
           57,
           42,
           80,
           889,
           58,
           54,
           98,
           133,
           86,
           186,
           21,
           80,
           175,
           67,
           88,
           122,
           27,
           102,
           122,
           216,
           161,
           630,
           189,
           145,
           165,
           2,
           59,
           12,
           15,
           45,
           57,
           84,
           3,
           25,
           65,
           61,
           57,
           733,
           2,
           822,
           33,
           111,
           19,
           116,
           78,
           21,
           86,
           21,
           32,
           93,
           73,
           61,
           73,
           13,
           13,
           6,
           163,
           5,
           2,
           0,
           9,
           0,
           0,
           2,
           0,
           140,
           31,
           3,
           804,
           0,
           3,
           0,
           0
          ],
          "coloraxis": "coloraxis",
          "size": [
           1075,
           5,
           2,
           1,
           357,
           11,
           7,
           21,
           858,
           29,
           71,
           1262,
           718,
           28,
           36,
           0,
           46,
           5,
           34,
           90,
           7,
           35,
           38,
           469,
           31,
           25,
           31,
           30,
           178,
           36,
           19,
           53,
           696,
           85,
           21,
           627,
           70,
           78,
           360,
           15,
           48,
           12,
           75,
           92,
           65,
           76,
           251,
           38,
           121,
           91,
           60,
           132,
           58,
           72,
           55,
           0,
           0,
           35,
           142,
           241,
           112,
           294,
           82,
           79,
           23,
           20,
           33,
           73,
           112,
           396,
           631,
           117,
           27,
           389,
           57,
           292,
           41,
           29,
           1422,
           452,
           1256,
           27,
           29,
           395,
           82,
           355,
           918,
           448,
           870,
           125,
           920,
           178,
           616,
           469,
           755,
           145,
           570,
           2009,
           714,
           1078,
           352,
           331,
           1098,
           284,
           679,
           600,
           574,
           2021,
           42,
           602,
           969,
           244,
           285,
           753,
           492,
           1171,
           107,
           657,
           937,
           2534,
           648,
           687,
           914,
           889,
           1389,
           580,
           156,
           760,
           35,
           593,
           1249,
           290,
           89,
           257,
           59,
           99,
           52,
           31,
           59,
           73,
           114,
           13,
           91,
           23,
           12,
           118,
           43,
           25,
           93,
           76,
           32,
           52,
           25,
           20,
           29,
           55,
           69,
           66,
           24,
           9,
           30,
           975,
           218,
           71,
           240,
           179,
           127,
           179,
           29,
           65,
           136,
           50,
           669,
           7,
           58,
           26,
           409,
           97,
           114,
           225,
           148,
           30,
           32,
           30,
           38,
           59,
           40,
           44,
           61,
           160,
           203,
           42,
           812,
           117,
           8,
           53,
           67,
           91,
           629,
           64,
           15,
           62,
           71,
           47,
           23,
           40,
           24,
           35,
           15,
           62,
           47,
           19,
           225,
           18,
           62,
           37,
           20,
           69,
           27,
           16,
           145,
           81,
           175,
           326,
           912,
           35,
           544,
           145,
           58,
           367,
           80,
           71,
           92,
           88,
           629,
           239,
           128,
           102,
           27,
           192,
           15,
           38,
           408,
           18,
           59,
           73,
           610,
           49,
           203,
           48,
           77,
           215,
           97,
           43,
           102,
           72,
           73,
           38,
           59,
           88,
           78,
           84,
           121,
           96,
           48,
           25,
           35,
           20,
           144,
           241,
           31,
           104,
           92,
           57,
           42,
           80,
           889,
           58,
           54,
           98,
           133,
           86,
           186,
           21,
           80,
           175,
           67,
           88,
           122,
           27,
           102,
           122,
           216,
           161,
           630,
           189,
           145,
           165,
           2,
           59,
           12,
           15,
           45,
           57,
           84,
           3,
           25,
           65,
           61,
           57,
           733,
           2,
           822,
           33,
           111,
           19,
           116,
           78,
           21,
           86,
           21,
           32,
           93,
           73,
           61,
           73,
           13,
           13,
           6,
           163,
           5,
           2,
           0,
           9,
           0,
           0,
           2,
           0,
           140,
           31,
           3,
           804,
           0,
           3,
           0,
           0
          ],
          "sizemode": "area",
          "sizeref": 0.3959375,
          "symbol": "circle"
         },
         "mode": "markers",
         "name": "",
         "orientation": "v",
         "showlegend": false,
         "type": "scatter",
         "x": [
          75195,
          194,
          111,
          505,
          31170,
          354,
          1042,
          764,
          67614,
          2415,
          5127,
          102396,
          46060,
          1392,
          3939,
          227,
          2967,
          445,
          3158,
          6039,
          997,
          7209,
          3278,
          56047,
          5222,
          2570,
          2994,
          4815,
          16128,
          2635,
          1422,
          2878,
          58697,
          8224,
          1019,
          59940,
          5042,
          5984,
          28636,
          1404,
          2597,
          839,
          6322,
          6034,
          4703,
          3929,
          11188,
          4328,
          6614,
          7074,
          3933,
          11961,
          5107,
          4686,
          3617,
          76,
          21,
          5461,
          8588,
          10860,
          6635,
          20894,
          4192,
          4413,
          2018,
          1709,
          2674,
          5090,
          4733,
          24523,
          38165,
          8530,
          3404,
          23956,
          6568,
          20850,
          4180,
          3532,
          81250,
          30125,
          88276,
          2753,
          2391,
          26011,
          6019,
          18583,
          31467,
          38068,
          29132,
          9561,
          39805,
          8582,
          37701,
          24894,
          27445,
          10297,
          22101,
          95792,
          28746,
          39246,
          24058,
          23952,
          75473,
          27317,
          20647,
          25153,
          32236,
          116122,
          4060,
          27893,
          58999,
          18377,
          17295,
          25104,
          22811,
          70159,
          7856,
          39323,
          57646,
          148571,
          48579,
          32950,
          36278,
          40683,
          69485,
          25541,
          4360,
          38961,
          2290,
          18671,
          126492,
          16200,
          4489,
          19736,
          2827,
          5598,
          2741,
          1421,
          3508,
          4462,
          7168,
          639,
          5769,
          1778,
          1162,
          13584,
          2441,
          1297,
          5552,
          3562,
          1590,
          3108,
          2554,
          1277,
          2362,
          3073,
          3342,
          3659,
          2045,
          757,
          2101,
          65668,
          13277,
          6052,
          15792,
          10652,
          9895,
          11098,
          1631,
          7171,
          11983,
          2078,
          46475,
          1227,
          2449,
          1702,
          28430,
          8349,
          14657,
          12989,
          12150,
          2880,
          2320,
          2346,
          3161,
          5223,
          3934,
          4781,
          4573,
          11851,
          13819,
          3372,
          71059,
          7538,
          821,
          4706,
          4729,
          6178,
          62946,
          7266,
          977,
          3716,
          6086,
          2941,
          1274,
          2753,
          1997,
          2800,
          1122,
          4666,
          2323,
          1446,
          15824,
          1295,
          3902,
          3334,
          1368,
          4929,
          1472,
          1069,
          13441,
          7797,
          9763,
          26237,
          75571,
          1741,
          33110,
          9470,
          2991,
          30058,
          7349,
          4904,
          6852,
          6795,
          64865,
          12120,
          7978,
          6202,
          2852,
          14742,
          953,
          2559,
          37868,
          824,
          3790,
          3730,
          47020,
          2484,
          18728,
          3617,
          5017,
          15130,
          5576,
          2332,
          7257,
          4604,
          3533,
          2185,
          2377,
          5330,
          3707,
          3507,
          9805,
          5260,
          2707,
          1978,
          1977,
          1504,
          7526,
          20895,
          2244,
          6963,
          8734,
          2926,
          3421,
          3203,
          90579,
          3400,
          2839,
          4431,
          8630,
          7505,
          15990,
          1794,
          5875,
          11285,
          3522,
          6118,
          6527,
          2621,
          7885,
          5898,
          12502,
          8044,
          61862,
          9709,
          9029,
          13106,
          945,
          3660,
          850,
          957,
          3769,
          2803,
          6193,
          733,
          2054,
          4999,
          3761,
          3521,
          50475,
          595,
          71264,
          2603,
          12294,
          1195,
          5302,
          3403,
          1320,
          7105,
          1914,
          1849,
          4445,
          2413,
          3375,
          7545,
          1613,
          1927,
          1187,
          18704,
          519,
          176,
          118,
          623,
          151,
          65,
          670,
          50,
          10271,
          2332,
          93,
          51188,
          39,
          145,
          52,
          107
         ],
         "xaxis": "x",
         "y": [
          1075,
          5,
          2,
          1,
          357,
          11,
          7,
          21,
          858,
          29,
          71,
          1262,
          718,
          28,
          36,
          0,
          46,
          5,
          34,
          90,
          7,
          35,
          38,
          469,
          31,
          25,
          31,
          30,
          178,
          36,
          19,
          53,
          696,
          85,
          21,
          627,
          70,
          78,
          360,
          15,
          48,
          12,
          75,
          92,
          65,
          76,
          251,
          38,
          121,
          91,
          60,
          132,
          58,
          72,
          55,
          0,
          0,
          35,
          142,
          241,
          112,
          294,
          82,
          79,
          23,
          20,
          33,
          73,
          112,
          396,
          631,
          117,
          27,
          389,
          57,
          292,
          41,
          29,
          1422,
          452,
          1256,
          27,
          29,
          395,
          82,
          355,
          918,
          448,
          870,
          125,
          920,
          178,
          616,
          469,
          755,
          145,
          570,
          2009,
          714,
          1078,
          352,
          331,
          1098,
          284,
          679,
          600,
          574,
          2021,
          42,
          602,
          969,
          244,
          285,
          753,
          492,
          1171,
          107,
          657,
          937,
          2534,
          648,
          687,
          914,
          889,
          1389,
          580,
          156,
          760,
          35,
          593,
          1249,
          290,
          89,
          257,
          59,
          99,
          52,
          31,
          59,
          73,
          114,
          13,
          91,
          23,
          12,
          118,
          43,
          25,
          93,
          76,
          32,
          52,
          25,
          20,
          29,
          55,
          69,
          66,
          24,
          9,
          30,
          975,
          218,
          71,
          240,
          179,
          127,
          179,
          29,
          65,
          136,
          50,
          669,
          7,
          58,
          26,
          409,
          97,
          114,
          225,
          148,
          30,
          32,
          30,
          38,
          59,
          40,
          44,
          61,
          160,
          203,
          42,
          812,
          117,
          8,
          53,
          67,
          91,
          629,
          64,
          15,
          62,
          71,
          47,
          23,
          40,
          24,
          35,
          15,
          62,
          47,
          19,
          225,
          18,
          62,
          37,
          20,
          69,
          27,
          16,
          145,
          81,
          175,
          326,
          912,
          35,
          544,
          145,
          58,
          367,
          80,
          71,
          92,
          88,
          629,
          239,
          128,
          102,
          27,
          192,
          15,
          38,
          408,
          18,
          59,
          73,
          610,
          49,
          203,
          48,
          77,
          215,
          97,
          43,
          102,
          72,
          73,
          38,
          59,
          88,
          78,
          84,
          121,
          96,
          48,
          25,
          35,
          20,
          144,
          241,
          31,
          104,
          92,
          57,
          42,
          80,
          889,
          58,
          54,
          98,
          133,
          86,
          186,
          21,
          80,
          175,
          67,
          88,
          122,
          27,
          102,
          122,
          216,
          161,
          630,
          189,
          145,
          165,
          2,
          59,
          12,
          15,
          45,
          57,
          84,
          3,
          25,
          65,
          61,
          57,
          733,
          2,
          822,
          33,
          111,
          19,
          116,
          78,
          21,
          86,
          21,
          32,
          93,
          73,
          61,
          73,
          13,
          13,
          6,
          163,
          5,
          2,
          0,
          9,
          0,
          0,
          2,
          0,
          140,
          31,
          3,
          804,
          0,
          3,
          0,
          0
         ],
         "yaxis": "y"
        }
       ],
       "layout": {
        "autosize": true,
        "coloraxis": {
         "colorbar": {
          "title": {
           "text": "Fallecidos"
          }
         },
         "colorscale": [
          [
           0,
           "#0d0887"
          ],
          [
           0.1111111111111111,
           "#46039f"
          ],
          [
           0.2222222222222222,
           "#7201a8"
          ],
          [
           0.3333333333333333,
           "#9c179e"
          ],
          [
           0.4444444444444444,
           "#bd3786"
          ],
          [
           0.5555555555555556,
           "#d8576b"
          ],
          [
           0.6666666666666666,
           "#ed7953"
          ],
          [
           0.7777777777777778,
           "#fb9f3a"
          ],
          [
           0.8888888888888888,
           "#fdca26"
          ],
          [
           1,
           "#f0f921"
          ]
         ]
        },
        "legend": {
         "itemsizing": "constant",
         "tracegroupgap": 0
        },
        "margin": {
         "t": 60
        },
        "template": {
         "data": {
          "bar": [
           {
            "error_x": {
             "color": "#2a3f5f"
            },
            "error_y": {
             "color": "#2a3f5f"
            },
            "marker": {
             "line": {
              "color": "#E5ECF6",
              "width": 0.5
             },
             "pattern": {
              "fillmode": "overlay",
              "size": 10,
              "solidity": 0.2
             }
            },
            "type": "bar"
           }
          ],
          "barpolar": [
           {
            "marker": {
             "line": {
              "color": "#E5ECF6",
              "width": 0.5
             },
             "pattern": {
              "fillmode": "overlay",
              "size": 10,
              "solidity": 0.2
             }
            },
            "type": "barpolar"
           }
          ],
          "carpet": [
           {
            "aaxis": {
             "endlinecolor": "#2a3f5f",
             "gridcolor": "white",
             "linecolor": "white",
             "minorgridcolor": "white",
             "startlinecolor": "#2a3f5f"
            },
            "baxis": {
             "endlinecolor": "#2a3f5f",
             "gridcolor": "white",
             "linecolor": "white",
             "minorgridcolor": "white",
             "startlinecolor": "#2a3f5f"
            },
            "type": "carpet"
           }
          ],
          "choropleth": [
           {
            "colorbar": {
             "outlinewidth": 0,
             "ticks": ""
            },
            "type": "choropleth"
           }
          ],
          "contour": [
           {
            "colorbar": {
             "outlinewidth": 0,
             "ticks": ""
            },
            "colorscale": [
             [
              0,
              "#0d0887"
             ],
             [
              0.1111111111111111,
              "#46039f"
             ],
             [
              0.2222222222222222,
              "#7201a8"
             ],
             [
              0.3333333333333333,
              "#9c179e"
             ],
             [
              0.4444444444444444,
              "#bd3786"
             ],
             [
              0.5555555555555556,
              "#d8576b"
             ],
             [
              0.6666666666666666,
              "#ed7953"
             ],
             [
              0.7777777777777778,
              "#fb9f3a"
             ],
             [
              0.8888888888888888,
              "#fdca26"
             ],
             [
              1,
              "#f0f921"
             ]
            ],
            "type": "contour"
           }
          ],
          "contourcarpet": [
           {
            "colorbar": {
             "outlinewidth": 0,
             "ticks": ""
            },
            "type": "contourcarpet"
           }
          ],
          "heatmap": [
           {
            "colorbar": {
             "outlinewidth": 0,
             "ticks": ""
            },
            "colorscale": [
             [
              0,
              "#0d0887"
             ],
             [
              0.1111111111111111,
              "#46039f"
             ],
             [
              0.2222222222222222,
              "#7201a8"
             ],
             [
              0.3333333333333333,
              "#9c179e"
             ],
             [
              0.4444444444444444,
              "#bd3786"
             ],
             [
              0.5555555555555556,
              "#d8576b"
             ],
             [
              0.6666666666666666,
              "#ed7953"
             ],
             [
              0.7777777777777778,
              "#fb9f3a"
             ],
             [
              0.8888888888888888,
              "#fdca26"
             ],
             [
              1,
              "#f0f921"
             ]
            ],
            "type": "heatmap"
           }
          ],
          "heatmapgl": [
           {
            "colorbar": {
             "outlinewidth": 0,
             "ticks": ""
            },
            "colorscale": [
             [
              0,
              "#0d0887"
             ],
             [
              0.1111111111111111,
              "#46039f"
             ],
             [
              0.2222222222222222,
              "#7201a8"
             ],
             [
              0.3333333333333333,
              "#9c179e"
             ],
             [
              0.4444444444444444,
              "#bd3786"
             ],
             [
              0.5555555555555556,
              "#d8576b"
             ],
             [
              0.6666666666666666,
              "#ed7953"
             ],
             [
              0.7777777777777778,
              "#fb9f3a"
             ],
             [
              0.8888888888888888,
              "#fdca26"
             ],
             [
              1,
              "#f0f921"
             ]
            ],
            "type": "heatmapgl"
           }
          ],
          "histogram": [
           {
            "marker": {
             "pattern": {
              "fillmode": "overlay",
              "size": 10,
              "solidity": 0.2
             }
            },
            "type": "histogram"
           }
          ],
          "histogram2d": [
           {
            "colorbar": {
             "outlinewidth": 0,
             "ticks": ""
            },
            "colorscale": [
             [
              0,
              "#0d0887"
             ],
             [
              0.1111111111111111,
              "#46039f"
             ],
             [
              0.2222222222222222,
              "#7201a8"
             ],
             [
              0.3333333333333333,
              "#9c179e"
             ],
             [
              0.4444444444444444,
              "#bd3786"
             ],
             [
              0.5555555555555556,
              "#d8576b"
             ],
             [
              0.6666666666666666,
              "#ed7953"
             ],
             [
              0.7777777777777778,
              "#fb9f3a"
             ],
             [
              0.8888888888888888,
              "#fdca26"
             ],
             [
              1,
              "#f0f921"
             ]
            ],
            "type": "histogram2d"
           }
          ],
          "histogram2dcontour": [
           {
            "colorbar": {
             "outlinewidth": 0,
             "ticks": ""
            },
            "colorscale": [
             [
              0,
              "#0d0887"
             ],
             [
              0.1111111111111111,
              "#46039f"
             ],
             [
              0.2222222222222222,
              "#7201a8"
             ],
             [
              0.3333333333333333,
              "#9c179e"
             ],
             [
              0.4444444444444444,
              "#bd3786"
             ],
             [
              0.5555555555555556,
              "#d8576b"
             ],
             [
              0.6666666666666666,
              "#ed7953"
             ],
             [
              0.7777777777777778,
              "#fb9f3a"
             ],
             [
              0.8888888888888888,
              "#fdca26"
             ],
             [
              1,
              "#f0f921"
             ]
            ],
            "type": "histogram2dcontour"
           }
          ],
          "mesh3d": [
           {
            "colorbar": {
             "outlinewidth": 0,
             "ticks": ""
            },
            "type": "mesh3d"
           }
          ],
          "parcoords": [
           {
            "line": {
             "colorbar": {
              "outlinewidth": 0,
              "ticks": ""
             }
            },
            "type": "parcoords"
           }
          ],
          "pie": [
           {
            "automargin": true,
            "type": "pie"
           }
          ],
          "scatter": [
           {
            "fillpattern": {
             "fillmode": "overlay",
             "size": 10,
             "solidity": 0.2
            },
            "type": "scatter"
           }
          ],
          "scatter3d": [
           {
            "line": {
             "colorbar": {
              "outlinewidth": 0,
              "ticks": ""
             }
            },
            "marker": {
             "colorbar": {
              "outlinewidth": 0,
              "ticks": ""
             }
            },
            "type": "scatter3d"
           }
          ],
          "scattercarpet": [
           {
            "marker": {
             "colorbar": {
              "outlinewidth": 0,
              "ticks": ""
             }
            },
            "type": "scattercarpet"
           }
          ],
          "scattergeo": [
           {
            "marker": {
             "colorbar": {
              "outlinewidth": 0,
              "ticks": ""
             }
            },
            "type": "scattergeo"
           }
          ],
          "scattergl": [
           {
            "marker": {
             "colorbar": {
              "outlinewidth": 0,
              "ticks": ""
             }
            },
            "type": "scattergl"
           }
          ],
          "scattermapbox": [
           {
            "marker": {
             "colorbar": {
              "outlinewidth": 0,
              "ticks": ""
             }
            },
            "type": "scattermapbox"
           }
          ],
          "scatterpolar": [
           {
            "marker": {
             "colorbar": {
              "outlinewidth": 0,
              "ticks": ""
             }
            },
            "type": "scatterpolar"
           }
          ],
          "scatterpolargl": [
           {
            "marker": {
             "colorbar": {
              "outlinewidth": 0,
              "ticks": ""
             }
            },
            "type": "scatterpolargl"
           }
          ],
          "scatterternary": [
           {
            "marker": {
             "colorbar": {
              "outlinewidth": 0,
              "ticks": ""
             }
            },
            "type": "scatterternary"
           }
          ],
          "surface": [
           {
            "colorbar": {
             "outlinewidth": 0,
             "ticks": ""
            },
            "colorscale": [
             [
              0,
              "#0d0887"
             ],
             [
              0.1111111111111111,
              "#46039f"
             ],
             [
              0.2222222222222222,
              "#7201a8"
             ],
             [
              0.3333333333333333,
              "#9c179e"
             ],
             [
              0.4444444444444444,
              "#bd3786"
             ],
             [
              0.5555555555555556,
              "#d8576b"
             ],
             [
              0.6666666666666666,
              "#ed7953"
             ],
             [
              0.7777777777777778,
              "#fb9f3a"
             ],
             [
              0.8888888888888888,
              "#fdca26"
             ],
             [
              1,
              "#f0f921"
             ]
            ],
            "type": "surface"
           }
          ],
          "table": [
           {
            "cells": {
             "fill": {
              "color": "#EBF0F8"
             },
             "line": {
              "color": "white"
             }
            },
            "header": {
             "fill": {
              "color": "#C8D4E3"
             },
             "line": {
              "color": "white"
             }
            },
            "type": "table"
           }
          ]
         },
         "layout": {
          "annotationdefaults": {
           "arrowcolor": "#2a3f5f",
           "arrowhead": 0,
           "arrowwidth": 1
          },
          "autotypenumbers": "strict",
          "coloraxis": {
           "colorbar": {
            "outlinewidth": 0,
            "ticks": ""
           }
          },
          "colorscale": {
           "diverging": [
            [
             0,
             "#8e0152"
            ],
            [
             0.1,
             "#c51b7d"
            ],
            [
             0.2,
             "#de77ae"
            ],
            [
             0.3,
             "#f1b6da"
            ],
            [
             0.4,
             "#fde0ef"
            ],
            [
             0.5,
             "#f7f7f7"
            ],
            [
             0.6,
             "#e6f5d0"
            ],
            [
             0.7,
             "#b8e186"
            ],
            [
             0.8,
             "#7fbc41"
            ],
            [
             0.9,
             "#4d9221"
            ],
            [
             1,
             "#276419"
            ]
           ],
           "sequential": [
            [
             0,
             "#0d0887"
            ],
            [
             0.1111111111111111,
             "#46039f"
            ],
            [
             0.2222222222222222,
             "#7201a8"
            ],
            [
             0.3333333333333333,
             "#9c179e"
            ],
            [
             0.4444444444444444,
             "#bd3786"
            ],
            [
             0.5555555555555556,
             "#d8576b"
            ],
            [
             0.6666666666666666,
             "#ed7953"
            ],
            [
             0.7777777777777778,
             "#fb9f3a"
            ],
            [
             0.8888888888888888,
             "#fdca26"
            ],
            [
             1,
             "#f0f921"
            ]
           ],
           "sequentialminus": [
            [
             0,
             "#0d0887"
            ],
            [
             0.1111111111111111,
             "#46039f"
            ],
            [
             0.2222222222222222,
             "#7201a8"
            ],
            [
             0.3333333333333333,
             "#9c179e"
            ],
            [
             0.4444444444444444,
             "#bd3786"
            ],
            [
             0.5555555555555556,
             "#d8576b"
            ],
            [
             0.6666666666666666,
             "#ed7953"
            ],
            [
             0.7777777777777778,
             "#fb9f3a"
            ],
            [
             0.8888888888888888,
             "#fdca26"
            ],
            [
             1,
             "#f0f921"
            ]
           ]
          },
          "colorway": [
           "#636efa",
           "#EF553B",
           "#00cc96",
           "#ab63fa",
           "#FFA15A",
           "#19d3f3",
           "#FF6692",
           "#B6E880",
           "#FF97FF",
           "#FECB52"
          ],
          "font": {
           "color": "#2a3f5f"
          },
          "geo": {
           "bgcolor": "white",
           "lakecolor": "white",
           "landcolor": "#E5ECF6",
           "showlakes": true,
           "showland": true,
           "subunitcolor": "white"
          },
          "hoverlabel": {
           "align": "left"
          },
          "hovermode": "closest",
          "mapbox": {
           "style": "light"
          },
          "paper_bgcolor": "white",
          "plot_bgcolor": "#E5ECF6",
          "polar": {
           "angularaxis": {
            "gridcolor": "white",
            "linecolor": "white",
            "ticks": ""
           },
           "bgcolor": "#E5ECF6",
           "radialaxis": {
            "gridcolor": "white",
            "linecolor": "white",
            "ticks": ""
           }
          },
          "scene": {
           "xaxis": {
            "backgroundcolor": "#E5ECF6",
            "gridcolor": "white",
            "gridwidth": 2,
            "linecolor": "white",
            "showbackground": true,
            "ticks": "",
            "zerolinecolor": "white"
           },
           "yaxis": {
            "backgroundcolor": "#E5ECF6",
            "gridcolor": "white",
            "gridwidth": 2,
            "linecolor": "white",
            "showbackground": true,
            "ticks": "",
            "zerolinecolor": "white"
           },
           "zaxis": {
            "backgroundcolor": "#E5ECF6",
            "gridcolor": "white",
            "gridwidth": 2,
            "linecolor": "white",
            "showbackground": true,
            "ticks": "",
            "zerolinecolor": "white"
           }
          },
          "shapedefaults": {
           "line": {
            "color": "#2a3f5f"
           }
          },
          "ternary": {
           "aaxis": {
            "gridcolor": "white",
            "linecolor": "white",
            "ticks": ""
           },
           "baxis": {
            "gridcolor": "white",
            "linecolor": "white",
            "ticks": ""
           },
           "bgcolor": "#E5ECF6",
           "caxis": {
            "gridcolor": "white",
            "linecolor": "white",
            "ticks": ""
           }
          },
          "title": {
           "x": 0.05
          },
          "xaxis": {
           "automargin": true,
           "gridcolor": "white",
           "linecolor": "white",
           "ticks": "",
           "title": {
            "standoff": 15
           },
           "zerolinecolor": "white",
           "zerolinewidth": 2
          },
          "yaxis": {
           "automargin": true,
           "gridcolor": "white",
           "linecolor": "white",
           "ticks": "",
           "title": {
            "standoff": 15
           },
           "zerolinecolor": "white",
           "zerolinewidth": 2
          }
         }
        },
        "xaxis": {
         "anchor": "y",
         "autorange": true,
         "domain": [
          0,
          1
         ],
         "range": [
          1.0762179009739266,
          5.707681091411322
         ],
         "title": {
          "text": "Casos"
         },
         "type": "log"
        },
        "yaxis": {
         "anchor": "x",
         "autorange": true,
         "domain": [
          0,
          1
         ],
         "range": [
          -0.3616826126651986,
          5.321901300645065
         ],
         "title": {
          "text": "Fallecidos"
         },
         "type": "log"
        }
       }
      },
      "image/png": "[encoded data removed]",
      "text/html": [
       "<div>                            <div id=\"0ee7492a-0a07-47e0-889e-6c47d6693bbb\" class=\"plotly-graph-div\" style=\"height:525px; width:100%;\"></div>            <script type=\"text/javascript\">                require([\"plotly\"], function(Plotly) {                    window.PLOTLYENV=window.PLOTLYENV || {};                                    if (document.getElementById(\"0ee7492a-0a07-47e0-889e-6c47d6693bbb\")) {                    Plotly.newPlot(                        \"0ee7492a-0a07-47e0-889e-6c47d6693bbb\",                        [{\"customdata\":[[\"Arica\",\"2022-08-26\"],[\"Camarones\",\"2022-08-26\"],[\"General Lagos\",\"2022-08-26\"],[\"Putre\",\"2022-08-26\"],[\"Alto Hospicio\",\"2022-08-26\"],[\"Camina\",\"2022-08-26\"],[\"Colchane\",\"2022-08-26\"],[\"Huara\",\"2022-08-26\"],[\"Iquique\",\"2022-08-26\"],[\"Pica\",\"2022-08-26\"],[\"Pozo Almonte\",\"2022-08-26\"],[\"Antofagasta\",\"2022-08-26\"],[\"Calama\",\"2022-08-26\"],[\"Maria Elena\",\"2022-08-26\"],[\"Mejillones\",\"2022-08-26\"],[\"Ollague\",\"2022-08-26\"],[\"San Pedro de Atacama\",\"2022-08-26\"],[\"Sierra Gorda\",\"2022-08-26\"],[\"Taltal\",\"2022-08-26\"],[\"Tocopilla\",\"2022-08-26\"],[\"Alto del Carmen\",\"2022-08-26\"],[\"Caldera\",\"2022-08-26\"],[\"Chanaral\",\"2022-08-26\"],[\"Copiapo\",\"2022-08-26\"],[\"Diego de Almagro\",\"2022-08-26\"],[\"Freirina\",\"2022-08-26\"],[\"Huasco\",\"2022-08-26\"],[\"Tierra Amarilla\",\"2022-08-26\"],[\"Vallenar\",\"2022-08-26\"],[\"Andacollo\",\"2022-08-26\"],[\"Canela\",\"2022-08-26\"],[\"Combarbala\",\"2022-08-26\"],[\"Coquimbo\",\"2022-08-26\"],[\"Illapel\",\"2022-08-26\"],[\"La Higuera\",\"2022-08-26\"],[\"La Serena\",\"2022-08-26\"],[\"Los Vilos\",\"2022-08-26\"],[\"Monte Patria\",\"2022-08-26\"],[\"Ovalle\",\"2022-08-26\"],[\"Paiguano\",\"2022-08-26\"],[\"Punitaqui\",\"2022-08-26\"],[\"Rio Hurtado\",\"2022-08-26\"],[\"Salamanca\",\"2022-08-26\"],[\"Vicuna\",\"2022-08-26\"],[\"Algarrobo\",\"2022-08-26\"],[\"Cabildo\",\"2022-08-26\"],[\"Calera\",\"2022-08-26\"],[\"Calle Larga\",\"2022-08-26\"],[\"Cartagena\",\"2022-08-26\"],[\"Casablanca\",\"2022-08-26\"],[\"Catemu\",\"2022-08-26\"],[\"Concon\",\"2022-08-26\"],[\"El Quisco\",\"2022-08-26\"],[\"El Tabo\",\"2022-08-26\"],[\"Hijuelas\",\"2022-08-26\"],[\"Isla de Pascua\",\"2022-08-26\"],[\"Juan Fernandez\",\"2022-08-26\"],[\"La Cruz\",\"2022-08-26\"],[\"La Ligua\",\"2022-08-26\"],[\"Limache\",\"2022-08-26\"],[\"Llaillay\",\"2022-08-26\"],[\"Los Andes\",\"2022-08-26\"],[\"Nogales\",\"2022-08-26\"],[\"Olmue\",\"2022-08-26\"],[\"Panquehue\",\"2022-08-26\"],[\"Papudo\",\"2022-08-26\"],[\"Petorca\",\"2022-08-26\"],[\"Puchuncavi\",\"2022-08-26\"],[\"Putaendo\",\"2022-08-26\"],[\"Quillota\",\"2022-08-26\"],[\"Quilpue\",\"2022-08-26\"],[\"Quintero\",\"2022-08-26\"],[\"Rinconada\",\"2022-08-26\"],[\"San Antonio\",\"2022-08-26\"],[\"San Esteban\",\"2022-08-26\"],[\"San Felipe\",\"2022-08-26\"],[\"Santa Maria\",\"2022-08-26\"],[\"Santo Domingo\",\"2022-08-26\"],[\"Valparaiso\",\"2022-08-26\"],[\"Villa Alemana\",\"2022-08-26\"],[\"Vina del Mar\",\"2022-08-26\"],[\"Zapallar\",\"2022-08-26\"],[\"Alhue\",\"2022-08-26\"],[\"Buin\",\"2022-08-26\"],[\"Calera de Tango\",\"2022-08-26\"],[\"Cerrillos\",\"2022-08-26\"],[\"Cerro Navia\",\"2022-08-26\"],[\"Colina\",\"2022-08-26\"],[\"Conchali\",\"2022-08-26\"],[\"Curacavi\",\"2022-08-26\"],[\"El Bosque\",\"2022-08-26\"],[\"El Monte\",\"2022-08-26\"],[\"Estacion Central\",\"2022-08-26\"],[\"Huechuraba\",\"2022-08-26\"],[\"Independencia\",\"2022-08-26\"],[\"Isla de Maipo\",\"2022-08-26\"],[\"La Cisterna\",\"2022-08-26\"],[\"La Florida\",\"2022-08-26\"],[\"La Granja\",\"2022-08-26\"],[\"La Pintana\",\"2022-08-26\"],[\"La Reina\",\"2022-08-26\"],[\"Lampa\",\"2022-08-26\"],[\"Las Condes\",\"2022-08-26\"],[\"Lo Barnechea\",\"2022-08-26\"],[\"Lo Espejo\",\"2022-08-26\"],[\"Lo Prado\",\"2022-08-26\"],[\"Macul\",\"2022-08-26\"],[\"Maipu\",\"2022-08-26\"],[\"Maria Pinto\",\"2022-08-26\"],[\"Melipilla\",\"2022-08-26\"],[\"Nunoa\",\"2022-08-26\"],[\"Padre Hurtado\",\"2022-08-26\"],[\"Paine\",\"2022-08-26\"],[\"Pedro Aguirre Cerda\",\"2022-08-26\"],[\"Penaflor\",\"2022-08-26\"],[\"Penalolen\",\"2022-08-26\"],[\"Pirque\",\"2022-08-26\"],[\"Providencia\",\"2022-08-26\"],[\"Pudahuel\",\"2022-08-26\"],[\"Puente Alto\",\"2022-08-26\"],[\"Quilicura\",\"2022-08-26\"],[\"Quinta Normal\",\"2022-08-26\"],[\"Recoleta\",\"2022-08-26\"],[\"Renca\",\"2022-08-26\"],[\"San Bernardo\",\"2022-08-26\"],[\"San Joaquin\",\"2022-08-26\"],[\"San Jose de Maipo\",\"2022-08-26\"],[\"San Miguel\",\"2022-08-26\"],[\"San Pedro\",\"2022-08-26\"],[\"San Ramon\",\"2022-08-26\"],[\"Santiago\",\"2022-08-26\"],[\"Talagante\",\"2022-08-26\"],[\"Tiltil\",\"2022-08-26\"],[\"Vitacura\",\"2022-08-26\"],[\"Chepica\",\"2022-08-26\"],[\"Chimbarongo\",\"2022-08-26\"],[\"Codegua\",\"2022-08-26\"],[\"Coinco\",\"2022-08-26\"],[\"Coltauco\",\"2022-08-26\"],[\"Donihue\",\"2022-08-26\"],[\"Graneros\",\"2022-08-26\"],[\"La Estrella\",\"2022-08-26\"],[\"Las Cabras\",\"2022-08-26\"],[\"Litueche\",\"2022-08-26\"],[\"Lolol\",\"2022-08-26\"],[\"Machali\",\"2022-08-26\"],[\"Malloa\",\"2022-08-26\"],[\"Marchihue\",\"2022-08-26\"],[\"Mostazal\",\"2022-08-26\"],[\"Nancagua\",\"2022-08-26\"],[\"Navidad\",\"2022-08-26\"],[\"Olivar\",\"2022-08-26\"],[\"Palmilla\",\"2022-08-26\"],[\"Paredones\",\"2022-08-26\"],[\"Peralillo\",\"2022-08-26\"],[\"Peumo\",\"2022-08-26\"],[\"Pichidegua\",\"2022-08-26\"],[\"Pichilemu\",\"2022-08-26\"],[\"Placilla\",\"2022-08-26\"],[\"Pumanque\",\"2022-08-26\"],[\"Quinta de Tilcoco\",\"2022-08-26\"],[\"Rancagua\",\"2022-08-26\"],[\"Rengo\",\"2022-08-26\"],[\"Requinoa\",\"2022-08-26\"],[\"San Fernando\",\"2022-08-26\"],[\"San Vicente\",\"2022-08-26\"],[\"Santa Cruz\",\"2022-08-26\"],[\"Cauquenes\",\"2022-08-26\"],[\"Chanco\",\"2022-08-26\"],[\"Colbun\",\"2022-08-26\"],[\"Constitucion\",\"2022-08-26\"],[\"Curepto\",\"2022-08-26\"],[\"Curico\",\"2022-08-26\"],[\"Empedrado\",\"2022-08-26\"],[\"Hualane\",\"2022-08-26\"],[\"Licanten\",\"2022-08-26\"],[\"Linares\",\"2022-08-26\"],[\"Longavi\",\"2022-08-26\"],[\"Maule\",\"2022-08-26\"],[\"Molina\",\"2022-08-26\"],[\"Parral\",\"2022-08-26\"],[\"Pelarco\",\"2022-08-26\"],[\"Pelluhue\",\"2022-08-26\"],[\"Pencahue\",\"2022-08-26\"],[\"Rauco\",\"2022-08-26\"],[\"Retiro\",\"2022-08-26\"],[\"Rio Claro\",\"2022-08-26\"],[\"Romeral\",\"2022-08-26\"],[\"Sagrada Familia\",\"2022-08-26\"],[\"San Clemente\",\"2022-08-26\"],[\"San Javier\",\"2022-08-26\"],[\"San Rafael\",\"2022-08-26\"],[\"Talca\",\"2022-08-26\"],[\"Teno\",\"2022-08-26\"],[\"Vichuquen\",\"2022-08-26\"],[\"Villa Alegre\",\"2022-08-26\"],[\"Yerbas Buenas\",\"2022-08-26\"],[\"Bulnes\",\"2022-08-26\"],[\"Chillan\",\"2022-08-26\"],[\"Chillan Viejo\",\"2022-08-26\"],[\"Cobquecura\",\"2022-08-26\"],[\"Coelemu\",\"2022-08-26\"],[\"Coihueco\",\"2022-08-26\"],[\"El Carmen\",\"2022-08-26\"],[\"Ninhue\",\"2022-08-26\"],[\"Niquen\",\"2022-08-26\"],[\"Pemuco\",\"2022-08-26\"],[\"Pinto\",\"2022-08-26\"],[\"Portezuelo\",\"2022-08-26\"],[\"Quillon\",\"2022-08-26\"],[\"Quirihue\",\"2022-08-26\"],[\"Ranquil\",\"2022-08-26\"],[\"San Carlos\",\"2022-08-26\"],[\"San Fabian\",\"2022-08-26\"],[\"San Ignacio\",\"2022-08-26\"],[\"San Nicolas\",\"2022-08-26\"],[\"Treguaco\",\"2022-08-26\"],[\"Yungay\",\"2022-08-26\"],[\"Alto Biobio\",\"2022-08-26\"],[\"Antuco\",\"2022-08-26\"],[\"Arauco\",\"2022-08-26\"],[\"Cabrero\",\"2022-08-26\"],[\"Canete\",\"2022-08-26\"],[\"Chiguayante\",\"2022-08-26\"],[\"Concepcion\",\"2022-08-26\"],[\"Contulmo\",\"2022-08-26\"],[\"Coronel\",\"2022-08-26\"],[\"Curanilahue\",\"2022-08-26\"],[\"Florida\",\"2022-08-26\"],[\"Hualpen\",\"2022-08-26\"],[\"Hualqui\",\"2022-08-26\"],[\"Laja\",\"2022-08-26\"],[\"Lebu\",\"2022-08-26\"],[\"Los Alamos\",\"2022-08-26\"],[\"Los Angeles\",\"2022-08-26\"],[\"Lota\",\"2022-08-26\"],[\"Mulchen\",\"2022-08-26\"],[\"Nacimiento\",\"2022-08-26\"],[\"Negrete\",\"2022-08-26\"],[\"Penco\",\"2022-08-26\"],[\"Quilaco\",\"2022-08-26\"],[\"Quilleco\",\"2022-08-26\"],[\"San Pedro de la Paz\",\"2022-08-26\"],[\"San Rosendo\",\"2022-08-26\"],[\"Santa Barbara\",\"2022-08-26\"],[\"Santa Juana\",\"2022-08-26\"],[\"Talcahuano\",\"2022-08-26\"],[\"Tirua\",\"2022-08-26\"],[\"Tome\",\"2022-08-26\"],[\"Tucapel\",\"2022-08-26\"],[\"Yumbel\",\"2022-08-26\"],[\"Angol\",\"2022-08-26\"],[\"Carahue\",\"2022-08-26\"],[\"Cholchol\",\"2022-08-26\"],[\"Collipulli\",\"2022-08-26\"],[\"Cunco\",\"2022-08-26\"],[\"Curacautin\",\"2022-08-26\"],[\"Curarrehue\",\"2022-08-26\"],[\"Ercilla\",\"2022-08-26\"],[\"Freire\",\"2022-08-26\"],[\"Galvarino\",\"2022-08-26\"],[\"Gorbea\",\"2022-08-26\"],[\"Lautaro\",\"2022-08-26\"],[\"Loncoche\",\"2022-08-26\"],[\"Lonquimay\",\"2022-08-26\"],[\"Los Sauces\",\"2022-08-26\"],[\"Lumaco\",\"2022-08-26\"],[\"Melipeuco\",\"2022-08-26\"],[\"Nueva Imperial\",\"2022-08-26\"],[\"Padre Las Casas\",\"2022-08-26\"],[\"Perquenco\",\"2022-08-26\"],[\"Pitrufquen\",\"2022-08-26\"],[\"Pucon\",\"2022-08-26\"],[\"Puren\",\"2022-08-26\"],[\"Renaico\",\"2022-08-26\"],[\"Saavedra\",\"2022-08-26\"],[\"Temuco\",\"2022-08-26\"],[\"Teodoro Schmidt\",\"2022-08-26\"],[\"Tolten\",\"2022-08-26\"],[\"Traiguen\",\"2022-08-26\"],[\"Victoria\",\"2022-08-26\"],[\"Vilcun\",\"2022-08-26\"],[\"Villarrica\",\"2022-08-26\"],[\"Corral\",\"2022-08-26\"],[\"Futrono\",\"2022-08-26\"],[\"La Union\",\"2022-08-26\"],[\"Lago Ranco\",\"2022-08-26\"],[\"Lanco\",\"2022-08-26\"],[\"Los Lagos\",\"2022-08-26\"],[\"Mafil\",\"2022-08-26\"],[\"Mariquina\",\"2022-08-26\"],[\"Paillaco\",\"2022-08-26\"],[\"Panguipulli\",\"2022-08-26\"],[\"Rio Bueno\",\"2022-08-26\"],[\"Valdivia\",\"2022-08-26\"],[\"Ancud\",\"2022-08-26\"],[\"Calbuco\",\"2022-08-26\"],[\"Castro\",\"2022-08-26\"],[\"Chaiten\",\"2022-08-26\"],[\"Chonchi\",\"2022-08-26\"],[\"Cochamo\",\"2022-08-26\"],[\"Curaco de Velez\",\"2022-08-26\"],[\"Dalcahue\",\"2022-08-26\"],[\"Fresia\",\"2022-08-26\"],[\"Frutillar\",\"2022-08-26\"],[\"Futaleufu\",\"2022-08-26\"],[\"Hualaihue\",\"2022-08-26\"],[\"Llanquihue\",\"2022-08-26\"],[\"Los Muermos\",\"2022-08-26\"],[\"Maullin\",\"2022-08-26\"],[\"Osorno\",\"2022-08-26\"],[\"Palena\",\"2022-08-26\"],[\"Puerto Montt\",\"2022-08-26\"],[\"Puerto Octay\",\"2022-08-26\"],[\"Puerto Varas\",\"2022-08-26\"],[\"Puqueldon\",\"2022-08-26\"],[\"Purranque\",\"2022-08-26\"],[\"Puyehue\",\"2022-08-26\"],[\"Queilen\",\"2022-08-26\"],[\"Quellon\",\"2022-08-26\"],[\"Quemchi\",\"2022-08-26\"],[\"Quinchao\",\"2022-08-26\"],[\"Rio Negro\",\"2022-08-26\"],[\"San Juan de la Costa\",\"2022-08-26\"],[\"San Pablo\",\"2022-08-26\"],[\"Aysen\",\"2022-08-26\"],[\"Chile Chico\",\"2022-08-26\"],[\"Cisnes\",\"2022-08-26\"],[\"Cochrane\",\"2022-08-26\"],[\"Coyhaique\",\"2022-08-26\"],[\"Guaitecas\",\"2022-08-26\"],[\"Lago Verde\",\"2022-08-26\"],[\"OHiggins\",\"2022-08-26\"],[\"Rio Ibanez\",\"2022-08-26\"],[\"Tortel\",\"2022-08-26\"],[\"Antartica\",\"2022-08-26\"],[\"Cabo de Hornos\",\"2022-08-26\"],[\"Laguna Blanca\",\"2022-08-26\"],[\"Natales\",\"2022-08-26\"],[\"Porvenir\",\"2022-08-26\"],[\"Primavera\",\"2022-08-26\"],[\"Punta Arenas\",\"2022-08-26\"],[\"Rio Verde\",\"2022-08-26\"],[\"San Gregorio\",\"2022-08-26\"],[\"Timaukel\",\"2022-08-26\"],[\"Torres del Paine\",\"2022-08-26\"]],\"hovertemplate\":\"Casos=%{x}<br>Fallecidos=%{marker.color}<br>Comuna=%{customdata[0]}<br>Fecha=%{customdata[1]}<extra></extra>\",\"legendgroup\":\"\",\"marker\":{\"color\":[1075.0,5.0,2.0,1.0,357.0,11.0,7.0,21.0,858.0,29.0,71.0,1262.0,718.0,28.0,36.0,0.0,46.0,5.0,34.0,90.0,7.0,35.0,38.0,469.0,31.0,25.0,31.0,30.0,178.0,36.0,19.0,53.0,696.0,85.0,21.0,627.0,70.0,78.0,360.0,15.0,48.0,12.0,75.0,92.0,65.0,76.0,251.0,38.0,121.0,91.0,60.0,132.0,58.0,72.0,55.0,0.0,0.0,35.0,142.0,241.0,112.0,294.0,82.0,79.0,23.0,20.0,33.0,73.0,112.0,396.0,631.0,117.0,27.0,389.0,57.0,292.0,41.0,29.0,1422.0,452.0,1256.0,27.0,29.0,395.0,82.0,355.0,918.0,448.0,870.0,125.0,920.0,178.0,616.0,469.0,755.0,145.0,570.0,2009.0,714.0,1078.0,352.0,331.0,1098.0,284.0,679.0,600.0,574.0,2021.0,42.0,602.0,969.0,244.0,285.0,753.0,492.0,1171.0,107.0,657.0,937.0,2534.0,648.0,687.0,914.0,889.0,1389.0,580.0,156.0,760.0,35.0,593.0,1249.0,290.0,89.0,257.0,59.0,99.0,52.0,31.0,59.0,73.0,114.0,13.0,91.0,23.0,12.0,118.0,43.0,25.0,93.0,76.0,32.0,52.0,25.0,20.0,29.0,55.0,69.0,66.0,24.0,9.0,30.0,975.0,218.0,71.0,240.0,179.0,127.0,179.0,29.0,65.0,136.0,50.0,669.0,7.0,58.0,26.0,409.0,97.0,114.0,225.0,148.0,30.0,32.0,30.0,38.0,59.0,40.0,44.0,61.0,160.0,203.0,42.0,812.0,117.0,8.0,53.0,67.0,91.0,629.0,64.0,15.0,62.0,71.0,47.0,23.0,40.0,24.0,35.0,15.0,62.0,47.0,19.0,225.0,18.0,62.0,37.0,20.0,69.0,27.0,16.0,145.0,81.0,175.0,326.0,912.0,35.0,544.0,145.0,58.0,367.0,80.0,71.0,92.0,88.0,629.0,239.0,128.0,102.0,27.0,192.0,15.0,38.0,408.0,18.0,59.0,73.0,610.0,49.0,203.0,48.0,77.0,215.0,97.0,43.0,102.0,72.0,73.0,38.0,59.0,88.0,78.0,84.0,121.0,96.0,48.0,25.0,35.0,20.0,144.0,241.0,31.0,104.0,92.0,57.0,42.0,80.0,889.0,58.0,54.0,98.0,133.0,86.0,186.0,21.0,80.0,175.0,67.0,88.0,122.0,27.0,102.0,122.0,216.0,161.0,630.0,189.0,145.0,165.0,2.0,59.0,12.0,15.0,45.0,57.0,84.0,3.0,25.0,65.0,61.0,57.0,733.0,2.0,822.0,33.0,111.0,19.0,116.0,78.0,21.0,86.0,21.0,32.0,93.0,73.0,61.0,73.0,13.0,13.0,6.0,163.0,5.0,2.0,0.0,9.0,0.0,0.0,2.0,0.0,140.0,31.0,3.0,804.0,0.0,3.0,0.0,0.0],\"coloraxis\":\"coloraxis\",\"size\":[1075.0,5.0,2.0,1.0,357.0,11.0,7.0,21.0,858.0,29.0,71.0,1262.0,718.0,28.0,36.0,0.0,46.0,5.0,34.0,90.0,7.0,35.0,38.0,469.0,31.0,25.0,31.0,30.0,178.0,36.0,19.0,53.0,696.0,85.0,21.0,627.0,70.0,78.0,360.0,15.0,48.0,12.0,75.0,92.0,65.0,76.0,251.0,38.0,121.0,91.0,60.0,132.0,58.0,72.0,55.0,0.0,0.0,35.0,142.0,241.0,112.0,294.0,82.0,79.0,23.0,20.0,33.0,73.0,112.0,396.0,631.0,117.0,27.0,389.0,57.0,292.0,41.0,29.0,1422.0,452.0,1256.0,27.0,29.0,395.0,82.0,355.0,918.0,448.0,870.0,125.0,920.0,178.0,616.0,469.0,755.0,145.0,570.0,2009.0,714.0,1078.0,352.0,331.0,1098.0,284.0,679.0,600.0,574.0,2021.0,42.0,602.0,969.0,244.0,285.0,753.0,492.0,1171.0,107.0,657.0,937.0,2534.0,648.0,687.0,914.0,889.0,1389.0,580.0,156.0,760.0,35.0,593.0,1249.0,290.0,89.0,257.0,59.0,99.0,52.0,31.0,59.0,73.0,114.0,13.0,91.0,23.0,12.0,118.0,43.0,25.0,93.0,76.0,32.0,52.0,25.0,20.0,29.0,55.0,69.0,66.0,24.0,9.0,30.0,975.0,218.0,71.0,240.0,179.0,127.0,179.0,29.0,65.0,136.0,50.0,669.0,7.0,58.0,26.0,409.0,97.0,114.0,225.0,148.0,30.0,32.0,30.0,38.0,59.0,40.0,44.0,61.0,160.0,203.0,42.0,812.0,117.0,8.0,53.0,67.0,91.0,629.0,64.0,15.0,62.0,71.0,47.0,23.0,40.0,24.0,35.0,15.0,62.0,47.0,19.0,225.0,18.0,62.0,37.0,20.0,69.0,27.0,16.0,145.0,81.0,175.0,326.0,912.0,35.0,544.0,145.0,58.0,367.0,80.0,71.0,92.0,88.0,629.0,239.0,128.0,102.0,27.0,192.0,15.0,38.0,408.0,18.0,59.0,73.0,610.0,49.0,203.0,48.0,77.0,215.0,97.0,43.0,102.0,72.0,73.0,38.0,59.0,88.0,78.0,84.0,121.0,96.0,48.0,25.0,35.0,20.0,144.0,241.0,31.0,104.0,92.0,57.0,42.0,80.0,889.0,58.0,54.0,98.0,133.0,86.0,186.0,21.0,80.0,175.0,67.0,88.0,122.0,27.0,102.0,122.0,216.0,161.0,630.0,189.0,145.0,165.0,2.0,59.0,12.0,15.0,45.0,57.0,84.0,3.0,25.0,65.0,61.0,57.0,733.0,2.0,822.0,33.0,111.0,19.0,116.0,78.0,21.0,86.0,21.0,32.0,93.0,73.0,61.0,73.0,13.0,13.0,6.0,163.0,5.0,2.0,0.0,9.0,0.0,0.0,2.0,0.0,140.0,31.0,3.0,804.0,0.0,3.0,0.0,0.0],\"sizemode\":\"area\",\"sizeref\":0.3959375,\"symbol\":\"circle\"},\"mode\":\"markers\",\"name\":\"\",\"orientation\":\"v\",\"showlegend\":false,\"x\":[75195.0,194.0,111.0,505.0,31170.0,354.0,1042.0,764.0,67614.0,2415.0,5127.0,102396.0,46060.0,1392.0,3939.0,227.0,2967.0,445.0,3158.0,6039.0,997.0,7209.0,3278.0,56047.0,5222.0,2570.0,2994.0,4815.0,16128.0,2635.0,1422.0,2878.0,58697.0,8224.0,1019.0,59940.0,5042.0,5984.0,28636.0,1404.0,2597.0,839.0,6322.0,6034.0,4703.0,3929.0,11188.0,4328.0,6614.0,7074.0,3933.0,11961.0,5107.0,4686.0,3617.0,76.0,21.0,5461.0,8588.0,10860.0,6635.0,20894.0,4192.0,4413.0,2018.0,1709.0,2674.0,5090.0,4733.0,24523.0,38165.0,8530.0,3404.0,23956.0,6568.0,20850.0,4180.0,3532.0,81250.0,30125.0,88276.0,2753.0,2391.0,26011.0,6019.0,18583.0,31467.0,38068.0,29132.0,9561.0,39805.0,8582.0,37701.0,24894.0,27445.0,10297.0,22101.0,95792.0,28746.0,39246.0,24058.0,23952.0,75473.0,27317.0,20647.0,25153.0,32236.0,116122.0,4060.0,27893.0,58999.0,18377.0,17295.0,25104.0,22811.0,70159.0,7856.0,39323.0,57646.0,148571.0,48579.0,32950.0,36278.0,40683.0,69485.0,25541.0,4360.0,38961.0,2290.0,18671.0,126492.0,16200.0,4489.0,19736.0,2827.0,5598.0,2741.0,1421.0,3508.0,4462.0,7168.0,639.0,5769.0,1778.0,1162.0,13584.0,2441.0,1297.0,5552.0,3562.0,1590.0,3108.0,2554.0,1277.0,2362.0,3073.0,3342.0,3659.0,2045.0,757.0,2101.0,65668.0,13277.0,6052.0,15792.0,10652.0,9895.0,11098.0,1631.0,7171.0,11983.0,2078.0,46475.0,1227.0,2449.0,1702.0,28430.0,8349.0,14657.0,12989.0,12150.0,2880.0,2320.0,2346.0,3161.0,5223.0,3934.0,4781.0,4573.0,11851.0,13819.0,3372.0,71059.0,7538.0,821.0,4706.0,4729.0,6178.0,62946.0,7266.0,977.0,3716.0,6086.0,2941.0,1274.0,2753.0,1997.0,2800.0,1122.0,4666.0,2323.0,1446.0,15824.0,1295.0,3902.0,3334.0,1368.0,4929.0,1472.0,1069.0,13441.0,7797.0,9763.0,26237.0,75571.0,1741.0,33110.0,9470.0,2991.0,30058.0,7349.0,4904.0,6852.0,6795.0,64865.0,12120.0,7978.0,6202.0,2852.0,14742.0,953.0,2559.0,37868.0,824.0,3790.0,3730.0,47020.0,2484.0,18728.0,3617.0,5017.0,15130.0,5576.0,2332.0,7257.0,4604.0,3533.0,2185.0,2377.0,5330.0,3707.0,3507.0,9805.0,5260.0,2707.0,1978.0,1977.0,1504.0,7526.0,20895.0,2244.0,6963.0,8734.0,2926.0,3421.0,3203.0,90579.0,3400.0,2839.0,4431.0,8630.0,7505.0,15990.0,1794.0,5875.0,11285.0,3522.0,6118.0,6527.0,2621.0,7885.0,5898.0,12502.0,8044.0,61862.0,9709.0,9029.0,13106.0,945.0,3660.0,850.0,957.0,3769.0,2803.0,6193.0,733.0,2054.0,4999.0,3761.0,3521.0,50475.0,595.0,71264.0,2603.0,12294.0,1195.0,5302.0,3403.0,1320.0,7105.0,1914.0,1849.0,4445.0,2413.0,3375.0,7545.0,1613.0,1927.0,1187.0,18704.0,519.0,176.0,118.0,623.0,151.0,65.0,670.0,50.0,10271.0,2332.0,93.0,51188.0,39.0,145.0,52.0,107.0],\"xaxis\":\"x\",\"y\":[1075.0,5.0,2.0,1.0,357.0,11.0,7.0,21.0,858.0,29.0,71.0,1262.0,718.0,28.0,36.0,0.0,46.0,5.0,34.0,90.0,7.0,35.0,38.0,469.0,31.0,25.0,31.0,30.0,178.0,36.0,19.0,53.0,696.0,85.0,21.0,627.0,70.0,78.0,360.0,15.0,48.0,12.0,75.0,92.0,65.0,76.0,251.0,38.0,121.0,91.0,60.0,132.0,58.0,72.0,55.0,0.0,0.0,35.0,142.0,241.0,112.0,294.0,82.0,79.0,23.0,20.0,33.0,73.0,112.0,396.0,631.0,117.0,27.0,389.0,57.0,292.0,41.0,29.0,1422.0,452.0,1256.0,27.0,29.0,395.0,82.0,355.0,918.0,448.0,870.0,125.0,920.0,178.0,616.0,469.0,755.0,145.0,570.0,2009.0,714.0,1078.0,352.0,331.0,1098.0,284.0,679.0,600.0,574.0,2021.0,42.0,602.0,969.0,244.0,285.0,753.0,492.0,1171.0,107.0,657.0,937.0,2534.0,648.0,687.0,914.0,889.0,1389.0,580.0,156.0,760.0,35.0,593.0,1249.0,290.0,89.0,257.0,59.0,99.0,52.0,31.0,59.0,73.0,114.0,13.0,91.0,23.0,12.0,118.0,43.0,25.0,93.0,76.0,32.0,52.0,25.0,20.0,29.0,55.0,69.0,66.0,24.0,9.0,30.0,975.0,218.0,71.0,240.0,179.0,127.0,179.0,29.0,65.0,136.0,50.0,669.0,7.0,58.0,26.0,409.0,97.0,114.0,225.0,148.0,30.0,32.0,30.0,38.0,59.0,40.0,44.0,61.0,160.0,203.0,42.0,812.0,117.0,8.0,53.0,67.0,91.0,629.0,64.0,15.0,62.0,71.0,47.0,23.0,40.0,24.0,35.0,15.0,62.0,47.0,19.0,225.0,18.0,62.0,37.0,20.0,69.0,27.0,16.0,145.0,81.0,175.0,326.0,912.0,35.0,544.0,145.0,58.0,367.0,80.0,71.0,92.0,88.0,629.0,239.0,128.0,102.0,27.0,192.0,15.0,38.0,408.0,18.0,59.0,73.0,610.0,49.0,203.0,48.0,77.0,215.0,97.0,43.0,102.0,72.0,73.0,38.0,59.0,88.0,78.0,84.0,121.0,96.0,48.0,25.0,35.0,20.0,144.0,241.0,31.0,104.0,92.0,57.0,42.0,80.0,889.0,58.0,54.0,98.0,133.0,86.0,186.0,21.0,80.0,175.0,67.0,88.0,122.0,27.0,102.0,122.0,216.0,161.0,630.0,189.0,145.0,165.0,2.0,59.0,12.0,15.0,45.0,57.0,84.0,3.0,25.0,65.0,61.0,57.0,733.0,2.0,822.0,33.0,111.0,19.0,116.0,78.0,21.0,86.0,21.0,32.0,93.0,73.0,61.0,73.0,13.0,13.0,6.0,163.0,5.0,2.0,0.0,9.0,0.0,0.0,2.0,0.0,140.0,31.0,3.0,804.0,0.0,3.0,0.0,0.0],\"yaxis\":\"y\",\"type\":\"scatter\"}],                        {\"template\":{\"data\":{\"histogram2dcontour\":[{\"type\":\"histogram2dcontour\",\"colorbar\":{\"outlinewidth\":0,\"ticks\":\"\"},\"colorscale\":[[0.0,\"#0d0887\"],[0.1111111111111111,\"#46039f\"],[0.2222222222222222,\"#7201a8\"],[0.3333333333333333,\"#9c179e\"],[0.4444444444444444,\"#bd3786\"],[0.5555555555555556,\"#d8576b\"],[0.6666666666666666,\"#ed7953\"],[0.7777777777777778,\"#fb9f3a\"],[0.8888888888888888,\"#fdca26\"],[1.0,\"#f0f921\"]]}],\"choropleth\":[{\"type\":\"choropleth\",\"colorbar\":{\"outlinewidth\":0,\"ticks\":\"\"}}],\"histogram2d\":[{\"type\":\"histogram2d\",\"colorbar\":{\"outlinewidth\":0,\"ticks\":\"\"},\"colorscale\":[[0.0,\"#0d0887\"],[0.1111111111111111,\"#46039f\"],[0.2222222222222222,\"#7201a8\"],[0.3333333333333333,\"#9c179e\"],[0.4444444444444444,\"#bd3786\"],[0.5555555555555556,\"#d8576b\"],[0.6666666666666666,\"#ed7953\"],[0.7777777777777778,\"#fb9f3a\"],[0.8888888888888888,\"#fdca26\"],[1.0,\"#f0f921\"]]}],\"heatmap\":[{\"type\":\"heatmap\",\"colorbar\":{\"outlinewidth\":0,\"ticks\":\"\"},\"colorscale\":[[0.0,\"#0d0887\"],[0.1111111111111111,\"#46039f\"],[0.2222222222222222,\"#7201a8\"],[0.3333333333333333,\"#9c179e\"],[0.4444444444444444,\"#bd3786\"],[0.5555555555555556,\"#d8576b\"],[0.6666666666666666,\"#ed7953\"],[0.7777777777777778,\"#fb9f3a\"],[0.8888888888888888,\"#fdca26\"],[1.0,\"#f0f921\"]]}],\"heatmapgl\":[{\"type\":\"heatmapgl\",\"colorbar\":{\"outlinewidth\":0,\"ticks\":\"\"},\"colorscale\":[[0.0,\"#0d0887\"],[0.1111111111111111,\"#46039f\"],[0.2222222222222222,\"#7201a8\"],[0.3333333333333333,\"#9c179e\"],[0.4444444444444444,\"#bd3786\"],[0.5555555555555556,\"#d8576b\"],[0.6666666666666666,\"#ed7953\"],[0.7777777777777778,\"#fb9f3a\"],[0.8888888888888888,\"#fdca26\"],[1.0,\"#f0f921\"]]}],\"contourcarpet\":[{\"type\":\"contourcarpet\",\"colorbar\":{\"outlinewidth\":0,\"ticks\":\"\"}}],\"contour\":[{\"type\":\"contour\",\"colorbar\":{\"outlinewidth\":0,\"ticks\":\"\"},\"colorscale\":[[0.0,\"#0d0887\"],[0.1111111111111111,\"#46039f\"],[0.2222222222222222,\"#7201a8\"],[0.3333333333333333,\"#9c179e\"],[0.4444444444444444,\"#bd3786\"],[0.5555555555555556,\"#d8576b\"],[0.6666666666666666,\"#ed7953\"],[0.7777777777777778,\"#fb9f3a\"],[0.8888888888888888,\"#fdca26\"],[1.0,\"#f0f921\"]]}],\"surface\":[{\"type\":\"surface\",\"colorbar\":{\"outlinewidth\":0,\"ticks\":\"\"},\"colorscale\":[[0.0,\"#0d0887\"],[0.1111111111111111,\"#46039f\"],[0.2222222222222222,\"#7201a8\"],[0.3333333333333333,\"#9c179e\"],[0.4444444444444444,\"#bd3786\"],[0.5555555555555556,\"#d8576b\"],[0.6666666666666666,\"#ed7953\"],[0.7777777777777778,\"#fb9f3a\"],[0.8888888888888888,\"#fdca26\"],[1.0,\"#f0f921\"]]}],\"mesh3d\":[{\"type\":\"mesh3d\",\"colorbar\":{\"outlinewidth\":0,\"ticks\":\"\"}}],\"scatter\":[{\"fillpattern\":{\"fillmode\":\"overlay\",\"size\":10,\"solidity\":0.2},\"type\":\"scatter\"}],\"parcoords\":[{\"type\":\"parcoords\",\"line\":{\"colorbar\":{\"outlinewidth\":0,\"ticks\":\"\"}}}],\"scatterpolargl\":[{\"type\":\"scatterpolargl\",\"marker\":{\"colorbar\":{\"outlinewidth\":0,\"ticks\":\"\"}}}],\"bar\":[{\"error_x\":{\"color\":\"#2a3f5f\"},\"error_y\":{\"color\":\"#2a3f5f\"},\"marker\":{\"line\":{\"color\":\"#E5ECF6\",\"width\":0.5},\"pattern\":{\"fillmode\":\"overlay\",\"size\":10,\"solidity\":0.2}},\"type\":\"bar\"}],\"scattergeo\":[{\"type\":\"scattergeo\",\"marker\":{\"colorbar\":{\"outlinewidth\":0,\"ticks\":\"\"}}}],\"scatterpolar\":[{\"type\":\"scatterpolar\",\"marker\":{\"colorbar\":{\"outlinewidth\":0,\"ticks\":\"\"}}}],\"histogram\":[{\"marker\":{\"pattern\":{\"fillmode\":\"overlay\",\"size\":10,\"solidity\":0.2}},\"type\":\"histogram\"}],\"scattergl\":[{\"type\":\"scattergl\",\"marker\":{\"colorbar\":{\"outlinewidth\":0,\"ticks\":\"\"}}}],\"scatter3d\":[{\"type\":\"scatter3d\",\"line\":{\"colorbar\":{\"outlinewidth\":0,\"ticks\":\"\"}},\"marker\":{\"colorbar\":{\"outlinewidth\":0,\"ticks\":\"\"}}}],\"scattermapbox\":[{\"type\":\"scattermapbox\",\"marker\":{\"colorbar\":{\"outlinewidth\":0,\"ticks\":\"\"}}}],\"scatterternary\":[{\"type\":\"scatterternary\",\"marker\":{\"colorbar\":{\"outlinewidth\":0,\"ticks\":\"\"}}}],\"scattercarpet\":[{\"type\":\"scattercarpet\",\"marker\":{\"colorbar\":{\"outlinewidth\":0,\"ticks\":\"\"}}}],\"carpet\":[{\"aaxis\":{\"endlinecolor\":\"#2a3f5f\",\"gridcolor\":\"white\",\"linecolor\":\"white\",\"minorgridcolor\":\"white\",\"startlinecolor\":\"#2a3f5f\"},\"baxis\":{\"endlinecolor\":\"#2a3f5f\",\"gridcolor\":\"white\",\"linecolor\":\"white\",\"minorgridcolor\":\"white\",\"startlinecolor\":\"#2a3f5f\"},\"type\":\"carpet\"}],\"table\":[{\"cells\":{\"fill\":{\"color\":\"#EBF0F8\"},\"line\":{\"color\":\"white\"}},\"header\":{\"fill\":{\"color\":\"#C8D4E3\"},\"line\":{\"color\":\"white\"}},\"type\":\"table\"}],\"barpolar\":[{\"marker\":{\"line\":{\"color\":\"#E5ECF6\",\"width\":0.5},\"pattern\":{\"fillmode\":\"overlay\",\"size\":10,\"solidity\":0.2}},\"type\":\"barpolar\"}],\"pie\":[{\"automargin\":true,\"type\":\"pie\"}]},\"layout\":{\"autotypenumbers\":\"strict\",\"colorway\":[\"#636efa\",\"#EF553B\",\"#00cc96\",\"#ab63fa\",\"#FFA15A\",\"#19d3f3\",\"#FF6692\",\"#B6E880\",\"#FF97FF\",\"#FECB52\"],\"font\":{\"color\":\"#2a3f5f\"},\"hovermode\":\"closest\",\"hoverlabel\":{\"align\":\"left\"},\"paper_bgcolor\":\"white\",\"plot_bgcolor\":\"#E5ECF6\",\"polar\":{\"bgcolor\":\"#E5ECF6\",\"angularaxis\":{\"gridcolor\":\"white\",\"linecolor\":\"white\",\"ticks\":\"\"},\"radialaxis\":{\"gridcolor\":\"white\",\"linecolor\":\"white\",\"ticks\":\"\"}},\"ternary\":{\"bgcolor\":\"#E5ECF6\",\"aaxis\":{\"gridcolor\":\"white\",\"linecolor\":\"white\",\"ticks\":\"\"},\"baxis\":{\"gridcolor\":\"white\",\"linecolor\":\"white\",\"ticks\":\"\"},\"caxis\":{\"gridcolor\":\"white\",\"linecolor\":\"white\",\"ticks\":\"\"}},\"coloraxis\":{\"colorbar\":{\"outlinewidth\":0,\"ticks\":\"\"}},\"colorscale\":{\"sequential\":[[0.0,\"#0d0887\"],[0.1111111111111111,\"#46039f\"],[0.2222222222222222,\"#7201a8\"],[0.3333333333333333,\"#9c179e\"],[0.4444444444444444,\"#bd3786\"],[0.5555555555555556,\"#d8576b\"],[0.6666666666666666,\"#ed7953\"],[0.7777777777777778,\"#fb9f3a\"],[0.8888888888888888,\"#fdca26\"],[1.0,\"#f0f921\"]],\"sequentialminus\":[[0.0,\"#0d0887\"],[0.1111111111111111,\"#46039f\"],[0.2222222222222222,\"#7201a8\"],[0.3333333333333333,\"#9c179e\"],[0.4444444444444444,\"#bd3786\"],[0.5555555555555556,\"#d8576b\"],[0.6666666666666666,\"#ed7953\"],[0.7777777777777778,\"#fb9f3a\"],[0.8888888888888888,\"#fdca26\"],[1.0,\"#f0f921\"]],\"diverging\":[[0,\"#8e0152\"],[0.1,\"#c51b7d\"],[0.2,\"#de77ae\"],[0.3,\"#f1b6da\"],[0.4,\"#fde0ef\"],[0.5,\"#f7f7f7\"],[0.6,\"#e6f5d0\"],[0.7,\"#b8e186\"],[0.8,\"#7fbc41\"],[0.9,\"#4d9221\"],[1,\"#276419\"]]},\"xaxis\":{\"gridcolor\":\"white\",\"linecolor\":\"white\",\"ticks\":\"\",\"title\":{\"standoff\":15},\"zerolinecolor\":\"white\",\"automargin\":true,\"zerolinewidth\":2},\"yaxis\":{\"gridcolor\":\"white\",\"linecolor\":\"white\",\"ticks\":\"\",\"title\":{\"standoff\":15},\"zerolinecolor\":\"white\",\"automargin\":true,\"zerolinewidth\":2},\"scene\":{\"xaxis\":{\"backgroundcolor\":\"#E5ECF6\",\"gridcolor\":\"white\",\"linecolor\":\"white\",\"showbackground\":true,\"ticks\":\"\",\"zerolinecolor\":\"white\",\"gridwidth\":2},\"yaxis\":{\"backgroundcolor\":\"#E5ECF6\",\"gridcolor\":\"white\",\"linecolor\":\"white\",\"showbackground\":true,\"ticks\":\"\",\"zerolinecolor\":\"white\",\"gridwidth\":2},\"zaxis\":{\"backgroundcolor\":\"#E5ECF6\",\"gridcolor\":\"white\",\"linecolor\":\"white\",\"showbackground\":true,\"ticks\":\"\",\"zerolinecolor\":\"white\",\"gridwidth\":2}},\"shapedefaults\":{\"line\":{\"color\":\"#2a3f5f\"}},\"annotationdefaults\":{\"arrowcolor\":\"#2a3f5f\",\"arrowhead\":0,\"arrowwidth\":1},\"geo\":{\"bgcolor\":\"white\",\"landcolor\":\"#E5ECF6\",\"subunitcolor\":\"white\",\"showland\":true,\"showlakes\":true,\"lakecolor\":\"white\"},\"title\":{\"x\":0.05},\"mapbox\":{\"style\":\"light\"}}},\"xaxis\":{\"anchor\":\"y\",\"domain\":[0.0,1.0],\"title\":{\"text\":\"Casos\"},\"type\":\"log\"},\"yaxis\":{\"anchor\":\"x\",\"domain\":[0.0,1.0],\"title\":{\"text\":\"Fallecidos\"},\"type\":\"log\"},\"coloraxis\":{\"colorbar\":{\"title\":{\"text\":\"Fallecidos\"}},\"colorscale\":[[0.0,\"#0d0887\"],[0.1111111111111111,\"#46039f\"],[0.2222222222222222,\"#7201a8\"],[0.3333333333333333,\"#9c179e\"],[0.4444444444444444,\"#bd3786\"],[0.5555555555555556,\"#d8576b\"],[0.6666666666666666,\"#ed7953\"],[0.7777777777777778,\"#fb9f3a\"],[0.8888888888888888,\"#fdca26\"],[1.0,\"#f0f921\"]]},\"legend\":{\"tracegroupgap\":0,\"itemsizing\":\"constant\"},\"margin\":{\"t\":60}},                        {\"responsive\": true}                    ).then(function(){\n",
       "                            \n",
       "var gd = document.getElementById('0ee7492a-0a07-47e0-889e-6c47d6693bbb');\n",
       "var x = new MutationObserver(function (mutations, observer) {{\n",
       "        var display = window.getComputedStyle(gd).display;\n",
       "        if (!display || display === 'none') {{\n",
       "            console.log([gd, 'removed!']);\n",
       "            Plotly.purge(gd);\n",
       "            observer.disconnect();\n",
       "        }}\n",
       "}});\n",
       "\n",
       "// Listen for the removal of the full notebook cells\n",
       "var notebookContainer = gd.closest('#notebook-container');\n",
       "if (notebookContainer) {{\n",
       "    x.observe(notebookContainer, {childList: true});\n",
       "}}\n",
       "\n",
       "// Listen for the clearing of the current output cell\n",
       "var outputEl = gd.closest('.output');\n",
       "if (outputEl) {{\n",
       "    x.observe(outputEl, {childList: true});\n",
       "}}\n",
       "\n",
       "                        })                };                });            </script>        </div>"
      ]
     },
     "metadata": {},
     "output_type": "display_data"
    }
   ],
   "source": [
    "px.scatter(df_casos_fallecidos_actual, x='Casos', y= 'Fallecidos', \n",
    "           hover_data=['Comuna', 'Fecha'],\n",
    "           color='Fallecidos', size= 'Fallecidos', size_max=80, \n",
    "           log_x=True, log_y=True)"
   ]
  },
  {
   "cell_type": "code",
   "execution_count": 55,
   "id": "4972a07b-45ea-473e-91b4-af1400eac0e7",
   "metadata": {},
   "outputs": [],
   "source": [
    "def get_bubble(data, region):\n",
    "    data = data[data.Region == region]\n",
    "    fig = px.scatter(data, x='Casos', y= 'Fallecidos', \n",
    "           hover_data=['Comuna', 'Fecha'],\n",
    "           color='Fallecidos', size= 'Fallecidos', size_max=80, \n",
    "           log_x=True, log_y=True)\n",
    "    return fig"
   ]
  },
  {
   "cell_type": "code",
   "execution_count": 56,
   "id": "243ba080-6e14-49c9-a0b8-247fc5c622d6",
   "metadata": {},
   "outputs": [
    {
     "data": {
      "application/vnd.plotly.v1+json": {
       "config": {
        "plotlyServerURL": "https://plot.ly"
       },
       "data": [
        {
         "customdata": [
          [
           "Alto Biobio",
           "2022-08-26"
          ],
          [
           "Antuco",
           "2022-08-26"
          ],
          [
           "Arauco",
           "2022-08-26"
          ],
          [
           "Cabrero",
           "2022-08-26"
          ],
          [
           "Canete",
           "2022-08-26"
          ],
          [
           "Chiguayante",
           "2022-08-26"
          ],
          [
           "Concepcion",
           "2022-08-26"
          ],
          [
           "Contulmo",
           "2022-08-26"
          ],
          [
           "Coronel",
           "2022-08-26"
          ],
          [
           "Curanilahue",
           "2022-08-26"
          ],
          [
           "Florida",
           "2022-08-26"
          ],
          [
           "Hualpen",
           "2022-08-26"
          ],
          [
           "Hualqui",
           "2022-08-26"
          ],
          [
           "Laja",
           "2022-08-26"
          ],
          [
           "Lebu",
           "2022-08-26"
          ],
          [
           "Los Alamos",
           "2022-08-26"
          ],
          [
           "Los Angeles",
           "2022-08-26"
          ],
          [
           "Lota",
           "2022-08-26"
          ],
          [
           "Mulchen",
           "2022-08-26"
          ],
          [
           "Nacimiento",
           "2022-08-26"
          ],
          [
           "Negrete",
           "2022-08-26"
          ],
          [
           "Penco",
           "2022-08-26"
          ],
          [
           "Quilaco",
           "2022-08-26"
          ],
          [
           "Quilleco",
           "2022-08-26"
          ],
          [
           "San Pedro de la Paz",
           "2022-08-26"
          ],
          [
           "San Rosendo",
           "2022-08-26"
          ],
          [
           "Santa Barbara",
           "2022-08-26"
          ],
          [
           "Santa Juana",
           "2022-08-26"
          ],
          [
           "Talcahuano",
           "2022-08-26"
          ],
          [
           "Tirua",
           "2022-08-26"
          ],
          [
           "Tome",
           "2022-08-26"
          ],
          [
           "Tucapel",
           "2022-08-26"
          ],
          [
           "Yumbel",
           "2022-08-26"
          ]
         ],
         "hovertemplate": "Casos=%{x}<br>Fallecidos=%{marker.color}<br>Comuna=%{customdata[0]}<br>Fecha=%{customdata[1]}<extra></extra>",
         "legendgroup": "",
         "marker": {
          "color": [
           27,
           16,
           145,
           81,
           175,
           326,
           912,
           35,
           544,
           145,
           58,
           367,
           80,
           71,
           92,
           88,
           629,
           239,
           128,
           102,
           27,
           192,
           15,
           38,
           408,
           18,
           59,
           73,
           610,
           49,
           203,
           48,
           77
          ],
          "coloraxis": "coloraxis",
          "size": [
           27,
           16,
           145,
           81,
           175,
           326,
           912,
           35,
           544,
           145,
           58,
           367,
           80,
           71,
           92,
           88,
           629,
           239,
           128,
           102,
           27,
           192,
           15,
           38,
           408,
           18,
           59,
           73,
           610,
           49,
           203,
           48,
           77
          ],
          "sizemode": "area",
          "sizeref": 0.1425,
          "symbol": "circle"
         },
         "mode": "markers",
         "name": "",
         "orientation": "v",
         "showlegend": false,
         "type": "scatter",
         "x": [
          1472,
          1069,
          13441,
          7797,
          9763,
          26237,
          75571,
          1741,
          33110,
          9470,
          2991,
          30058,
          7349,
          4904,
          6852,
          6795,
          64865,
          12120,
          7978,
          6202,
          2852,
          14742,
          953,
          2559,
          37868,
          824,
          3790,
          3730,
          47020,
          2484,
          18728,
          3617,
          5017
         ],
         "xaxis": "x",
         "y": [
          27,
          16,
          145,
          81,
          175,
          326,
          912,
          35,
          544,
          145,
          58,
          367,
          80,
          71,
          92,
          88,
          629,
          239,
          128,
          102,
          27,
          192,
          15,
          38,
          408,
          18,
          59,
          73,
          610,
          49,
          203,
          48,
          77
         ],
         "yaxis": "y"
        }
       ],
       "layout": {
        "autosize": true,
        "coloraxis": {
         "colorbar": {
          "title": {
           "text": "Fallecidos"
          }
         },
         "colorscale": [
          [
           0,
           "#0d0887"
          ],
          [
           0.1111111111111111,
           "#46039f"
          ],
          [
           0.2222222222222222,
           "#7201a8"
          ],
          [
           0.3333333333333333,
           "#9c179e"
          ],
          [
           0.4444444444444444,
           "#bd3786"
          ],
          [
           0.5555555555555556,
           "#d8576b"
          ],
          [
           0.6666666666666666,
           "#ed7953"
          ],
          [
           0.7777777777777778,
           "#fb9f3a"
          ],
          [
           0.8888888888888888,
           "#fdca26"
          ],
          [
           1,
           "#f0f921"
          ]
         ]
        },
        "legend": {
         "itemsizing": "constant",
         "tracegroupgap": 0
        },
        "margin": {
         "t": 60
        },
        "template": {
         "data": {
          "bar": [
           {
            "error_x": {
             "color": "#2a3f5f"
            },
            "error_y": {
             "color": "#2a3f5f"
            },
            "marker": {
             "line": {
              "color": "#E5ECF6",
              "width": 0.5
             },
             "pattern": {
              "fillmode": "overlay",
              "size": 10,
              "solidity": 0.2
             }
            },
            "type": "bar"
           }
          ],
          "barpolar": [
           {
            "marker": {
             "line": {
              "color": "#E5ECF6",
              "width": 0.5
             },
             "pattern": {
              "fillmode": "overlay",
              "size": 10,
              "solidity": 0.2
             }
            },
            "type": "barpolar"
           }
          ],
          "carpet": [
           {
            "aaxis": {
             "endlinecolor": "#2a3f5f",
             "gridcolor": "white",
             "linecolor": "white",
             "minorgridcolor": "white",
             "startlinecolor": "#2a3f5f"
            },
            "baxis": {
             "endlinecolor": "#2a3f5f",
             "gridcolor": "white",
             "linecolor": "white",
             "minorgridcolor": "white",
             "startlinecolor": "#2a3f5f"
            },
            "type": "carpet"
           }
          ],
          "choropleth": [
           {
            "colorbar": {
             "outlinewidth": 0,
             "ticks": ""
            },
            "type": "choropleth"
           }
          ],
          "contour": [
           {
            "colorbar": {
             "outlinewidth": 0,
             "ticks": ""
            },
            "colorscale": [
             [
              0,
              "#0d0887"
             ],
             [
              0.1111111111111111,
              "#46039f"
             ],
             [
              0.2222222222222222,
              "#7201a8"
             ],
             [
              0.3333333333333333,
              "#9c179e"
             ],
             [
              0.4444444444444444,
              "#bd3786"
             ],
             [
              0.5555555555555556,
              "#d8576b"
             ],
             [
              0.6666666666666666,
              "#ed7953"
             ],
             [
              0.7777777777777778,
              "#fb9f3a"
             ],
             [
              0.8888888888888888,
              "#fdca26"
             ],
             [
              1,
              "#f0f921"
             ]
            ],
            "type": "contour"
           }
          ],
          "contourcarpet": [
           {
            "colorbar": {
             "outlinewidth": 0,
             "ticks": ""
            },
            "type": "contourcarpet"
           }
          ],
          "heatmap": [
           {
            "colorbar": {
             "outlinewidth": 0,
             "ticks": ""
            },
            "colorscale": [
             [
              0,
              "#0d0887"
             ],
             [
              0.1111111111111111,
              "#46039f"
             ],
             [
              0.2222222222222222,
              "#7201a8"
             ],
             [
              0.3333333333333333,
              "#9c179e"
             ],
             [
              0.4444444444444444,
              "#bd3786"
             ],
             [
              0.5555555555555556,
              "#d8576b"
             ],
             [
              0.6666666666666666,
              "#ed7953"
             ],
             [
              0.7777777777777778,
              "#fb9f3a"
             ],
             [
              0.8888888888888888,
              "#fdca26"
             ],
             [
              1,
              "#f0f921"
             ]
            ],
            "type": "heatmap"
           }
          ],
          "heatmapgl": [
           {
            "colorbar": {
             "outlinewidth": 0,
             "ticks": ""
            },
            "colorscale": [
             [
              0,
              "#0d0887"
             ],
             [
              0.1111111111111111,
              "#46039f"
             ],
             [
              0.2222222222222222,
              "#7201a8"
             ],
             [
              0.3333333333333333,
              "#9c179e"
             ],
             [
              0.4444444444444444,
              "#bd3786"
             ],
             [
              0.5555555555555556,
              "#d8576b"
             ],
             [
              0.6666666666666666,
              "#ed7953"
             ],
             [
              0.7777777777777778,
              "#fb9f3a"
             ],
             [
              0.8888888888888888,
              "#fdca26"
             ],
             [
              1,
              "#f0f921"
             ]
            ],
            "type": "heatmapgl"
           }
          ],
          "histogram": [
           {
            "marker": {
             "pattern": {
              "fillmode": "overlay",
              "size": 10,
              "solidity": 0.2
             }
            },
            "type": "histogram"
           }
          ],
          "histogram2d": [
           {
            "colorbar": {
             "outlinewidth": 0,
             "ticks": ""
            },
            "colorscale": [
             [
              0,
              "#0d0887"
             ],
             [
              0.1111111111111111,
              "#46039f"
             ],
             [
              0.2222222222222222,
              "#7201a8"
             ],
             [
              0.3333333333333333,
              "#9c179e"
             ],
             [
              0.4444444444444444,
              "#bd3786"
             ],
             [
              0.5555555555555556,
              "#d8576b"
             ],
             [
              0.6666666666666666,
              "#ed7953"
             ],
             [
              0.7777777777777778,
              "#fb9f3a"
             ],
             [
              0.8888888888888888,
              "#fdca26"
             ],
             [
              1,
              "#f0f921"
             ]
            ],
            "type": "histogram2d"
           }
          ],
          "histogram2dcontour": [
           {
            "colorbar": {
             "outlinewidth": 0,
             "ticks": ""
            },
            "colorscale": [
             [
              0,
              "#0d0887"
             ],
             [
              0.1111111111111111,
              "#46039f"
             ],
             [
              0.2222222222222222,
              "#7201a8"
             ],
             [
              0.3333333333333333,
              "#9c179e"
             ],
             [
              0.4444444444444444,
              "#bd3786"
             ],
             [
              0.5555555555555556,
              "#d8576b"
             ],
             [
              0.6666666666666666,
              "#ed7953"
             ],
             [
              0.7777777777777778,
              "#fb9f3a"
             ],
             [
              0.8888888888888888,
              "#fdca26"
             ],
             [
              1,
              "#f0f921"
             ]
            ],
            "type": "histogram2dcontour"
           }
          ],
          "mesh3d": [
           {
            "colorbar": {
             "outlinewidth": 0,
             "ticks": ""
            },
            "type": "mesh3d"
           }
          ],
          "parcoords": [
           {
            "line": {
             "colorbar": {
              "outlinewidth": 0,
              "ticks": ""
             }
            },
            "type": "parcoords"
           }
          ],
          "pie": [
           {
            "automargin": true,
            "type": "pie"
           }
          ],
          "scatter": [
           {
            "fillpattern": {
             "fillmode": "overlay",
             "size": 10,
             "solidity": 0.2
            },
            "type": "scatter"
           }
          ],
          "scatter3d": [
           {
            "line": {
             "colorbar": {
              "outlinewidth": 0,
              "ticks": ""
             }
            },
            "marker": {
             "colorbar": {
              "outlinewidth": 0,
              "ticks": ""
             }
            },
            "type": "scatter3d"
           }
          ],
          "scattercarpet": [
           {
            "marker": {
             "colorbar": {
              "outlinewidth": 0,
              "ticks": ""
             }
            },
            "type": "scattercarpet"
           }
          ],
          "scattergeo": [
           {
            "marker": {
             "colorbar": {
              "outlinewidth": 0,
              "ticks": ""
             }
            },
            "type": "scattergeo"
           }
          ],
          "scattergl": [
           {
            "marker": {
             "colorbar": {
              "outlinewidth": 0,
              "ticks": ""
             }
            },
            "type": "scattergl"
           }
          ],
          "scattermapbox": [
           {
            "marker": {
             "colorbar": {
              "outlinewidth": 0,
              "ticks": ""
             }
            },
            "type": "scattermapbox"
           }
          ],
          "scatterpolar": [
           {
            "marker": {
             "colorbar": {
              "outlinewidth": 0,
              "ticks": ""
             }
            },
            "type": "scatterpolar"
           }
          ],
          "scatterpolargl": [
           {
            "marker": {
             "colorbar": {
              "outlinewidth": 0,
              "ticks": ""
             }
            },
            "type": "scatterpolargl"
           }
          ],
          "scatterternary": [
           {
            "marker": {
             "colorbar": {
              "outlinewidth": 0,
              "ticks": ""
             }
            },
            "type": "scatterternary"
           }
          ],
          "surface": [
           {
            "colorbar": {
             "outlinewidth": 0,
             "ticks": ""
            },
            "colorscale": [
             [
              0,
              "#0d0887"
             ],
             [
              0.1111111111111111,
              "#46039f"
             ],
             [
              0.2222222222222222,
              "#7201a8"
             ],
             [
              0.3333333333333333,
              "#9c179e"
             ],
             [
              0.4444444444444444,
              "#bd3786"
             ],
             [
              0.5555555555555556,
              "#d8576b"
             ],
             [
              0.6666666666666666,
              "#ed7953"
             ],
             [
              0.7777777777777778,
              "#fb9f3a"
             ],
             [
              0.8888888888888888,
              "#fdca26"
             ],
             [
              1,
              "#f0f921"
             ]
            ],
            "type": "surface"
           }
          ],
          "table": [
           {
            "cells": {
             "fill": {
              "color": "#EBF0F8"
             },
             "line": {
              "color": "white"
             }
            },
            "header": {
             "fill": {
              "color": "#C8D4E3"
             },
             "line": {
              "color": "white"
             }
            },
            "type": "table"
           }
          ]
         },
         "layout": {
          "annotationdefaults": {
           "arrowcolor": "#2a3f5f",
           "arrowhead": 0,
           "arrowwidth": 1
          },
          "autotypenumbers": "strict",
          "coloraxis": {
           "colorbar": {
            "outlinewidth": 0,
            "ticks": ""
           }
          },
          "colorscale": {
           "diverging": [
            [
             0,
             "#8e0152"
            ],
            [
             0.1,
             "#c51b7d"
            ],
            [
             0.2,
             "#de77ae"
            ],
            [
             0.3,
             "#f1b6da"
            ],
            [
             0.4,
             "#fde0ef"
            ],
            [
             0.5,
             "#f7f7f7"
            ],
            [
             0.6,
             "#e6f5d0"
            ],
            [
             0.7,
             "#b8e186"
            ],
            [
             0.8,
             "#7fbc41"
            ],
            [
             0.9,
             "#4d9221"
            ],
            [
             1,
             "#276419"
            ]
           ],
           "sequential": [
            [
             0,
             "#0d0887"
            ],
            [
             0.1111111111111111,
             "#46039f"
            ],
            [
             0.2222222222222222,
             "#7201a8"
            ],
            [
             0.3333333333333333,
             "#9c179e"
            ],
            [
             0.4444444444444444,
             "#bd3786"
            ],
            [
             0.5555555555555556,
             "#d8576b"
            ],
            [
             0.6666666666666666,
             "#ed7953"
            ],
            [
             0.7777777777777778,
             "#fb9f3a"
            ],
            [
             0.8888888888888888,
             "#fdca26"
            ],
            [
             1,
             "#f0f921"
            ]
           ],
           "sequentialminus": [
            [
             0,
             "#0d0887"
            ],
            [
             0.1111111111111111,
             "#46039f"
            ],
            [
             0.2222222222222222,
             "#7201a8"
            ],
            [
             0.3333333333333333,
             "#9c179e"
            ],
            [
             0.4444444444444444,
             "#bd3786"
            ],
            [
             0.5555555555555556,
             "#d8576b"
            ],
            [
             0.6666666666666666,
             "#ed7953"
            ],
            [
             0.7777777777777778,
             "#fb9f3a"
            ],
            [
             0.8888888888888888,
             "#fdca26"
            ],
            [
             1,
             "#f0f921"
            ]
           ]
          },
          "colorway": [
           "#636efa",
           "#EF553B",
           "#00cc96",
           "#ab63fa",
           "#FFA15A",
           "#19d3f3",
           "#FF6692",
           "#B6E880",
           "#FF97FF",
           "#FECB52"
          ],
          "font": {
           "color": "#2a3f5f"
          },
          "geo": {
           "bgcolor": "white",
           "lakecolor": "white",
           "landcolor": "#E5ECF6",
           "showlakes": true,
           "showland": true,
           "subunitcolor": "white"
          },
          "hoverlabel": {
           "align": "left"
          },
          "hovermode": "closest",
          "mapbox": {
           "style": "light"
          },
          "paper_bgcolor": "white",
          "plot_bgcolor": "#E5ECF6",
          "polar": {
           "angularaxis": {
            "gridcolor": "white",
            "linecolor": "white",
            "ticks": ""
           },
           "bgcolor": "#E5ECF6",
           "radialaxis": {
            "gridcolor": "white",
            "linecolor": "white",
            "ticks": ""
           }
          },
          "scene": {
           "xaxis": {
            "backgroundcolor": "#E5ECF6",
            "gridcolor": "white",
            "gridwidth": 2,
            "linecolor": "white",
            "showbackground": true,
            "ticks": "",
            "zerolinecolor": "white"
           },
           "yaxis": {
            "backgroundcolor": "#E5ECF6",
            "gridcolor": "white",
            "gridwidth": 2,
            "linecolor": "white",
            "showbackground": true,
            "ticks": "",
            "zerolinecolor": "white"
           },
           "zaxis": {
            "backgroundcolor": "#E5ECF6",
            "gridcolor": "white",
            "gridwidth": 2,
            "linecolor": "white",
            "showbackground": true,
            "ticks": "",
            "zerolinecolor": "white"
           }
          },
          "shapedefaults": {
           "line": {
            "color": "#2a3f5f"
           }
          },
          "ternary": {
           "aaxis": {
            "gridcolor": "white",
            "linecolor": "white",
            "ticks": ""
           },
           "baxis": {
            "gridcolor": "white",
            "linecolor": "white",
            "ticks": ""
           },
           "bgcolor": "#E5ECF6",
           "caxis": {
            "gridcolor": "white",
            "linecolor": "white",
            "ticks": ""
           }
          },
          "title": {
           "x": 0.05
          },
          "xaxis": {
           "automargin": true,
           "gridcolor": "white",
           "linecolor": "white",
           "ticks": "",
           "title": {
            "standoff": 15
           },
           "zerolinecolor": "white",
           "zerolinewidth": 2
          },
          "yaxis": {
           "automargin": true,
           "gridcolor": "white",
           "linecolor": "white",
           "ticks": "",
           "title": {
            "standoff": 15
           },
           "zerolinecolor": "white",
           "zerolinewidth": 2
          }
         }
        },
        "xaxis": {
         "anchor": "y",
         "autorange": true,
         "domain": [
          0,
          1
         ],
         "range": [
          2.775061527245135,
          5.153480034477688
         ],
         "title": {
          "text": "Casos"
         },
         "type": "log"
        },
        "yaxis": {
         "anchor": "x",
         "autorange": true,
         "domain": [
          0,
          1
         ],
         "range": [
          0.9068919593508125,
          4.0058206253509265
         ],
         "title": {
          "text": "Fallecidos"
         },
         "type": "log"
        }
       }
      },
      "image/png": "[encoded data removed]",
      "text/html": [
       "<div>                            <div id=\"8de32153-1275-4928-a74d-5b0fe9b17975\" class=\"plotly-graph-div\" style=\"height:525px; width:100%;\"></div>            <script type=\"text/javascript\">                require([\"plotly\"], function(Plotly) {                    window.PLOTLYENV=window.PLOTLYENV || {};                                    if (document.getElementById(\"8de32153-1275-4928-a74d-5b0fe9b17975\")) {                    Plotly.newPlot(                        \"8de32153-1275-4928-a74d-5b0fe9b17975\",                        [{\"customdata\":[[\"Alto Biobio\",\"2022-08-26\"],[\"Antuco\",\"2022-08-26\"],[\"Arauco\",\"2022-08-26\"],[\"Cabrero\",\"2022-08-26\"],[\"Canete\",\"2022-08-26\"],[\"Chiguayante\",\"2022-08-26\"],[\"Concepcion\",\"2022-08-26\"],[\"Contulmo\",\"2022-08-26\"],[\"Coronel\",\"2022-08-26\"],[\"Curanilahue\",\"2022-08-26\"],[\"Florida\",\"2022-08-26\"],[\"Hualpen\",\"2022-08-26\"],[\"Hualqui\",\"2022-08-26\"],[\"Laja\",\"2022-08-26\"],[\"Lebu\",\"2022-08-26\"],[\"Los Alamos\",\"2022-08-26\"],[\"Los Angeles\",\"2022-08-26\"],[\"Lota\",\"2022-08-26\"],[\"Mulchen\",\"2022-08-26\"],[\"Nacimiento\",\"2022-08-26\"],[\"Negrete\",\"2022-08-26\"],[\"Penco\",\"2022-08-26\"],[\"Quilaco\",\"2022-08-26\"],[\"Quilleco\",\"2022-08-26\"],[\"San Pedro de la Paz\",\"2022-08-26\"],[\"San Rosendo\",\"2022-08-26\"],[\"Santa Barbara\",\"2022-08-26\"],[\"Santa Juana\",\"2022-08-26\"],[\"Talcahuano\",\"2022-08-26\"],[\"Tirua\",\"2022-08-26\"],[\"Tome\",\"2022-08-26\"],[\"Tucapel\",\"2022-08-26\"],[\"Yumbel\",\"2022-08-26\"]],\"hovertemplate\":\"Casos=%{x}<br>Fallecidos=%{marker.color}<br>Comuna=%{customdata[0]}<br>Fecha=%{customdata[1]}<extra></extra>\",\"legendgroup\":\"\",\"marker\":{\"color\":[27.0,16.0,145.0,81.0,175.0,326.0,912.0,35.0,544.0,145.0,58.0,367.0,80.0,71.0,92.0,88.0,629.0,239.0,128.0,102.0,27.0,192.0,15.0,38.0,408.0,18.0,59.0,73.0,610.0,49.0,203.0,48.0,77.0],\"coloraxis\":\"coloraxis\",\"size\":[27.0,16.0,145.0,81.0,175.0,326.0,912.0,35.0,544.0,145.0,58.0,367.0,80.0,71.0,92.0,88.0,629.0,239.0,128.0,102.0,27.0,192.0,15.0,38.0,408.0,18.0,59.0,73.0,610.0,49.0,203.0,48.0,77.0],\"sizemode\":\"area\",\"sizeref\":0.1425,\"symbol\":\"circle\"},\"mode\":\"markers\",\"name\":\"\",\"orientation\":\"v\",\"showlegend\":false,\"x\":[1472.0,1069.0,13441.0,7797.0,9763.0,26237.0,75571.0,1741.0,33110.0,9470.0,2991.0,30058.0,7349.0,4904.0,6852.0,6795.0,64865.0,12120.0,7978.0,6202.0,2852.0,14742.0,953.0,2559.0,37868.0,824.0,3790.0,3730.0,47020.0,2484.0,18728.0,3617.0,5017.0],\"xaxis\":\"x\",\"y\":[27.0,16.0,145.0,81.0,175.0,326.0,912.0,35.0,544.0,145.0,58.0,367.0,80.0,71.0,92.0,88.0,629.0,239.0,128.0,102.0,27.0,192.0,15.0,38.0,408.0,18.0,59.0,73.0,610.0,49.0,203.0,48.0,77.0],\"yaxis\":\"y\",\"type\":\"scatter\"}],                        {\"template\":{\"data\":{\"histogram2dcontour\":[{\"type\":\"histogram2dcontour\",\"colorbar\":{\"outlinewidth\":0,\"ticks\":\"\"},\"colorscale\":[[0.0,\"#0d0887\"],[0.1111111111111111,\"#46039f\"],[0.2222222222222222,\"#7201a8\"],[0.3333333333333333,\"#9c179e\"],[0.4444444444444444,\"#bd3786\"],[0.5555555555555556,\"#d8576b\"],[0.6666666666666666,\"#ed7953\"],[0.7777777777777778,\"#fb9f3a\"],[0.8888888888888888,\"#fdca26\"],[1.0,\"#f0f921\"]]}],\"choropleth\":[{\"type\":\"choropleth\",\"colorbar\":{\"outlinewidth\":0,\"ticks\":\"\"}}],\"histogram2d\":[{\"type\":\"histogram2d\",\"colorbar\":{\"outlinewidth\":0,\"ticks\":\"\"},\"colorscale\":[[0.0,\"#0d0887\"],[0.1111111111111111,\"#46039f\"],[0.2222222222222222,\"#7201a8\"],[0.3333333333333333,\"#9c179e\"],[0.4444444444444444,\"#bd3786\"],[0.5555555555555556,\"#d8576b\"],[0.6666666666666666,\"#ed7953\"],[0.7777777777777778,\"#fb9f3a\"],[0.8888888888888888,\"#fdca26\"],[1.0,\"#f0f921\"]]}],\"heatmap\":[{\"type\":\"heatmap\",\"colorbar\":{\"outlinewidth\":0,\"ticks\":\"\"},\"colorscale\":[[0.0,\"#0d0887\"],[0.1111111111111111,\"#46039f\"],[0.2222222222222222,\"#7201a8\"],[0.3333333333333333,\"#9c179e\"],[0.4444444444444444,\"#bd3786\"],[0.5555555555555556,\"#d8576b\"],[0.6666666666666666,\"#ed7953\"],[0.7777777777777778,\"#fb9f3a\"],[0.8888888888888888,\"#fdca26\"],[1.0,\"#f0f921\"]]}],\"heatmapgl\":[{\"type\":\"heatmapgl\",\"colorbar\":{\"outlinewidth\":0,\"ticks\":\"\"},\"colorscale\":[[0.0,\"#0d0887\"],[0.1111111111111111,\"#46039f\"],[0.2222222222222222,\"#7201a8\"],[0.3333333333333333,\"#9c179e\"],[0.4444444444444444,\"#bd3786\"],[0.5555555555555556,\"#d8576b\"],[0.6666666666666666,\"#ed7953\"],[0.7777777777777778,\"#fb9f3a\"],[0.8888888888888888,\"#fdca26\"],[1.0,\"#f0f921\"]]}],\"contourcarpet\":[{\"type\":\"contourcarpet\",\"colorbar\":{\"outlinewidth\":0,\"ticks\":\"\"}}],\"contour\":[{\"type\":\"contour\",\"colorbar\":{\"outlinewidth\":0,\"ticks\":\"\"},\"colorscale\":[[0.0,\"#0d0887\"],[0.1111111111111111,\"#46039f\"],[0.2222222222222222,\"#7201a8\"],[0.3333333333333333,\"#9c179e\"],[0.4444444444444444,\"#bd3786\"],[0.5555555555555556,\"#d8576b\"],[0.6666666666666666,\"#ed7953\"],[0.7777777777777778,\"#fb9f3a\"],[0.8888888888888888,\"#fdca26\"],[1.0,\"#f0f921\"]]}],\"surface\":[{\"type\":\"surface\",\"colorbar\":{\"outlinewidth\":0,\"ticks\":\"\"},\"colorscale\":[[0.0,\"#0d0887\"],[0.1111111111111111,\"#46039f\"],[0.2222222222222222,\"#7201a8\"],[0.3333333333333333,\"#9c179e\"],[0.4444444444444444,\"#bd3786\"],[0.5555555555555556,\"#d8576b\"],[0.6666666666666666,\"#ed7953\"],[0.7777777777777778,\"#fb9f3a\"],[0.8888888888888888,\"#fdca26\"],[1.0,\"#f0f921\"]]}],\"mesh3d\":[{\"type\":\"mesh3d\",\"colorbar\":{\"outlinewidth\":0,\"ticks\":\"\"}}],\"scatter\":[{\"fillpattern\":{\"fillmode\":\"overlay\",\"size\":10,\"solidity\":0.2},\"type\":\"scatter\"}],\"parcoords\":[{\"type\":\"parcoords\",\"line\":{\"colorbar\":{\"outlinewidth\":0,\"ticks\":\"\"}}}],\"scatterpolargl\":[{\"type\":\"scatterpolargl\",\"marker\":{\"colorbar\":{\"outlinewidth\":0,\"ticks\":\"\"}}}],\"bar\":[{\"error_x\":{\"color\":\"#2a3f5f\"},\"error_y\":{\"color\":\"#2a3f5f\"},\"marker\":{\"line\":{\"color\":\"#E5ECF6\",\"width\":0.5},\"pattern\":{\"fillmode\":\"overlay\",\"size\":10,\"solidity\":0.2}},\"type\":\"bar\"}],\"scattergeo\":[{\"type\":\"scattergeo\",\"marker\":{\"colorbar\":{\"outlinewidth\":0,\"ticks\":\"\"}}}],\"scatterpolar\":[{\"type\":\"scatterpolar\",\"marker\":{\"colorbar\":{\"outlinewidth\":0,\"ticks\":\"\"}}}],\"histogram\":[{\"marker\":{\"pattern\":{\"fillmode\":\"overlay\",\"size\":10,\"solidity\":0.2}},\"type\":\"histogram\"}],\"scattergl\":[{\"type\":\"scattergl\",\"marker\":{\"colorbar\":{\"outlinewidth\":0,\"ticks\":\"\"}}}],\"scatter3d\":[{\"type\":\"scatter3d\",\"line\":{\"colorbar\":{\"outlinewidth\":0,\"ticks\":\"\"}},\"marker\":{\"colorbar\":{\"outlinewidth\":0,\"ticks\":\"\"}}}],\"scattermapbox\":[{\"type\":\"scattermapbox\",\"marker\":{\"colorbar\":{\"outlinewidth\":0,\"ticks\":\"\"}}}],\"scatterternary\":[{\"type\":\"scatterternary\",\"marker\":{\"colorbar\":{\"outlinewidth\":0,\"ticks\":\"\"}}}],\"scattercarpet\":[{\"type\":\"scattercarpet\",\"marker\":{\"colorbar\":{\"outlinewidth\":0,\"ticks\":\"\"}}}],\"carpet\":[{\"aaxis\":{\"endlinecolor\":\"#2a3f5f\",\"gridcolor\":\"white\",\"linecolor\":\"white\",\"minorgridcolor\":\"white\",\"startlinecolor\":\"#2a3f5f\"},\"baxis\":{\"endlinecolor\":\"#2a3f5f\",\"gridcolor\":\"white\",\"linecolor\":\"white\",\"minorgridcolor\":\"white\",\"startlinecolor\":\"#2a3f5f\"},\"type\":\"carpet\"}],\"table\":[{\"cells\":{\"fill\":{\"color\":\"#EBF0F8\"},\"line\":{\"color\":\"white\"}},\"header\":{\"fill\":{\"color\":\"#C8D4E3\"},\"line\":{\"color\":\"white\"}},\"type\":\"table\"}],\"barpolar\":[{\"marker\":{\"line\":{\"color\":\"#E5ECF6\",\"width\":0.5},\"pattern\":{\"fillmode\":\"overlay\",\"size\":10,\"solidity\":0.2}},\"type\":\"barpolar\"}],\"pie\":[{\"automargin\":true,\"type\":\"pie\"}]},\"layout\":{\"autotypenumbers\":\"strict\",\"colorway\":[\"#636efa\",\"#EF553B\",\"#00cc96\",\"#ab63fa\",\"#FFA15A\",\"#19d3f3\",\"#FF6692\",\"#B6E880\",\"#FF97FF\",\"#FECB52\"],\"font\":{\"color\":\"#2a3f5f\"},\"hovermode\":\"closest\",\"hoverlabel\":{\"align\":\"left\"},\"paper_bgcolor\":\"white\",\"plot_bgcolor\":\"#E5ECF6\",\"polar\":{\"bgcolor\":\"#E5ECF6\",\"angularaxis\":{\"gridcolor\":\"white\",\"linecolor\":\"white\",\"ticks\":\"\"},\"radialaxis\":{\"gridcolor\":\"white\",\"linecolor\":\"white\",\"ticks\":\"\"}},\"ternary\":{\"bgcolor\":\"#E5ECF6\",\"aaxis\":{\"gridcolor\":\"white\",\"linecolor\":\"white\",\"ticks\":\"\"},\"baxis\":{\"gridcolor\":\"white\",\"linecolor\":\"white\",\"ticks\":\"\"},\"caxis\":{\"gridcolor\":\"white\",\"linecolor\":\"white\",\"ticks\":\"\"}},\"coloraxis\":{\"colorbar\":{\"outlinewidth\":0,\"ticks\":\"\"}},\"colorscale\":{\"sequential\":[[0.0,\"#0d0887\"],[0.1111111111111111,\"#46039f\"],[0.2222222222222222,\"#7201a8\"],[0.3333333333333333,\"#9c179e\"],[0.4444444444444444,\"#bd3786\"],[0.5555555555555556,\"#d8576b\"],[0.6666666666666666,\"#ed7953\"],[0.7777777777777778,\"#fb9f3a\"],[0.8888888888888888,\"#fdca26\"],[1.0,\"#f0f921\"]],\"sequentialminus\":[[0.0,\"#0d0887\"],[0.1111111111111111,\"#46039f\"],[0.2222222222222222,\"#7201a8\"],[0.3333333333333333,\"#9c179e\"],[0.4444444444444444,\"#bd3786\"],[0.5555555555555556,\"#d8576b\"],[0.6666666666666666,\"#ed7953\"],[0.7777777777777778,\"#fb9f3a\"],[0.8888888888888888,\"#fdca26\"],[1.0,\"#f0f921\"]],\"diverging\":[[0,\"#8e0152\"],[0.1,\"#c51b7d\"],[0.2,\"#de77ae\"],[0.3,\"#f1b6da\"],[0.4,\"#fde0ef\"],[0.5,\"#f7f7f7\"],[0.6,\"#e6f5d0\"],[0.7,\"#b8e186\"],[0.8,\"#7fbc41\"],[0.9,\"#4d9221\"],[1,\"#276419\"]]},\"xaxis\":{\"gridcolor\":\"white\",\"linecolor\":\"white\",\"ticks\":\"\",\"title\":{\"standoff\":15},\"zerolinecolor\":\"white\",\"automargin\":true,\"zerolinewidth\":2},\"yaxis\":{\"gridcolor\":\"white\",\"linecolor\":\"white\",\"ticks\":\"\",\"title\":{\"standoff\":15},\"zerolinecolor\":\"white\",\"automargin\":true,\"zerolinewidth\":2},\"scene\":{\"xaxis\":{\"backgroundcolor\":\"#E5ECF6\",\"gridcolor\":\"white\",\"linecolor\":\"white\",\"showbackground\":true,\"ticks\":\"\",\"zerolinecolor\":\"white\",\"gridwidth\":2},\"yaxis\":{\"backgroundcolor\":\"#E5ECF6\",\"gridcolor\":\"white\",\"linecolor\":\"white\",\"showbackground\":true,\"ticks\":\"\",\"zerolinecolor\":\"white\",\"gridwidth\":2},\"zaxis\":{\"backgroundcolor\":\"#E5ECF6\",\"gridcolor\":\"white\",\"linecolor\":\"white\",\"showbackground\":true,\"ticks\":\"\",\"zerolinecolor\":\"white\",\"gridwidth\":2}},\"shapedefaults\":{\"line\":{\"color\":\"#2a3f5f\"}},\"annotationdefaults\":{\"arrowcolor\":\"#2a3f5f\",\"arrowhead\":0,\"arrowwidth\":1},\"geo\":{\"bgcolor\":\"white\",\"landcolor\":\"#E5ECF6\",\"subunitcolor\":\"white\",\"showland\":true,\"showlakes\":true,\"lakecolor\":\"white\"},\"title\":{\"x\":0.05},\"mapbox\":{\"style\":\"light\"}}},\"xaxis\":{\"anchor\":\"y\",\"domain\":[0.0,1.0],\"title\":{\"text\":\"Casos\"},\"type\":\"log\"},\"yaxis\":{\"anchor\":\"x\",\"domain\":[0.0,1.0],\"title\":{\"text\":\"Fallecidos\"},\"type\":\"log\"},\"coloraxis\":{\"colorbar\":{\"title\":{\"text\":\"Fallecidos\"}},\"colorscale\":[[0.0,\"#0d0887\"],[0.1111111111111111,\"#46039f\"],[0.2222222222222222,\"#7201a8\"],[0.3333333333333333,\"#9c179e\"],[0.4444444444444444,\"#bd3786\"],[0.5555555555555556,\"#d8576b\"],[0.6666666666666666,\"#ed7953\"],[0.7777777777777778,\"#fb9f3a\"],[0.8888888888888888,\"#fdca26\"],[1.0,\"#f0f921\"]]},\"legend\":{\"tracegroupgap\":0,\"itemsizing\":\"constant\"},\"margin\":{\"t\":60}},                        {\"responsive\": true}                    ).then(function(){\n",
       "                            \n",
       "var gd = document.getElementById('8de32153-1275-4928-a74d-5b0fe9b17975');\n",
       "var x = new MutationObserver(function (mutations, observer) {{\n",
       "        var display = window.getComputedStyle(gd).display;\n",
       "        if (!display || display === 'none') {{\n",
       "            console.log([gd, 'removed!']);\n",
       "            Plotly.purge(gd);\n",
       "            observer.disconnect();\n",
       "        }}\n",
       "}});\n",
       "\n",
       "// Listen for the removal of the full notebook cells\n",
       "var notebookContainer = gd.closest('#notebook-container');\n",
       "if (notebookContainer) {{\n",
       "    x.observe(notebookContainer, {childList: true});\n",
       "}}\n",
       "\n",
       "// Listen for the clearing of the current output cell\n",
       "var outputEl = gd.closest('.output');\n",
       "if (outputEl) {{\n",
       "    x.observe(outputEl, {childList: true});\n",
       "}}\n",
       "\n",
       "                        })                };                });            </script>        </div>"
      ]
     },
     "metadata": {},
     "output_type": "display_data"
    }
   ],
   "source": [
    "get_bubble(df_casos_fallecidos_actual, 'Biobío')"
   ]
  },
  {
   "cell_type": "code",
   "execution_count": null,
   "id": "9c40155d-9771-4c0a-9497-c2284283cb9a",
   "metadata": {},
   "outputs": [],
   "source": []
  }
 ],
 "metadata": {
  "kernelspec": {
   "display_name": "Python 3 (ipykernel)",
   "language": "python",
   "name": "python3"
  },
  "language_info": {
   "codemirror_mode": {
    "name": "ipython",
    "version": 3
   },
   "file_extension": ".py",
   "mimetype": "text/x-python",
   "name": "python",
   "nbconvert_exporter": "python",
   "pygments_lexer": "ipython3",
   "version": "3.8.5"
  }
 },
 "nbformat": 4,
 "nbformat_minor": 5
}
