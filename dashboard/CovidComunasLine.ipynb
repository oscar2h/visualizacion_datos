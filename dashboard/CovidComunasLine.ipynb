{
 "cells": [
  {
   "cell_type": "code",
   "execution_count": 1,
   "id": "112dee24-752b-4392-8489-95662daa02ad",
   "metadata": {},
   "outputs": [],
   "source": [
    "import numpy as np\n",
    "import pandas as pd\n",
    "import matplotlib.pyplot as plt\n",
    "import seaborn as sns\n",
    "from datetime import datetime\n",
    "import plotly.express as px"
   ]
  },
  {
   "cell_type": "code",
   "execution_count": 2,
   "id": "027a2b07-a6d3-406b-8d88-fc3c2846b8ea",
   "metadata": {},
   "outputs": [
    {
     "data": {
      "text/plain": [
       "'2022-08-01'"
      ]
     },
     "execution_count": 2,
     "metadata": {},
     "output_type": "execute_result"
    }
   ],
   "source": [
    "#date = datetime.today().strftime('%Y-%m-%d')\n",
    "date = '2022-08-01'\n",
    "date"
   ]
  },
  {
   "cell_type": "code",
   "execution_count": 121,
   "id": "b472f2c6-aeed-4dd0-87e6-a793c220e53e",
   "metadata": {},
   "outputs": [
    {
     "data": {
      "text/html": [
       "<div>\n",
       "<style scoped>\n",
       "    .dataframe tbody tr th:only-of-type {\n",
       "        vertical-align: middle;\n",
       "    }\n",
       "\n",
       "    .dataframe tbody tr th {\n",
       "        vertical-align: top;\n",
       "    }\n",
       "\n",
       "    .dataframe thead th {\n",
       "        text-align: right;\n",
       "    }\n",
       "</style>\n",
       "<table border=\"1\" class=\"dataframe\">\n",
       "  <thead>\n",
       "    <tr style=\"text-align: right;\">\n",
       "      <th></th>\n",
       "      <th>Region</th>\n",
       "      <th>Codigo region</th>\n",
       "      <th>Comuna</th>\n",
       "      <th>Codigo comuna</th>\n",
       "      <th>Poblacion</th>\n",
       "      <th>2020-03-30</th>\n",
       "      <th>2020-04-01</th>\n",
       "      <th>2020-04-03</th>\n",
       "      <th>2020-04-06</th>\n",
       "      <th>2020-04-08</th>\n",
       "      <th>...</th>\n",
       "      <th>2022-07-22</th>\n",
       "      <th>2022-07-25</th>\n",
       "      <th>2022-07-29</th>\n",
       "      <th>2022-08-01</th>\n",
       "      <th>2022-08-05</th>\n",
       "      <th>2022-08-08</th>\n",
       "      <th>2022-08-12</th>\n",
       "      <th>2022-08-15</th>\n",
       "      <th>2022-08-19</th>\n",
       "      <th>2022-08-22</th>\n",
       "    </tr>\n",
       "  </thead>\n",
       "  <tbody>\n",
       "    <tr>\n",
       "      <th>357</th>\n",
       "      <td>Magallanes</td>\n",
       "      <td>12</td>\n",
       "      <td>Rio Verde</td>\n",
       "      <td>12103.0</td>\n",
       "      <td>211.0</td>\n",
       "      <td>0.0</td>\n",
       "      <td>0.0</td>\n",
       "      <td>0.0</td>\n",
       "      <td>0.0</td>\n",
       "      <td>0.0</td>\n",
       "      <td>...</td>\n",
       "      <td>37.0</td>\n",
       "      <td>37.0</td>\n",
       "      <td>39.0</td>\n",
       "      <td>39.0</td>\n",
       "      <td>39.0</td>\n",
       "      <td>39.0</td>\n",
       "      <td>39.0</td>\n",
       "      <td>39.0</td>\n",
       "      <td>39.0</td>\n",
       "      <td>39.0</td>\n",
       "    </tr>\n",
       "    <tr>\n",
       "      <th>358</th>\n",
       "      <td>Magallanes</td>\n",
       "      <td>12</td>\n",
       "      <td>San Gregorio</td>\n",
       "      <td>12104.0</td>\n",
       "      <td>681.0</td>\n",
       "      <td>0.0</td>\n",
       "      <td>0.0</td>\n",
       "      <td>0.0</td>\n",
       "      <td>0.0</td>\n",
       "      <td>0.0</td>\n",
       "      <td>...</td>\n",
       "      <td>144.0</td>\n",
       "      <td>144.0</td>\n",
       "      <td>144.0</td>\n",
       "      <td>144.0</td>\n",
       "      <td>145.0</td>\n",
       "      <td>145.0</td>\n",
       "      <td>145.0</td>\n",
       "      <td>145.0</td>\n",
       "      <td>145.0</td>\n",
       "      <td>146.0</td>\n",
       "    </tr>\n",
       "    <tr>\n",
       "      <th>359</th>\n",
       "      <td>Magallanes</td>\n",
       "      <td>12</td>\n",
       "      <td>Timaukel</td>\n",
       "      <td>12303.0</td>\n",
       "      <td>282.0</td>\n",
       "      <td>0.0</td>\n",
       "      <td>0.0</td>\n",
       "      <td>0.0</td>\n",
       "      <td>0.0</td>\n",
       "      <td>0.0</td>\n",
       "      <td>...</td>\n",
       "      <td>52.0</td>\n",
       "      <td>52.0</td>\n",
       "      <td>52.0</td>\n",
       "      <td>52.0</td>\n",
       "      <td>52.0</td>\n",
       "      <td>52.0</td>\n",
       "      <td>52.0</td>\n",
       "      <td>52.0</td>\n",
       "      <td>52.0</td>\n",
       "      <td>52.0</td>\n",
       "    </tr>\n",
       "    <tr>\n",
       "      <th>360</th>\n",
       "      <td>Magallanes</td>\n",
       "      <td>12</td>\n",
       "      <td>Torres del Paine</td>\n",
       "      <td>12402.0</td>\n",
       "      <td>1021.0</td>\n",
       "      <td>0.0</td>\n",
       "      <td>0.0</td>\n",
       "      <td>0.0</td>\n",
       "      <td>0.0</td>\n",
       "      <td>0.0</td>\n",
       "      <td>...</td>\n",
       "      <td>97.0</td>\n",
       "      <td>97.0</td>\n",
       "      <td>97.0</td>\n",
       "      <td>97.0</td>\n",
       "      <td>103.0</td>\n",
       "      <td>104.0</td>\n",
       "      <td>104.0</td>\n",
       "      <td>105.0</td>\n",
       "      <td>107.0</td>\n",
       "      <td>107.0</td>\n",
       "    </tr>\n",
       "    <tr>\n",
       "      <th>361</th>\n",
       "      <td>Magallanes</td>\n",
       "      <td>12</td>\n",
       "      <td>Desconocido Magallanes</td>\n",
       "      <td>NaN</td>\n",
       "      <td>NaN</td>\n",
       "      <td>NaN</td>\n",
       "      <td>NaN</td>\n",
       "      <td>NaN</td>\n",
       "      <td>NaN</td>\n",
       "      <td>NaN</td>\n",
       "      <td>...</td>\n",
       "      <td>54.0</td>\n",
       "      <td>55.0</td>\n",
       "      <td>55.0</td>\n",
       "      <td>55.0</td>\n",
       "      <td>55.0</td>\n",
       "      <td>55.0</td>\n",
       "      <td>55.0</td>\n",
       "      <td>55.0</td>\n",
       "      <td>55.0</td>\n",
       "      <td>56.0</td>\n",
       "    </tr>\n",
       "  </tbody>\n",
       "</table>\n",
       "<p>5 rows × 258 columns</p>\n",
       "</div>"
      ],
      "text/plain": [
       "         Region  Codigo region                  Comuna  Codigo comuna  \\\n",
       "357  Magallanes             12               Rio Verde        12103.0   \n",
       "358  Magallanes             12            San Gregorio        12104.0   \n",
       "359  Magallanes             12                Timaukel        12303.0   \n",
       "360  Magallanes             12        Torres del Paine        12402.0   \n",
       "361  Magallanes             12  Desconocido Magallanes            NaN   \n",
       "\n",
       "     Poblacion  2020-03-30  2020-04-01  2020-04-03  2020-04-06  2020-04-08  \\\n",
       "357      211.0         0.0         0.0         0.0         0.0         0.0   \n",
       "358      681.0         0.0         0.0         0.0         0.0         0.0   \n",
       "359      282.0         0.0         0.0         0.0         0.0         0.0   \n",
       "360     1021.0         0.0         0.0         0.0         0.0         0.0   \n",
       "361        NaN         NaN         NaN         NaN         NaN         NaN   \n",
       "\n",
       "     ...  2022-07-22  2022-07-25  2022-07-29  2022-08-01  2022-08-05  \\\n",
       "357  ...        37.0        37.0        39.0        39.0        39.0   \n",
       "358  ...       144.0       144.0       144.0       144.0       145.0   \n",
       "359  ...        52.0        52.0        52.0        52.0        52.0   \n",
       "360  ...        97.0        97.0        97.0        97.0       103.0   \n",
       "361  ...        54.0        55.0        55.0        55.0        55.0   \n",
       "\n",
       "     2022-08-08  2022-08-12  2022-08-15  2022-08-19  2022-08-22  \n",
       "357        39.0        39.0        39.0        39.0        39.0  \n",
       "358       145.0       145.0       145.0       145.0       146.0  \n",
       "359        52.0        52.0        52.0        52.0        52.0  \n",
       "360       104.0       104.0       105.0       107.0       107.0  \n",
       "361        55.0        55.0        55.0        55.0        56.0  \n",
       "\n",
       "[5 rows x 258 columns]"
      ]
     },
     "execution_count": 121,
     "metadata": {},
     "output_type": "execute_result"
    }
   ],
   "source": [
    "dataTotalComunas = pd.read_csv(\"https://raw.githubusercontent.com/MinCiencia/Datos-COVID19/master/output/producto1/Covid-19.csv\")\n",
    "dataTotalComunas = dataTotalComunas.drop(\"Tasa\", axis=1)\n",
    "dataTotalComunas.tail()"
   ]
  },
  {
   "cell_type": "code",
   "execution_count": 126,
   "id": "b722f15c-2a5d-4599-9257-f11be69adb26",
   "metadata": {},
   "outputs": [
    {
     "data": {
      "text/html": [
       "<div>\n",
       "<style scoped>\n",
       "    .dataframe tbody tr th:only-of-type {\n",
       "        vertical-align: middle;\n",
       "    }\n",
       "\n",
       "    .dataframe tbody tr th {\n",
       "        vertical-align: top;\n",
       "    }\n",
       "\n",
       "    .dataframe thead th {\n",
       "        text-align: right;\n",
       "    }\n",
       "</style>\n",
       "<table border=\"1\" class=\"dataframe\">\n",
       "  <thead>\n",
       "    <tr style=\"text-align: right;\">\n",
       "      <th></th>\n",
       "      <th>Region</th>\n",
       "      <th>Codigo region</th>\n",
       "      <th>Comuna</th>\n",
       "      <th>Codigo comuna</th>\n",
       "      <th>Poblacion</th>\n",
       "      <th>Fecha</th>\n",
       "      <th>Casos</th>\n",
       "    </tr>\n",
       "  </thead>\n",
       "  <tbody>\n",
       "    <tr>\n",
       "      <th>0</th>\n",
       "      <td>Arica y Parinacota</td>\n",
       "      <td>15</td>\n",
       "      <td>Arica</td>\n",
       "      <td>15101.0</td>\n",
       "      <td>247552.0</td>\n",
       "      <td>2020-03-30</td>\n",
       "      <td>6.0</td>\n",
       "    </tr>\n",
       "    <tr>\n",
       "      <th>1</th>\n",
       "      <td>Arica y Parinacota</td>\n",
       "      <td>15</td>\n",
       "      <td>Camarones</td>\n",
       "      <td>15102.0</td>\n",
       "      <td>1233.0</td>\n",
       "      <td>2020-03-30</td>\n",
       "      <td>0.0</td>\n",
       "    </tr>\n",
       "    <tr>\n",
       "      <th>2</th>\n",
       "      <td>Arica y Parinacota</td>\n",
       "      <td>15</td>\n",
       "      <td>General Lagos</td>\n",
       "      <td>15202.0</td>\n",
       "      <td>810.0</td>\n",
       "      <td>2020-03-30</td>\n",
       "      <td>0.0</td>\n",
       "    </tr>\n",
       "    <tr>\n",
       "      <th>3</th>\n",
       "      <td>Arica y Parinacota</td>\n",
       "      <td>15</td>\n",
       "      <td>Putre</td>\n",
       "      <td>15201.0</td>\n",
       "      <td>2515.0</td>\n",
       "      <td>2020-03-30</td>\n",
       "      <td>0.0</td>\n",
       "    </tr>\n",
       "    <tr>\n",
       "      <th>5</th>\n",
       "      <td>Tarapacá</td>\n",
       "      <td>1</td>\n",
       "      <td>Alto Hospicio</td>\n",
       "      <td>1107.0</td>\n",
       "      <td>129999.0</td>\n",
       "      <td>2020-03-30</td>\n",
       "      <td>0.0</td>\n",
       "    </tr>\n",
       "    <tr>\n",
       "      <th>6</th>\n",
       "      <td>Tarapacá</td>\n",
       "      <td>1</td>\n",
       "      <td>Camina</td>\n",
       "      <td>1402.0</td>\n",
       "      <td>1375.0</td>\n",
       "      <td>2020-03-30</td>\n",
       "      <td>0.0</td>\n",
       "    </tr>\n",
       "    <tr>\n",
       "      <th>7</th>\n",
       "      <td>Tarapacá</td>\n",
       "      <td>1</td>\n",
       "      <td>Colchane</td>\n",
       "      <td>1403.0</td>\n",
       "      <td>1583.0</td>\n",
       "      <td>2020-03-30</td>\n",
       "      <td>0.0</td>\n",
       "    </tr>\n",
       "    <tr>\n",
       "      <th>8</th>\n",
       "      <td>Tarapacá</td>\n",
       "      <td>1</td>\n",
       "      <td>Huara</td>\n",
       "      <td>1404.0</td>\n",
       "      <td>3000.0</td>\n",
       "      <td>2020-03-30</td>\n",
       "      <td>0.0</td>\n",
       "    </tr>\n",
       "    <tr>\n",
       "      <th>9</th>\n",
       "      <td>Tarapacá</td>\n",
       "      <td>1</td>\n",
       "      <td>Iquique</td>\n",
       "      <td>1101.0</td>\n",
       "      <td>223463.0</td>\n",
       "      <td>2020-03-30</td>\n",
       "      <td>5.0</td>\n",
       "    </tr>\n",
       "    <tr>\n",
       "      <th>10</th>\n",
       "      <td>Tarapacá</td>\n",
       "      <td>1</td>\n",
       "      <td>Pica</td>\n",
       "      <td>1405.0</td>\n",
       "      <td>5958.0</td>\n",
       "      <td>2020-03-30</td>\n",
       "      <td>0.0</td>\n",
       "    </tr>\n",
       "  </tbody>\n",
       "</table>\n",
       "</div>"
      ],
      "text/plain": [
       "                Region  Codigo region         Comuna  Codigo comuna  \\\n",
       "0   Arica y Parinacota             15          Arica        15101.0   \n",
       "1   Arica y Parinacota             15      Camarones        15102.0   \n",
       "2   Arica y Parinacota             15  General Lagos        15202.0   \n",
       "3   Arica y Parinacota             15          Putre        15201.0   \n",
       "5             Tarapacá              1  Alto Hospicio         1107.0   \n",
       "6             Tarapacá              1         Camina         1402.0   \n",
       "7             Tarapacá              1       Colchane         1403.0   \n",
       "8             Tarapacá              1          Huara         1404.0   \n",
       "9             Tarapacá              1        Iquique         1101.0   \n",
       "10            Tarapacá              1           Pica         1405.0   \n",
       "\n",
       "    Poblacion       Fecha  Casos  \n",
       "0    247552.0  2020-03-30    6.0  \n",
       "1      1233.0  2020-03-30    0.0  \n",
       "2       810.0  2020-03-30    0.0  \n",
       "3      2515.0  2020-03-30    0.0  \n",
       "5    129999.0  2020-03-30    0.0  \n",
       "6      1375.0  2020-03-30    0.0  \n",
       "7      1583.0  2020-03-30    0.0  \n",
       "8      3000.0  2020-03-30    0.0  \n",
       "9    223463.0  2020-03-30    5.0  \n",
       "10     5958.0  2020-03-30    0.0  "
      ]
     },
     "execution_count": 126,
     "metadata": {},
     "output_type": "execute_result"
    }
   ],
   "source": [
    "dataTotalComunas = pd.read_csv(\"https://raw.githubusercontent.com/MinCiencia/Datos-COVID19/master/output/producto1/Covid-19.csv\")\n",
    "dataTotalComunas = dataTotalComunas.drop(\"Tasa\", axis=1)\n",
    "dataTotalComunas = dataTotalComunas.melt(['Region','Codigo region','Comuna','Codigo comuna', 'Poblacion'], var_name='Fecha')\n",
    "dataTotalComunas=dataTotalComunas.rename(columns = {'value': 'Casos'}, inplace = False)\n",
    "dataTotalComunas= dataTotalComunas.loc[(dataTotalComunas[\"Codigo comuna\"].notnull())]\n",
    "dataTotalComunas.head(10)"
   ]
  },
  {
   "cell_type": "code",
   "execution_count": 123,
   "id": "296ad5b1-2a23-4a32-b477-68ac48f681b1",
   "metadata": {},
   "outputs": [
    {
     "data": {
      "text/html": [
       "<div>\n",
       "<style scoped>\n",
       "    .dataframe tbody tr th:only-of-type {\n",
       "        vertical-align: middle;\n",
       "    }\n",
       "\n",
       "    .dataframe tbody tr th {\n",
       "        vertical-align: top;\n",
       "    }\n",
       "\n",
       "    .dataframe thead th {\n",
       "        text-align: right;\n",
       "    }\n",
       "</style>\n",
       "<table border=\"1\" class=\"dataframe\">\n",
       "  <thead>\n",
       "    <tr style=\"text-align: right;\">\n",
       "      <th></th>\n",
       "      <th>Codigo region</th>\n",
       "      <th>Comuna</th>\n",
       "      <th>Codigo comuna</th>\n",
       "      <th>Fecha</th>\n",
       "      <th>Casos</th>\n",
       "    </tr>\n",
       "  </thead>\n",
       "  <tbody>\n",
       "    <tr>\n",
       "      <th>0</th>\n",
       "      <td>15</td>\n",
       "      <td>Arica</td>\n",
       "      <td>15101.0</td>\n",
       "      <td>2020-03-30</td>\n",
       "      <td>6.0</td>\n",
       "    </tr>\n",
       "    <tr>\n",
       "      <th>362</th>\n",
       "      <td>15</td>\n",
       "      <td>Arica</td>\n",
       "      <td>15101.0</td>\n",
       "      <td>2020-04-01</td>\n",
       "      <td>6.0</td>\n",
       "    </tr>\n",
       "    <tr>\n",
       "      <th>724</th>\n",
       "      <td>15</td>\n",
       "      <td>Arica</td>\n",
       "      <td>15101.0</td>\n",
       "      <td>2020-04-03</td>\n",
       "      <td>12.0</td>\n",
       "    </tr>\n",
       "    <tr>\n",
       "      <th>1086</th>\n",
       "      <td>15</td>\n",
       "      <td>Arica</td>\n",
       "      <td>15101.0</td>\n",
       "      <td>2020-04-06</td>\n",
       "      <td>41.0</td>\n",
       "    </tr>\n",
       "    <tr>\n",
       "      <th>1448</th>\n",
       "      <td>15</td>\n",
       "      <td>Arica</td>\n",
       "      <td>15101.0</td>\n",
       "      <td>2020-04-08</td>\n",
       "      <td>63.0</td>\n",
       "    </tr>\n",
       "    <tr>\n",
       "      <th>...</th>\n",
       "      <td>...</td>\n",
       "      <td>...</td>\n",
       "      <td>...</td>\n",
       "      <td>...</td>\n",
       "      <td>...</td>\n",
       "    </tr>\n",
       "    <tr>\n",
       "      <th>89776</th>\n",
       "      <td>15</td>\n",
       "      <td>Arica</td>\n",
       "      <td>15101.0</td>\n",
       "      <td>2022-08-08</td>\n",
       "      <td>71627.0</td>\n",
       "    </tr>\n",
       "    <tr>\n",
       "      <th>90138</th>\n",
       "      <td>15</td>\n",
       "      <td>Arica</td>\n",
       "      <td>15101.0</td>\n",
       "      <td>2022-08-12</td>\n",
       "      <td>72812.0</td>\n",
       "    </tr>\n",
       "    <tr>\n",
       "      <th>90500</th>\n",
       "      <td>15</td>\n",
       "      <td>Arica</td>\n",
       "      <td>15101.0</td>\n",
       "      <td>2022-08-15</td>\n",
       "      <td>73457.0</td>\n",
       "    </tr>\n",
       "    <tr>\n",
       "      <th>90862</th>\n",
       "      <td>15</td>\n",
       "      <td>Arica</td>\n",
       "      <td>15101.0</td>\n",
       "      <td>2022-08-19</td>\n",
       "      <td>74222.0</td>\n",
       "    </tr>\n",
       "    <tr>\n",
       "      <th>91224</th>\n",
       "      <td>15</td>\n",
       "      <td>Arica</td>\n",
       "      <td>15101.0</td>\n",
       "      <td>2022-08-22</td>\n",
       "      <td>74694.0</td>\n",
       "    </tr>\n",
       "  </tbody>\n",
       "</table>\n",
       "<p>253 rows × 5 columns</p>\n",
       "</div>"
      ],
      "text/plain": [
       "       Codigo region Comuna  Codigo comuna       Fecha    Casos\n",
       "0                 15  Arica        15101.0  2020-03-30      6.0\n",
       "362               15  Arica        15101.0  2020-04-01      6.0\n",
       "724               15  Arica        15101.0  2020-04-03     12.0\n",
       "1086              15  Arica        15101.0  2020-04-06     41.0\n",
       "1448              15  Arica        15101.0  2020-04-08     63.0\n",
       "...              ...    ...            ...         ...      ...\n",
       "89776             15  Arica        15101.0  2022-08-08  71627.0\n",
       "90138             15  Arica        15101.0  2022-08-12  72812.0\n",
       "90500             15  Arica        15101.0  2022-08-15  73457.0\n",
       "90862             15  Arica        15101.0  2022-08-19  74222.0\n",
       "91224             15  Arica        15101.0  2022-08-22  74694.0\n",
       "\n",
       "[253 rows x 5 columns]"
      ]
     },
     "execution_count": 123,
     "metadata": {},
     "output_type": "execute_result"
    }
   ],
   "source": [
    "dataTotalComunas= dataTotalComunas.loc[(dataTotalComunas[\"Region\"] == \"Arica y Parinacota\") & (dataTotalComunas[\"Comuna\"] == \"Arica\"), [\"Codigo region\",\"Comuna\", \"Codigo comuna\", \"Fecha\", \"Casos\"]]\n",
    "dataTotalComunas"
   ]
  },
  {
   "cell_type": "code",
   "execution_count": 129,
   "id": "fdc50082-8c42-40f0-8fbb-b0494218fecf",
   "metadata": {},
   "outputs": [],
   "source": [
    "def get_linetotalComunas(data, comuna):\n",
    "    data= data.loc[data[\"Comuna\"] == comuna, [\"Codigo region\",\"Comuna\", \"Codigo comuna\", \"Fecha\", \"Casos\"]]\n",
    "    fig = px.line(data, x=\"Fecha\", y=\"Casos\", title='Casos Totales Acumulados Comuna',color_discrete_sequence = ['red'])\n",
    "    return fig"
   ]
  },
  {
   "cell_type": "code",
   "execution_count": 134,
   "id": "58f43736-436f-4ddb-8c81-85c7ec1920be",
   "metadata": {},
   "outputs": [
    {
     "data": {
      "application/vnd.plotly.v1+json": {
       "config": {
        "plotlyServerURL": "https://plot.ly"
       },
       "data": [
        {
         "hovertemplate": "Fecha=%{x}<br>Casos=%{y}<extra></extra>",
         "legendgroup": "",
         "line": {
          "color": "red",
          "dash": "solid"
         },
         "marker": {
          "symbol": "circle"
         },
         "mode": "lines",
         "name": "",
         "orientation": "v",
         "showlegend": false,
         "type": "scatter",
         "x": [
          "2020-03-30",
          "2020-04-01",
          "2020-04-03",
          "2020-04-06",
          "2020-04-08",
          "2020-04-10",
          "2020-04-13",
          "2020-04-15",
          "2020-04-17",
          "2020-04-20",
          "2020-04-24",
          "2020-04-27",
          "2020-05-01",
          "2020-05-04",
          "2020-05-08",
          "2020-05-11",
          "2020-05-15",
          "2020-05-18",
          "2020-05-22",
          "2020-05-25",
          "2020-05-29",
          "2020-06-01",
          "2020-06-05",
          "2020-06-08",
          "2020-06-12",
          "2020-06-15",
          "2020-06-19",
          "2020-06-23",
          "2020-06-28",
          "2020-07-01",
          "2020-07-05",
          "2020-07-10",
          "2020-07-13",
          "2020-07-17",
          "2020-07-20",
          "2020-07-24",
          "2020-07-27",
          "2020-07-31",
          "2020-08-03",
          "2020-08-07",
          "2020-08-10",
          "2020-08-14",
          "2020-08-17",
          "2020-08-21",
          "2020-08-24",
          "2020-08-28",
          "2020-08-31",
          "2020-09-04",
          "2020-09-07",
          "2020-09-11",
          "2020-09-14",
          "2020-09-18",
          "2020-09-21",
          "2020-09-25",
          "2020-09-28",
          "2020-10-02",
          "2020-10-05",
          "2020-10-09",
          "2020-10-12",
          "2020-10-16",
          "2020-10-19",
          "2020-10-24",
          "2020-10-26",
          "2020-10-30",
          "2020-11-02",
          "2020-11-06",
          "2020-11-09",
          "2020-11-13",
          "2020-11-16",
          "2020-11-20",
          "2020-11-23",
          "2020-11-27",
          "2020-11-30",
          "2020-12-04",
          "2020-12-07",
          "2020-12-11",
          "2020-12-14",
          "2020-12-18",
          "2020-12-21",
          "2020-12-25",
          "2020-12-28",
          "2021-01-01",
          "2021-01-04",
          "2021-01-08",
          "2021-01-11",
          "2021-01-15",
          "2021-01-18",
          "2021-01-22",
          "2021-01-25",
          "2021-01-29",
          "2021-02-01",
          "2021-02-05",
          "2021-02-08",
          "2021-02-12",
          "2021-02-15",
          "2021-02-19",
          "2021-02-22",
          "2021-02-26",
          "2021-03-01",
          "2021-03-05",
          "2021-03-08",
          "2021-03-12",
          "2021-03-15",
          "2021-03-19",
          "2021-03-22",
          "2021-03-26",
          "2021-03-29",
          "2021-04-02",
          "2021-04-05",
          "2021-04-09",
          "2021-04-12",
          "2021-04-16",
          "2021-04-19",
          "2021-04-23",
          "2021-04-26",
          "2021-04-30",
          "2021-05-03",
          "2021-05-07",
          "2021-05-10",
          "2021-05-14",
          "2021-05-17",
          "2021-05-21",
          "2021-05-24",
          "2021-05-28",
          "2021-05-31",
          "2021-06-04",
          "2021-06-07",
          "2021-06-11",
          "2021-06-14",
          "2021-06-18",
          "2021-06-21",
          "2021-06-25",
          "2021-06-28",
          "2021-07-02",
          "2021-07-05",
          "2021-07-09",
          "2021-07-12",
          "2021-07-16",
          "2021-07-19",
          "2021-07-23",
          "2021-07-26",
          "2021-07-30",
          "2021-08-02",
          "2021-08-06",
          "2021-08-09",
          "2021-08-13",
          "2021-08-16",
          "2021-08-20",
          "2021-08-23",
          "2021-08-27",
          "2021-08-30",
          "2021-09-03",
          "2021-09-06",
          "2021-09-10",
          "2021-09-13",
          "2021-09-17",
          "2021-09-20",
          "2021-09-24",
          "2021-09-27",
          "2021-10-01",
          "2021-10-04",
          "2021-10-08",
          "2021-10-11",
          "2021-10-15",
          "2021-10-18",
          "2021-10-22",
          "2021-10-25",
          "2021-10-29",
          "2021-11-01",
          "2021-11-05",
          "2021-11-08",
          "2021-11-12",
          "2021-11-15",
          "2021-11-19",
          "2021-11-22",
          "2021-11-26",
          "2021-11-29",
          "2021-12-03",
          "2021-12-06",
          "2021-12-10",
          "2021-12-13",
          "2021-12-17",
          "2021-12-20",
          "2021-12-24",
          "2021-12-27",
          "2021-12-31",
          "2022-01-03",
          "2022-01-07",
          "2022-01-10",
          "2022-01-14",
          "2022-01-17",
          "2022-01-21",
          "2022-01-24",
          "2022-01-28",
          "2022-01-31",
          "2022-02-04",
          "2022-02-07",
          "2022-02-11",
          "2022-02-14",
          "2022-02-18",
          "2022-02-21",
          "2022-02-25",
          "2022-02-28",
          "2022-03-04",
          "2022-03-07",
          "2022-03-11",
          "2022-03-14",
          "2022-03-18",
          "2022-03-21",
          "2022-03-25",
          "2022-03-28",
          "2022-04-01",
          "2022-04-04",
          "2022-04-08",
          "2022-04-11",
          "2022-04-15",
          "2022-04-18",
          "2022-04-22",
          "2022-04-25",
          "2022-04-29",
          "2022-05-02",
          "2022-05-06",
          "2022-05-09",
          "2022-05-13",
          "2022-05-16",
          "2022-05-20",
          "2022-05-23",
          "2022-05-27",
          "2022-05-30",
          "2022-06-03",
          "2022-06-06",
          "2022-06-10",
          "2022-06-13",
          "2022-06-17",
          "2022-06-20",
          "2022-06-24",
          "2022-06-27",
          "2022-07-01",
          "2022-07-04",
          "2022-07-08",
          "2022-07-11",
          "2022-07-15",
          "2022-07-18",
          "2022-07-22",
          "2022-07-25",
          "2022-07-29",
          "2022-08-01",
          "2022-08-05",
          "2022-08-08",
          "2022-08-12",
          "2022-08-15",
          "2022-08-19",
          "2022-08-22"
         ],
         "xaxis": "x",
         "y": [
          28,
          47,
          53,
          70,
          73,
          81,
          92,
          130,
          142,
          149,
          136,
          139,
          147,
          141,
          159,
          171,
          177,
          184,
          209,
          236,
          284,
          321,
          355,
          385,
          464,
          541,
          767,
          926,
          1108,
          1172,
          1256,
          1360,
          1424,
          1498,
          1571,
          1653,
          1694,
          1772,
          1850,
          1944,
          2023,
          2173,
          2299,
          2466,
          2636,
          2879,
          3080,
          3282,
          3446,
          3621,
          3740,
          3925,
          4011,
          4157,
          4286,
          4434,
          4511,
          4610,
          4698,
          4804,
          4885,
          5012,
          5073,
          5181,
          5278,
          5415,
          5548,
          5710,
          5841,
          6050,
          6209,
          6401,
          6545,
          6784,
          6975,
          7156,
          7361,
          7588,
          7767,
          7982,
          8133,
          8428,
          8564,
          8857,
          9117,
          9421,
          9642,
          9941,
          10160,
          10429,
          10569,
          10730,
          10827,
          11020,
          11177,
          11369,
          11538,
          11830,
          12140,
          12590,
          12919,
          13485,
          14021,
          14659,
          15184,
          15767,
          16204,
          16728,
          17054,
          17627,
          17928,
          18421,
          18694,
          19003,
          19223,
          19510,
          19701,
          19940,
          20090,
          20302,
          20483,
          20782,
          20988,
          21337,
          21567,
          21875,
          22133,
          22414,
          22609,
          22905,
          23091,
          23283,
          23436,
          23591,
          23745,
          23913,
          24018,
          24146,
          24197,
          24291,
          24362,
          24428,
          24474,
          24556,
          24606,
          24658,
          24696,
          24742,
          24774,
          24803,
          24824,
          24850,
          24873,
          24904,
          24918,
          24947,
          24962,
          24970,
          24976,
          24993,
          25002,
          25017,
          25033,
          25079,
          25117,
          25198,
          25261,
          25362,
          25474,
          25595,
          25791,
          26031,
          26239,
          26467,
          26648,
          26840,
          26965,
          27109,
          27221,
          27356,
          27455,
          27554,
          27618,
          27708,
          27776,
          27877,
          27949,
          28033,
          28144,
          28327,
          28554,
          28997,
          29477,
          30650,
          31768,
          33402,
          35011,
          37145,
          38630,
          41500,
          44061,
          46770,
          48268,
          49966,
          51048,
          52513,
          53424,
          54650,
          55293,
          56126,
          56548,
          57074,
          57439,
          57756,
          58041,
          58273,
          58388,
          58588,
          58713,
          58821,
          58869,
          58981,
          59080,
          59246,
          59388,
          59686,
          59940,
          60350,
          60649,
          61068,
          61448,
          62204,
          62789,
          63540,
          64101,
          64805,
          65536,
          66355,
          66913,
          67666,
          68173,
          68759,
          69151,
          69651,
          70069,
          70682,
          71066,
          71716,
          72168,
          72978,
          73675,
          74401,
          74934
         ],
         "yaxis": "y"
        }
       ],
       "layout": {
        "autosize": true,
        "legend": {
         "tracegroupgap": 0
        },
        "template": {
         "data": {
          "bar": [
           {
            "error_x": {
             "color": "#2a3f5f"
            },
            "error_y": {
             "color": "#2a3f5f"
            },
            "marker": {
             "line": {
              "color": "#E5ECF6",
              "width": 0.5
             },
             "pattern": {
              "fillmode": "overlay",
              "size": 10,
              "solidity": 0.2
             }
            },
            "type": "bar"
           }
          ],
          "barpolar": [
           {
            "marker": {
             "line": {
              "color": "#E5ECF6",
              "width": 0.5
             },
             "pattern": {
              "fillmode": "overlay",
              "size": 10,
              "solidity": 0.2
             }
            },
            "type": "barpolar"
           }
          ],
          "carpet": [
           {
            "aaxis": {
             "endlinecolor": "#2a3f5f",
             "gridcolor": "white",
             "linecolor": "white",
             "minorgridcolor": "white",
             "startlinecolor": "#2a3f5f"
            },
            "baxis": {
             "endlinecolor": "#2a3f5f",
             "gridcolor": "white",
             "linecolor": "white",
             "minorgridcolor": "white",
             "startlinecolor": "#2a3f5f"
            },
            "type": "carpet"
           }
          ],
          "choropleth": [
           {
            "colorbar": {
             "outlinewidth": 0,
             "ticks": ""
            },
            "type": "choropleth"
           }
          ],
          "contour": [
           {
            "colorbar": {
             "outlinewidth": 0,
             "ticks": ""
            },
            "colorscale": [
             [
              0,
              "#0d0887"
             ],
             [
              0.1111111111111111,
              "#46039f"
             ],
             [
              0.2222222222222222,
              "#7201a8"
             ],
             [
              0.3333333333333333,
              "#9c179e"
             ],
             [
              0.4444444444444444,
              "#bd3786"
             ],
             [
              0.5555555555555556,
              "#d8576b"
             ],
             [
              0.6666666666666666,
              "#ed7953"
             ],
             [
              0.7777777777777778,
              "#fb9f3a"
             ],
             [
              0.8888888888888888,
              "#fdca26"
             ],
             [
              1,
              "#f0f921"
             ]
            ],
            "type": "contour"
           }
          ],
          "contourcarpet": [
           {
            "colorbar": {
             "outlinewidth": 0,
             "ticks": ""
            },
            "type": "contourcarpet"
           }
          ],
          "heatmap": [
           {
            "colorbar": {
             "outlinewidth": 0,
             "ticks": ""
            },
            "colorscale": [
             [
              0,
              "#0d0887"
             ],
             [
              0.1111111111111111,
              "#46039f"
             ],
             [
              0.2222222222222222,
              "#7201a8"
             ],
             [
              0.3333333333333333,
              "#9c179e"
             ],
             [
              0.4444444444444444,
              "#bd3786"
             ],
             [
              0.5555555555555556,
              "#d8576b"
             ],
             [
              0.6666666666666666,
              "#ed7953"
             ],
             [
              0.7777777777777778,
              "#fb9f3a"
             ],
             [
              0.8888888888888888,
              "#fdca26"
             ],
             [
              1,
              "#f0f921"
             ]
            ],
            "type": "heatmap"
           }
          ],
          "heatmapgl": [
           {
            "colorbar": {
             "outlinewidth": 0,
             "ticks": ""
            },
            "colorscale": [
             [
              0,
              "#0d0887"
             ],
             [
              0.1111111111111111,
              "#46039f"
             ],
             [
              0.2222222222222222,
              "#7201a8"
             ],
             [
              0.3333333333333333,
              "#9c179e"
             ],
             [
              0.4444444444444444,
              "#bd3786"
             ],
             [
              0.5555555555555556,
              "#d8576b"
             ],
             [
              0.6666666666666666,
              "#ed7953"
             ],
             [
              0.7777777777777778,
              "#fb9f3a"
             ],
             [
              0.8888888888888888,
              "#fdca26"
             ],
             [
              1,
              "#f0f921"
             ]
            ],
            "type": "heatmapgl"
           }
          ],
          "histogram": [
           {
            "marker": {
             "pattern": {
              "fillmode": "overlay",
              "size": 10,
              "solidity": 0.2
             }
            },
            "type": "histogram"
           }
          ],
          "histogram2d": [
           {
            "colorbar": {
             "outlinewidth": 0,
             "ticks": ""
            },
            "colorscale": [
             [
              0,
              "#0d0887"
             ],
             [
              0.1111111111111111,
              "#46039f"
             ],
             [
              0.2222222222222222,
              "#7201a8"
             ],
             [
              0.3333333333333333,
              "#9c179e"
             ],
             [
              0.4444444444444444,
              "#bd3786"
             ],
             [
              0.5555555555555556,
              "#d8576b"
             ],
             [
              0.6666666666666666,
              "#ed7953"
             ],
             [
              0.7777777777777778,
              "#fb9f3a"
             ],
             [
              0.8888888888888888,
              "#fdca26"
             ],
             [
              1,
              "#f0f921"
             ]
            ],
            "type": "histogram2d"
           }
          ],
          "histogram2dcontour": [
           {
            "colorbar": {
             "outlinewidth": 0,
             "ticks": ""
            },
            "colorscale": [
             [
              0,
              "#0d0887"
             ],
             [
              0.1111111111111111,
              "#46039f"
             ],
             [
              0.2222222222222222,
              "#7201a8"
             ],
             [
              0.3333333333333333,
              "#9c179e"
             ],
             [
              0.4444444444444444,
              "#bd3786"
             ],
             [
              0.5555555555555556,
              "#d8576b"
             ],
             [
              0.6666666666666666,
              "#ed7953"
             ],
             [
              0.7777777777777778,
              "#fb9f3a"
             ],
             [
              0.8888888888888888,
              "#fdca26"
             ],
             [
              1,
              "#f0f921"
             ]
            ],
            "type": "histogram2dcontour"
           }
          ],
          "mesh3d": [
           {
            "colorbar": {
             "outlinewidth": 0,
             "ticks": ""
            },
            "type": "mesh3d"
           }
          ],
          "parcoords": [
           {
            "line": {
             "colorbar": {
              "outlinewidth": 0,
              "ticks": ""
             }
            },
            "type": "parcoords"
           }
          ],
          "pie": [
           {
            "automargin": true,
            "type": "pie"
           }
          ],
          "scatter": [
           {
            "fillpattern": {
             "fillmode": "overlay",
             "size": 10,
             "solidity": 0.2
            },
            "type": "scatter"
           }
          ],
          "scatter3d": [
           {
            "line": {
             "colorbar": {
              "outlinewidth": 0,
              "ticks": ""
             }
            },
            "marker": {
             "colorbar": {
              "outlinewidth": 0,
              "ticks": ""
             }
            },
            "type": "scatter3d"
           }
          ],
          "scattercarpet": [
           {
            "marker": {
             "colorbar": {
              "outlinewidth": 0,
              "ticks": ""
             }
            },
            "type": "scattercarpet"
           }
          ],
          "scattergeo": [
           {
            "marker": {
             "colorbar": {
              "outlinewidth": 0,
              "ticks": ""
             }
            },
            "type": "scattergeo"
           }
          ],
          "scattergl": [
           {
            "marker": {
             "colorbar": {
              "outlinewidth": 0,
              "ticks": ""
             }
            },
            "type": "scattergl"
           }
          ],
          "scattermapbox": [
           {
            "marker": {
             "colorbar": {
              "outlinewidth": 0,
              "ticks": ""
             }
            },
            "type": "scattermapbox"
           }
          ],
          "scatterpolar": [
           {
            "marker": {
             "colorbar": {
              "outlinewidth": 0,
              "ticks": ""
             }
            },
            "type": "scatterpolar"
           }
          ],
          "scatterpolargl": [
           {
            "marker": {
             "colorbar": {
              "outlinewidth": 0,
              "ticks": ""
             }
            },
            "type": "scatterpolargl"
           }
          ],
          "scatterternary": [
           {
            "marker": {
             "colorbar": {
              "outlinewidth": 0,
              "ticks": ""
             }
            },
            "type": "scatterternary"
           }
          ],
          "surface": [
           {
            "colorbar": {
             "outlinewidth": 0,
             "ticks": ""
            },
            "colorscale": [
             [
              0,
              "#0d0887"
             ],
             [
              0.1111111111111111,
              "#46039f"
             ],
             [
              0.2222222222222222,
              "#7201a8"
             ],
             [
              0.3333333333333333,
              "#9c179e"
             ],
             [
              0.4444444444444444,
              "#bd3786"
             ],
             [
              0.5555555555555556,
              "#d8576b"
             ],
             [
              0.6666666666666666,
              "#ed7953"
             ],
             [
              0.7777777777777778,
              "#fb9f3a"
             ],
             [
              0.8888888888888888,
              "#fdca26"
             ],
             [
              1,
              "#f0f921"
             ]
            ],
            "type": "surface"
           }
          ],
          "table": [
           {
            "cells": {
             "fill": {
              "color": "#EBF0F8"
             },
             "line": {
              "color": "white"
             }
            },
            "header": {
             "fill": {
              "color": "#C8D4E3"
             },
             "line": {
              "color": "white"
             }
            },
            "type": "table"
           }
          ]
         },
         "layout": {
          "annotationdefaults": {
           "arrowcolor": "#2a3f5f",
           "arrowhead": 0,
           "arrowwidth": 1
          },
          "autotypenumbers": "strict",
          "coloraxis": {
           "colorbar": {
            "outlinewidth": 0,
            "ticks": ""
           }
          },
          "colorscale": {
           "diverging": [
            [
             0,
             "#8e0152"
            ],
            [
             0.1,
             "#c51b7d"
            ],
            [
             0.2,
             "#de77ae"
            ],
            [
             0.3,
             "#f1b6da"
            ],
            [
             0.4,
             "#fde0ef"
            ],
            [
             0.5,
             "#f7f7f7"
            ],
            [
             0.6,
             "#e6f5d0"
            ],
            [
             0.7,
             "#b8e186"
            ],
            [
             0.8,
             "#7fbc41"
            ],
            [
             0.9,
             "#4d9221"
            ],
            [
             1,
             "#276419"
            ]
           ],
           "sequential": [
            [
             0,
             "#0d0887"
            ],
            [
             0.1111111111111111,
             "#46039f"
            ],
            [
             0.2222222222222222,
             "#7201a8"
            ],
            [
             0.3333333333333333,
             "#9c179e"
            ],
            [
             0.4444444444444444,
             "#bd3786"
            ],
            [
             0.5555555555555556,
             "#d8576b"
            ],
            [
             0.6666666666666666,
             "#ed7953"
            ],
            [
             0.7777777777777778,
             "#fb9f3a"
            ],
            [
             0.8888888888888888,
             "#fdca26"
            ],
            [
             1,
             "#f0f921"
            ]
           ],
           "sequentialminus": [
            [
             0,
             "#0d0887"
            ],
            [
             0.1111111111111111,
             "#46039f"
            ],
            [
             0.2222222222222222,
             "#7201a8"
            ],
            [
             0.3333333333333333,
             "#9c179e"
            ],
            [
             0.4444444444444444,
             "#bd3786"
            ],
            [
             0.5555555555555556,
             "#d8576b"
            ],
            [
             0.6666666666666666,
             "#ed7953"
            ],
            [
             0.7777777777777778,
             "#fb9f3a"
            ],
            [
             0.8888888888888888,
             "#fdca26"
            ],
            [
             1,
             "#f0f921"
            ]
           ]
          },
          "colorway": [
           "#636efa",
           "#EF553B",
           "#00cc96",
           "#ab63fa",
           "#FFA15A",
           "#19d3f3",
           "#FF6692",
           "#B6E880",
           "#FF97FF",
           "#FECB52"
          ],
          "font": {
           "color": "#2a3f5f"
          },
          "geo": {
           "bgcolor": "white",
           "lakecolor": "white",
           "landcolor": "#E5ECF6",
           "showlakes": true,
           "showland": true,
           "subunitcolor": "white"
          },
          "hoverlabel": {
           "align": "left"
          },
          "hovermode": "closest",
          "mapbox": {
           "style": "light"
          },
          "paper_bgcolor": "white",
          "plot_bgcolor": "#E5ECF6",
          "polar": {
           "angularaxis": {
            "gridcolor": "white",
            "linecolor": "white",
            "ticks": ""
           },
           "bgcolor": "#E5ECF6",
           "radialaxis": {
            "gridcolor": "white",
            "linecolor": "white",
            "ticks": ""
           }
          },
          "scene": {
           "xaxis": {
            "backgroundcolor": "#E5ECF6",
            "gridcolor": "white",
            "gridwidth": 2,
            "linecolor": "white",
            "showbackground": true,
            "ticks": "",
            "zerolinecolor": "white"
           },
           "yaxis": {
            "backgroundcolor": "#E5ECF6",
            "gridcolor": "white",
            "gridwidth": 2,
            "linecolor": "white",
            "showbackground": true,
            "ticks": "",
            "zerolinecolor": "white"
           },
           "zaxis": {
            "backgroundcolor": "#E5ECF6",
            "gridcolor": "white",
            "gridwidth": 2,
            "linecolor": "white",
            "showbackground": true,
            "ticks": "",
            "zerolinecolor": "white"
           }
          },
          "shapedefaults": {
           "line": {
            "color": "#2a3f5f"
           }
          },
          "ternary": {
           "aaxis": {
            "gridcolor": "white",
            "linecolor": "white",
            "ticks": ""
           },
           "baxis": {
            "gridcolor": "white",
            "linecolor": "white",
            "ticks": ""
           },
           "bgcolor": "#E5ECF6",
           "caxis": {
            "gridcolor": "white",
            "linecolor": "white",
            "ticks": ""
           }
          },
          "title": {
           "x": 0.05
          },
          "xaxis": {
           "automargin": true,
           "gridcolor": "white",
           "linecolor": "white",
           "ticks": "",
           "title": {
            "standoff": 15
           },
           "zerolinecolor": "white",
           "zerolinewidth": 2
          },
          "yaxis": {
           "automargin": true,
           "gridcolor": "white",
           "linecolor": "white",
           "ticks": "",
           "title": {
            "standoff": 15
           },
           "zerolinecolor": "white",
           "zerolinewidth": 2
          }
         }
        },
        "title": {
         "text": "Casos Totales Acumulados Comuna"
        },
        "xaxis": {
         "anchor": "y",
         "autorange": true,
         "domain": [
          0,
          1
         ],
         "range": [
          "2020-03-30",
          "2022-08-22"
         ],
         "title": {
          "text": "Fecha"
         },
         "type": "date"
        },
        "yaxis": {
         "anchor": "x",
         "autorange": true,
         "domain": [
          0,
          1
         ],
         "range": [
          -4133.444444444444,
          79095.44444444444
         ],
         "title": {
          "text": "Casos"
         },
         "type": "linear"
        }
       }
      },
      "image/png": "[encoded data removed]",
      "text/html": [
       "<div>                            <div id=\"e6514953-d615-4d92-ba27-61ec36ce93bd\" class=\"plotly-graph-div\" style=\"height:525px; width:100%;\"></div>            <script type=\"text/javascript\">                require([\"plotly\"], function(Plotly) {                    window.PLOTLYENV=window.PLOTLYENV || {};                                    if (document.getElementById(\"e6514953-d615-4d92-ba27-61ec36ce93bd\")) {                    Plotly.newPlot(                        \"e6514953-d615-4d92-ba27-61ec36ce93bd\",                        [{\"hovertemplate\":\"Fecha=%{x}<br>Casos=%{y}<extra></extra>\",\"legendgroup\":\"\",\"line\":{\"color\":\"red\",\"dash\":\"solid\"},\"marker\":{\"symbol\":\"circle\"},\"mode\":\"lines\",\"name\":\"\",\"orientation\":\"v\",\"showlegend\":false,\"x\":[\"2020-03-30\",\"2020-04-01\",\"2020-04-03\",\"2020-04-06\",\"2020-04-08\",\"2020-04-10\",\"2020-04-13\",\"2020-04-15\",\"2020-04-17\",\"2020-04-20\",\"2020-04-24\",\"2020-04-27\",\"2020-05-01\",\"2020-05-04\",\"2020-05-08\",\"2020-05-11\",\"2020-05-15\",\"2020-05-18\",\"2020-05-22\",\"2020-05-25\",\"2020-05-29\",\"2020-06-01\",\"2020-06-05\",\"2020-06-08\",\"2020-06-12\",\"2020-06-15\",\"2020-06-19\",\"2020-06-23\",\"2020-06-28\",\"2020-07-01\",\"2020-07-05\",\"2020-07-10\",\"2020-07-13\",\"2020-07-17\",\"2020-07-20\",\"2020-07-24\",\"2020-07-27\",\"2020-07-31\",\"2020-08-03\",\"2020-08-07\",\"2020-08-10\",\"2020-08-14\",\"2020-08-17\",\"2020-08-21\",\"2020-08-24\",\"2020-08-28\",\"2020-08-31\",\"2020-09-04\",\"2020-09-07\",\"2020-09-11\",\"2020-09-14\",\"2020-09-18\",\"2020-09-21\",\"2020-09-25\",\"2020-09-28\",\"2020-10-02\",\"2020-10-05\",\"2020-10-09\",\"2020-10-12\",\"2020-10-16\",\"2020-10-19\",\"2020-10-24\",\"2020-10-26\",\"2020-10-30\",\"2020-11-02\",\"2020-11-06\",\"2020-11-09\",\"2020-11-13\",\"2020-11-16\",\"2020-11-20\",\"2020-11-23\",\"2020-11-27\",\"2020-11-30\",\"2020-12-04\",\"2020-12-07\",\"2020-12-11\",\"2020-12-14\",\"2020-12-18\",\"2020-12-21\",\"2020-12-25\",\"2020-12-28\",\"2021-01-01\",\"2021-01-04\",\"2021-01-08\",\"2021-01-11\",\"2021-01-15\",\"2021-01-18\",\"2021-01-22\",\"2021-01-25\",\"2021-01-29\",\"2021-02-01\",\"2021-02-05\",\"2021-02-08\",\"2021-02-12\",\"2021-02-15\",\"2021-02-19\",\"2021-02-22\",\"2021-02-26\",\"2021-03-01\",\"2021-03-05\",\"2021-03-08\",\"2021-03-12\",\"2021-03-15\",\"2021-03-19\",\"2021-03-22\",\"2021-03-26\",\"2021-03-29\",\"2021-04-02\",\"2021-04-05\",\"2021-04-09\",\"2021-04-12\",\"2021-04-16\",\"2021-04-19\",\"2021-04-23\",\"2021-04-26\",\"2021-04-30\",\"2021-05-03\",\"2021-05-07\",\"2021-05-10\",\"2021-05-14\",\"2021-05-17\",\"2021-05-21\",\"2021-05-24\",\"2021-05-28\",\"2021-05-31\",\"2021-06-04\",\"2021-06-07\",\"2021-06-11\",\"2021-06-14\",\"2021-06-18\",\"2021-06-21\",\"2021-06-25\",\"2021-06-28\",\"2021-07-02\",\"2021-07-05\",\"2021-07-09\",\"2021-07-12\",\"2021-07-16\",\"2021-07-19\",\"2021-07-23\",\"2021-07-26\",\"2021-07-30\",\"2021-08-02\",\"2021-08-06\",\"2021-08-09\",\"2021-08-13\",\"2021-08-16\",\"2021-08-20\",\"2021-08-23\",\"2021-08-27\",\"2021-08-30\",\"2021-09-03\",\"2021-09-06\",\"2021-09-10\",\"2021-09-13\",\"2021-09-17\",\"2021-09-20\",\"2021-09-24\",\"2021-09-27\",\"2021-10-01\",\"2021-10-04\",\"2021-10-08\",\"2021-10-11\",\"2021-10-15\",\"2021-10-18\",\"2021-10-22\",\"2021-10-25\",\"2021-10-29\",\"2021-11-01\",\"2021-11-05\",\"2021-11-08\",\"2021-11-12\",\"2021-11-15\",\"2021-11-19\",\"2021-11-22\",\"2021-11-26\",\"2021-11-29\",\"2021-12-03\",\"2021-12-06\",\"2021-12-10\",\"2021-12-13\",\"2021-12-17\",\"2021-12-20\",\"2021-12-24\",\"2021-12-27\",\"2021-12-31\",\"2022-01-03\",\"2022-01-07\",\"2022-01-10\",\"2022-01-14\",\"2022-01-17\",\"2022-01-21\",\"2022-01-24\",\"2022-01-28\",\"2022-01-31\",\"2022-02-04\",\"2022-02-07\",\"2022-02-11\",\"2022-02-14\",\"2022-02-18\",\"2022-02-21\",\"2022-02-25\",\"2022-02-28\",\"2022-03-04\",\"2022-03-07\",\"2022-03-11\",\"2022-03-14\",\"2022-03-18\",\"2022-03-21\",\"2022-03-25\",\"2022-03-28\",\"2022-04-01\",\"2022-04-04\",\"2022-04-08\",\"2022-04-11\",\"2022-04-15\",\"2022-04-18\",\"2022-04-22\",\"2022-04-25\",\"2022-04-29\",\"2022-05-02\",\"2022-05-06\",\"2022-05-09\",\"2022-05-13\",\"2022-05-16\",\"2022-05-20\",\"2022-05-23\",\"2022-05-27\",\"2022-05-30\",\"2022-06-03\",\"2022-06-06\",\"2022-06-10\",\"2022-06-13\",\"2022-06-17\",\"2022-06-20\",\"2022-06-24\",\"2022-06-27\",\"2022-07-01\",\"2022-07-04\",\"2022-07-08\",\"2022-07-11\",\"2022-07-15\",\"2022-07-18\",\"2022-07-22\",\"2022-07-25\",\"2022-07-29\",\"2022-08-01\",\"2022-08-05\",\"2022-08-08\",\"2022-08-12\",\"2022-08-15\",\"2022-08-19\",\"2022-08-22\"],\"xaxis\":\"x\",\"y\":[28.0,47.0,53.0,70.0,73.0,81.0,92.0,130.0,142.0,149.0,136.0,139.0,147.0,141.0,159.0,171.0,177.0,184.0,209.0,236.0,284.0,321.0,355.0,385.0,464.0,541.0,767.0,926.0,1108.0,1172.0,1256.0,1360.0,1424.0,1498.0,1571.0,1653.0,1694.0,1772.0,1850.0,1944.0,2023.0,2173.0,2299.0,2466.0,2636.0,2879.0,3080.0,3282.0,3446.0,3621.0,3740.0,3925.0,4011.0,4157.0,4286.0,4434.0,4511.0,4610.0,4698.0,4804.0,4885.0,5012.0,5073.0,5181.0,5278.0,5415.0,5548.0,5710.0,5841.0,6050.0,6209.0,6401.0,6545.0,6784.0,6975.0,7156.0,7361.0,7588.0,7767.0,7982.0,8133.0,8428.0,8564.0,8857.0,9117.0,9421.0,9642.0,9941.0,10160.0,10429.0,10569.0,10730.0,10827.0,11020.0,11177.0,11369.0,11538.0,11830.0,12140.0,12590.0,12919.0,13485.0,14021.0,14659.0,15184.0,15767.0,16204.0,16728.0,17054.0,17627.0,17928.0,18421.0,18694.0,19003.0,19223.0,19510.0,19701.0,19940.0,20090.0,20302.0,20483.0,20782.0,20988.0,21337.0,21567.0,21875.0,22133.0,22414.0,22609.0,22905.0,23091.0,23283.0,23436.0,23591.0,23745.0,23913.0,24018.0,24146.0,24197.0,24291.0,24362.0,24428.0,24474.0,24556.0,24606.0,24658.0,24696.0,24742.0,24774.0,24803.0,24824.0,24850.0,24873.0,24904.0,24918.0,24947.0,24962.0,24970.0,24976.0,24993.0,25002.0,25017.0,25033.0,25079.0,25117.0,25198.0,25261.0,25362.0,25474.0,25595.0,25791.0,26031.0,26239.0,26467.0,26648.0,26840.0,26965.0,27109.0,27221.0,27356.0,27455.0,27554.0,27618.0,27708.0,27776.0,27877.0,27949.0,28033.0,28144.0,28327.0,28554.0,28997.0,29477.0,30650.0,31768.0,33402.0,35011.0,37145.0,38630.0,41500.0,44061.0,46770.0,48268.0,49966.0,51048.0,52513.0,53424.0,54650.0,55293.0,56126.0,56548.0,57074.0,57439.0,57756.0,58041.0,58273.0,58388.0,58588.0,58713.0,58821.0,58869.0,58981.0,59080.0,59246.0,59388.0,59686.0,59940.0,60350.0,60649.0,61068.0,61448.0,62204.0,62789.0,63540.0,64101.0,64805.0,65536.0,66355.0,66913.0,67666.0,68173.0,68759.0,69151.0,69651.0,70069.0,70682.0,71066.0,71716.0,72168.0,72978.0,73675.0,74401.0,74934.0],\"yaxis\":\"y\",\"type\":\"scatter\"}],                        {\"template\":{\"data\":{\"histogram2dcontour\":[{\"type\":\"histogram2dcontour\",\"colorbar\":{\"outlinewidth\":0,\"ticks\":\"\"},\"colorscale\":[[0.0,\"#0d0887\"],[0.1111111111111111,\"#46039f\"],[0.2222222222222222,\"#7201a8\"],[0.3333333333333333,\"#9c179e\"],[0.4444444444444444,\"#bd3786\"],[0.5555555555555556,\"#d8576b\"],[0.6666666666666666,\"#ed7953\"],[0.7777777777777778,\"#fb9f3a\"],[0.8888888888888888,\"#fdca26\"],[1.0,\"#f0f921\"]]}],\"choropleth\":[{\"type\":\"choropleth\",\"colorbar\":{\"outlinewidth\":0,\"ticks\":\"\"}}],\"histogram2d\":[{\"type\":\"histogram2d\",\"colorbar\":{\"outlinewidth\":0,\"ticks\":\"\"},\"colorscale\":[[0.0,\"#0d0887\"],[0.1111111111111111,\"#46039f\"],[0.2222222222222222,\"#7201a8\"],[0.3333333333333333,\"#9c179e\"],[0.4444444444444444,\"#bd3786\"],[0.5555555555555556,\"#d8576b\"],[0.6666666666666666,\"#ed7953\"],[0.7777777777777778,\"#fb9f3a\"],[0.8888888888888888,\"#fdca26\"],[1.0,\"#f0f921\"]]}],\"heatmap\":[{\"type\":\"heatmap\",\"colorbar\":{\"outlinewidth\":0,\"ticks\":\"\"},\"colorscale\":[[0.0,\"#0d0887\"],[0.1111111111111111,\"#46039f\"],[0.2222222222222222,\"#7201a8\"],[0.3333333333333333,\"#9c179e\"],[0.4444444444444444,\"#bd3786\"],[0.5555555555555556,\"#d8576b\"],[0.6666666666666666,\"#ed7953\"],[0.7777777777777778,\"#fb9f3a\"],[0.8888888888888888,\"#fdca26\"],[1.0,\"#f0f921\"]]}],\"heatmapgl\":[{\"type\":\"heatmapgl\",\"colorbar\":{\"outlinewidth\":0,\"ticks\":\"\"},\"colorscale\":[[0.0,\"#0d0887\"],[0.1111111111111111,\"#46039f\"],[0.2222222222222222,\"#7201a8\"],[0.3333333333333333,\"#9c179e\"],[0.4444444444444444,\"#bd3786\"],[0.5555555555555556,\"#d8576b\"],[0.6666666666666666,\"#ed7953\"],[0.7777777777777778,\"#fb9f3a\"],[0.8888888888888888,\"#fdca26\"],[1.0,\"#f0f921\"]]}],\"contourcarpet\":[{\"type\":\"contourcarpet\",\"colorbar\":{\"outlinewidth\":0,\"ticks\":\"\"}}],\"contour\":[{\"type\":\"contour\",\"colorbar\":{\"outlinewidth\":0,\"ticks\":\"\"},\"colorscale\":[[0.0,\"#0d0887\"],[0.1111111111111111,\"#46039f\"],[0.2222222222222222,\"#7201a8\"],[0.3333333333333333,\"#9c179e\"],[0.4444444444444444,\"#bd3786\"],[0.5555555555555556,\"#d8576b\"],[0.6666666666666666,\"#ed7953\"],[0.7777777777777778,\"#fb9f3a\"],[0.8888888888888888,\"#fdca26\"],[1.0,\"#f0f921\"]]}],\"surface\":[{\"type\":\"surface\",\"colorbar\":{\"outlinewidth\":0,\"ticks\":\"\"},\"colorscale\":[[0.0,\"#0d0887\"],[0.1111111111111111,\"#46039f\"],[0.2222222222222222,\"#7201a8\"],[0.3333333333333333,\"#9c179e\"],[0.4444444444444444,\"#bd3786\"],[0.5555555555555556,\"#d8576b\"],[0.6666666666666666,\"#ed7953\"],[0.7777777777777778,\"#fb9f3a\"],[0.8888888888888888,\"#fdca26\"],[1.0,\"#f0f921\"]]}],\"mesh3d\":[{\"type\":\"mesh3d\",\"colorbar\":{\"outlinewidth\":0,\"ticks\":\"\"}}],\"scatter\":[{\"fillpattern\":{\"fillmode\":\"overlay\",\"size\":10,\"solidity\":0.2},\"type\":\"scatter\"}],\"parcoords\":[{\"type\":\"parcoords\",\"line\":{\"colorbar\":{\"outlinewidth\":0,\"ticks\":\"\"}}}],\"scatterpolargl\":[{\"type\":\"scatterpolargl\",\"marker\":{\"colorbar\":{\"outlinewidth\":0,\"ticks\":\"\"}}}],\"bar\":[{\"error_x\":{\"color\":\"#2a3f5f\"},\"error_y\":{\"color\":\"#2a3f5f\"},\"marker\":{\"line\":{\"color\":\"#E5ECF6\",\"width\":0.5},\"pattern\":{\"fillmode\":\"overlay\",\"size\":10,\"solidity\":0.2}},\"type\":\"bar\"}],\"scattergeo\":[{\"type\":\"scattergeo\",\"marker\":{\"colorbar\":{\"outlinewidth\":0,\"ticks\":\"\"}}}],\"scatterpolar\":[{\"type\":\"scatterpolar\",\"marker\":{\"colorbar\":{\"outlinewidth\":0,\"ticks\":\"\"}}}],\"histogram\":[{\"marker\":{\"pattern\":{\"fillmode\":\"overlay\",\"size\":10,\"solidity\":0.2}},\"type\":\"histogram\"}],\"scattergl\":[{\"type\":\"scattergl\",\"marker\":{\"colorbar\":{\"outlinewidth\":0,\"ticks\":\"\"}}}],\"scatter3d\":[{\"type\":\"scatter3d\",\"line\":{\"colorbar\":{\"outlinewidth\":0,\"ticks\":\"\"}},\"marker\":{\"colorbar\":{\"outlinewidth\":0,\"ticks\":\"\"}}}],\"scattermapbox\":[{\"type\":\"scattermapbox\",\"marker\":{\"colorbar\":{\"outlinewidth\":0,\"ticks\":\"\"}}}],\"scatterternary\":[{\"type\":\"scatterternary\",\"marker\":{\"colorbar\":{\"outlinewidth\":0,\"ticks\":\"\"}}}],\"scattercarpet\":[{\"type\":\"scattercarpet\",\"marker\":{\"colorbar\":{\"outlinewidth\":0,\"ticks\":\"\"}}}],\"carpet\":[{\"aaxis\":{\"endlinecolor\":\"#2a3f5f\",\"gridcolor\":\"white\",\"linecolor\":\"white\",\"minorgridcolor\":\"white\",\"startlinecolor\":\"#2a3f5f\"},\"baxis\":{\"endlinecolor\":\"#2a3f5f\",\"gridcolor\":\"white\",\"linecolor\":\"white\",\"minorgridcolor\":\"white\",\"startlinecolor\":\"#2a3f5f\"},\"type\":\"carpet\"}],\"table\":[{\"cells\":{\"fill\":{\"color\":\"#EBF0F8\"},\"line\":{\"color\":\"white\"}},\"header\":{\"fill\":{\"color\":\"#C8D4E3\"},\"line\":{\"color\":\"white\"}},\"type\":\"table\"}],\"barpolar\":[{\"marker\":{\"line\":{\"color\":\"#E5ECF6\",\"width\":0.5},\"pattern\":{\"fillmode\":\"overlay\",\"size\":10,\"solidity\":0.2}},\"type\":\"barpolar\"}],\"pie\":[{\"automargin\":true,\"type\":\"pie\"}]},\"layout\":{\"autotypenumbers\":\"strict\",\"colorway\":[\"#636efa\",\"#EF553B\",\"#00cc96\",\"#ab63fa\",\"#FFA15A\",\"#19d3f3\",\"#FF6692\",\"#B6E880\",\"#FF97FF\",\"#FECB52\"],\"font\":{\"color\":\"#2a3f5f\"},\"hovermode\":\"closest\",\"hoverlabel\":{\"align\":\"left\"},\"paper_bgcolor\":\"white\",\"plot_bgcolor\":\"#E5ECF6\",\"polar\":{\"bgcolor\":\"#E5ECF6\",\"angularaxis\":{\"gridcolor\":\"white\",\"linecolor\":\"white\",\"ticks\":\"\"},\"radialaxis\":{\"gridcolor\":\"white\",\"linecolor\":\"white\",\"ticks\":\"\"}},\"ternary\":{\"bgcolor\":\"#E5ECF6\",\"aaxis\":{\"gridcolor\":\"white\",\"linecolor\":\"white\",\"ticks\":\"\"},\"baxis\":{\"gridcolor\":\"white\",\"linecolor\":\"white\",\"ticks\":\"\"},\"caxis\":{\"gridcolor\":\"white\",\"linecolor\":\"white\",\"ticks\":\"\"}},\"coloraxis\":{\"colorbar\":{\"outlinewidth\":0,\"ticks\":\"\"}},\"colorscale\":{\"sequential\":[[0.0,\"#0d0887\"],[0.1111111111111111,\"#46039f\"],[0.2222222222222222,\"#7201a8\"],[0.3333333333333333,\"#9c179e\"],[0.4444444444444444,\"#bd3786\"],[0.5555555555555556,\"#d8576b\"],[0.6666666666666666,\"#ed7953\"],[0.7777777777777778,\"#fb9f3a\"],[0.8888888888888888,\"#fdca26\"],[1.0,\"#f0f921\"]],\"sequentialminus\":[[0.0,\"#0d0887\"],[0.1111111111111111,\"#46039f\"],[0.2222222222222222,\"#7201a8\"],[0.3333333333333333,\"#9c179e\"],[0.4444444444444444,\"#bd3786\"],[0.5555555555555556,\"#d8576b\"],[0.6666666666666666,\"#ed7953\"],[0.7777777777777778,\"#fb9f3a\"],[0.8888888888888888,\"#fdca26\"],[1.0,\"#f0f921\"]],\"diverging\":[[0,\"#8e0152\"],[0.1,\"#c51b7d\"],[0.2,\"#de77ae\"],[0.3,\"#f1b6da\"],[0.4,\"#fde0ef\"],[0.5,\"#f7f7f7\"],[0.6,\"#e6f5d0\"],[0.7,\"#b8e186\"],[0.8,\"#7fbc41\"],[0.9,\"#4d9221\"],[1,\"#276419\"]]},\"xaxis\":{\"gridcolor\":\"white\",\"linecolor\":\"white\",\"ticks\":\"\",\"title\":{\"standoff\":15},\"zerolinecolor\":\"white\",\"automargin\":true,\"zerolinewidth\":2},\"yaxis\":{\"gridcolor\":\"white\",\"linecolor\":\"white\",\"ticks\":\"\",\"title\":{\"standoff\":15},\"zerolinecolor\":\"white\",\"automargin\":true,\"zerolinewidth\":2},\"scene\":{\"xaxis\":{\"backgroundcolor\":\"#E5ECF6\",\"gridcolor\":\"white\",\"linecolor\":\"white\",\"showbackground\":true,\"ticks\":\"\",\"zerolinecolor\":\"white\",\"gridwidth\":2},\"yaxis\":{\"backgroundcolor\":\"#E5ECF6\",\"gridcolor\":\"white\",\"linecolor\":\"white\",\"showbackground\":true,\"ticks\":\"\",\"zerolinecolor\":\"white\",\"gridwidth\":2},\"zaxis\":{\"backgroundcolor\":\"#E5ECF6\",\"gridcolor\":\"white\",\"linecolor\":\"white\",\"showbackground\":true,\"ticks\":\"\",\"zerolinecolor\":\"white\",\"gridwidth\":2}},\"shapedefaults\":{\"line\":{\"color\":\"#2a3f5f\"}},\"annotationdefaults\":{\"arrowcolor\":\"#2a3f5f\",\"arrowhead\":0,\"arrowwidth\":1},\"geo\":{\"bgcolor\":\"white\",\"landcolor\":\"#E5ECF6\",\"subunitcolor\":\"white\",\"showland\":true,\"showlakes\":true,\"lakecolor\":\"white\"},\"title\":{\"x\":0.05},\"mapbox\":{\"style\":\"light\"}}},\"xaxis\":{\"anchor\":\"y\",\"domain\":[0.0,1.0],\"title\":{\"text\":\"Fecha\"}},\"yaxis\":{\"anchor\":\"x\",\"domain\":[0.0,1.0],\"title\":{\"text\":\"Casos\"}},\"legend\":{\"tracegroupgap\":0},\"title\":{\"text\":\"Casos Totales Acumulados Comuna\"}},                        {\"responsive\": true}                    ).then(function(){\n",
       "                            \n",
       "var gd = document.getElementById('e6514953-d615-4d92-ba27-61ec36ce93bd');\n",
       "var x = new MutationObserver(function (mutations, observer) {{\n",
       "        var display = window.getComputedStyle(gd).display;\n",
       "        if (!display || display === 'none') {{\n",
       "            console.log([gd, 'removed!']);\n",
       "            Plotly.purge(gd);\n",
       "            observer.disconnect();\n",
       "        }}\n",
       "}});\n",
       "\n",
       "// Listen for the removal of the full notebook cells\n",
       "var notebookContainer = gd.closest('#notebook-container');\n",
       "if (notebookContainer) {{\n",
       "    x.observe(notebookContainer, {childList: true});\n",
       "}}\n",
       "\n",
       "// Listen for the clearing of the current output cell\n",
       "var outputEl = gd.closest('.output');\n",
       "if (outputEl) {{\n",
       "    x.observe(outputEl, {childList: true});\n",
       "}}\n",
       "\n",
       "                        })                };                });            </script>        </div>"
      ]
     },
     "metadata": {},
     "output_type": "display_data"
    }
   ],
   "source": [
    "get_linetotalComunas(dataTotalComunas, \"Concepcion\")"
   ]
  },
  {
   "cell_type": "code",
   "execution_count": 132,
   "id": "070628f4-83ca-469b-b5ee-99311ece4c56",
   "metadata": {},
   "outputs": [
    {
     "data": {
      "text/html": [
       "<div>\n",
       "<style scoped>\n",
       "    .dataframe tbody tr th:only-of-type {\n",
       "        vertical-align: middle;\n",
       "    }\n",
       "\n",
       "    .dataframe tbody tr th {\n",
       "        vertical-align: top;\n",
       "    }\n",
       "\n",
       "    .dataframe thead th {\n",
       "        text-align: right;\n",
       "    }\n",
       "</style>\n",
       "<table border=\"1\" class=\"dataframe\">\n",
       "  <thead>\n",
       "    <tr style=\"text-align: right;\">\n",
       "      <th></th>\n",
       "      <th>Region</th>\n",
       "      <th>Codigo region</th>\n",
       "      <th>Comuna</th>\n",
       "      <th>Codigo comuna</th>\n",
       "      <th>Poblacion</th>\n",
       "      <th>Fecha</th>\n",
       "      <th>Casos</th>\n",
       "    </tr>\n",
       "  </thead>\n",
       "  <tbody>\n",
       "    <tr>\n",
       "      <th>0</th>\n",
       "      <td>Arica y Parinacota</td>\n",
       "      <td>15</td>\n",
       "      <td>Arica</td>\n",
       "      <td>15101.0</td>\n",
       "      <td>247552.0</td>\n",
       "      <td>2020-03-30</td>\n",
       "      <td>6.0</td>\n",
       "    </tr>\n",
       "    <tr>\n",
       "      <th>1</th>\n",
       "      <td>Arica y Parinacota</td>\n",
       "      <td>15</td>\n",
       "      <td>Camarones</td>\n",
       "      <td>15102.0</td>\n",
       "      <td>1233.0</td>\n",
       "      <td>2020-03-30</td>\n",
       "      <td>0.0</td>\n",
       "    </tr>\n",
       "    <tr>\n",
       "      <th>2</th>\n",
       "      <td>Arica y Parinacota</td>\n",
       "      <td>15</td>\n",
       "      <td>General Lagos</td>\n",
       "      <td>15202.0</td>\n",
       "      <td>810.0</td>\n",
       "      <td>2020-03-30</td>\n",
       "      <td>0.0</td>\n",
       "    </tr>\n",
       "    <tr>\n",
       "      <th>3</th>\n",
       "      <td>Arica y Parinacota</td>\n",
       "      <td>15</td>\n",
       "      <td>Putre</td>\n",
       "      <td>15201.0</td>\n",
       "      <td>2515.0</td>\n",
       "      <td>2020-03-30</td>\n",
       "      <td>0.0</td>\n",
       "    </tr>\n",
       "    <tr>\n",
       "      <th>362</th>\n",
       "      <td>Arica y Parinacota</td>\n",
       "      <td>15</td>\n",
       "      <td>Arica</td>\n",
       "      <td>15101.0</td>\n",
       "      <td>247552.0</td>\n",
       "      <td>2020-04-01</td>\n",
       "      <td>6.0</td>\n",
       "    </tr>\n",
       "    <tr>\n",
       "      <th>...</th>\n",
       "      <td>...</td>\n",
       "      <td>...</td>\n",
       "      <td>...</td>\n",
       "      <td>...</td>\n",
       "      <td>...</td>\n",
       "      <td>...</td>\n",
       "      <td>...</td>\n",
       "    </tr>\n",
       "    <tr>\n",
       "      <th>90865</th>\n",
       "      <td>Arica y Parinacota</td>\n",
       "      <td>15</td>\n",
       "      <td>Putre</td>\n",
       "      <td>15201.0</td>\n",
       "      <td>2515.0</td>\n",
       "      <td>2022-08-19</td>\n",
       "      <td>495.0</td>\n",
       "    </tr>\n",
       "    <tr>\n",
       "      <th>91224</th>\n",
       "      <td>Arica y Parinacota</td>\n",
       "      <td>15</td>\n",
       "      <td>Arica</td>\n",
       "      <td>15101.0</td>\n",
       "      <td>247552.0</td>\n",
       "      <td>2022-08-22</td>\n",
       "      <td>74694.0</td>\n",
       "    </tr>\n",
       "    <tr>\n",
       "      <th>91225</th>\n",
       "      <td>Arica y Parinacota</td>\n",
       "      <td>15</td>\n",
       "      <td>Camarones</td>\n",
       "      <td>15102.0</td>\n",
       "      <td>1233.0</td>\n",
       "      <td>2022-08-22</td>\n",
       "      <td>194.0</td>\n",
       "    </tr>\n",
       "    <tr>\n",
       "      <th>91226</th>\n",
       "      <td>Arica y Parinacota</td>\n",
       "      <td>15</td>\n",
       "      <td>General Lagos</td>\n",
       "      <td>15202.0</td>\n",
       "      <td>810.0</td>\n",
       "      <td>2022-08-22</td>\n",
       "      <td>111.0</td>\n",
       "    </tr>\n",
       "    <tr>\n",
       "      <th>91227</th>\n",
       "      <td>Arica y Parinacota</td>\n",
       "      <td>15</td>\n",
       "      <td>Putre</td>\n",
       "      <td>15201.0</td>\n",
       "      <td>2515.0</td>\n",
       "      <td>2022-08-22</td>\n",
       "      <td>499.0</td>\n",
       "    </tr>\n",
       "  </tbody>\n",
       "</table>\n",
       "<p>1012 rows × 7 columns</p>\n",
       "</div>"
      ],
      "text/plain": [
       "                   Region  Codigo region         Comuna  Codigo comuna  \\\n",
       "0      Arica y Parinacota             15          Arica        15101.0   \n",
       "1      Arica y Parinacota             15      Camarones        15102.0   \n",
       "2      Arica y Parinacota             15  General Lagos        15202.0   \n",
       "3      Arica y Parinacota             15          Putre        15201.0   \n",
       "362    Arica y Parinacota             15          Arica        15101.0   \n",
       "...                   ...            ...            ...            ...   \n",
       "90865  Arica y Parinacota             15          Putre        15201.0   \n",
       "91224  Arica y Parinacota             15          Arica        15101.0   \n",
       "91225  Arica y Parinacota             15      Camarones        15102.0   \n",
       "91226  Arica y Parinacota             15  General Lagos        15202.0   \n",
       "91227  Arica y Parinacota             15          Putre        15201.0   \n",
       "\n",
       "       Poblacion       Fecha    Casos  \n",
       "0       247552.0  2020-03-30      6.0  \n",
       "1         1233.0  2020-03-30      0.0  \n",
       "2          810.0  2020-03-30      0.0  \n",
       "3         2515.0  2020-03-30      0.0  \n",
       "362     247552.0  2020-04-01      6.0  \n",
       "...          ...         ...      ...  \n",
       "90865     2515.0  2022-08-19    495.0  \n",
       "91224   247552.0  2022-08-22  74694.0  \n",
       "91225     1233.0  2022-08-22    194.0  \n",
       "91226      810.0  2022-08-22    111.0  \n",
       "91227     2515.0  2022-08-22    499.0  \n",
       "\n",
       "[1012 rows x 7 columns]"
      ]
     },
     "execution_count": 132,
     "metadata": {},
     "output_type": "execute_result"
    }
   ],
   "source": [
    "dataTotalComunas[dataTotalComunas.Region == \"Arica y Parinacota\"]"
   ]
  },
  {
   "cell_type": "code",
   "execution_count": null,
   "id": "65947eb9-7b41-442b-8299-da506464b4eb",
   "metadata": {},
   "outputs": [],
   "source": []
  }
 ],
 "metadata": {
  "kernelspec": {
   "display_name": "Python 3 (ipykernel)",
   "language": "python",
   "name": "python3"
  },
  "language_info": {
   "codemirror_mode": {
    "name": "ipython",
    "version": 3
   },
   "file_extension": ".py",
   "mimetype": "text/x-python",
   "name": "python",
   "nbconvert_exporter": "python",
   "pygments_lexer": "ipython3",
   "version": "3.8.5"
  }
 },
 "nbformat": 4,
 "nbformat_minor": 5
}
